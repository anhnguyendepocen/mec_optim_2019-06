{
 "cells": [
  {
   "cell_type": "markdown",
   "metadata": {},
   "source": [
    "# Estimating Choo & Siow"
   ]
  },
  {
   "cell_type": "code",
   "execution_count": null,
   "metadata": {},
   "outputs": [],
   "source": [
    "import gurobipy as grb\n",
    "import pandas as pd\n",
    "import numpy as np\n",
    "import os\n",
    "from scipy import optimize"
   ]
  },
  {
   "cell_type": "code",
   "execution_count": null,
   "metadata": {},
   "outputs": [],
   "source": [
    "thePath = os.getcwd().split(\"veteran_students_mec_optim\\\\Pauline\")[0]\n",
    "n_singles = pd.read_csv(thePath + \"\\\\data_mec_optim\\\\marriage-ChooSiow\\\\n_singles.txt\", sep='\\t', header = None)\n",
    "marr = pd.read_csv(thePath + \"\\\\data_mec_optim\\\\marriage-ChooSiow\\\\marr.txt\", sep='\\t', header = None)\n",
    "navail = pd.read_csv(thePath + \"\\\\data_mec_optim\\\\marriage-ChooSiow\\\\n_avail.txt\", sep='\\t', header = None)"
   ]
  },
  {
   "cell_type": "code",
   "execution_count": null,
   "metadata": {},
   "outputs": [],
   "source": [
    "nbCateg = 25"
   ]
  },
  {
   "cell_type": "code",
   "execution_count": null,
   "metadata": {},
   "outputs": [],
   "source": [
    "muhat_x0 = n_singles[0].iloc[0:nbCateg]\n",
    "muhat_0y = n_singles[1].iloc[0:nbCateg]\n",
    "muhat_xy = marr.iloc[0:nbCateg:,0:nbCateg]"
   ]
  },
  {
   "cell_type": "code",
   "execution_count": null,
   "metadata": {},
   "outputs": [],
   "source": [
    "Nh = muhat_xy.values.sum()+muhat_x0.sum()+muhat_0y.sum()"
   ]
  },
  {
   "cell_type": "code",
   "execution_count": null,
   "metadata": {},
   "outputs": [],
   "source": [
    "muhat_xy = muhat_xy / Nh \n",
    "muhat_x0 = muhat_x0 / Nh \n",
    "muhat_0y = muhat_0y / Nh"
   ]
  },
  {
   "cell_type": "code",
   "execution_count": null,
   "metadata": {},
   "outputs": [],
   "source": [
    "n_x = muhat_xy.sum(axis = 1)+muhat_x0\n",
    "m_y = muhat_xy.sum(axis = 0)+muhat_0y"
   ]
  },
  {
   "cell_type": "code",
   "execution_count": null,
   "metadata": {},
   "outputs": [],
   "source": [
    "nbX = nbCateg\n",
    "nbY = nbCateg\n",
    "\n",
    "xs = np.repeat(range(1,nbX+1),nbY).reshape(nbX,nbY)\n",
    "ys = np.repeat(range(1,nbY+1),nbX).reshape(nbX,nbY).T\n",
    "\n",
    "phi1_xy = -((xs-ys)**2).flatten()\n",
    "phimat = np.column_stack((phi1_xy,np.multiply(phi1_xy,(((xs+ys)/2)**2).flatten()),np.multiply(phi1_xy,(((xs+ys-2)/2)**2).flatten()),np.multiply(phi1_xy,((xs+ys-1)**2).flatten())))"
   ]
  },
  {
   "cell_type": "code",
   "execution_count": null,
   "metadata": {},
   "outputs": [],
   "source": [
    "nbK = phimat.shape[1]\n",
    "phimat_mean = phimat.mean(axis = 0)\n",
    "phimat_stdev = phimat.std(axis = 0, ddof = 1)\n",
    "phimat = ((phimat - phimat_mean).T/phimat_stdev[:,None]).T"
   ]
  },
  {
   "cell_type": "code",
   "execution_count": null,
   "metadata": {},
   "outputs": [],
   "source": [
    "def ObjFunc(uvlambda):\n",
    "    u_x = uvlambda[0:nbX]\n",
    "    v_y = uvlambda[nbX:(nbX+nbY)]\n",
    "    l = uvlambda[(nbX+nbY):(nbX+nbY+nbK)]\n",
    "    \n",
    "    Phi_xy = phimat.dot(l.reshape(nbK,1)).reshape(nbX, nbY)\n",
    "    mu_xy = np.exp(((Phi_xy - u_x).T-v_y).T/2)\n",
    "    mu_x0 = np.exp(-u_x)\n",
    "    mu_0y = np.exp(-v_y)\n",
    "    \n",
    "    val = sum(np.multiply(n_x,u_x))+sum(np.multiply(m_y,v_y))-np.sum(np.multiply(muhat_xy.values,Phi_xy), axis = (0,1)) + 2*np.sum(mu_xy, axis =(0,1)) + sum(mu_x0) + sum(mu_0y)\n",
    "    \n",
    "    return val"
   ]
  },
  {
   "cell_type": "code",
   "execution_count": null,
   "metadata": {},
   "outputs": [],
   "source": [
    "def grad_ObjFunc(uvlambda):\n",
    "    u_x = uvlambda[0:nbX]\n",
    "    v_y = uvlambda[nbX:(nbX+nbY)]\n",
    "    l = uvlambda[(nbX+nbY):(nbX+nbY+nbK)]\n",
    "    \n",
    "    Phi_xy = phimat.dot(l.reshape(nbK,1)).reshape(nbX, nbY)\n",
    "    mu_xy = np.exp(((Phi_xy - u_x).T-v_y).T/2)\n",
    "    mu_x0 = np.exp(-u_x)\n",
    "    mu_0y = np.exp(-v_y)\n",
    "    \n",
    "    grad_u = n_x - np.sum(mu_xy, axis = 0) - mu_x0\n",
    "    grad_v = m_y - np.sum(mu_xy, axis = 1) - mu_0y\n",
    "    grad_lambda = (mu_xy-muhat_xy.values).flatten()[:,None].T.dot(phimat)\n",
    "    \n",
    "    grad = np.concatenate((grad_u,grad_v,grad_lambda.flatten()))\n",
    "    \n",
    "    return grad"
   ]
  },
  {
   "cell_type": "code",
   "execution_count": null,
   "metadata": {},
   "outputs": [],
   "source": [
    "outcome = optimize.minimize(ObjFunc,method = 'CG',jac = grad_ObjFunc, x0 = np.repeat(0,nbX+nbY+nbK))"
   ]
  },
  {
   "cell_type": "code",
   "execution_count": null,
   "metadata": {},
   "outputs": [],
   "source": [
    "uvlambdahat =  outcome['x']\n",
    "lambdahat = uvlambdahat[(nbX+nbY):(nbX+nbY+nbK)]\n",
    "print(outcome)\n",
    "print(\"\")\n",
    "print(ObjFunc(uvlambdahat))\n",
    "print(lambdahat)"
   ]
  }
 ],
 "metadata": {
  "kernelspec": {
   "display_name": "Python 3",
   "language": "python",
   "name": "python3"
  },
  "language_info": {
   "codemirror_mode": {
    "name": "ipython",
    "version": 3
   },
   "file_extension": ".py",
   "mimetype": "text/x-python",
   "name": "python",
   "nbconvert_exporter": "python",
   "pygments_lexer": "ipython3",
   "version": "3.6.5"
  }
 },
 "nbformat": 4,
 "nbformat_minor": 2
}
