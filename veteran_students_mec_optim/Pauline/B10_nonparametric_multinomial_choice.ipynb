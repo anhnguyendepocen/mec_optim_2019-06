{
 "cells": [
  {
   "cell_type": "markdown",
   "metadata": {},
   "source": [
    "# Nested logit"
   ]
  },
  {
   "cell_type": "code",
   "execution_count": null,
   "metadata": {},
   "outputs": [],
   "source": [
    "import numpy as np\n",
    "import os\n",
    "import pandas as pd\n",
    "\n",
    "from sklearn.preprocessing import LabelEncoder\n",
    "from IPython.display import display, HTML"
   ]
  },
  {
   "cell_type": "code",
   "execution_count": null,
   "metadata": {},
   "outputs": [],
   "source": [
    "thePath = os.getcwd().split(\"veteran_students_mec_optim\\\\Pauline\")[0]\n",
    "travelmode = pd.read_csv(thePath + 'data_mec_optim\\\\demand_travelmode\\\\travelmodedata.csv', sep=',')"
   ]
  },
  {
   "cell_type": "code",
   "execution_count": null,
   "metadata": {},
   "outputs": [],
   "source": [
    "travelmode.head()"
   ]
  },
  {
   "cell_type": "code",
   "execution_count": null,
   "metadata": {},
   "outputs": [],
   "source": [
    "lb = LabelEncoder() \n",
    "travelmode['choice'] = lb.fit_transform(travelmode['choice'])"
   ]
  },
  {
   "cell_type": "code",
   "execution_count": null,
   "metadata": {},
   "outputs": [],
   "source": [
    "travelmode.head()"
   ]
  },
  {
   "cell_type": "code",
   "execution_count": null,
   "metadata": {},
   "outputs": [],
   "source": [
    "nobs = travelmode.shape[0]\n",
    "ncols = travelmode.shape[1]\n",
    "nbchoices = 4\n",
    "ninds = int(nobs/nbchoices)"
   ]
  },
  {
   "cell_type": "code",
   "execution_count": null,
   "metadata": {},
   "outputs": [],
   "source": [
    "muhat_i_y = travelmode['choice'].values.reshape(ninds,4).T\n",
    "muhat_iy = muhat_i_y.flatten()"
   ]
  },
  {
   "cell_type": "code",
   "execution_count": null,
   "metadata": {},
   "outputs": [],
   "source": [
    "s_y = travelmode.groupby(['mode']).mean()['choice'].to_frame().sort_index()\n",
    "s_y"
   ]
  },
  {
   "cell_type": "code",
   "execution_count": null,
   "metadata": {},
   "outputs": [],
   "source": [
    "Ulogit = np.log(s_y/s_y.loc[['car']].values[0])\n",
    "Ulogit"
   ]
  },
  {
   "cell_type": "code",
   "execution_count": null,
   "metadata": {},
   "outputs": [],
   "source": [
    "l = [0.5, 0.5]\n",
    "nest = Ulogit.index.isin(['car'])\n",
    "Unocar = s_y[~nest].apply(np.log).multiply(l[0]).add((1-l[0])*np.sum(s_y[~nest]).apply(np.log))\n",
    "display(Unocar)\n",
    "Ucar = s_y[nest].apply(np.log).multiply(l[1]).add((1-l[1])*np.sum(s_y[nest]).apply(np.log))\n",
    "display(Ucar)"
   ]
  },
  {
   "cell_type": "markdown",
   "metadata": {},
   "source": [
    "Systematic utilities (nested logit):"
   ]
  },
  {
   "cell_type": "code",
   "execution_count": null,
   "metadata": {},
   "outputs": [],
   "source": [
    "Unested = pd.concat([Unocar,Ucar]).add(-Ucar.values[0]).sort_index()\n",
    "Unested"
   ]
  },
  {
   "cell_type": "markdown",
   "metadata": {},
   "source": [
    "Choice probabilities within nocar nest (predicted vs observed):"
   ]
  },
  {
   "cell_type": "code",
   "execution_count": null,
   "metadata": {},
   "outputs": [],
   "source": [
    "display(Unested[~nest].multiply(1/l[0]).apply(np.exp).divide(np.sum(Unested[~nest].multiply(1/l[0]).apply(np.exp))))\n",
    "display(s_y[~nest]/np.sum(s_y[~nest]))"
   ]
  },
  {
   "cell_type": "markdown",
   "metadata": {},
   "source": [
    "Choice probabilities of car nest (predicted vs observed):"
   ]
  },
  {
   "cell_type": "code",
   "execution_count": null,
   "metadata": {},
   "outputs": [],
   "source": [
    "display(1/(np.sum(Unested[~nest].multiply(1/l[0]).apply(np.exp))**(l[0])+1))\n",
    "display(s_y.loc[['car']].values[0])"
   ]
  }
 ],
 "metadata": {
  "kernelspec": {
   "display_name": "Python 3",
   "language": "python",
   "name": "python3"
  },
  "language_info": {
   "codemirror_mode": {
    "name": "ipython",
    "version": 3
   },
   "file_extension": ".py",
   "mimetype": "text/x-python",
   "name": "python",
   "nbconvert_exporter": "python",
   "pygments_lexer": "ipython3",
   "version": "3.6.5"
  }
 },
 "nbformat": 4,
 "nbformat_minor": 2
}
