{
 "cells": [
  {
   "cell_type": "markdown",
   "metadata": {},
   "source": [
    "# IPFP/Sinkorn"
   ]
  },
  {
   "cell_type": "code",
   "execution_count": null,
   "metadata": {},
   "outputs": [],
   "source": [
    "import numpy as np\n",
    "import gurobipy as grb\n",
    "import os\n",
    "import pandas as pd\n",
    "import time"
   ]
  },
  {
   "cell_type": "code",
   "execution_count": null,
   "metadata": {},
   "outputs": [],
   "source": [
    "syntheticData = True\n",
    "doGurobi = True\n",
    "doIPFP1 = True\n",
    "doIPFP1bis = True\n",
    "doIPFP2 = True"
   ]
  },
  {
   "cell_type": "code",
   "execution_count": null,
   "metadata": {},
   "outputs": [],
   "source": [
    "tol = 1E-9\n",
    "maxite = 1000000\n",
    "sigma = 0.1"
   ]
  },
  {
   "cell_type": "code",
   "execution_count": null,
   "metadata": {},
   "outputs": [],
   "source": [
    "if syntheticData:\n",
    "    seed = 777\n",
    "    nbX = 100\n",
    "    nbY = 100\n",
    "    np.random.seed(seed)\n",
    "    Xvals = np.random.uniform(0,1,nbX)\n",
    "    Yvals = np.random.uniform(0,1,nbY)\n",
    "    Phi = np.matmul(np.asmatrix(Xvals).T,np.asmatrix(Yvals))\n",
    "    p = np.repeat(1/nbX, nbX)\n",
    "    q = np.repeat(1/nbY, nbY)"
   ]
  },
  {
   "cell_type": "code",
   "execution_count": null,
   "metadata": {},
   "outputs": [],
   "source": [
    "if not syntheticData:\n",
    "    thePath = os.getcwd().split(\"veteran_students_mec_optim\\\\Pauline\")[0]\n",
    "    data = pd.read_csv(thePath + 'data_mec_optim\\\\marriage_personality-traits\\\\affinitymatrix.csv', sep=',')\n",
    "    nbcar = 10\n",
    "    AffMat = data.iloc[:nbcar, 1:nbcar + 1].values\n",
    "    data = pd.read_csv(thePath + 'data_mec_optim\\\\marriage_personality-traits\\\\Xvals.csv', sep=',')\n",
    "    Xvals = data.iloc[:, :nbcar].values\n",
    "    data = pd.read_csv(thePath + 'data_mec_optim\\\\marriage_personality-traits\\\\Yvals.csv', sep=',')\n",
    "    Yvals = data.iloc[:, :nbcar].values\n",
    "    nobs = Xvals.shape[0]\n",
    "    Xvals = (Xvals - np.mean(Xvals, axis=0)) / np.std(Xvals, axis=0, ddof=1)\n",
    "    Yvals = (Yvals - np.mean(Yvals, axis=0)) / np.std(Yvals, axis=0, ddof=1)\n",
    "    Phi = Xvals.dot(AffMat.dot(Yvals.T))\n",
    "    p = np.repeat(1/nobs, nobs)\n",
    "    q = np.repeat(1/nobs, nobs)\n",
    "    nbX = len(p)\n",
    "    nbY = len(q)"
   ]
  },
  {
   "cell_type": "code",
   "execution_count": null,
   "metadata": {},
   "outputs": [],
   "source": [
    "nrow = min(8, nbX)\n",
    "ncol = min(8, nbY)"
   ]
  },
  {
   "cell_type": "code",
   "execution_count": null,
   "metadata": {},
   "outputs": [],
   "source": [
    "if doGurobi:\n",
    "    coupleList = [(i, j) for i in range(nbY) for j in range(nbX)]\n",
    "    ptm = time.time()\n",
    "    m = grb.Model('marriage')\n",
    "    couple = m.addVars(coupleList, obj=Phi.T.flatten().tolist(), name='couple')\n",
    "    m.ModelSense = -1\n",
    "    m.addConstrs((couple.sum('*', women) == p[women] for women in range(nbX)))\n",
    "    m.addConstrs((couple.sum(men, '*') == q[men] for men in range(nbY)))\n",
    "    m.optimize()\n",
    "    diff = time.time() - ptm\n",
    "    print('Time elapsed (Gurobi) = ', diff, 's.')\n",
    "    if m.status == grb.GRB.Status.OPTIMAL:\n",
    "        val_gurobi = m.objval\n",
    "        pi = m.getAttr(grb.GRB.Attr.Pi)\n",
    "        u_gurobi = pi[:nbX]\n",
    "        v_gurobi = pi[nbX:nbX + nbY]\n",
    "        print(\"Value of the problem (Gurobi) = \", val_gurobi)\n",
    "        print(np.subtract(u_gurobi[:nrow], u_gurobi[nrow - 1]))\n",
    "        print(np.add(v_gurobi[:ncol], u_gurobi[nrow - 1]))\n",
    "        print('*************************')"
   ]
  },
  {
   "cell_type": "code",
   "execution_count": null,
   "metadata": {},
   "outputs": [],
   "source": [
    "if doIPFP1:\n",
    "    ptm = time.time()\n",
    "    ite = 0\n",
    "\n",
    "    K = np.exp(Phi/sigma)\n",
    "    B = np.repeat(1, nbY).reshape(nbY,1)\n",
    "    error = tol + 1\n",
    "    \n",
    "    while error > tol and ite < maxite:\n",
    "        A = p/K.dot(B).flatten()\n",
    "        KA = A.dot(K)\n",
    "        error = np.max(abs(np.multiply(KA,B.flatten())-q))\n",
    "        B = (q / KA).T\n",
    "        ite = ite + 1\n",
    "        \n",
    "    u = - sigma * np.log(A)\n",
    "    v = - sigma * np.log(B)\n",
    "    pi =  np.exp(((Phi.T - u).T - np.tile(v, nbX).reshape(nbX, nbY)) / sigma)\n",
    "    val = np.sum(np.multiply(pi,Phi)) - sigma * np.sum(np.multiply(pi,np.log(pi)))\n",
    "    end = time.time() - ptm\n",
    "    if ite >= maxite:\n",
    "        print('Maximum number of iteations reached in IPFP1.')\n",
    "    else:\n",
    "        print('IPFP1 converged in ', ite, ' steps and ', end, 's.')\n",
    "        print('Value of the problem (IPFP1) = ', val)\n",
    "        print('Sum(pi*Phi) (IPFP1) = ', np.sum(np.multiply(pi,Phi)))\n",
    "    print('*************************')"
   ]
  },
  {
   "cell_type": "code",
   "execution_count": null,
   "metadata": {},
   "outputs": [],
   "source": [
    "if doIPFP1bis:\n",
    "    ptm = time.time()\n",
    "    ite = 0\n",
    "    v = np.repeat(0, nbY)\n",
    "    mu = - sigma * np.log(p)\n",
    "    nu = - sigma * np.log(q)\n",
    "    error = tol + 1\n",
    "    while error > tol and ite < maxite:\n",
    "        u = mu + sigma * np.log(np.sum(np.exp((Phi - np.tile(v, nbX).reshape(nbX, nbY))/sigma), axis=1)).flatten()\n",
    "        KA = np.sum(np.exp((Phi.T - u).T / sigma), axis=0)\n",
    "        error = np.max(np.abs(np.multiply(KA,np.exp(-v / sigma)) / q - 1))\n",
    "        v = nu + sigma * np.log(KA)\n",
    "        ite = ite + 1\n",
    "    pi_bis = np.exp(((Phi.T - u).T - np.tile(v, nbX).reshape(nbX, nbY)) / sigma)\n",
    "    val = np.sum(np.multiply(pi_bis,Phi)) - sigma * np.sum(np.multiply(pi_bis,np.log(pi_bis)))\n",
    "    end = time.time() - ptm\n",
    "\n",
    "    if ite >= maxite:\n",
    "        print('Maximum number of iteations reached in IPFP1.')\n",
    "    else:\n",
    "        print('IPFP1bis converged in ', ite, ' steps and ', end, 's.')\n",
    "        print('Value of the problem (IPFP1bis) = ', val)\n",
    "        print('Sum(pi*Phi) (IPFP1bis) = ', np.sum(np.multiply(pi_bis,Phi)))\n",
    "    print('*************************')"
   ]
  },
  {
   "cell_type": "code",
   "execution_count": null,
   "metadata": {},
   "outputs": [],
   "source": [
    "if (doIPFP2):\n",
    "    ptm = time.time()\n",
    "    ite = 0\n",
    "    v = np.repeat(0, nbY)\n",
    "    mu = - sigma * np.log(p)\n",
    "    nu = - sigma * np.log(q)\n",
    "    error = tol + 1\n",
    "    uprec = float('-inf')\n",
    "    while error > tol and ite < maxite:\n",
    "        vstar = np.max(Phi - v, axis=1)\n",
    "        u = mu + vstar.flatten() + sigma * np.log(np.sum(np.exp((Phi - np.tile(v, nbX).reshape(nbX, nbY) - vstar)/sigma), axis=1)).flatten()\n",
    "        error = np.max(np.abs(u - uprec))\n",
    "        uprec = u\n",
    "        ustar = np.max((Phi.T - u).T, axis=0)\n",
    "        v = nu + ustar + sigma * np.log(np.sum(np.exp(((Phi.T - u).T - np.tile(ustar, nbX).reshape(nbX, nbY))/sigma), axis=0)).flatten()\n",
    "        ite = ite + 1\n",
    "    pi2 = np.exp(((Phi.T - u).T - np.tile(v, nbX).reshape(nbX, nbY)) / sigma)\n",
    "    val = np.sum(np.multiply(pi2,Phi)) - sigma * np.sum(np.multiply(pi2,np.log(pi2)))\n",
    "    end = time.time() - ptm\n",
    "    if ite >= maxite:\n",
    "        print('Maximum number of iteations reached in IPFP2.')\n",
    "    else:\n",
    "        print('IPFP2 converged in ', ite, ' steps and ', end, 's.')\n",
    "        print('Value of the problem (IPFP2) = ', val)\n",
    "        print('Sum(pi*Phi) (IPFP2) = ', np.sum(np.multiply(pi2,Phi)))\n",
    "    print('*************************')"
   ]
  },
  {
   "cell_type": "code",
   "execution_count": null,
   "metadata": {},
   "outputs": [],
   "source": [
    "pi"
   ]
  },
  {
   "cell_type": "code",
   "execution_count": null,
   "metadata": {},
   "outputs": [],
   "source": [
    "pi_bis"
   ]
  },
  {
   "cell_type": "code",
   "execution_count": null,
   "metadata": {},
   "outputs": [],
   "source": [
    "pi2"
   ]
  }
 ],
 "metadata": {
  "kernelspec": {
   "display_name": "Python 3",
   "language": "python",
   "name": "python3"
  },
  "language_info": {
   "codemirror_mode": {
    "name": "ipython",
    "version": 3
   },
   "file_extension": ".py",
   "mimetype": "text/x-python",
   "name": "python",
   "nbconvert_exporter": "python",
   "pygments_lexer": "ipython3",
   "version": "3.6.5"
  }
 },
 "nbformat": 4,
 "nbformat_minor": 2
}
