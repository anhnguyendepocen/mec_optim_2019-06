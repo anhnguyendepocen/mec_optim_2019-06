{
 "cells": [
  {
   "cell_type": "markdown",
   "metadata": {},
   "source": [
    "# Bus Maintenance"
   ]
  },
  {
   "cell_type": "code",
   "execution_count": null,
   "metadata": {},
   "outputs": [],
   "source": [
    "import gurobipy as grb\n",
    "import pandas as pd\n",
    "import numpy as np\n",
    "np.set_printoptions(threshold=np.inf)\n",
    "\n",
    "import scipy.sparse as spr\n",
    "import os"
   ]
  },
  {
   "cell_type": "code",
   "execution_count": null,
   "metadata": {},
   "outputs": [],
   "source": [
    "nbX = 10\n",
    "nbT = 40\n",
    "nbY = 2"
   ]
  },
  {
   "cell_type": "markdown",
   "metadata": {},
   "source": [
    "## Solution with linear programming"
   ]
  },
  {
   "cell_type": "code",
   "execution_count": null,
   "metadata": {},
   "outputs": [],
   "source": [
    "IdX = spr.identity(nbX)\n",
    "LX = spr.dia_matrix(np.roll(IdX.toarray(),1,axis=1))\n",
    "RX = spr.coo_matrix(np.concatenate((np.ones((nbX,1)),np.zeros((nbX,nbX-1))), axis =1))\n",
    "P = spr.kron(np.array([[1,0]]).T, (0.75 * IdX + 0.25 * LX)) + spr.kron(np.array([[0,1]]).T, RX)\n",
    "#P.toarray()"
   ]
  },
  {
   "cell_type": "code",
   "execution_count": null,
   "metadata": {},
   "outputs": [],
   "source": [
    "IdT = spr.identity(nbT)\n",
    "NT_temp = np.roll(IdT.toarray(),1,axis=1)\n",
    "NT_temp[nbT-1]=0\n",
    "NT = spr.dia_matrix(NT_temp)\n",
    "A = spr.kron(spr.kron(IdT, np.array([[1,1]]).T), IdX) - spr.kron(NT, P)\n",
    "#A.toarray()"
   ]
  },
  {
   "cell_type": "code",
   "execution_count": null,
   "metadata": {},
   "outputs": [],
   "source": [
    "overhaulCost = 8000\n",
    "maintCost = lambda x: x * 500\n",
    "beta = 0.9\n",
    "discount = lambda x: beta**x"
   ]
  },
  {
   "cell_type": "code",
   "execution_count": null,
   "metadata": {},
   "outputs": [],
   "source": [
    "n1_x = np.repeat(1, nbX)\n",
    "u_xy = np.concatenate((-np.asarray(list(map(maintCost,range(1,nbX)))), np.repeat(-overhaulCost, nbX+1)), axis = None)\n",
    "u_xyt = spr.kron(np.asarray(list(map(discount,range(1,nbT+1)))),u_xy)\n",
    "\n",
    "b_xt = np.concatenate((n1_x, np.repeat(0,int(nbX*(nbT-1)))),axis =None)"
   ]
  },
  {
   "cell_type": "code",
   "execution_count": null,
   "metadata": {},
   "outputs": [],
   "source": [
    "m = grb.Model('BusMaintenance')\n",
    "xt = m.addVars(nbT,nbX, obj=b_xt, name='xt', lb=float('-inf'))\n",
    "m.update()\n",
    "for i in range(A.shape[0]):\n",
    "    L = grb.LinExpr(A[i,:].toarray().T,xt.select('*'))\n",
    "    m.addConstr(L,'>',u_xyt.toarray()[0][i])"
   ]
  },
  {
   "cell_type": "code",
   "execution_count": null,
   "metadata": {},
   "outputs": [],
   "source": [
    "m.optimize()\n",
    "if m.status == grb.GRB.Status.OPTIMAL:\n",
    "    solution = m.getAttr('x', xt)\n",
    "    for state in range(nbX):\n",
    "        print(solution[(state, 0)])"
   ]
  },
  {
   "cell_type": "markdown",
   "metadata": {},
   "source": [
    "## Backward Induction"
   ]
  },
  {
   "cell_type": "code",
   "execution_count": null,
   "metadata": {},
   "outputs": [],
   "source": [
    "U_x_t = np.zeros((nbX,nbT))\n",
    "\n",
    "u_xyT = u_xyt.toarray().reshape((nbT, nbY, nbX))\n",
    "u_xyT[nbT-1,:,:].T\n",
    "\n",
    "contVals = np.max(u_xyT[nbT-1,:,:].T, axis = 1)\n",
    "U_x_t[:,nbT-1] = contVals"
   ]
  },
  {
   "cell_type": "code",
   "execution_count": null,
   "metadata": {},
   "outputs": [],
   "source": [
    "for t in reversed(range(nbT-1)):\n",
    "    \n",
    "    myopic = u_xyt.toarray().reshape((nbT, nbY, nbX))[t,:,:].T\n",
    "    Econtvals = P.dot(contVals).reshape(nbY, nbX).T\n",
    "    \n",
    "    contVals = np.max(myopic+Econtvals, axis = 1)\n",
    "    U_x_t[:,t] = contVals"
   ]
  }
 ],
 "metadata": {
  "kernelspec": {
   "display_name": "Python 3",
   "language": "python",
   "name": "python3"
  },
  "language_info": {
   "codemirror_mode": {
    "name": "ipython",
    "version": 3
   },
   "file_extension": ".py",
   "mimetype": "text/x-python",
   "name": "python",
   "nbconvert_exporter": "python",
   "pygments_lexer": "ipython3",
   "version": "3.6.5"
  }
 },
 "nbformat": 4,
 "nbformat_minor": 2
}
