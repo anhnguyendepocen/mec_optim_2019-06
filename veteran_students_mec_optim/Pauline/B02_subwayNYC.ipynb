{
 "cells": [
  {
   "cell_type": "markdown",
   "metadata": {},
   "source": [
    "# Min Cost Flow problem"
   ]
  },
  {
   "cell_type": "code",
   "execution_count": null,
   "metadata": {},
   "outputs": [],
   "source": [
    "import gurobipy as grb\n",
    "import pandas as pd\n",
    "import numpy as np\n",
    "import os\n",
    "\n",
    "%matplotlib notebook\n",
    "import matplotlib as mpl\n",
    "import matplotlib.pyplot as plt\n",
    "from matplotlib.animation import FuncAnimation\n",
    "\n",
    "from shapely.geometry import Point, LineString\n",
    "import geopandas as gpd"
   ]
  },
  {
   "cell_type": "markdown",
   "metadata": {},
   "source": [
    "## NYC Subway network"
   ]
  },
  {
   "cell_type": "code",
   "execution_count": null,
   "metadata": {},
   "outputs": [],
   "source": [
    "thepath = os.getcwd().split(\"veteran_students_mec_optim\\\\Pauline\")[0]\n",
    "arcs = pd.read_csv(thepath + \"\\\\data_mec_optim\\\\networks_subway\\\\NYC\\\\arcs.csv\", sep=',').sort_values(by=['route_id'])\n",
    "\n",
    "nodes = pd.read_csv(thepath + \"\\\\data_mec_optim\\\\networks_subway\\\\NYC\\\\nodes.csv\", sep=',')"
   ]
  },
  {
   "cell_type": "markdown",
   "metadata": {},
   "source": [
    "Stations' caracteristics are contained in nodes dataframe:"
   ]
  },
  {
   "cell_type": "code",
   "execution_count": null,
   "metadata": {},
   "outputs": [],
   "source": [
    "nodes.head()"
   ]
  },
  {
   "cell_type": "markdown",
   "metadata": {},
   "source": [
    "Routes between stations are contained in arcs dataframe:"
   ]
  },
  {
   "cell_type": "code",
   "execution_count": null,
   "metadata": {},
   "outputs": [],
   "source": [
    "arcs.head()"
   ]
  },
  {
   "cell_type": "markdown",
   "metadata": {},
   "source": [
    "Beware of false duplicates! ine M and J run in parallel. In this simple application we keep only line M."
   ]
  },
  {
   "cell_type": "code",
   "execution_count": null,
   "metadata": {},
   "outputs": [],
   "source": [
    "pd.concat(g for _, g in arcs.groupby([\"from_stop_id\",\"to_stop_id\"]) if len(g) > 1)"
   ]
  },
  {
   "cell_type": "code",
   "execution_count": null,
   "metadata": {},
   "outputs": [],
   "source": [
    "arcs.insert(7,\"duplicates\",arcs.duplicated([\"from_stop_id\",\"to_stop_id\"]))\n",
    "todrop = arcs[(arcs['duplicates']) & (arcs['route_id']=='M')].index\n",
    "arcs.drop(todrop, inplace=True)\n",
    "any(arcs.duplicated([\"from_stop_id\",\"to_stop_id\"]))"
   ]
  },
  {
   "cell_type": "code",
   "execution_count": null,
   "metadata": {},
   "outputs": [],
   "source": [
    "print(len(nodes))\n",
    "print(len(arcs))"
   ]
  },
  {
   "cell_type": "code",
   "execution_count": null,
   "metadata": {},
   "outputs": [],
   "source": [
    "nb_nodes = arcs['from_stop_nb'].nunique()\n",
    "names_nodes = nodes['stop_name'] + ' ' + nodes['route_id']\n",
    "arcs_list = [(i, j) for i, j in zip(arcs['from_stop_nb'], arcs['to_stop_nb'])]\n",
    "weights = arcs['dis_line'].values"
   ]
  },
  {
   "cell_type": "code",
   "execution_count": null,
   "metadata": {},
   "outputs": [],
   "source": [
    "origin_node = 452\n",
    "destination_node = 471"
   ]
  },
  {
   "cell_type": "code",
   "execution_count": null,
   "metadata": {},
   "outputs": [],
   "source": [
    "m=grb.Model('NYC Subway')\n",
    "paths = m.addVars(arcs_list, obj = weights, name='arcs')\n",
    "m.addConstrs((paths.sum('*', station) - paths.sum(station, '*') == 0 for station in range(nb_nodes)\n",
    "              if station not in [origin_node, destination_node]), name='Constr')\n",
    "m.addConstr(paths.sum('*', origin_node) - paths.sum(origin_node, '*') == 1, name='Constr')\n",
    "m.addConstr(paths.sum('*', destination_node) - paths.sum(destination_node, '*') == -1, name='Constr')"
   ]
  },
  {
   "cell_type": "code",
   "execution_count": null,
   "metadata": {},
   "outputs": [],
   "source": [
    "m.optimize()\n",
    "path_taken = origin_node\n",
    "path_list = []\n",
    "step = 1\n",
    "if m.status == grb.GRB.Status.OPTIMAL:\n",
    "    print('***Optimal solution***')\n",
    "    print('Minimum distance from', names_nodes[origin_node - 1], 'to',\n",
    "          names_nodes[destination_node - 1], '\\n', m.objVal)\n",
    "    print('0 :', names_nodes[origin_node - 1], '(#%d)' % origin_node)\n",
    "    solution = m.getAttr('x', paths)\n",
    "    while path_taken != destination_node:\n",
    "        for arc in arcs_list:\n",
    "            if arc[1] == path_taken and solution[arc] == 1:\n",
    "                print(step, ':', names_nodes[arc[0] - 1], '(#%d)' % arc[0])\n",
    "                path_taken = arc[0]\n",
    "                path_list.append(path_taken)\n",
    "                step += 1"
   ]
  },
  {
   "cell_type": "code",
   "execution_count": null,
   "metadata": {},
   "outputs": [],
   "source": [
    "path_list.insert(0,origin_node)\n",
    "path_list"
   ]
  },
  {
   "cell_type": "code",
   "execution_count": null,
   "metadata": {},
   "outputs": [],
   "source": [
    "geometry_nodes = [Point(xy) for xy in zip(nodes['stop_lon'], nodes['stop_lat'])]\n",
    "gdf_nodes = gpd.GeoDataFrame(nodes,geometry=geometry_nodes)\n",
    "gdf_nodes.head()"
   ]
  },
  {
   "cell_type": "code",
   "execution_count": null,
   "metadata": {},
   "outputs": [],
   "source": [
    "arcs_coord_int = pd.merge(arcs[['from_stop_id', 'to_stop_id']].rename(index=str, columns={'from_stop_id': 'stop_id'}), \n",
    "         gdf_nodes[['stop_id', 'geometry']].rename(index=str, columns={'geometry': 'from_geometry'}), \n",
    "         on = 'stop_id').rename(index=str, columns={'stop_id': 'from_stop_id'})\n",
    "\n",
    "arcs_coord = pd.merge(arcs_coord_int.rename(index=str, columns={'to_stop_id': 'stop_id'}),\n",
    "                     gdf_nodes[['stop_id', 'geometry']].rename(index=str, columns={'geometry': 'to_geometry'}),\n",
    "                     on = 'stop_id').rename(index=str, columns={'stop_id': 'to_stop_id'})\n",
    "del arcs_coord_int\n",
    "arcs_coord.head()"
   ]
  },
  {
   "cell_type": "code",
   "execution_count": null,
   "metadata": {},
   "outputs": [],
   "source": [
    "geometry_arcs = [LineString(xy) for xy in zip(arcs_coord['from_geometry'],arcs_coord['to_geometry'])]\n",
    "gdf_arcs = gpd.GeoDataFrame(arcs,geometry=geometry_arcs)\n",
    "gdf_arcs.head()"
   ]
  },
  {
   "cell_type": "code",
   "execution_count": null,
   "metadata": {},
   "outputs": [],
   "source": [
    "def animate(i):\n",
    "    label = 'timestep {0}'.format(i)\n",
    "    print(label)\n",
    "    # Update the line and the axes (with a new xlabel). Return a tuple of\n",
    "    # \"artists\" that have to be redrawn for this frame.\n",
    "    stop_id = gdf_arcs[gdf_arcs[\"to_stop_nb\"]==path_list[i]]['to_stop_id'].values[0]\n",
    "    stop_to_plot = gdf_nodes[gdf_nodes[\"stop_id\"]==stop_id]\n",
    "\n",
    "    ax.text(stop_to_plot['stop_lon'], stop_to_plot['stop_lat'],stop_to_plot['stop_name'].values[0], \n",
    "            size = 'medium', fontweight='bold')\n",
    "    stop_to_plot.plot(marker = 'o', color = 'green', markersize=50, ax=ax)\n",
    "\n",
    "    ax.set_xlabel(label)\n",
    "    return ax"
   ]
  },
  {
   "cell_type": "code",
   "execution_count": null,
   "metadata": {},
   "outputs": [],
   "source": [
    "fig, ax = plt.subplots(figsize=(10,10))\n",
    "ax.set_xlim([-74.3, -73.7])\n",
    "ax.set_ylim([40.5, 40.95])\n",
    "ax.set_yticklabels([])\n",
    "ax.set_xticklabels([])\n",
    "\n",
    "gdf_arcs.plot(color = 'lightblue',ax=ax)\n",
    "gdf_nodes.plot(marker = 'o', color = 'lightgreen', markersize=50, ax=ax)"
   ]
  },
  {
   "cell_type": "code",
   "execution_count": null,
   "metadata": {},
   "outputs": [],
   "source": [
    "anim = FuncAnimation(fig, animate, frames = np.arange(0, len(path_list)), interval = 2000, repeat = False)\n",
    "plt.show()"
   ]
  }
 ],
 "metadata": {
  "kernelspec": {
   "display_name": "Python 3",
   "language": "python",
   "name": "python3"
  },
  "language_info": {
   "codemirror_mode": {
    "name": "ipython",
    "version": 3
   },
   "file_extension": ".py",
   "mimetype": "text/x-python",
   "name": "python",
   "nbconvert_exporter": "python",
   "pygments_lexer": "ipython3",
   "version": "3.6.5"
  }
 },
 "nbformat": 4,
 "nbformat_minor": 2
}
