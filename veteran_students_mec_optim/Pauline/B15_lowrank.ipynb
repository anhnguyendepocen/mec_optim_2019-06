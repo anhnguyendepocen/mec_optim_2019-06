{
 "cells": [
  {
   "cell_type": "markdown",
   "metadata": {},
   "source": [
    "# Low rank Affinity Matrix"
   ]
  },
  {
   "cell_type": "code",
   "execution_count": null,
   "metadata": {},
   "outputs": [],
   "source": [
    "import numpy as np\n",
    "import os\n",
    "import pandas as pd\n",
    "import string as str\n",
    "import math\n",
    "import sys\n",
    "import time\n",
    "\n",
    "from IPython.display import display, HTML\n",
    "from sklearn.model_selection import KFold"
   ]
  },
  {
   "cell_type": "markdown",
   "metadata": {},
   "source": [
    "Input your own path"
   ]
  },
  {
   "cell_type": "code",
   "execution_count": null,
   "metadata": {},
   "outputs": [],
   "source": [
    "#thepath = os.getcwd().split('code_py_mec_optim\\\\')[0]\n",
    "thepath = os.getcwd().split('Pycode_PC')[0]\n",
    "\n",
    "data_X = pd.read_csv(thepath + \"\\\\data_mec_optim\\\\marriage_personality-traits\\\\Xvals.csv\", sep=',')\n",
    "data_Y = pd.read_csv(thepath + \"\\\\data_mec_optim\\\\marriage_personality-traits\\\\Yvals.csv\", sep=',')"
   ]
  },
  {
   "cell_type": "markdown",
   "metadata": {},
   "source": [
    "## Affinity Matrix Estimation"
   ]
  },
  {
   "cell_type": "code",
   "execution_count": null,
   "metadata": {},
   "outputs": [],
   "source": [
    "sdX = data_X.std().values\n",
    "sdY = data_Y.std().values\n",
    "mX = data_X.mean().values\n",
    "mY = data_Y.mean().values\n",
    "\n",
    "Xvals = (data_X-mX)/sdX\n",
    "Yvals = (data_Y-mY)/sdY"
   ]
  },
  {
   "cell_type": "code",
   "execution_count": null,
   "metadata": {},
   "outputs": [],
   "source": [
    "sigma = 1\n",
    "t_k = 0.3\n",
    "l = 0.15"
   ]
  },
  {
   "cell_type": "markdown",
   "metadata": {},
   "source": [
    "The loop is quicker than in R: it takes approximately 12 minutes against ~34min in R"
   ]
  },
  {
   "cell_type": "code",
   "execution_count": null,
   "metadata": {},
   "outputs": [],
   "source": [
    "def affinity(Xvals, Yvals, l,s):\n",
    "\n",
    "    ptm = time.time()\n",
    "    \n",
    "    phis = np.kron(Yvals.values.T, Xvals.values.T)\n",
    "    dX = Xvals.shape[1]\n",
    "    dY = Yvals.shape[1]\n",
    "    n = Xvals.shape[0]\n",
    "    \n",
    "    p = np.repeat(1/n, n)\n",
    "    q = np.repeat(1/n, n)\n",
    "\n",
    "    f = np.repeat(1/n,n*n).reshape((n,n))\n",
    "    g = np.repeat(1/n,n*n).reshape((n,n))\n",
    "\n",
    "    pi_hat = np.identity(n)*(1/n)\n",
    "    \n",
    "    A = np.repeat(1,dX*dY)\n",
    "    v = np.zeros(n)\n",
    "    \n",
    "    theval = 0\n",
    "    theval_old = math.inf\n",
    "    \n",
    "    tolIpfp = 1e-8\n",
    "    maxiterIpfp = 1e3\n",
    "    iterCount = 0\n",
    "    maxiter = 1e3\n",
    "    tol = 1e-6\n",
    "\n",
    "    while(np.abs(theval_old-theval)>tol and iterCount < maxiter):\n",
    "\n",
    "        theval_old = theval\n",
    "\n",
    "        Phi = Xvals.values.dot(A.reshape((dX,dY), order = 'F')).dot(Yvals.values.T)\n",
    "\n",
    "        contIpfp = True\n",
    "        iterIpfp = 0\n",
    "\n",
    "        while(contIpfp):\n",
    "            iterIpfp = iterIpfp + 1\n",
    "            u = sigma * np.log(np.sum(np.multiply(g,np.exp((Phi - np.tile(v, n).reshape((n,n)))/sigma)), axis = 1))\n",
    "            vnext = sigma * np.log(np.sum(np.multiply(f, np.exp((Phi - np.tile(u, n).reshape((n,n), order='F'))/sigma)), axis = 0))\n",
    "            error = np.max(np.abs(np.sum(np.multiply(g,np.exp((Phi - np.tile(vnext, n).reshape((n,n)) - np.tile(u, n).reshape((n,n), order='F'))/sigma)), axis = 1) -1))\n",
    "\n",
    "            #print(error)\n",
    "            contIpfp = False if (error < tolIpfp) or (iterIpfp > maxiterIpfp) else True\n",
    "\n",
    "            v = vnext\n",
    "\n",
    "        fg = np.multiply(f,g)\n",
    "        pi = np.multiply(fg,np.exp((Phi - np.tile(v, n).reshape((n,n)) - np.tile(u, n).reshape((n,n), order='F'))/sigma))\n",
    "\n",
    "        thegrad = phis.dot((pi-pi_hat).flatten(order = 'F'))\n",
    "\n",
    "        A = A - t_k*thegrad\n",
    "\n",
    "        if l > 0:\n",
    "\n",
    "            U,S,V = np.linalg.svd(A.reshape(dX,dY).T)\n",
    "\n",
    "            D = [max(x - l*t_k, 0.0) for x in S]\n",
    "\n",
    "            S = np.identity(len(D))\n",
    "            np.fill_diagonal(S,D)\n",
    "\n",
    "            A = U.dot(S.dot(V)).flatten(order = 'F')\n",
    "\n",
    "        if l > 0:\n",
    "            theval = np.sum(np.multiply(thegrad, A))- sigma* np.sum(np.multiply(pi,np.log(pi)))+l*np.sum(D)\n",
    "        else:\n",
    "            theval = np.sum(np.multiply(thegrad, A))- sigma* np.sum(np.multiply(pi,np.log(pi)))\n",
    "\n",
    "        iterCount = iterCount + 1\n",
    "\n",
    "        print(\"Number of iterations is:\", iterCount)\n",
    "        print(\"Value is:\", theval)\n",
    "\n",
    "    diff = time.time() - ptm\n",
    "    print('Time elapsed = ', diff//60, 'minutes', diff%60, 'seconds')\n",
    "    \n",
    "    return A"
   ]
  },
  {
   "cell_type": "code",
   "execution_count": null,
   "metadata": {},
   "outputs": [],
   "source": [
    "def IPFP(Xvals, Yvals, A, sigma):\n",
    "    \n",
    "    phis = np.kron(Yvals.values.T, Xvals.values.T)\n",
    "    dX = Xvals.shape[1]\n",
    "    dY = Yvals.shape[1]\n",
    "    n = Xvals.shape[0]\n",
    "    \n",
    "    p = np.repeat(1/n, n)\n",
    "    q = np.repeat(1/n, n)\n",
    "\n",
    "    f = np.repeat(1/n,n*n).reshape((n,n))\n",
    "    g = np.repeat(1/n,n*n).reshape((n,n))\n",
    "\n",
    "    pi_hat = np.identity(n)*(1/n)\n",
    "    \n",
    "    v = np.zeros(n)\n",
    "    \n",
    "    tolIpfp = 1e-8\n",
    "    maxiterIpfp = 1e3\n",
    "    \n",
    "    Phi = Xvals.values.dot(A.reshape((dX,dY), order = 'F')).dot(Yvals.values.T)\n",
    "\n",
    "    contIpfp = True\n",
    "    iterIpfp = 0\n",
    "        \n",
    "    while(contIpfp):\n",
    "        iterIpfp = iterIpfp + 1\n",
    "        u = sigma * np.log(np.sum(np.multiply(g,np.exp((Phi - np.tile(v, n).reshape((n,n)))/sigma)), axis = 1))\n",
    "        vnext = sigma * np.log(np.sum(np.multiply(f, np.exp((Phi - np.tile(u, n).reshape((n,n), order='F'))/sigma)), axis = 0))\n",
    "        error = np.max(np.abs(np.sum(np.multiply(g,np.exp((Phi - np.tile(vnext, n).reshape((n,n)) - np.tile(u, n).reshape((n,n), order='F'))/sigma)), axis = 1) -1))\n",
    "\n",
    "        #print(error)\n",
    "        contIpfp = False if (error < tolIpfp) or (iterIpfp > maxiterIpfp) else True\n",
    "\n",
    "        v = vnext\n",
    "\n",
    "    fg = np.multiply(f,g)\n",
    "    pi = np.multiply(fg,np.exp((Phi - np.tile(v, n).reshape((n,n)) - np.tile(u, n).reshape((n,n), order='F'))/sigma))\n",
    "\n",
    "    thegrad = phis.dot((pi-pi_hat).flatten(order = 'F'))\n",
    "    fro = np.linalg.norm(thegrad)\n",
    "    \n",
    "    theval= np.sum(np.multiply(thegrad, A))- sigma* np.sum(np.multiply(pi,np.log(pi)))\n",
    "    \n",
    "    return theval, fro\n",
    "    "
   ]
  },
  {
   "cell_type": "code",
   "execution_count": null,
   "metadata": {},
   "outputs": [],
   "source": [
    "res = affinity(Xvals, Yvals, l,sigma)"
   ]
  },
  {
   "cell_type": "markdown",
   "metadata": {},
   "source": [
    "## Cross Validation"
   ]
  },
  {
   "cell_type": "code",
   "execution_count": null,
   "metadata": {},
   "outputs": [],
   "source": [
    "nfold = 5\n",
    "nrep  = 5 \n",
    "n = Xvals.shape[0]\n",
    "\n",
    "nb_l = 11\n",
    "\n",
    "lambda_list = np.arange(0.,0.55,0.05)\n",
    "error_array = np.repeat(0.0, nb_l*nfold*nrep).reshape(nb_l, nfold*nrep)\n",
    "fro_array   = np.repeat(0.0, nb_l*nfold*nrep).reshape(nb_l, nfold*nrep)"
   ]
  },
  {
   "cell_type": "markdown",
   "metadata": {},
   "source": [
    "Warning: the loop below takes several hours to run"
   ]
  },
  {
   "cell_type": "code",
   "execution_count": null,
   "metadata": {},
   "outputs": [],
   "source": [
    "for experiment in range(nrep):\n",
    "    \n",
    "    print(\"experiment is\", experiment)\n",
    "    kf = KFold(n_splits = nfold, shuffle = True)\n",
    "    \n",
    "    for j in range(nb_l):\n",
    "        \n",
    "        lambda_val = lambda_list[j]\n",
    "        print(\"lambda is:\",lambda_val)\n",
    "        \n",
    "        i = 0\n",
    "        for index, indices in kf.split(list(range(nrep*(n//nrep)))):\n",
    "            Xvals_test_cv = Xvals.loc[indices,:]\n",
    "            Xvals_train_cv = Xvals[~Xvals.index.isin(indices)]\n",
    "\n",
    "            Yvals_test_cv = Yvals.loc[indices,:]\n",
    "            Yvals_train_cv = Yvals[~Yvals.index.isin(indices)]\n",
    "            \n",
    "            res_cv = affinity(Xvals_train_cv, Yvals_train_cv, lambda_val,sigma)\n",
    "            \n",
    "            theval, fro = IPFP(Xvals_train_cv, Yvals_train_cv,res_cv, sigma)\n",
    "            \n",
    "            error_array[j,nfold*experiment+i] = theval\n",
    "            fro_array[j,nfold*experiment+i] = fro    \n",
    "        "
   ]
  },
  {
   "cell_type": "code",
   "execution_count": null,
   "metadata": {},
   "outputs": [],
   "source": [
    "mean_error = np.mean(error_array,axis = 1)\n",
    "std_error  = np.std(error_array,axis =1, ddof = 1) / np.sqrt(nfold*nrep)\n",
    "\n",
    "mean_fro = np.mean(fro_array_array,axis = 1)\n",
    "std_fro  = np.std(fro_array,axis =1, ddof = 1) / np.sqrt(nfold*nrep)"
   ]
  }
 ],
 "metadata": {
  "kernelspec": {
   "display_name": "Python 3",
   "language": "python",
   "name": "python3"
  },
  "language_info": {
   "codemirror_mode": {
    "name": "ipython",
    "version": 3
   },
   "file_extension": ".py",
   "mimetype": "text/x-python",
   "name": "python",
   "nbconvert_exporter": "python",
   "pygments_lexer": "ipython3",
   "version": "3.6.5"
  }
 },
 "nbformat": 4,
 "nbformat_minor": 2
}
