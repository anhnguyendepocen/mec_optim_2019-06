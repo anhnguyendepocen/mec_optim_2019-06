{
 "cells": [
  {
   "cell_type": "markdown",
   "metadata": {},
   "source": [
    "# Voronoi Tesselations "
   ]
  },
  {
   "cell_type": "markdown",
   "metadata": {},
   "source": [
    "This is an attempt at computing power diagrams in Python (spoilers: it doesn't work so well). Unlike in R, there is no ready to use package to compute additivey weighted Voronoi cells. If you manage to write a code, I'd be happy to see it! "
   ]
  },
  {
   "cell_type": "code",
   "execution_count": null,
   "metadata": {},
   "outputs": [],
   "source": [
    "import matplotlib as mpl\n",
    "import matplotlib.pyplot as plt\n",
    "from matplotlib.animation import FuncAnimation\n",
    "\n",
    "import numpy as np\n",
    "import random as rd\n",
    "\n",
    "from scipy.spatial import Voronoi, voronoi_plot_2d, ConvexHull, HalfspaceIntersection\n",
    "\n",
    "from shapely import geometry, ops, wkt"
   ]
  },
  {
   "cell_type": "markdown",
   "metadata": {},
   "source": [
    "There is no option in Python to crop Voronoi cells between $[0,1]^2$. The trick to obtain edges that do not go to infinity is to add 4 very distant points."
   ]
  },
  {
   "cell_type": "code",
   "execution_count": null,
   "metadata": {},
   "outputs": [],
   "source": [
    "rd.seed(777)\n",
    "nCells = 10\n",
    "\n",
    "y1 = np.random.uniform(0,1,nCells)\n",
    "y2 = np.random.uniform(0,1,nCells)\n",
    "\n",
    "print(y1)\n",
    "print(y2)\n",
    "\n",
    "centroids = list(zip(y1,y2))\n",
    "centroids.append((100,100))\n",
    "centroids.append((-100,100))\n",
    "centroids.append((100,-100))\n",
    "centroids.append((-100,-100))"
   ]
  },
  {
   "cell_type": "code",
   "execution_count": null,
   "metadata": {},
   "outputs": [],
   "source": [
    "vor = Voronoi(centroids)\n",
    "voronoi_plot_2d(vor, show_vertices=True)\n",
    "plt.xlim(0, 1)\n",
    "plt.ylim(0, 1)\n",
    "plt.show()"
   ]
  },
  {
   "cell_type": "markdown",
   "metadata": {},
   "source": [
    "A function to compute Voronoi cells' area:"
   ]
  },
  {
   "cell_type": "code",
   "execution_count": null,
   "metadata": {},
   "outputs": [],
   "source": [
    "def voronoi_areas(v):\n",
    "    area = np.zeros(v.npoints)\n",
    "    polygon = []\n",
    "    square = geometry.Polygon([(0,0),(0,1),(1,1),(1,0)])\n",
    "    for i, reg_num in enumerate(v.point_region):\n",
    "        indices = v.regions[reg_num]\n",
    "        polygon = geometry.MultiPoint(v.vertices[indices]).convex_hull\n",
    "        trunc_polygon = square.intersection(polygon)\n",
    "        area[i] = trunc_polygon.area\n",
    "        if abs(v.points[i][0]) == 100:\n",
    "            area[i]=0\n",
    "    return area"
   ]
  },
  {
   "cell_type": "code",
   "execution_count": null,
   "metadata": {},
   "outputs": [],
   "source": [
    "demand = voronoi_areas(vor)"
   ]
  },
  {
   "cell_type": "markdown",
   "metadata": {},
   "source": [
    "My attemps at computing power diagrams: I follow [this paper](http://citeseerx.ist.psu.edu/viewdoc/download?doi=10.1.1.104.678&rep=rep1&type=pdf) which itself is based on [Aurenhammer's paper](https://www.cs.jhu.edu/~misha/Spring16/Aurenhammer87.pdf) and try to computed 2D weighted Voronoi tesselations as the intersection of 3D unweighted Voronoi tesselations with a plane."
   ]
  },
  {
   "cell_type": "code",
   "execution_count": null,
   "metadata": {},
   "outputs": [],
   "source": [
    "class vor_3dto2d:\n",
    "    npoints = int\n",
    "    points = [[]]\n",
    "    vertices = [[]]\n",
    "    ridge_points = [[]]\n",
    "    ridge_vertices = [[]]\n",
    "    regions = [[]]\n",
    "    point_region = []\n",
    "    \n",
    "    def __init__(self,vor): \n",
    "        self.npoints = vor.npoints\n",
    "        self.points = vor.points[:,0:2]\n",
    "        self.vertices = vor.vertices[:,0:2]\n",
    "        self.ridge_points = vor.ridge_points\n",
    "        self.ridge_vertices = vor.ridge_vertices\n",
    "        self.regions = vor.regions\n",
    "        self.point_region = vor.point_region"
   ]
  },
  {
   "cell_type": "code",
   "execution_count": null,
   "metadata": {},
   "outputs": [],
   "source": [
    "vtilde = np.repeat(0.00,nCells)\n",
    "weights = np.sqrt(np.max(vtilde)-vtilde)\n",
    "centroids_3d = list(zip(y1,y2,weights))\n",
    "centroids_3d.append((100,100,100))\n",
    "centroids_3d.append((-100,100,100))\n",
    "centroids_3d.append((100,-100,100))\n",
    "centroids_3d.append((-100,-100,100))\n",
    "centroids_3d.append((100,100,-100))\n",
    "centroids_3d.append((-100,100,-100))\n",
    "centroids_3d.append((100,-100,-100))\n",
    "centroids_3d.append((-100,-100,-100))"
   ]
  },
  {
   "cell_type": "code",
   "execution_count": null,
   "metadata": {},
   "outputs": [],
   "source": [
    "vor_3d_noweights = Voronoi(centroids_3d)\n",
    "vor_2d_noweights = vor_3dto2d(vor_3d_noweights)\n",
    "\n",
    "voronoi_plot_2d(vor_2d_noweights, show_vertices=True)\n",
    "plt.xlim(0, 1)\n",
    "plt.ylim(0, 1)\n",
    "plt.show()"
   ]
  },
  {
   "cell_type": "code",
   "execution_count": null,
   "metadata": {},
   "outputs": [],
   "source": [
    "MAX_ITER = 2\n",
    "PREC = 1e-2\n",
    "CONT = True\n",
    "niter = 0"
   ]
  },
  {
   "cell_type": "code",
   "execution_count": null,
   "metadata": {},
   "outputs": [],
   "source": [
    "q = np.repeat(1/nCells,nCells)\n",
    "vtilde = np.repeat(0,nCells)\n",
    "epsilon = 0.1"
   ]
  },
  {
   "cell_type": "code",
   "execution_count": null,
   "metadata": {},
   "outputs": [],
   "source": [
    "while (CONT == True and niter < MAX_ITER):\n",
    "\n",
    "    weights = np.sqrt(np.max(vtilde)-vtilde)\n",
    "    print(weights)\n",
    "    centroids_3d = list(zip(y1,y2,weights))\n",
    "    centroids_3d.append((100,100,100))\n",
    "    centroids_3d.append((-100,100,100))\n",
    "    centroids_3d.append((100,-100,100))\n",
    "    centroids_3d.append((-100,-100,100))\n",
    "    centroids_3d.append((100,100,-100))\n",
    "    centroids_3d.append((-100,100,-100))\n",
    "    centroids_3d.append((100,-100,-100))\n",
    "    centroids_3d.append((-100,-100,-100))\n",
    "\n",
    "    vor_3d = Voronoi(centroids_3d)\n",
    "    vor_2d = vor_3dto2d(vor_3d)\n",
    "\n",
    "    voronoi_plot_2d(vor_2d, show_vertices=True)\n",
    "    plt.xlim(0, 1)\n",
    "    plt.ylim(0, 1)\n",
    "    plt.show()\n",
    "    \n",
    "    demand = voronoi_areas(vor_2d)[0:10]\n",
    "\n",
    "    if (max(abs(demand-q))<PREC/nCells):\n",
    "        CONT = False\n",
    "    else:\n",
    "        vtilde = vtilde - epsilon * (demand - q)\n",
    "\n",
    "    niter = niter +1\n"
   ]
  }
 ],
 "metadata": {
  "kernelspec": {
   "display_name": "Python 3",
   "language": "python",
   "name": "python3"
  },
  "language_info": {
   "codemirror_mode": {
    "name": "ipython",
    "version": 3
   },
   "file_extension": ".py",
   "mimetype": "text/x-python",
   "name": "python",
   "nbconvert_exporter": "python",
   "pygments_lexer": "ipython3",
   "version": "3.6.5"
  }
 },
 "nbformat": 4,
 "nbformat_minor": 2
}
