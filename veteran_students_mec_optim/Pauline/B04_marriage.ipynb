{
 "cells": [
  {
   "cell_type": "code",
   "execution_count": null,
   "metadata": {},
   "outputs": [],
   "source": [
    "import gurobipy as grb\n",
    "import pandas as pd\n",
    "import numpy as np\n",
    "import scipy.sparse as sparse\n",
    "import os"
   ]
  },
  {
   "cell_type": "code",
   "execution_count": null,
   "metadata": {},
   "outputs": [],
   "source": [
    "thepath = os.getcwd().split(\"veteran_students_mec_optim\\\\Pauline\")[0]\n",
    "\n",
    "data_X = pd.read_csv(thepath + \"\\\\data_mec_optim\\\\marriage_personality-traits\\\\Xvals.csv\", sep=',')\n",
    "data_Y = pd.read_csv(thepath + \"\\\\data_mec_optim\\\\marriage_personality-traits\\\\Yvals.csv\", sep=',')\n",
    "affdf = pd.read_csv(thepath + \"\\\\data_mec_optim\\\\marriage_personality-traits\\\\Affinitymatrix.csv\", sep=',')"
   ]
  },
  {
   "cell_type": "code",
   "execution_count": null,
   "metadata": {},
   "outputs": [],
   "source": [
    "data_X.head()"
   ]
  },
  {
   "cell_type": "code",
   "execution_count": null,
   "metadata": {},
   "outputs": [],
   "source": [
    "nbcar = 10\n",
    "affmat = affdf.iloc[0:nbcar,1:nbcar+1].values\n",
    "affmat"
   ]
  },
  {
   "cell_type": "code",
   "execution_count": null,
   "metadata": {},
   "outputs": [],
   "source": [
    "sdX = data_X.std().values\n",
    "sdY = data_Y.std().values\n",
    "mX = data_X.mean().values\n",
    "mY = data_Y.mean().values\n",
    "\n",
    "Xvals = (data_X-mX)/sdX\n",
    "Yvals = (data_Y-mY)/sdY"
   ]
  },
  {
   "cell_type": "code",
   "execution_count": null,
   "metadata": {},
   "outputs": [],
   "source": [
    "nobs = Xvals.shape[0]\n",
    "Phi = Xvals.values.dot(affmat).dot(Yvals.values.T).T\n",
    "c= Phi.flatten()"
   ]
  },
  {
   "cell_type": "code",
   "execution_count": null,
   "metadata": {},
   "outputs": [],
   "source": [
    "c.shape\n",
    "#len(coupleList)"
   ]
  },
  {
   "cell_type": "code",
   "execution_count": null,
   "metadata": {},
   "outputs": [],
   "source": [
    "coupleList = [(i, j) for i in range(nobs) for j in range(nobs)]\n",
    "m = grb.Model('marriage')\n",
    "couple = m.addVars(coupleList, obj=c, name='couple')\n",
    "m.ModelSense = -1"
   ]
  },
  {
   "cell_type": "code",
   "execution_count": null,
   "metadata": {},
   "outputs": [],
   "source": [
    "m.addConstrs((couple.sum('*', women) == 1 for women in range(nobs)))\n",
    "m.addConstrs((couple.sum(men, '*') == 1 for men in range(nobs)))"
   ]
  },
  {
   "cell_type": "code",
   "execution_count": null,
   "metadata": {},
   "outputs": [],
   "source": [
    "m.optimize()"
   ]
  },
  {
   "cell_type": "code",
   "execution_count": null,
   "metadata": {},
   "outputs": [],
   "source": [
    "if m.status == grb.GRB.Status.OPTIMAL:\n",
    "    print(\"Value of the problem (Gurobi) =\", m.objval)\n",
    "    pi = m.getAttr(grb.GRB.Attr.Pi)\n",
    "    u = pi[:nobs]\n",
    "    v = pi[nobs:]\n",
    "    print(u[:10])\n",
    "    print(\"\")\n",
    "    print(v[:10])"
   ]
  }
 ],
 "metadata": {
  "kernelspec": {
   "display_name": "Python 3",
   "language": "python",
   "name": "python3"
  },
  "language_info": {
   "codemirror_mode": {
    "name": "ipython",
    "version": 3
   },
   "file_extension": ".py",
   "mimetype": "text/x-python",
   "name": "python",
   "nbconvert_exporter": "python",
   "pygments_lexer": "ipython3",
   "version": "3.6.5"
  }
 },
 "nbformat": 4,
 "nbformat_minor": 2
}
