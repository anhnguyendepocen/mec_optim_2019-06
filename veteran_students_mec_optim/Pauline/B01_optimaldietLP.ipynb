{
 "cells": [
  {
   "cell_type": "markdown",
   "metadata": {},
   "source": [
    "# The Diet Problem"
   ]
  },
  {
   "cell_type": "code",
   "execution_count": null,
   "metadata": {},
   "outputs": [],
   "source": [
    "import gurobipy as grb\n",
    "import pandas as pd\n",
    "import numpy as np\n",
    "import os"
   ]
  },
  {
   "cell_type": "markdown",
   "metadata": {},
   "source": [
    "Have a look at the diet problem data:"
   ]
  },
  {
   "cell_type": "code",
   "execution_count": null,
   "metadata": {},
   "outputs": [],
   "source": [
    "thepath = os.getcwd().split(\"veteran_students_mec_optim\\\\Pauline\")[0]\n",
    "filename = 'data_mec_optim\\\\lp_stigler-diet\\\\StiglerData1939.txt'\n",
    "thedata = pd.read_csv(thepath + filename, sep='\\t')\n",
    "thedata = thedata.dropna(how = 'all')\n",
    "thedata"
   ]
  },
  {
   "cell_type": "markdown",
   "metadata": {},
   "source": [
    "Isolate model inputs:"
   ]
  },
  {
   "cell_type": "code",
   "execution_count": null,
   "metadata": {},
   "outputs": [],
   "source": [
    "commodity = thedata['Commodity'].values\n",
    "intake = thedata.iloc[:, 4:].fillna(0).values\n",
    "allowance = thedata.iloc[-1, 4:].fillna(0).values"
   ]
  },
  {
   "cell_type": "code",
   "execution_count": null,
   "metadata": {},
   "outputs": [],
   "source": [
    "commodity = (thedata['Commodity'].values)[:-1]\n",
    "intake = thedata.iloc[:-1, 4:].fillna(0).transpose().values\n",
    "allowance = thedata.iloc[-1, 4:].fillna(0).transpose()"
   ]
  },
  {
   "cell_type": "markdown",
   "metadata": {},
   "source": [
    "Set up the model: note that Gurobi in Python is different from R, in the sense that we cannot a matrix of constraints"
   ]
  },
  {
   "cell_type": "code",
   "execution_count": null,
   "metadata": {},
   "outputs": [],
   "source": [
    "m = grb.Model('optimalDiet')\n",
    "meal = m.addVars(commodity, name='meal')\n",
    "m.setObjective(meal.sum(), grb.GRB.MINIMIZE)\n",
    "m.addConstrs((grb.quicksum(meal[k] * intake[i, j] for j, k in enumerate(commodity)) >= allowance[i]\n",
    "              for i in range(intake.shape[0])), name='c')"
   ]
  },
  {
   "cell_type": "code",
   "execution_count": null,
   "metadata": {},
   "outputs": [],
   "source": [
    "m.optimize()\n",
    "if m.status == grb.GRB.Status.OPTIMAL:\n",
    "    total = 0\n",
    "    solution = m.getAttr('x', meal)\n",
    "    pi = m.getAttr('pi')"
   ]
  },
  {
   "cell_type": "code",
   "execution_count": null,
   "metadata": {},
   "outputs": [],
   "source": [
    "print('***Optimal solution***')\n",
    "for food in commodity:\n",
    "    if solution[food] > 0:\n",
    "        print(food, solution[food] * 365)\n",
    "        total += solution[food] * 365\n",
    "print('Total cost (optimal) =', total)"
   ]
  },
  {
   "cell_type": "markdown",
   "metadata": {},
   "source": [
    "As promised, we achieve the minimum cost bundle at $\\$39.67$ per year in $1939$ dollars. If we compare this to Stigler's solutions which was \n",
    "\n",
    "|Food| Annual Quantities| Annual Cost|\n",
    "| ---------- | ------------------ | ------------ |\n",
    "| Wheat Flour | \t370 lb.|   \\$13.33 |\n",
    "| Evaporated Milk | \t57 cans |\t  \\$3.84 |\n",
    "|Cabbage| \t111 lb. \t  |\\$4.11|\n",
    "|Spinach| \t23 lb. \t  |\\$1.85|\n",
    "|Dried Navy Beans| \t285 lb. |\t\\$16.80|\n",
    "|Total Annual Cost| \t&nbsp; \t| \\$39.93 |"
   ]
  }
 ],
 "metadata": {
  "kernelspec": {
   "display_name": "Python 3",
   "language": "python",
   "name": "python3"
  },
  "language_info": {
   "codemirror_mode": {
    "name": "ipython",
    "version": 3
   },
   "file_extension": ".py",
   "mimetype": "text/x-python",
   "name": "python",
   "nbconvert_exporter": "python",
   "pygments_lexer": "ipython3",
   "version": "3.6.5"
  }
 },
 "nbformat": 4,
 "nbformat_minor": 2
}
