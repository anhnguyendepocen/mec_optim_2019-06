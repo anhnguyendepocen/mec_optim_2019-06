{
 "cells": [
  {
   "cell_type": "markdown",
   "metadata": {},
   "source": [
    "# Gravity Equation Estimation"
   ]
  },
  {
   "cell_type": "code",
   "execution_count": 1,
   "metadata": {},
   "outputs": [],
   "source": [
    "import numpy as np\n",
    "import os\n",
    "import pandas as pd\n",
    "import string as str\n",
    "import math\n",
    "import sys\n",
    "import time\n",
    "\n",
    "from scipy import optimize, special\n",
    "import gurobipy as grb\n",
    "\n",
    "from sklearn.preprocessing import LabelEncoder\n",
    "from IPython.display import display, HTML"
   ]
  },
  {
   "cell_type": "code",
   "execution_count": 2,
   "metadata": {},
   "outputs": [],
   "source": [
    "thePath = os.getcwd().split(\"veteran_students_mec_optim\\\\Pauline\")[0]\n",
    "tradedata = pd.read_csv(thePath + 'data_mec_optim\\\\gravity_wtodata\\\\1_TraditionalGravity_from_WTO_book.csv', sep=',')"
   ]
  },
  {
   "cell_type": "code",
   "execution_count": 3,
   "metadata": {},
   "outputs": [],
   "source": [
    "tradedata = tradedata[['exporter', 'importer','year', 'trade', 'DIST','ln_DIST', 'CNTG', 'LANG', 'CLNY']]"
   ]
  },
  {
   "cell_type": "code",
   "execution_count": 4,
   "metadata": {},
   "outputs": [
    {
     "data": {
      "text/html": [
       "<div>\n",
       "<style scoped>\n",
       "    .dataframe tbody tr th:only-of-type {\n",
       "        vertical-align: middle;\n",
       "    }\n",
       "\n",
       "    .dataframe tbody tr th {\n",
       "        vertical-align: top;\n",
       "    }\n",
       "\n",
       "    .dataframe thead th {\n",
       "        text-align: right;\n",
       "    }\n",
       "</style>\n",
       "<table border=\"1\" class=\"dataframe\">\n",
       "  <thead>\n",
       "    <tr style=\"text-align: right;\">\n",
       "      <th></th>\n",
       "      <th>exporter</th>\n",
       "      <th>importer</th>\n",
       "      <th>year</th>\n",
       "      <th>trade</th>\n",
       "      <th>DIST</th>\n",
       "      <th>ln_DIST</th>\n",
       "      <th>CNTG</th>\n",
       "      <th>LANG</th>\n",
       "      <th>CLNY</th>\n",
       "    </tr>\n",
       "  </thead>\n",
       "  <tbody>\n",
       "    <tr>\n",
       "      <th>0</th>\n",
       "      <td>ARG</td>\n",
       "      <td>ARG</td>\n",
       "      <td>1986</td>\n",
       "      <td>61288.590263</td>\n",
       "      <td>533.908240</td>\n",
       "      <td>6.280224</td>\n",
       "      <td>0</td>\n",
       "      <td>0</td>\n",
       "      <td>0</td>\n",
       "    </tr>\n",
       "    <tr>\n",
       "      <th>1</th>\n",
       "      <td>ARG</td>\n",
       "      <td>AUS</td>\n",
       "      <td>1986</td>\n",
       "      <td>27.764874</td>\n",
       "      <td>12044.574134</td>\n",
       "      <td>9.396370</td>\n",
       "      <td>0</td>\n",
       "      <td>0</td>\n",
       "      <td>0</td>\n",
       "    </tr>\n",
       "    <tr>\n",
       "      <th>2</th>\n",
       "      <td>ARG</td>\n",
       "      <td>AUT</td>\n",
       "      <td>1986</td>\n",
       "      <td>3.559843</td>\n",
       "      <td>11751.146521</td>\n",
       "      <td>9.371706</td>\n",
       "      <td>0</td>\n",
       "      <td>0</td>\n",
       "      <td>0</td>\n",
       "    </tr>\n",
       "    <tr>\n",
       "      <th>3</th>\n",
       "      <td>ARG</td>\n",
       "      <td>BEL</td>\n",
       "      <td>1986</td>\n",
       "      <td>96.102567</td>\n",
       "      <td>11305.285764</td>\n",
       "      <td>9.333026</td>\n",
       "      <td>0</td>\n",
       "      <td>0</td>\n",
       "      <td>0</td>\n",
       "    </tr>\n",
       "    <tr>\n",
       "      <th>4</th>\n",
       "      <td>ARG</td>\n",
       "      <td>BGR</td>\n",
       "      <td>1986</td>\n",
       "      <td>3.129231</td>\n",
       "      <td>12115.572046</td>\n",
       "      <td>9.402246</td>\n",
       "      <td>0</td>\n",
       "      <td>0</td>\n",
       "      <td>0</td>\n",
       "    </tr>\n",
       "  </tbody>\n",
       "</table>\n",
       "</div>"
      ],
      "text/plain": [
       "  exporter importer  year         trade          DIST   ln_DIST  CNTG  LANG  \\\n",
       "0      ARG      ARG  1986  61288.590263    533.908240  6.280224     0     0   \n",
       "1      ARG      AUS  1986     27.764874  12044.574134  9.396370     0     0   \n",
       "2      ARG      AUT  1986      3.559843  11751.146521  9.371706     0     0   \n",
       "3      ARG      BEL  1986     96.102567  11305.285764  9.333026     0     0   \n",
       "4      ARG      BGR  1986      3.129231  12115.572046  9.402246     0     0   \n",
       "\n",
       "   CLNY  \n",
       "0     0  \n",
       "1     0  \n",
       "2     0  \n",
       "3     0  \n",
       "4     0  "
      ]
     },
     "execution_count": 4,
     "metadata": {},
     "output_type": "execute_result"
    }
   ],
   "source": [
    "tradedata.sort_values(['year','exporter','importer'], inplace = True)\n",
    "tradedata.reset_index(inplace = True, drop = True)\n",
    "tradedata.head()"
   ]
  },
  {
   "cell_type": "code",
   "execution_count": 5,
   "metadata": {},
   "outputs": [],
   "source": [
    "tradedata.loc[np.where(tradedata['importer']==tradedata['exporter'],True, False),['DIST', 'ln_DIST', 'CNTG', 'LANG', 'CLNY']]=0"
   ]
  },
  {
   "cell_type": "code",
   "execution_count": 6,
   "metadata": {},
   "outputs": [],
   "source": [
    "nbt = len(tradedata['year'].unique())\n",
    "nbi = len(tradedata['importer'].unique())\n",
    "nbk = 4"
   ]
  },
  {
   "cell_type": "code",
   "execution_count": 7,
   "metadata": {},
   "outputs": [],
   "source": [
    "Xhatnit = []\n",
    "Dnikt = []\n",
    "\n",
    "years = tradedata['year'].unique()\n",
    "for t, year in enumerate(years):\n",
    "    \n",
    "    tradedata_year = tradedata[tradedata['year']==year]\n",
    "    \n",
    "    Xhatnit.append(tradedata_year.pivot(index = 'exporter', columns = 'importer', values ='trade').values)\n",
    "    np.fill_diagonal(Xhatnit[t],0)\n",
    "    \n",
    "    Dnikt.append(tradedata_year[[ 'ln_DIST', 'CNTG', 'LANG', 'CLNY']].values)"
   ]
  },
  {
   "cell_type": "code",
   "execution_count": 8,
   "metadata": {},
   "outputs": [],
   "source": [
    "Xnt = np.zeros((nbi,nbt))\n",
    "Yit = np.zeros((nbi,nbt))\n",
    "\n",
    "for t in range(nbt):\n",
    "    Xnt[:,t] = Xhatnit[t].sum(axis = 1)\n",
    "    Yit[:,t] = Xhatnit[t].sum(axis = 0)"
   ]
  },
  {
   "cell_type": "code",
   "execution_count": 9,
   "metadata": {},
   "outputs": [],
   "source": [
    "totalmass_t = sum(Xhatnit).sum(axis=(0,1))/nbt\n",
    "pihat_nit = Xhatnit/totalmass_t"
   ]
  },
  {
   "cell_type": "code",
   "execution_count": 10,
   "metadata": {},
   "outputs": [],
   "source": [
    "meanD_k = np.asmatrix([mat.mean(axis = 0) for mat in Dnikt]).mean(axis = 0)\n",
    "sdD_k = np.asmatrix([mat.std(axis = 0,ddof = 1) for mat in Dnikt]).mean(axis = 0)\n",
    "\n",
    "Dnikt = [(mat - meanD_k)/sdD_k for mat in Dnikt]"
   ]
  },
  {
   "cell_type": "code",
   "execution_count": 11,
   "metadata": {},
   "outputs": [],
   "source": [
    "p_nt = Xnt/totalmass_t\n",
    "q_nt = Yit/totalmass_t\n",
    "IX = np.repeat(1, nbi).reshape(nbi,1)\n",
    "tIY = np.repeat(1, nbi).reshape(1,nbi)"
   ]
  },
  {
   "cell_type": "code",
   "execution_count": 12,
   "metadata": {},
   "outputs": [],
   "source": [
    "f_nit = []\n",
    "g_nit = []\n",
    "\n",
    "for t in range(nbt):\n",
    "    f_nit.append(p_nt[:,t].reshape(nbi,1).dot(tIY))\n",
    "    g_nit.append(IX.dot(q_nt[:,t].reshape(1,nbi)))"
   ]
  },
  {
   "cell_type": "code",
   "execution_count": 17,
   "metadata": {},
   "outputs": [],
   "source": [
    "sigma = 1\n",
    "maxiterIpfp = 1000\n",
    "maxiter = 500\n",
    "tolIpfp = 1e-12\n",
    "tolDescent = 1e-12\n",
    "t_s = 0.03\n",
    "iterCount = 0\n",
    "contIter = True"
   ]
  },
  {
   "cell_type": "code",
   "execution_count": 16,
   "metadata": {},
   "outputs": [],
   "source": [
    "v_it = np.zeros((nbi, nbt))\n",
    "beta_k = np.repeat(0, nbk)\n",
    "\n",
    "thegrad = np.repeat(0, nbk)\n",
    "pi_nit = []\n",
    "\n",
    "theval_old = -math.inf"
   ]
  },
  {
   "cell_type": "code",
   "execution_count": 18,
   "metadata": {},
   "outputs": [
    {
     "name": "stdout",
     "output_type": "stream",
     "text": [
      "Time elapsed =  18.883745193481445 s.\n"
     ]
    }
   ],
   "source": [
    "ptm = time.time()\n",
    "while(contIter):\n",
    "    \n",
    "    #print(\"Iteration\", iterCount)\n",
    "    \n",
    "    for t in range(nbt):\n",
    "        \n",
    "        #print(\"Year\", t)\n",
    "\n",
    "        D_ij_k = Dnikt[t]\n",
    "\n",
    "        Phi = D_ij_k.dot(beta_k.reshape(nbk,1)).reshape(nbi,nbi)\n",
    "\n",
    "        contIpfp = True\n",
    "        iterIpfp = 0\n",
    "\n",
    "        v = v_it[:, t].reshape(1,nbi)\n",
    "        f = f_nit[t]\n",
    "        g = g_nit[t]\n",
    "\n",
    "        K = np.exp(Phi/sigma)\n",
    "        np.fill_diagonal(K,0)\n",
    "\n",
    "        fK = np.multiply(f,K)\n",
    "        gK = np.multiply(g,K)\n",
    "\n",
    "        while(contIpfp):\n",
    "\n",
    "            iterIpfp = iterIpfp + 1\n",
    "\n",
    "            u = sigma * np.log(np.sum(np.multiply(gK,np.exp((-IX.dot(v))/sigma)), axis = 1)).flatten()\n",
    "            vnext = sigma * np.log(np.sum(np.multiply(fK,np.exp((-u.T.dot(tIY))/sigma)), axis = 0))\n",
    "            error = np.max(np.abs(np.sum(np.multiply(gK,np.exp((-IX.dot(vnext) - u.T.dot(tIY))/sigma)), axis = 1) - 1))\n",
    "\n",
    "            if (error < tolIpfp or iterIpfp >= maxiterIpfp):\n",
    "                contIpfp = False\n",
    "            v = vnext\n",
    "\n",
    "        v_it[:,t] = np.asarray(v)[0]\n",
    "\n",
    "        fgK = np.multiply(f,gK)\n",
    "        pi_nit.append(np.multiply(fgK,np.exp((-IX.dot(v) - u.T.dot(tIY))/sigma)))\n",
    "\n",
    "        thegrad = thegrad + (pi_nit[t]-pihat_nit[t]).flatten(order = 'F').dot(D_ij_k)\n",
    "\n",
    "    beta_k = beta_k - t_s * thegrad\n",
    "\n",
    "    nonzero_pi_nit = np.concatenate(pi_nit).ravel()[np.where(np.concatenate(pi_nit).ravel()>0, True, False)]\n",
    "    theval = float(np.sum(np.multiply(thegrad,beta_k), axis = 1)) - sigma * float(np.sum(np.multiply(nonzero_pi_nit, np.log(nonzero_pi_nit)),axis=(0,1)))\n",
    "\n",
    "    iterCount = iterCount + 1\n",
    "\n",
    "    if (iterCount > maxiter or np.abs(theval - theval_old) < tolDescent):\n",
    "        contIter = False\n",
    "\n",
    "    theval_old = theval\n",
    "    thegrad = np.repeat(0, nbk)\n",
    "    pi_nit = []\n",
    "    \n",
    "diff = time.time() - ptm\n",
    "print('Time elapsed = ', diff, 's.')"
   ]
  },
  {
   "cell_type": "code",
   "execution_count": 19,
   "metadata": {},
   "outputs": [
    {
     "name": "stdout",
     "output_type": "stream",
     "text": [
      "[[-0.84092368  0.43744866  0.2474767  -0.22249036]]\n"
     ]
    }
   ],
   "source": [
    "beta_k = beta_k/sdD_k\n",
    "print(beta_k)"
   ]
  }
 ],
 "metadata": {
  "kernelspec": {
   "display_name": "Python 3",
   "language": "python",
   "name": "python3"
  },
  "language_info": {
   "codemirror_mode": {
    "name": "ipython",
    "version": 3
   },
   "file_extension": ".py",
   "mimetype": "text/x-python",
   "name": "python",
   "nbconvert_exporter": "python",
   "pygments_lexer": "ipython3",
   "version": "3.6.5"
  }
 },
 "nbformat": 4,
 "nbformat_minor": 2
}
