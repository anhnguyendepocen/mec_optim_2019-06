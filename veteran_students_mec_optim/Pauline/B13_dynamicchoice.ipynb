{
 "cells": [
  {
   "cell_type": "markdown",
   "metadata": {},
   "source": [
    "# Rust model estimation"
   ]
  },
  {
   "cell_type": "code",
   "execution_count": null,
   "metadata": {},
   "outputs": [],
   "source": [
    "import numpy as np\n",
    "import os\n",
    "import pandas as pd\n",
    "import string as str\n",
    "import math\n",
    "import sys\n",
    "import time\n",
    "\n",
    "from scipy import optimize, special\n",
    "import gurobipy as grb\n",
    "\n",
    "from sklearn.preprocessing import LabelEncoder\n",
    "from IPython.display import display, HTML"
   ]
  },
  {
   "cell_type": "code",
   "execution_count": null,
   "metadata": {},
   "outputs": [],
   "source": [
    "thePath = os.getcwd().split(\"veteran_students_mec_optim\\\\Pauline\")[0]"
   ]
  },
  {
   "cell_type": "code",
   "execution_count": null,
   "metadata": {},
   "outputs": [],
   "source": [
    "n = 10\n",
    "omax = 450000"
   ]
  },
  {
   "cell_type": "code",
   "execution_count": null,
   "metadata": {},
   "outputs": [],
   "source": [
    "fileArr = [\"g870.asc\", \"rt50.asc\", \"t8h203.asc\", \"a530875.asc\", \"a530874.asc\", \"a452374.asc\", \"a530872.asc\", \"a452372.asc\"]\n",
    "nbRowsArr = [36,60,81,128,137,137,137,137]\n",
    "nbColsArr  = [15, 4,48,37,12,10,18,18]"
   ]
  },
  {
   "cell_type": "code",
   "execution_count": null,
   "metadata": {},
   "outputs": [],
   "source": [
    "nbBuses = sum(nbColsArr)\n",
    "nbMonths = max(nbRowsArr)-11\n",
    "data = []\n",
    "inmo = 12\n",
    "inye = 74"
   ]
  },
  {
   "cell_type": "code",
   "execution_count": null,
   "metadata": {},
   "outputs": [],
   "source": [
    "output = np.empty((nbBuses,nbMonths,3))\n",
    "output[:]=np.nan\n",
    "\n",
    "outputdiscr = np.empty((nbBuses,nbMonths,3))\n",
    "outputdiscr[:] = np.nan\n",
    "\n",
    "transitions = np.zeros((n,n))\n",
    "transitions_list = []"
   ]
  },
  {
   "cell_type": "code",
   "execution_count": null,
   "metadata": {},
   "outputs": [],
   "source": [
    "curbus = 0\n",
    "\n",
    "for busType in range(len(fileArr)):\n",
    "\n",
    "    thefile = fileArr[busType]\n",
    "    nbRows = nbRowsArr[busType]\n",
    "    nbCols = nbColsArr[busType]\n",
    "    \n",
    "    modeldata = np.genfromtxt(thePath + 'data_mec_optim\\\\dynamicchoice_Rust\\datafiles\\\\' + thefile, delimiter='\\n')\n",
    "    modeldata = modeldata.reshape(nbCols, nbRows).T\n",
    "    \n",
    "    print(\"Group = \", busType, \"; Nb at least one = \", len(np.nonzero(modeldata[5,:])[0]), \"; Nb no repl = \", nbCols - len(np.nonzero(modeldata[5,:])[0]))\n",
    "    \n",
    "    for busId in range(nbCols):\n",
    "        mo1stRepl = modeldata[3, busId]\n",
    "        ye1stRepl = modeldata[4, busId]\n",
    "        odo1stRepl = modeldata[5, busId]\n",
    "\n",
    "        mo2ndRepl = modeldata[6, busId]\n",
    "        ye2ndRepl = modeldata[7, busId]\n",
    "        odo2ndRepl = modeldata[8, busId]\n",
    "\n",
    "        moDataBegins = modeldata[9, busId]\n",
    "        yeDataBegins = modeldata[10, busId]\n",
    "\n",
    "        odoReadings = modeldata[11:nbRows, busId] \n",
    "\n",
    "        wasreplacedonce = np.asarray([1 if (x >= odo1stRepl) and (odo1stRepl > 0) else 0 for x in odoReadings])\n",
    "        wasreplacedtwice = np.asarray([1 if (x >= odo2ndRepl) and (odo2ndRepl > 0) else 0 for x in odoReadings]) \n",
    "        howmanytimesreplaced = wasreplacedonce+wasreplacedtwice\n",
    "\n",
    "        correctedmileage = odoReadings+np.multiply(howmanytimesreplaced,howmanytimesreplaced-2) * odo1stRepl - 0.5 * np.multiply(howmanytimesreplaced,howmanytimesreplaced-1) * odo1stRepl\n",
    "\n",
    "        output[curbus, 0:(nbRows-12), 0] = howmanytimesreplaced[1:(nbRows-11)] - howmanytimesreplaced[0:(nbRows-12)]\n",
    "        output[curbus, 0:(nbRows-12), 1] = correctedmileage[0:nbRows-12]\n",
    "        output[curbus, 0:(nbRows-12), 2] = modeldata[12:nbRows, busId] - modeldata[11:nbRows-1, busId] \n",
    "\n",
    "        outputdiscr[curbus,:,0] = output[curbus,:,0] \n",
    "        outputdiscr[curbus,:,1:3] =  np.ceil(n*output[curbus,:,1:3]/omax)\n",
    "\n",
    "        for t in range(nbRows-13):\n",
    "            i = int(outputdiscr[curbus,t,1]-1)\n",
    "            j = int(outputdiscr[curbus,t+1,1]-1)\n",
    "            transitions[i,j]  = transitions[i,j] + 1\n",
    "\n",
    "        curbus = curbus +1\n"
   ]
  },
  {
   "cell_type": "code",
   "execution_count": null,
   "metadata": {},
   "outputs": [],
   "source": [
    "beta = 0.95"
   ]
  },
  {
   "cell_type": "code",
   "execution_count": null,
   "metadata": {},
   "outputs": [],
   "source": [
    "Pi = (transitions.T/np.sum(transitions, axis = 1)).T\n",
    "Pi = Pi[0:n-1,0:n-1]"
   ]
  },
  {
   "cell_type": "code",
   "execution_count": null,
   "metadata": {},
   "outputs": [],
   "source": [
    "L = np.log(1-Pi[:,0])"
   ]
  },
  {
   "cell_type": "code",
   "execution_count": null,
   "metadata": {},
   "outputs": [],
   "source": [
    "Pi_xx = Pi[:]\n",
    "Pi_xx[1:(n-1),0] = 0\n",
    "norm = np.sum(Pi_xx,axis = 1)\n",
    "Pi_xx = (Pi_xx.T/norm).T"
   ]
  },
  {
   "cell_type": "code",
   "execution_count": null,
   "metadata": {},
   "outputs": [],
   "source": [
    "U = (beta *Pi_xx - np.identity(n-1)).dot(L)"
   ]
  }
 ],
 "metadata": {
  "kernelspec": {
   "display_name": "Python 3",
   "language": "python",
   "name": "python3"
  },
  "language_info": {
   "codemirror_mode": {
    "name": "ipython",
    "version": 3
   },
   "file_extension": ".py",
   "mimetype": "text/x-python",
   "name": "python",
   "nbconvert_exporter": "python",
   "pygments_lexer": "ipython3",
   "version": "3.6.5"
  }
 },
 "nbformat": 4,
 "nbformat_minor": 2
}
