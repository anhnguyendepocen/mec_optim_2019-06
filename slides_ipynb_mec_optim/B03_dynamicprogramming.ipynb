{
 "cells": [
  {
   "cell_type": "markdown",
   "metadata": {},
   "source": [
    "# <center>Block 3: Linear programming: Dyanmic programming</center>\n",
    "### <center>Alfred Galichon (NYU)</center>\n",
    "## <center>`math+econ+code' masterclass on matching models, optimal transport and applications</center>\n",
    "<center>© 2018-2019 by Alfred Galichon. Support from NSF grant DMS-1716489 is acknowledged. James Nesbit contributed.</center>"
   ]
  },
  {
   "cell_type": "markdown",
   "metadata": {},
   "source": [
    "### Learning Objectives\n",
    "\n",
    "* Basics of (finite-horizon, discrete) dynamic programming: Bellman's equation; forward induction, backward induction\n",
    "\n",
    "* Markov decision processes\n",
    "\n",
    "* Dynamic programming as linear programming: interpretation of duality\n",
    "\n",
    "* Vectorization, Kronecker products, multidimensional arrays"
   ]
  },
  {
   "cell_type": "markdown",
   "metadata": {},
   "source": [
    "### References\n",
    "\n",
    "* Ford Jr, L. R., \\& Fulkerson, D. R. (1958). Constructing maximal dynamic flows from static flows. *Operations research*, 6(3), 419-433.\n",
    "\n",
    "* Schrijver, A. (2003). *Combinatorial optimization: polyhedra and efficiency* Vol. A. Springer. Section 12.5.c.\n",
    "\n",
    "* Bertsekas, D. (2011), *Dynamic Programming and Optimal Control*, Vols. I and II. 3rd ed. Athena.\n",
    "\n",
    "* Ljungqvist, Sargent (2012), *Recursive Macroeconomic Theory* 3rd ed. MIT.\n",
    "\n",
    "* Rust (1987), Optimal replacement of GMC bus engines: an empirical model of Harold Zurcher. *Econometrica*."
   ]
  },
  {
   "cell_type": "markdown",
   "metadata": {},
   "source": [
    "## Movitation"
   ]
  },
  {
   "cell_type": "markdown",
   "metadata": {},
   "source": [
    "John Rust describes the problem of Harold Zurcher, an engineer who runs a bus fleet as follows:\n",
    "\n",
    "* each month, buses operate a stochastic number of miles\n",
    "\n",
    "* operations costs increase with mileage (maintenance, fuel, insurance and costs of unexpected breakdowns)\n",
    "\n",
    "* there is a fixed cost associated with overhaul (independent on mileage)\n",
    "\n",
    "* each month, Zurcher needs to decide to send the bus to overhaul, which resets their mileage to zero, or to let them operate.\n",
    "\n",
    "This problem is a *dynamic programming problem*. When taking the decision whether to perform the overhaul or not, Zurcher needs to compare the operation cost not only with the cost of overhaul, but also take into account the reduction in operation costs in the future periods.\n",
    "\n",
    "While in this instance of the problem there is no externality across buses, so the buses could decide in isolation whether to go on maintenance or not, it is not hard to envision a variant of this problem where there are externalities. For instance, one may assume that there is a maximum number of buses that can go on overhaul at the same time.\n",
    "\n",
    "We shall derive the optimal policy for Harold Zurcher, (somewhat freely) based on Rust's data."
   ]
  },
  {
   "cell_type": "markdown",
   "metadata": {},
   "source": [
    "## Linear Dynamic Programming"
   ]
  },
  {
   "cell_type": "markdown",
   "metadata": {},
   "source": [
    "### Dynamic programming as linear programming\n",
    "\n",
    "Consider a finite set of individual states $x\\in\\mathcal{X}$; and a set of possible actions $y\\in\\mathcal{Y}$; assume that at initial time, $n_{x}$ individuals in state $x$. The total number of individuals is $N=\\sum_{x\\in\\mathcal{X}}n_{x}$. (Note that $n_{x}$ is not necessarily an integer, so it would be more correct to talk about \"mass\" than \"number\".\n",
    "\n",
    "The immediate payoff associated with choice $y\\in\\mathcal{Y}$ at time $t\\in\\mathcal{T}=\\left\\{  1,...,T\\right\\}  $ in state $x\\in\\mathcal{X}$ is $u_{xy}^{t}$, discounted at time zero (typically: $u_{xy}^{t}=\\beta^{t}u_{xy}$ where $\\beta$ is a constant discount factor).\n",
    "\n",
    "The individual states undergo a Markov transition. The transition depends on the $y$ chosen; hence, let $P_{x^{\\prime}|xy}$ be the probability of a transition to state $x^{\\prime}$ conditional on the current state being $X_{t}=x$ and the current choice being $Y_{t}=y$. For $U\\in\\mathbb{R}^{\\mathcal{X}}$, $\\left(  P^{\\intercal}U\\right)  _{xy}=\\sum_{x^{\\prime}}P_{x^{\\prime}|xy}U_{x^{\\prime}}$ denotes the expectation of $U_{X_{t+1}}$ given $X_{t}=x$ and $Y_{t}=y$.\n",
    "\n",
    "Let $\\pi_{xy}^{t}$ be the number of individuals who are in state $x$ and choose $y$ (\"policy variable\").\n",
    "\n",
    "Define $n_{x}^{t}$ be the number of individuals in state $x$ at time $t$. We have the counting equation\n",
    "\n",
    "\\begin{align*}\n",
    "\\sum_{y\\in\\mathcal{Y}}\\pi_{xy}^{t}=n_{x}^{t}.\n",
    "\\end{align*}\n",
    "\n",
    "We have $n_{x}^{1}=n_{x}$ and because of the Markov transitions, \n",
    "\n",
    "\\begin{align*}\n",
    "\\sum_{x\\in\\mathcal{X},~y\\in\\mathcal{Y}}P_{x^{\\prime}|xy}\\pi_{xy}^{t-1}=n_{x^{\\prime}}^{t}~1\\leq t\\leq T,\n",
    "\\end{align*}\n",
    "\n",
    "which express that among the individual in state $x$ who choose $y$ at time $t-1$, a fraction $P_{x^{\\prime}|xy}$ transit to state $x^{\\prime}$ at time $t$."
   ]
  },
  {
   "cell_type": "markdown",
   "metadata": {},
   "source": [
    "### Primal problem: Central planner's problem\n",
    "\n",
    "The central planner's problem is:\n",
    "\n",
    "\\begin{align*}\n",
    "\\max_{\\pi_{xy}^{t}\\geq0}  &  \\sum_{x\\in\\mathcal{X},~y\\in\\mathcal{Y},~t\\in\\mathcal{T}}\\pi_{xy}^{t}u_{xy}^{t} \\\\\n",
    "s.t.  &  \\sum_{y^{\\prime}\\in\\mathcal{Y}}\\pi_{x^{\\prime}y^{\\prime}}^{t}=\\sum_{x\\in\\mathcal{X},~y\\in\\mathcal{Y}}P_{x^{\\prime}|xy}\\pi_{xy}^{t-1}~\\forall t\\in\\mathcal{T}\\backslash\\left\\{  1\\right\\}  ~\\left[\n",
    "U_{x^{\\prime}}^{t}\\right] \\\\\n",
    "&  \\sum_{y^{\\prime}\\in\\mathcal{Y}}\\pi_{xy^{\\prime}}^{1}=n_{x}~\\left[U_{x}^{1}\\right]\n",
    "\\end{align*}"
   ]
  },
  {
   "cell_type": "markdown",
   "metadata": {},
   "source": [
    "### Dual problem\n",
    "\n",
    "We have introduced $U_{x}^{t}$ the Lagrange multiplier associated with the constraints at time $t$. It will be convenient to also introduce $U_{x}%\n",
    "^{T+1}=0$. The dual problem is\n",
    "\n",
    "\\begin{align*}\n",
    "\\min_{U_{x}^{t},~t\\in\\mathcal{T},~x\\in\\mathcal{X}}  &  \\sum_{x\\in\\mathcal{X}}n_{x}U_{x}^{1} \\\\\n",
    "s.t.~  &  U_{x}^{t}\\geq u_{xy}^{t}+\\sum_{x^{\\prime}}U_{x^{\\prime}}^{t+1}P_{x^{\\prime}|xy}~\\forall x\\in\\mathcal{X},~y\\in\\mathcal{Y},~t\\in\\mathcal{T}\\backslash\\left\\{  T\\right\\} \\\\\n",
    "&  U_{x}^{T}\\geq u_{xy}^{T}~\\forall x\\in\\mathcal{X},y\\in\\mathcal{Y}\n",
    "\\end{align*}"
   ]
  },
  {
   "cell_type": "markdown",
   "metadata": {},
   "source": [
    "### Complementary slackness and Bellman's equation\n",
    "By complementary slackness, we have\n",
    "\n",
    "\\begin{align*}\n",
    "\\pi_{xy}^{t}>0\\Longrightarrow U_{x}^{t}=u_{xy}^{t}+\\sum_{x^{\\prime}}U_{x^{\\prime}}^{t+1}P_{x^{\\prime}|xy}\n",
    "\\end{align*}\n",
    "\n",
    "whose interpretation is immediate: if $y$ is the optimal choice in state $x$ at time $t$, then the intertemporal payoff of $x$ at $t$ is the sum of her myopic payoff $u_{xy}^{t}$ and her expected payoff at the next step.\n",
    "\n",
    "As a result, the dual variable is called *intertemporal payoff* in the vocable of dynamic programming. The relation yields *Bellman's equation*\n",
    "\n",
    "<a name=\"bellman\"></a>\n",
    "\\begin{align*}\n",
    "U_{x}^{t}=\\max_{y\\in\\mathcal{Y}}\\left\\{  u_{xy}^{t}+\\sum_{x^{\\prime}}U_{x^{\\prime}}^{t+1}P_{x^{\\prime}|xy}\\right\\}.\n",
    "\\end{align*}"
   ]
  },
  {
   "cell_type": "markdown",
   "metadata": {},
   "source": [
    "## Dynamic programming as a linear program\n",
    "\n",
    "We will need to represent matrices (such as $U_{x}^{t}$) and 3-dimensional arrays (such as $u_{xy}^{t}$). Consistent with the use in `R`, we will represent a matrix $M_{ij}$ by varying the first index first, i.e. a $2\\times2$ matrix will be represented as $vec\\left(M\\right) = M_{11}, M_{21}, M_{12}, M_{22}$. Likewise, a $2\\times2\\times2$ 3-dimensional array $A$ will be represented by varying the first index first, then the second, i.e.\n",
    "\n",
    "$vec\\left(A\\right) = A_{111}, A_{211}, A_{121}, A_{221}, A_{112}, A_{212}, A_{122}, A_{222}$.\n",
    "\n",
    "In `R`, this is implemented by `c(A)` in `Matlab`, by `reshape(A,[n*m,1])`."
   ]
  },
  {
   "cell_type": "markdown",
   "metadata": {},
   "source": [
    "### Kronecker product\n",
    "\n",
    "A very important identity is\n",
    "\n",
    "\\begin{align*}\n",
    "vec\\left(BXA^{\\intercal}\\right) = \\left(  A\\otimes B\\right)  vec\\left(X\\right),\n",
    "\\end{align*}\n",
    "\n",
    "where $\\otimes$ is the Kronecker product: for 2x2 matrices,\n",
    "\n",
    "\\begin{align*}\n",
    "A\\otimes B=\n",
    "\\begin{pmatrix}\n",
    "a_{11}B & a_{12}B\\\\\n",
    "a_{21}B & a_{22}B\n",
    "\\end{pmatrix}.\n",
    "\\end{align*}\n",
    "\n",
    "Recall, indices $xy\\in\\mathbb{R}^{\\left\\vert \\mathcal{X}\\right\\vert \\left\\vert \\mathcal{Y}\\right\\vert}$ are represented by varying the first index first.\n",
    "\n",
    "Let:\n",
    "\n",
    "* $P$ be the ($\\left\\vert \\mathcal{X}\\right\\vert \\left\\vert \\mathcal{Y}\\right\\vert $)$\\times\\left\\vert \\mathcal{X}\\right\\vert $ matrix of term $P_{x^{\\prime}|xy}$.\n",
    "\n",
    "* $J$ be the ($\\left\\vert \\mathcal{X}\\right\\vert \\left\\vert \\mathcal{Y}\\right\\vert $)$\\times\\left\\vert \\mathcal{X}\\right\\vert $ matrix of term $1\\left\\{  x=x^{\\prime}\\right\\}  $. One has\n",
    "\n",
    "\\begin{align*}\n",
    "J=1_{\\mathcal{Y}}\\otimes I_{\\mathcal{X}}.\n",
    "\\end{align*}\n",
    "\n",
    "\n",
    "* $U$ be the column vector of size $\\left\\vert \\mathcal{X}\\right\\vert \\left\\vert T\\right\\vert $ obtained by stacking the vectors $U^{1}$,...,$U^{T}$.\n",
    "\n",
    "* $b$ be the column vector of size $\\left\\vert \\mathcal{X}\\right\\vert \\left\\vert T\\right\\vert $ whose $\\left\\vert \\mathcal{X}\\right\\vert $ first terms are the terms of $n$, and whose other terms are zero.\n",
    "\n",
    "* $u$ be the column vector of size $\\left\\vert \\mathcal{X}\\right\\vert \\left\\vert \\mathcal{Y}\\right\\vert \\left\\vert T\\right\\vert $ obtained by stacking the vectors $u^{1}$,..., $u^{T}$.\n",
    "\n",
    "* $\\pi$ be the vector obtained by stacking the vectors $\\pi^{1}$,...,$\\pi^{T}$.\n",
    "\n"
   ]
  },
  {
   "cell_type": "markdown",
   "metadata": {},
   "source": [
    "$A$ is the $\\left\\vert T\\right\\vert \\left\\vert \\mathcal{X}\\right\\vert \\left\\vert \\mathcal{Y}\\right\\vert \\times\\left\\vert T\\right\\vert \\left\\vert\n",
    "\\mathcal{X}\\right\\vert $ matrix\n",
    "\n",
    "\\begin{align*}\n",
    "A=\n",
    "\\begin{pmatrix}\n",
    "J & -P & 0 & \\cdots & 0\\\\\n",
    "0 & J & \\ddots & \\ddots & \\vdots\\\\\n",
    "\\vdots & \\ddots & \\ddots & -P & 0\\\\\n",
    "\\vdots &  & \\ddots & J & -P\\\\\n",
    "0 & \\cdots & \\cdots & 0 & J\n",
    "\\end{pmatrix}\n",
    "\\end{align*}\n",
    "\n",
    "Letting $N_{\\mathcal{T}}$ be the $T\\times T$ matrix given by\n",
    "\n",
    "\\begin{align*}\n",
    "N_{\\mathcal{T}}=\n",
    "\\begin{pmatrix}\n",
    "0 & 1 & 0 & \\cdots & 0\\\\\n",
    "\\vdots & \\ddots & \\ddots &  & \\vdots\\\\\n",
    "&  & \\ddots & \\ddots & 0\\\\\n",
    "\\vdots &  &  & \\ddots & 1\\\\\n",
    "0 & \\cdots &  & \\cdots & 0\n",
    "\\end{pmatrix}\n",
    "\\end{align*}\n",
    "\n",
    "the constraint matrix can be reexpressed as\n",
    "\n",
    "\\begin{align*}\n",
    "A=I_{\\mathcal{T}}\\otimes J-N_{\\mathcal{T}}\\otimes P=I_{\\mathcal{T}}\\otimes1_{\\mathcal{Y}}\\otimes I_{\\mathcal{X}}-N_{\\mathcal{T}}\\otimes P.\n",
    "\\end{align*}\n",
    "\n",
    "Although we'll see much faster direct methods, the primal and dual problems could be solved by a black-box linear programming solver.\n",
    "\n",
    "Then the primal problem expresses as\n",
    "\n",
    "\\begin{align*}\n",
    "\\max_{\\pi\\geq0}  &  \\, u^{\\intercal}\\pi\\\\\n",
    "s.t.~  &  A^{\\intercal}\\pi=b~\\left[U\\right]\n",
    "\\end{align*}\n",
    "\n",
    "while the dual problem is given by\n",
    "\n",
    "\\begin{align*}\n",
    "\\min_{U}  & \\, b^{\\intercal}U\\\\\n",
    "s.t.~  &  AU\\geq u~\\left[\\pi\\right]  .\n",
    "\\end{align*}\n",
    "\n",
    "But there is in fact a much faster way to compute the primal and dual solutions without having to use the full power of a linear programming solver. Along with the fact that $U^{T+1}=0$, [Bellman's equation](#bellman) implies that there is a particularly simple method to obtain the dual variables $U^{t}$, by solving recursively backward in time, from $t=T$ to $t=1$. This method is called *backward induction*:\n",
    "\n",
    "---\n",
    "**Algorithm**\n",
    "Set $U^{T+1}=0$\n",
    "\n",
    "For $t=T$ down to $1$, set $U_{x}^{t}:=\\max_{y\\in\\mathcal{Y}}\\left\\{u_{xy}^{t}+\\sum_{x^{\\prime}}U_{x^{\\prime}}^{t+1}P_{x^{\\prime}|xy}\\right\\}$.\n",
    "\n",
    "---\n",
    "\n",
    "The primal variables $\\pi^{t}$ are then deduced also by recursion, but this time forward in time from $t=1$ to $t=T-1$, by the so-called *forward induction* method:\n",
    "\n",
    "---\n",
    "**Algorithm**\n",
    "1. Set $n^{1}=n$ and compute $\\left(  U^{t}\\right)$ by backward induction.\n",
    "\n",
    "2. For {$t=1$ to }$T$, pick $\\pi^{t}$ such that $\\pi_{xy}^{t}/n_{x}^{t}$ is a probability measure supported in the set\n",
    "\n",
    "\\begin{align*}\n",
    "\\left\\{  y:U_{x}^{t}=u_{xy}^{t}+\\sum_{x^{\\prime}}U_{x^{\\prime}}^{t+1}P_{x^{\\prime}|xy}\\right\\}  .\n",
    "\\end{align*}\n",
    "\n",
    "\n",
    "3. Set $n_{x^{\\prime}}^{t+1}:=\\sum_{x\\in\\mathcal{X},~y\\in\\mathcal{Y}}P_{x^{\\prime}|xy}\\pi_{xy}^{t-1}$\n",
    "\n",
    "End\n",
    "\n",
    "---\n",
    "\n",
    "### Remarks \n",
    "\n",
    "1. The dual variable is $U$ always unique (this follows from the backward induction computation); the primal variable is not, as there may be ties between several states.\n",
    "\n",
    "2. The computation by the combination of the backward and forward algorithms is much faster than the computation by a black-box linear programming solver.\n",
    "\n",
    "3. However, as soon as we introduce capacity constraints, the computation by backward induction no longer works, and the linear programming formulation is useful."
   ]
  },
  {
   "cell_type": "markdown",
   "metadata": {},
   "source": [
    "# Back to Harold Zurcker\n",
    "\n",
    "The state $x\\in\\mathcal{X}=\\left\\{x_{0},...,\\bar{x}\\right\\}$ of each bus at each period $t$ is the mileage since last overhaul. The transition between states is as follows:\n",
    "* When no overhaul is performed, these states undergo random transitions (depending on how much the bus is used): $x_{i}\\rightarrow x_{i^{\\prime}}$ with some probability $P_{i^{\\prime}|i}$, where $i^{\\prime}\\geq i$.\n",
    "\n",
    "* When overhaul is performed on a bus, the state is restored to the zero state $x_{0}$.\n",
    "\n",
    "There is a fixed cost $C$ associated with overhaul (independent of mileage), while operations costs $c\\left(  x\\right)$ increase with mileage (maintenance, fuel, insurance and costs of nexpected breakdowns)."
   ]
  },
  {
   "cell_type": "markdown",
   "metadata": {},
   "source": [
    "### Implementation\n",
    "\n",
    "Assume the states are discretized into $12,500$ mile brackets. \n",
    "\n",
    "There are $30$ states, so $\\mathcal{X}=\\left\\{  1,...,30\\right\\}$: `nbX = 30`.\n",
    "\n",
    "The choice set is $\\mathcal{Y}=\\left\\{  y_{0}=1,y_{1}=2\\right\\}$ (operate or overhaul): `nbY = 2`.\n",
    "\n",
    "There are $40$ periods (quarter years over $10$ years): `nbT = 40`."
   ]
  },
  {
   "cell_type": "code",
   "execution_count": 105,
   "metadata": {},
   "outputs": [],
   "source": [
    "library(\"Matrix\")\n",
    "library(\"gurobi\")\n",
    "nbX = 3  #30\n",
    "nbT = 2  #40\n",
    "nbY = 2  # choice set: 1=run as usual; 2=overhaul"
   ]
  },
  {
   "cell_type": "markdown",
   "metadata": {},
   "source": [
    "#### Transitions:\n",
    "* If no overhaul is performed, each state but the last one has a probability $25\\%$ of transiting to the next one, and probability $75\\%$ of remaining the same. The last state transits to $1$ with probability $25\\%$ (overhaul is performed when beyond last state).\n",
    "\n",
    "* If overhaul is performed, the state transits to $1$ for sure."
   ]
  },
  {
   "cell_type": "markdown",
   "metadata": {},
   "source": [
    "We are going to solve the dual problem \n",
    "\\begin{align*}\n",
    "\\min_{U}  & \\, b^{\\intercal}U\\\\\n",
    "s.t.~  &  AU\\geq u~\\left[  \\pi\\right] \n",
    "\\end{align*}"
   ]
  },
  {
   "cell_type": "markdown",
   "metadata": {},
   "source": [
    "First let's construct our constraint matrix $A$. We build the transition matrix $P_{x^{\\prime}|xy}$ matrix of dimension `nbXnbY`$\\times$ `nbX`"
   ]
  },
  {
   "cell_type": "markdown",
   "metadata": {},
   "source": [
    "Let\n",
    "\\begin{align*}\n",
    "L_{\\mathcal{X}}=%\n",
    "\\begin{pmatrix}\n",
    "0 & 1 & 0 & 0\\\\\n",
    "0 & \\ddots & \\ddots & 0\\\\\n",
    "0 & \\ddots & \\ddots & 1\\\\\n",
    "1 & 0 & 0 & 0\n",
    "\\end{pmatrix}\n",
    "\\text{ and }R_{\\mathcal{X}}=%\n",
    "\\begin{pmatrix}\n",
    "1 & 0 & \\cdots & 0\\\\\n",
    "1 & \\vdots & \\ddots  & \\vdots\\\\\n",
    "1 & \\vdots &  \\ddots & \\vdots\\\\\n",
    "1 & 0 & \\cdots & 0\n",
    "\\end{pmatrix}\n",
    "\\end{align*}\n",
    "so that $P$ is given by\n",
    "\\begin{align*}\n",
    "P=1_{y_{0}}\\otimes\\left(  0.75I_{\\mathcal{X}}+0.25L_{\\mathcal{X}}\\right)\n",
    "+1_{y_{1}}\\otimes R_{\\mathcal{X}}%\n",
    "\\end{align*}"
   ]
  },
  {
   "cell_type": "markdown",
   "metadata": {},
   "source": [
    "Which in R looks like"
   ]
  },
  {
   "cell_type": "code",
   "execution_count": 106,
   "metadata": {},
   "outputs": [],
   "source": [
    "IdX = Diagonal(nbX)\n",
    "LX = sparseMatrix(c(nbX, 1:(nbX - 1)), 1:nbX)\n",
    "RX = sparseMatrix(1:nbX, rep(1, nbX), dims = c(nbX, nbX))\n",
    "P = kronecker(c(1, 0), 0.75 * IdX + 0.25 * LX) + kronecker(c(0, 1), RX)"
   ]
  },
  {
   "cell_type": "markdown",
   "metadata": {},
   "source": [
    "* Let's make sure that we encoded rightly matrix of Markov transitions $P$:"
   ]
  },
  {
   "cell_type": "code",
   "execution_count": 107,
   "metadata": {},
   "outputs": [
    {
     "data": {
      "text/plain": [
       "6 x 3 sparse Matrix of class \"dgTMatrix\"\n",
       "        x1   x2   x3\n",
       "x1,y1 0.75 0.25 .   \n",
       "x2,y1 .    0.75 0.25\n",
       "x3,y1 0.25 .    0.75\n",
       "x1,y2 1.00 .    .   \n",
       "x2,y2 1.00 .    .   \n",
       "x3,y2 1.00 .    .   "
      ]
     },
     "metadata": {},
     "output_type": "display_data"
    }
   ],
   "source": [
    "colnames(P) = paste0(\"x\",1:nbX)\n",
    "rownames(P) = outer(paste0(\"x\",1:nbX,\",\"),paste0(\"y\",1:nbY),FUN=paste0)\n",
    "P"
   ]
  },
  {
   "cell_type": "markdown",
   "metadata": {},
   "source": [
    "* Looks about right!"
   ]
  },
  {
   "cell_type": "markdown",
   "metadata": {},
   "source": [
    "Recall the constraint matrix $A$ can be expressed as\n",
    "\\begin{align*}\n",
    "A &= I_{\\mathcal{T}}\\otimes J-N_{\\mathcal{T}}\\otimes P \\\\\n",
    "  &= I_{\\mathcal{T}} \\otimes1_{\\mathcal{Y}}\\otimes I_{\\mathcal{X}}-N_{\\mathcal{T}}\\otimes P.\n",
    "\\end{align*}\n",
    "where\n",
    "\\begin{align*}\n",
    "N_{\\mathcal{T}}=\n",
    "\\begin{pmatrix}\n",
    "0 & 1 & 0 & \\cdots & 0\\\\\n",
    "\\vdots & \\ddots & \\ddots &  & \\vdots\\\\\n",
    "&  & \\ddots & \\ddots & 0\\\\\n",
    "\\vdots &  &  & \\ddots & 1\\\\\n",
    "0 & \\cdots &  & \\cdots & 0\n",
    "\\end{pmatrix}\n",
    "\\end{align*}"
   ]
  },
  {
   "cell_type": "code",
   "execution_count": 108,
   "metadata": {},
   "outputs": [],
   "source": [
    "IdT = Diagonal(nbT)\n",
    "NT = sparseMatrix(1:(nbT - 1), 2:nbT, dims = c(nbT, nbT))\n",
    "A = kronecker(kronecker(IdT, matrix(1, nbY, 1)), IdX) - kronecker(NT, P)"
   ]
  },
  {
   "cell_type": "markdown",
   "metadata": {},
   "source": [
    "* Time to take a look at matrix A"
   ]
  },
  {
   "cell_type": "code",
   "execution_count": 109,
   "metadata": {},
   "outputs": [
    {
     "data": {
      "text/plain": [
       "12 x 6 sparse Matrix of class \"dgCMatrix\"\n",
       "         t1,x1 t2,x1 t1,x2 t2,x2 t1,x3 t2,x3\n",
       "t1,x1,y1     1     .     . -0.75 -0.25  .   \n",
       "t2,x1,y1     .     1     .  .    -0.75 -0.25\n",
       "t1,x2,y1     .     .     1 -0.25  .    -0.75\n",
       "t2,x2,y1     1     .     . -1.00  .     .   \n",
       "t1,x3,y1     .     1     . -1.00  .     .   \n",
       "t2,x3,y1     .     .     1 -1.00  .     .   \n",
       "t1,x1,y2     .     .     .  1.00  .     .   \n",
       "t2,x1,y2     .     .     .  .     1.00  .   \n",
       "t1,x2,y2     .     .     .  .     .     1.00\n",
       "t2,x2,y2     .     .     .  1.00  .     .   \n",
       "t1,x3,y2     .     .     .  .     1.00  .   \n",
       "t2,x3,y2     .     .     .  .     .     1.00"
      ]
     },
     "metadata": {},
     "output_type": "display_data"
    }
   ],
   "source": [
    "rownames(A) = c(outer(paste0(\"t\",1:nbT,\",\"),rownames(P),FUN=paste0))\n",
    "colnames(A) = c(outer(paste0(\"t\",1:nbT,\",\"),colnames(P),FUN=paste0))\n",
    "A"
   ]
  },
  {
   "cell_type": "markdown",
   "metadata": {},
   "source": [
    "#### Costs:\n",
    "* The cost of replacing an engine is $C=\\$8,000$ (in $1985$ dollars).\n",
    "\n",
    "* The operations cost is $c\\left(  x\\right)  =x\\times5.10^{2}.$"
   ]
  },
  {
   "cell_type": "markdown",
   "metadata": {},
   "source": [
    "The discount factor is $\\beta=0.9$."
   ]
  },
  {
   "cell_type": "code",
   "execution_count": 110,
   "metadata": {},
   "outputs": [],
   "source": [
    "overhaulCost = 8000\n",
    "maintCost = function(x) (x * 500)\n",
    "beta = 0.9"
   ]
  },
  {
   "cell_type": "markdown",
   "metadata": {},
   "source": [
    "Next, we build $u_{xyt}$ \n",
    "* First the $u_{xy}$'s so that $u_{x1}=-x\\times5.10^{2}$ for $x<\\bar{x}$, and $u_{\\bar{x}1}=-C$, while $u_{x2}=-C$ for all $x$.\n",
    "\n",
    "* Next the $u_{xyt}$ so that $u_{xyt}=u_{xy}\\beta^{t}=vec\\left(\\left(\\beta^{1},...,\\beta^{T}\\right)  \\otimes u_{xy}\\right)$\n",
    "\n",
    "Finially we build $b_{xt}$"
   ]
  },
  {
   "cell_type": "code",
   "execution_count": 111,
   "metadata": {},
   "outputs": [
    {
     "name": "stdout",
     "output_type": "stream",
     "text": [
      "[1]  -956.25 -3127.50 -7605.00\n"
     ]
    }
   ],
   "source": [
    "n1_x = rep(1, nbX)\n",
    "u_xy = c(-maintCost(1:(nbX - 1)), rep(-overhaulCost, nbX + 1))\n",
    "u_xyt = c(kronecker(beta^(1:nbT), u_xy))\n",
    "\n",
    "b_xt = c(n1_x, rep(0, nbX * (nbT - 1)))\n",
    "\n",
    "result = gurobi(list(A = A, obj = c(b_xt), modelsense = \"min\", rhs = u_xyt, sense = \">\", \n",
    "    lb = -Inf), params = list(OutputFlag = 0))\n",
    "\n",
    "U_x_t_gurobi = array(result$x, dim = c(nbX, nbT))\n",
    "pi_x_y_t = array(result$pi, dim = c(nbX, nbY, nbT))\n",
    "\n",
    "print(U_x_t_gurobi[, 1])"
   ]
  },
  {
   "cell_type": "markdown",
   "metadata": {},
   "source": [
    "## Backward induction"
   ]
  },
  {
   "cell_type": "markdown",
   "metadata": {},
   "source": [
    "The smarter way to approach this problem is of course using backwards induction"
   ]
  },
  {
   "cell_type": "code",
   "execution_count": 112,
   "metadata": {},
   "outputs": [],
   "source": [
    "U_x_t = matrix(0, nbX, nbT)\n",
    "contVals = apply(X = array(u_xyt, dim = c(nbX, nbY, nbT))[, , nbT], FUN = max, MARGIN = 1)\n",
    "U_x_t[, nbT] = contVals\n",
    "\n",
    "for (t in (nbT - 1):1) {\n",
    "    myopic = array(u_xyt, dim = c(nbX, nbY, nbT))[, , t]\n",
    "    Econtvals = matrix(P %*% contVals, nrow = nbX)\n",
    "    \n",
    "    contVals = apply(X = myopic + Econtvals, FUN = max, MARGIN = 1)\n",
    "    U_x_t[, t] = contVals\n",
    "}"
   ]
  },
  {
   "cell_type": "markdown",
   "metadata": {},
   "source": [
    "Which give identical solutions to the ones obtained when using linear programming:"
   ]
  },
  {
   "cell_type": "code",
   "execution_count": 113,
   "metadata": {},
   "outputs": [
    {
     "name": "stdout",
     "output_type": "stream",
     "text": [
      "[1] 0 0 0\n"
     ]
    }
   ],
   "source": [
    "print(U_x_t_gurobi[, 1] - U_x_t[, 1])"
   ]
  },
  {
   "cell_type": "markdown",
   "metadata": {},
   "source": [
    "\n",
    "## Capacity constraints\n",
    "Now assume that the total number of alternatives $y$ chosen at time $t$ cannot be more than $m_{y}^{t}$ (either because the workshop has a maximal capacity, or because operations require a minimum number of buses in service).\n",
    "\n",
    "The primal problem becomes\n",
    "\n",
    "\\begin{align*}\n",
    "\\max_{\\pi_{xy}^{t}\\geq0}  &  \\sum_{x\\in\\mathcal{X},~y\\in\\mathcal{Y}%\n",
    ",~t\\in\\mathcal{T}}\\pi_{xy}^{t}u_{xy}^{t}\\\\\n",
    "s.t.  &  \\sum_{y^{\\prime}\\in\\mathcal{Y}}\\pi_{x^{\\prime}y^{\\prime}}^{t}%\n",
    "=\\sum_{x\\in\\mathcal{X},~y\\in\\mathcal{Y}}P_{x^{\\prime}|xy}\\pi_{xy}%\n",
    "^{t-1}~\\left[  U_{x^{\\prime}}^{t}\\right] \\nonumber\\\\\n",
    "&  \\sum_{y^{\\prime}\\in\\mathcal{Y}}\\pi_{xy^{\\prime}}^{1}=n_{x}~\\left[\n",
    "U_{x}^{1}\\right] \\nonumber\\\\\n",
    "&  \\sum_{x\\in\\mathcal{X}}\\pi_{xy}^{t}\\leq m_{y}^{t}~[\\lambda_{y}^{t}]\\nonumber\n",
    "\\end{align*}\n",
    "\n",
    "Let us describe this problem in matrix form. Let $\\tilde{\\pi}^{t}$ be the matrix of term $\\pi_{xy}^{t}$ for fixed $t$. The last constraint rewrites $1_{\\mathcal{X}}^{\\intercal}\\tilde{\\pi}^{t}\\leq\\left(  m^{t}\\right) ^{\\intercal}$. Vectorizing yields $vec\\left(  1_{\\mathcal{X}}^{\\intercal}\\tilde{\\pi}^{t}I_{\\mathcal{Y}}\\right)  \\leq vec\\left(  m^{t}\\right)  $, thus\n",
    "\n",
    "\\begin{align*}\n",
    "\\left(  I_{\\mathcal{Y}}\\otimes1_{\\mathcal{X}}^{\\intercal}\\right)  vec\\left(\n",
    "\\tilde{\\pi}^{t}\\right)  \\leq vec\\left(  m^{t}\\right)  ,\n",
    "\\end{align*}\n",
    "\n",
    "hence the constraint rewrites $B^{\\intercal}\\pi\\leq m$, with\n",
    "\n",
    "\\begin{align*}\n",
    "B=\n",
    "\\begin{pmatrix}\n",
    "I_{\\mathcal{Y}}\\otimes1_{\\mathcal{X}} & 0 & \\cdots & 0\\\\\n",
    "0 & \\ddots & \\ddots & \\vdots\\\\\n",
    "\\vdots & \\ddots & \\ddots & 0\\\\\n",
    "0 & \\cdots & 0 & I_{\\mathcal{Y}}\\otimes1_{\\mathcal{X}}%\n",
    "\\end{pmatrix}\n",
    "=I_{\\mathcal{T}}\\otimes I_{\\mathcal{Y}}\\otimes1_{\\mathcal{X}}.\n",
    "\\end{align*}\n",
    "\n",
    "The primal problem then writes\n",
    "\n",
    "\\begin{align*}\n",
    "\\max_{\\pi\\geq0}  &  u^{\\intercal}\\pi\\\\\n",
    "s.t.~  &  A^{\\intercal}\\pi=b~\\left[  U\\right] \\\\\n",
    "&  B^{\\intercal}\\pi\\leq m~\\left[  \\Lambda\\right]\n",
    "\\end{align*}\n",
    "\n",
    "whose dual is\n",
    "\n",
    "\\begin{align*}\n",
    "\\min_{U,\\Lambda\\geq0}  &  b^{\\intercal}U+m^{\\intercal}\\Lambda\\\\\n",
    "s.t.~  &  AU+B\\Lambda\\geq u~\\left[  \\pi\\right]\n",
    "\\end{align*}\n",
    "\n",
    "The dual becomes\n",
    "\\begin{align*}\n",
    "\\min_{U_{x}^{t},\\lambda_{y}^{t}\\geq0}  &  \\sum_{x\\in\\mathcal{X}}n_{x}U_{x}%\n",
    "^{1}+\\sum_{x\\in\\mathcal{X}}\\sum_{t\\in\\mathcal{T}}m_{y}\\lambda_{y}^{t}\\\\\n",
    "s.t.~  &  U_{x}^{t}\\geq u_{xy}^{t}-\\lambda_{y}^{t}+\\sum_{x^{\\prime}%\n",
    "}U_{x^{\\prime}}^{t+1}P_{x^{\\prime}|xy}~\\forall x\\in\\mathcal{X},~y\\in\n",
    "\\mathcal{Y},~t\\in\\mathcal{T}\\backslash\\left\\{  T\\right\\} \\nonumber\\\\\n",
    "&  U_{x}^{T}\\geq u_{xy}^{T}~\\forall x\\in\\mathcal{X},y\\in\\mathcal{Y}\\nonumber\n",
    "\\end{align*}\n",
    "\n",
    "and $\\lambda_{y}^{t}$ interprets as the shadow price of alternative $y$ at\n",
    "time $t$.\n",
    "\n",
    "This constraint is extremely easy to code."
   ]
  },
  {
   "cell_type": "code",
   "execution_count": 114,
   "metadata": {},
   "outputs": [
    {
     "name": "stdout",
     "output_type": "stream",
     "text": [
      "[1]   -956.25  -3127.50 -12161.25\n"
     ]
    }
   ],
   "source": [
    "m_y_t = rep(c(sum(n1_x), 1), nbT)\n",
    "B = kronecker(kronecker(IdT, sparseMatrix(1:nbY, 1:nbY)), matrix(1, nbX, 1))\n",
    "\n",
    "result = gurobi(list(A = cbind(A, B), obj = c(b_xt, m_y_t), modelsense = \"min\", rhs = u_xyt, \n",
    "    sense = \">\", lb = c(rep(-Inf, nbX * nbT), rep(0, nbY * nbT))), params = list(OutputFlag = 0))\n",
    "\n",
    "U_x_t_gurobi = array(result$x, dim = c(nbX, nbT))\n",
    "\n",
    "print(U_x_t_gurobi[, 1])"
   ]
  },
  {
   "cell_type": "markdown",
   "metadata": {},
   "source": [
    "In this case, the linear programming solver is our only way to compute the solution. The backward induction algorithm does not work because of the capacity constraint."
   ]
  },
  {
   "cell_type": "markdown",
   "metadata": {},
   "source": [
    "## Infinite-horizon case\n",
    "\n",
    "* Assume $u_{xy}^{t}=\\beta^{t}u_{xy}$, and look for $U_{x}^{t}$ under the\n",
    "form $U_{x}^{t}=\\beta^{t}U_{x}$. A solution $\\left(  \\pi,U\\right)  $ to the\n",
    "stationary equilibrium is such that:\n",
    "\\begin{align*}\n",
    "\\left\\{\n",
    "\\begin{array}\n",
    "[c]{l}%\n",
    "U_{x}\\geq u_{xy}+\\beta\\sum_{x^{\\prime}}U_{x^{\\prime}}P_{x^{\\prime}|xy}\\\\\n",
    "\\sum_{y^{\\prime}\\in\\mathcal{Y}}\\pi_{x^{\\prime}y^{\\prime}}=\\sum_{x\\in\n",
    "\\mathcal{X},~y\\in\\mathcal{Y}}P_{x^{\\prime}|xy}\\pi_{xy}\\\\\n",
    "\\pi_{xy}^{t}>0\\Longrightarrow U_{x}=u_{xy}+\\beta\\sum_{x^{\\prime}}U_{x^{\\prime\n",
    "}}P_{x^{\\prime}|xy}%\n",
    "\\end{array}\n",
    "\\right.\n",
    "\\end{align*}\n",
    "\n",
    "* Under a vectorized form, this is\n",
    "\\begin{align*}\n",
    "\\left\\{\n",
    "\\begin{array}\n",
    "[c]{l}%\n",
    "\\pi\\geq0\\\\\n",
    "\\left(  1_{\\mathcal{Y}}\\otimes I_{\\mathcal{X}}-\\beta P\\right)  U\\geq u\\\\\n",
    "\\pi^{\\intercal}\\left(  1_{\\mathcal{Y}}\\otimes I_{\\mathcal{X}}-P\\right)  =0\\\\\n",
    "\\pi^{\\intercal}\\left(  1_{\\mathcal{Y}}\\otimes I_{\\mathcal{X}}-\\beta P\\right)\n",
    "U=\\pi^{\\intercal}u\n",
    "\\end{array}\n",
    "\\right.\n",
    "\\end{align*}\n",
    "\n",
    "* Note that unless $β=1$, these conditions are not the complementary slackness conditions associated with a linear programming problem. In fact, they are what is called a nonlinear complementarity problem (NCP).\n",
    "\n"
   ]
  },
  {
   "cell_type": "markdown",
   "metadata": {},
   "source": [
    "##    Stationary solution, unit discount rate\n",
    "\n",
    "* When $β=1$, one may interpret these at the complementary slackness conditions associated with a linear programming problem, namely\n",
    "\\begin{align*}\n",
    "\\max_{\\pi\\geq0}  &  \\pi^{\\intercal}u\\\\\n",
    "s.t.~  &  \\left(  1_{\\mathcal{Y}}\\otimes I_{\\mathcal{X}%\n",
    "}-P\\right)^{\\intercal} \\pi  =0\n",
    "\\end{align*}\n",
    "whose dual is\n",
    "\\begin{align*}\n",
    "\\min_{U}  &  0^{\\intercal}U\\\\\n",
    "s.t.~  &  \\left(  1_{\\mathcal{Y}}\\otimes I_{\\mathcal{X}}-P\\right)  U\\geq u\n",
    "\\end{align*}\n",
    "\n",
    "* This can be immediately coded in Gurobi as:"
   ]
  },
  {
   "cell_type": "code",
   "execution_count": 120,
   "metadata": {},
   "outputs": [
    {
     "name": "stdout",
     "output_type": "stream",
     "text": [
      "Optimize a model with 6 rows, 3 columns and 6 nonzeros\n",
      "Coefficient statistics:\n",
      "  Matrix range     [1e+00, 2e+00]\n",
      "  Objective range  [0e+00, 0e+00]\n",
      "  Bounds range     [0e+00, 0e+00]\n",
      "  RHS range        [5e+02, 8e+03]\n",
      "Presolve removed 6 rows and 3 columns\n",
      "Presolve time: 0.00s\n",
      "Presolve: All rows and columns removed\n",
      "Iteration    Objective       Primal Inf.    Dual Inf.      Time\n",
      "       0    0.0000000e+00   0.000000e+00   0.000000e+00      0s\n",
      "\n",
      "Solved in 0 iterations and 0.00 seconds\n",
      "Optimal objective  0.000000000e+00\n"
     ]
    }
   ],
   "source": [
    "stationaryResult = gurobi(list(A = kronecker(matrix(1:nbY,nbY,1),Diagonal(nbX)) , obj = rep(0,nbX), modelsense = \"min\", rhs = u_xy, sense = \">\", \n",
    "    lb = -Inf))\n",
    "U_snd  = stationaryResult$x - stationaryResult$x[1] \n",
    "pi_snd = stationaryResult$pi"
   ]
  },
  {
   "cell_type": "code",
   "execution_count": 123,
   "metadata": {},
   "outputs": [
    {
     "data": {
      "text/html": [
       "<ol class=list-inline>\n",
       "\t<li>-500</li>\n",
       "\t<li>-1000</li>\n",
       "\t<li>-8000</li>\n",
       "\t<li>-8000</li>\n",
       "\t<li>-8000</li>\n",
       "\t<li>-8000</li>\n",
       "</ol>\n"
      ],
      "text/latex": [
       "\\begin{enumerate*}\n",
       "\\item -500\n",
       "\\item -1000\n",
       "\\item -8000\n",
       "\\item -8000\n",
       "\\item -8000\n",
       "\\item -8000\n",
       "\\end{enumerate*}\n"
      ],
      "text/markdown": [
       "1. -500\n",
       "2. -1000\n",
       "3. -8000\n",
       "4. -8000\n",
       "5. -8000\n",
       "6. -8000\n",
       "\n",
       "\n"
      ],
      "text/plain": [
       "[1]  -500 -1000 -8000 -8000 -8000 -8000"
      ]
     },
     "metadata": {},
     "output_type": "display_data"
    }
   ],
   "source": [
    "u_xy"
   ]
  }
 ],
 "metadata": {
  "kernelspec": {
   "display_name": "R",
   "language": "R",
   "name": "ir"
  },
  "language_info": {
   "codemirror_mode": "r",
   "file_extension": ".r",
   "mimetype": "text/x-r-source",
   "name": "R",
   "pygments_lexer": "r",
   "version": "3.5.1"
  }
 },
 "nbformat": 4,
 "nbformat_minor": 2
}
