{
 "cells": [
  {
   "cell_type": "markdown",
   "metadata": {},
   "source": [
    "# <center>Block 1: Linear programming</center>\n",
    "### <center>Alfred Galichon (NYU)</center>\n",
    "## <center>`math+econ+code' masterclass on matching models, optimal transport and applications</center>\n",
    "<center>© 2018-2019 by Alfred Galichon. Support from NSF grant DMS-1716489 is acknowledged. James Nesbit contributed.</center>"
   ]
  },
  {
   "cell_type": "markdown",
   "metadata": {},
   "source": [
    "## Linear programming: duality"
   ]
  },
  {
   "cell_type": "markdown",
   "metadata": {},
   "source": [
    "### Learning objectives\n",
    "\n",
    "* Linear programming duality\n",
    "\n",
    "* Economic interpretation of the dual\n",
    "\n",
    "* Numerical computation"
   ]
  },
  {
   "cell_type": "markdown",
   "metadata": {},
   "source": [
    "### References\n",
    "\n",
    "* [OTME], App. B\n",
    "\n",
    "* Stigler (1945), The cost of subsistence. *Journal of Farm Economics*.\n",
    "\n",
    "* Dantzig (1990), The diet problem. *Interface*.\n",
    "\n",
    "* Complements:\n",
    "\n",
    "    * Gale (1960), *The theory of linear economic models*.\n",
    "\n",
    "    * Vohra (2011), *Mechanism Design: A Linear Programming Approach*."
   ]
  },
  {
   "cell_type": "markdown",
   "metadata": {},
   "source": [
    "## Motivation"
   ]
  },
  {
   "cell_type": "markdown",
   "metadata": {},
   "source": [
    "### The diet problem\n",
    "\n",
    "During World War II, engineers in US Army were wondering how to feed their personnel at minimal cost, leading to what is now called the **optimal diet problem**.\n",
    "\n",
    "* Nutritionists have identified a number of vital nutrients (calories, protein, calcium, iron, etc.) that matter for a person's health, and have determined the minimum daily intake of each nutrient\n",
    "\n",
    "* For each basic food (pasta, butter, bread, etc), nutritionists have characterized the intake in each of the various nutrients\n",
    "\n",
    "* Each food has a unit cost, and the problem is to find the optimal diet = combination of foods that meet the minimal intake in each of the nutrients and achieves minimal cost\n",
    "\n",
    "The problem was taken on by G. Stigler, who published a paper about it in 1945, giving a first heuristic solution, exhibiting a diet that costs $\\$39.93$ per year in $1939$ dollars. Later (in $1947$) it was one of the first\n",
    "application of G.B. Dantzig's method (the simplex algorithm), which provided the exact solution ($\\$39.67$). It then took $120$ man-day to perform this operation. However today the computer will perform it for us in a\n",
    "fraction of second.\n",
    "\n",
    "However, don't try this diet at home! Dantzig did so and almost died from it..."
   ]
  },
  {
   "cell_type": "markdown",
   "metadata": {},
   "source": [
    "### A look at the Data\n",
    "\n",
    "Our dataset was directly taken from Stigler's article. It is a .csv file called `StiglerData1939.txt':"
   ]
  },
  {
   "cell_type": "code",
   "execution_count": 2,
   "metadata": {},
   "outputs": [
    {
     "data": {
      "text/html": [
       "<table>\n",
       "<caption>A matrix: 78 × 13 of type chr</caption>\n",
       "<thead>\n",
       "\t<tr><th scope=col>Commodity</th><th scope=col>Unit</th><th scope=col>Price.Aug.15.1939.cents.</th><th scope=col>Edible.Weight.per..1.00..grams.</th><th scope=col>Calories..1000.</th><th scope=col>Protein.grams.</th><th scope=col>Calcium.grams.</th><th scope=col>Iron.mg..</th><th scope=col>Vitamin.A.1000.I.U.</th><th scope=col>Thiamine.mg..</th><th scope=col>Riboflavin.mg..</th><th scope=col>Niacin.mg..</th><th scope=col>Asorbic.Acid..mg..</th></tr>\n",
       "</thead>\n",
       "<tbody>\n",
       "\t<tr><td>1. Wheat Flour (Enriched) </td><td>10 lb.  </td><td>36.0</td><td>12600</td><td>44.7</td><td>1411</td><td> 2.0</td><td>365</td><td>NA   </td><td>55.4</td><td>33.3</td><td>441</td><td>NA  </td></tr>\n",
       "\t<tr><td>2. Macaroni               </td><td>1 lb.   </td><td>14.1</td><td> 3217</td><td>11.6</td><td> 418</td><td> 0.7</td><td> 54</td><td>NA   </td><td> 3.2</td><td> 1.9</td><td> 68</td><td>NA  </td></tr>\n",
       "\t<tr><td>3. Wheat Cereal (Enriched)</td><td>28 oz.  </td><td>24.2</td><td> 3280</td><td>11.8</td><td> 377</td><td>14.4</td><td>175</td><td>NA   </td><td>14.4</td><td> 8.8</td><td>114</td><td>NA  </td></tr>\n",
       "\t<tr><td>4. Corn Flakes            </td><td>8 oz.   </td><td> 7.1</td><td> 3194</td><td>11.4</td><td> 252</td><td> 0.1</td><td> 56</td><td>NA   </td><td>13.5</td><td> 2.3</td><td> 68</td><td>NA  </td></tr>\n",
       "\t<tr><td>5. Corn Meal              </td><td>1 lb.   </td><td> 4.6</td><td> 9861</td><td>36.0</td><td> 897</td><td> 1.7</td><td> 99</td><td> 30.9</td><td>17.4</td><td> 7.9</td><td>106</td><td>NA  </td></tr>\n",
       "\t<tr><td>6. Hominy Grits           </td><td>24 oz.  </td><td> 8.5</td><td> 8005</td><td>28.6</td><td> 680</td><td> 0.8</td><td> 80</td><td>NA   </td><td>10.6</td><td> 1.6</td><td>110</td><td>NA  </td></tr>\n",
       "\t<tr><td>7. Rice                   </td><td>1 lb.   </td><td> 7.5</td><td> 6048</td><td>21.2</td><td> 460</td><td> 0.6</td><td> 41</td><td>NA   </td><td> 2.0</td><td> 4.8</td><td> 60</td><td>NA  </td></tr>\n",
       "\t<tr><td>8. Rolled Oats            </td><td>1 lb.   </td><td> 7.1</td><td> 6389</td><td>25.3</td><td> 907</td><td> 5.1</td><td>341</td><td>NA   </td><td>37.1</td><td> 8.9</td><td> 64</td><td>NA  </td></tr>\n",
       "\t<tr><td>9. White Bread (Enriched) </td><td>1 lb.   </td><td> 7.9</td><td> 5742</td><td>15.0</td><td> 488</td><td> 2.5</td><td>115</td><td>NA   </td><td>13.8</td><td> 8.5</td><td>126</td><td>NA  </td></tr>\n",
       "\t<tr><td>10. Whole Wheat Bread     </td><td>1 lb.   </td><td> 9.1</td><td> 4985</td><td>12.2</td><td> 484</td><td> 2.7</td><td>125</td><td>NA   </td><td>13.9</td><td> 6.4</td><td>160</td><td>NA  </td></tr>\n",
       "\t<tr><td>11. Rye Bread             </td><td>1 lb.   </td><td> 9.2</td><td> 4930</td><td>12.4</td><td> 439</td><td> 1.1</td><td> 82</td><td>NA   </td><td> 9.9</td><td> 3.0</td><td> 66</td><td>NA  </td></tr>\n",
       "\t<tr><td>12. Pound Cake            </td><td>1 lb.   </td><td>24.8</td><td> 1829</td><td> 8.0</td><td> 130</td><td> 0.4</td><td> 31</td><td> 18.9</td><td> 2.8</td><td> 3.0</td><td> 17</td><td>NA  </td></tr>\n",
       "\t<tr><td>13. Soda Crackers         </td><td>1 lb.   </td><td>15.1</td><td> 3004</td><td>12.5</td><td> 288</td><td> 0.5</td><td> 50</td><td>NA   </td><td>NA  </td><td>NA  </td><td>NA </td><td>NA  </td></tr>\n",
       "\t<tr><td>14. Milk                  </td><td>1 qt.   </td><td>11.0</td><td> 8867</td><td> 6.1</td><td> 310</td><td>10.5</td><td> 18</td><td> 16.8</td><td> 4.0</td><td>16.0</td><td>  7</td><td> 177</td></tr>\n",
       "\t<tr><td>15. Evaporated Milk (can) </td><td>14.5 oz.</td><td> 6.7</td><td> 6035</td><td> 8.4</td><td> 422</td><td>15.1</td><td>  9</td><td> 26.0</td><td> 3.0</td><td>23.5</td><td> 11</td><td>  60</td></tr>\n",
       "\t<tr><td>16. Butters               </td><td>1 lb.   </td><td>30.8</td><td> 1473</td><td>10.8</td><td>   9</td><td> 0.2</td><td>  3</td><td> 44.2</td><td>NA  </td><td> 0.2</td><td>  2</td><td>NA  </td></tr>\n",
       "\t<tr><td>17. Oleomargarine         </td><td>1 lb.   </td><td>16.1</td><td> 2817</td><td>20.6</td><td>  17</td><td> 0.6</td><td>  6</td><td> 55.8</td><td> 0.2</td><td>NA  </td><td>NA </td><td>NA  </td></tr>\n",
       "\t<tr><td>18. Eggs                  </td><td>1 doz.  </td><td>32.6</td><td> 1857</td><td> 2.9</td><td> 238</td><td> 1.0</td><td> 52</td><td> 18.6</td><td> 2.8</td><td> 6.5</td><td>  1</td><td>NA  </td></tr>\n",
       "\t<tr><td>19. Cheese (Cheddar)      </td><td>1 lb.   </td><td>24.2</td><td> 1874</td><td> 7.4</td><td> 448</td><td>16.4</td><td> 19</td><td> 28.1</td><td> 0.8</td><td>10.3</td><td>  4</td><td>NA  </td></tr>\n",
       "\t<tr><td>20. Cream                 </td><td>0.5 pt. </td><td>14.1</td><td> 1689</td><td> 3.5</td><td>  49</td><td> 1.7</td><td>  3</td><td> 16.9</td><td> 0.6</td><td> 2.5</td><td>NA </td><td>  17</td></tr>\n",
       "\t<tr><td>21. Peanut Butter         </td><td>1 lb.   </td><td>17.9</td><td> 2534</td><td>15.7</td><td> 661</td><td> 1.0</td><td> 48</td><td>NA   </td><td> 9.6</td><td> 8.1</td><td>471</td><td>NA  </td></tr>\n",
       "\t<tr><td>22. Mayonnaise            </td><td>0.5 pt. </td><td>16.7</td><td> 1198</td><td> 8.6</td><td>  18</td><td> 0.2</td><td>  8</td><td>  2.7</td><td> 0.4</td><td> 0.5</td><td>NA </td><td>NA  </td></tr>\n",
       "\t<tr><td>23. Crisco                </td><td>1 lb.   </td><td>20.3</td><td> 2234</td><td>20.1</td><td>NA  </td><td>NA  </td><td>NA </td><td>NA   </td><td>NA  </td><td>NA  </td><td>NA </td><td>NA  </td></tr>\n",
       "\t<tr><td>24. Lard                  </td><td>1 lb.   </td><td> 9.8</td><td> 4628</td><td>41.7</td><td>NA  </td><td>NA  </td><td>NA </td><td>  0.2</td><td>NA  </td><td> 0.5</td><td>  5</td><td>NA  </td></tr>\n",
       "\t<tr><td>25. Sirloin Steak         </td><td>1 lb.   </td><td>39.6</td><td> 1145</td><td> 2.9</td><td> 166</td><td> 0.1</td><td> 34</td><td>  0.2</td><td> 2.1</td><td> 2.9</td><td> 69</td><td>NA  </td></tr>\n",
       "\t<tr><td>26. Round Steak           </td><td>1 lb.   </td><td>36.4</td><td> 1246</td><td> 2.2</td><td> 214</td><td> 0.1</td><td> 32</td><td>  0.4</td><td> 2.5</td><td> 2.4</td><td> 87</td><td>NA  </td></tr>\n",
       "\t<tr><td>27. Rib Roast             </td><td>1 lb.   </td><td>29.2</td><td> 1553</td><td> 3.4</td><td> 213</td><td> 0.1</td><td> 33</td><td>NA   </td><td>NA  </td><td> 2.0</td><td>NA </td><td>NA  </td></tr>\n",
       "\t<tr><td>28. Chuck Roast           </td><td>1 lb.   </td><td>22.6</td><td> 2007</td><td> 3.6</td><td> 309</td><td> 0.2</td><td> 46</td><td>  0.4</td><td> 1.0</td><td> 4.0</td><td>120</td><td>NA  </td></tr>\n",
       "\t<tr><td>29. Plate                 </td><td>1 lb.   </td><td>14.6</td><td> 3107</td><td> 8.5</td><td> 404</td><td> 0.2</td><td> 62</td><td>NA   </td><td> 0.9</td><td>NA  </td><td>NA </td><td>NA  </td></tr>\n",
       "\t<tr><td>30. Liver (Beef)          </td><td>1 lb.   </td><td>26.8</td><td> 1692</td><td> 2.2</td><td> 333</td><td> 0.2</td><td>139</td><td>169.2</td><td> 6.4</td><td>50.8</td><td>316</td><td> 525</td></tr>\n",
       "\t<tr><td>...</td><td>...</td><td>...</td><td>...</td><td>...</td><td>...</td><td>...</td><td>...</td><td>...</td><td>...</td><td>...</td><td>...</td><td>...</td></tr>\n",
       "\t<tr><td>49. Lettuce              </td><td>1 head  </td><td> 8.2</td><td> 2247</td><td> 0.4</td><td>  27</td><td> 1.1</td><td> 22</td><td>112.4</td><td> 1.8</td><td> 3.4</td><td> 11</td><td> 449</td></tr>\n",
       "\t<tr><td>50. Onions               </td><td>1 lb.   </td><td> 3.6</td><td>11844</td><td> 5.8</td><td> 166</td><td> 3.8</td><td> 59</td><td> 16.6</td><td> 4.7</td><td> 5.9</td><td> 21</td><td>1184</td></tr>\n",
       "\t<tr><td>51. Potatoes             </td><td>15 lb.  </td><td>34.0</td><td>16810</td><td>14.3</td><td> 336</td><td> 1.8</td><td>118</td><td>  6.7</td><td>29.4</td><td> 7.1</td><td>198</td><td>2522</td></tr>\n",
       "\t<tr><td>52. Spinach              </td><td>1 lb.   </td><td> 8.1</td><td> 4592</td><td> 1.1</td><td> 106</td><td>NA  </td><td>138</td><td>918.4</td><td> 5.7</td><td>13.8</td><td> 33</td><td>2755</td></tr>\n",
       "\t<tr><td>53. Sweet Potatoes       </td><td>1 lb.   </td><td> 5.1</td><td> 7649</td><td> 9.6</td><td> 138</td><td> 2.7</td><td> 54</td><td>290.7</td><td> 8.4</td><td> 5.4</td><td> 83</td><td>1912</td></tr>\n",
       "\t<tr><td>54. Peaches (can)        </td><td>No.2.5  </td><td>16.8</td><td> 4894</td><td> 3.7</td><td>  20</td><td> 0.4</td><td> 10</td><td> 21.5</td><td> 0.5</td><td> 1.0</td><td> 31</td><td> 196</td></tr>\n",
       "\t<tr><td>55. Pears (can)          </td><td>No.2.5  </td><td>20.4</td><td> 4030</td><td> 3.0</td><td>   8</td><td> 0.3</td><td>  8</td><td>  0.8</td><td> 0.8</td><td> 0.8</td><td>  5</td><td>  81</td></tr>\n",
       "\t<tr><td>56. Pineapple (can)      </td><td>No.2.5  </td><td>21.3</td><td> 3993</td><td> 2.4</td><td>  16</td><td> 0.4</td><td>  8</td><td>  2.0</td><td> 2.8</td><td> 0.8</td><td>  7</td><td> 399</td></tr>\n",
       "\t<tr><td>57. Asparagus (can)      </td><td>No.2    </td><td>27.7</td><td> 1945</td><td> 0.4</td><td>  33</td><td> 0.3</td><td> 12</td><td> 16.3</td><td> 1.4</td><td> 2.1</td><td> 17</td><td> 272</td></tr>\n",
       "\t<tr><td>58. Green Beans (can)    </td><td>No.2    </td><td>10.0</td><td> 5386</td><td> 1.0</td><td>  54</td><td> 2.0</td><td> 65</td><td> 53.9</td><td> 1.6</td><td> 4.3</td><td> 32</td><td> 431</td></tr>\n",
       "\t<tr><td>59. Pork and Beans (can) </td><td>16 oz.  </td><td> 7.1</td><td> 6389</td><td> 7.5</td><td> 364</td><td> 4.0</td><td>134</td><td>  3.5</td><td> 8.3</td><td> 7.7</td><td> 56</td><td>NA  </td></tr>\n",
       "\t<tr><td>60. Corn (can)           </td><td>No.2    </td><td>10.4</td><td> 5452</td><td> 5.2</td><td> 136</td><td> 0.2</td><td> 16</td><td> 12.0</td><td> 1.6</td><td> 2.7</td><td> 42</td><td> 218</td></tr>\n",
       "\t<tr><td>61. Peas (can)           </td><td>No.2    </td><td>13.8</td><td> 4109</td><td> 2.3</td><td> 136</td><td> 0.6</td><td> 45</td><td> 34.9</td><td> 4.9</td><td> 2.5</td><td> 37</td><td> 370</td></tr>\n",
       "\t<tr><td>62. Tomatoes (can)       </td><td>No.2    </td><td> 8.6</td><td> 6263</td><td> 1.3</td><td>  63</td><td> 0.7</td><td> 38</td><td> 53.2</td><td> 3.4</td><td> 2.5</td><td> 36</td><td>1253</td></tr>\n",
       "\t<tr><td>63. Tomato Soup (can)    </td><td>10.5 oz.</td><td> 7.6</td><td> 3917</td><td> 1.6</td><td>  71</td><td> 0.6</td><td> 43</td><td> 57.9</td><td> 3.5</td><td> 2.4</td><td> 67</td><td> 862</td></tr>\n",
       "\t<tr><td>64. Peaches Dried        </td><td>1 lb.   </td><td>15.7</td><td> 2889</td><td> 8.5</td><td>  87</td><td> 1.7</td><td>173</td><td> 86.8</td><td> 1.2</td><td> 4.3</td><td> 55</td><td>  57</td></tr>\n",
       "\t<tr><td>65. Prunes Dried         </td><td>1 lb.   </td><td> 9.0</td><td> 4284</td><td>12.8</td><td>  99</td><td> 2.5</td><td>154</td><td> 85.7</td><td> 3.9</td><td> 4.3</td><td> 65</td><td> 257</td></tr>\n",
       "\t<tr><td>66. Raisins Dried        </td><td>15 oz.  </td><td> 9.4</td><td> 4524</td><td>13.5</td><td> 104</td><td> 2.5</td><td>136</td><td>  4.5</td><td> 6.3</td><td> 1.4</td><td> 24</td><td> 136</td></tr>\n",
       "\t<tr><td>67. Peas Dried           </td><td>1 lb.   </td><td> 7.9</td><td> 5742</td><td>20.0</td><td>1367</td><td> 4.2</td><td>345</td><td>  2.9</td><td>28.7</td><td>18.4</td><td>162</td><td>NA  </td></tr>\n",
       "\t<tr><td>68. Lima Beans Dried     </td><td>1 lb.   </td><td> 8.9</td><td> 5097</td><td>17.4</td><td>1055</td><td> 3.7</td><td>459</td><td>  5.1</td><td>26.9</td><td>38.2</td><td> 93</td><td>NA  </td></tr>\n",
       "\t<tr><td>69. Navy Beans Dried     </td><td>1 lb.   </td><td> 5.9</td><td> 7688</td><td>26.9</td><td>1691</td><td>11.4</td><td>792</td><td>NA   </td><td>38.4</td><td>24.6</td><td>217</td><td>NA  </td></tr>\n",
       "\t<tr><td>70. Coffee               </td><td>1 lb.   </td><td>22.4</td><td> 2025</td><td>NA  </td><td>NA  </td><td>NA  </td><td>NA </td><td>NA   </td><td> 4.0</td><td> 5.1</td><td> 50</td><td>NA  </td></tr>\n",
       "\t<tr><td>71. Tea                  </td><td>0.25 lb.</td><td>17.4</td><td>  652</td><td>NA  </td><td>NA  </td><td>NA  </td><td>NA </td><td>NA   </td><td>NA  </td><td> 2.3</td><td> 42</td><td>NA  </td></tr>\n",
       "\t<tr><td>72. Cocoa                </td><td>8 oz.   </td><td> 8.6</td><td> 2657</td><td> 8.7</td><td> 237</td><td> 3.0</td><td> 72</td><td>NA   </td><td> 2.0</td><td>11.9</td><td> 40</td><td>NA  </td></tr>\n",
       "\t<tr><td>73. Chocolate            </td><td>8 oz.   </td><td>16.2</td><td> 1400</td><td> 8.0</td><td>  77</td><td> 1.3</td><td> 39</td><td>NA   </td><td> 0.9</td><td> 3.4</td><td> 14</td><td>NA  </td></tr>\n",
       "\t<tr><td>74. Sugar                </td><td>10 lb.  </td><td>51.2</td><td> 8773</td><td>34.9</td><td>NA  </td><td>NA  </td><td>NA </td><td>NA   </td><td>NA  </td><td>NA  </td><td>NA </td><td>NA  </td></tr>\n",
       "\t<tr><td>75. Corn Sirup           </td><td>24 oz.  </td><td>13.7</td><td> 4966</td><td>14.7</td><td>NA  </td><td> 0.5</td><td> 74</td><td>NA   </td><td>NA  </td><td>NA  </td><td>  5</td><td>NA  </td></tr>\n",
       "\t<tr><td>76. Molasses             </td><td>18 oz.  </td><td>13.6</td><td> 3752</td><td> 9.0</td><td>NA  </td><td>10.3</td><td>244</td><td>NA   </td><td> 1.9</td><td> 7.5</td><td>146</td><td>NA  </td></tr>\n",
       "\t<tr><td>77. Strawberry Preserves </td><td>1 lb.   </td><td>20.5</td><td> 2213</td><td> 6.4</td><td>  11</td><td> 0.4</td><td>  7</td><td>  0.2</td><td> 0.2</td><td> 0.4</td><td>  3</td><td>NA  </td></tr>\n",
       "\t<tr><td>Daily allowance          </td><td>        </td><td>NA  </td><td>NA   </td><td> 3.0</td><td>  70</td><td> 0.8</td><td> 12</td><td>  5.0</td><td> 1.8</td><td> 2.7</td><td> 18</td><td>  75</td></tr>\n",
       "</tbody>\n",
       "</table>\n"
      ],
      "text/latex": [
       "A matrix: 78 × 13 of type chr\n",
       "\\begin{tabular}{lllllllllllll}\n",
       " Commodity & Unit & Price.Aug.15.1939.cents. & Edible.Weight.per..1.00..grams. & Calories..1000. & Protein.grams. & Calcium.grams. & Iron.mg.. & Vitamin.A.1000.I.U. & Thiamine.mg.. & Riboflavin.mg.. & Niacin.mg.. & Asorbic.Acid..mg..\\\\\n",
       "\\hline\n",
       "\t 1. Wheat Flour (Enriched)  & 10 lb.   & 36.0 & 12600 & 44.7 & 1411 &  2.0 & 365 & NA    & 55.4 & 33.3 & 441 & NA  \\\\\n",
       "\t 2. Macaroni                & 1 lb.    & 14.1 &  3217 & 11.6 &  418 &  0.7 &  54 & NA    &  3.2 &  1.9 &  68 & NA  \\\\\n",
       "\t 3. Wheat Cereal (Enriched) & 28 oz.   & 24.2 &  3280 & 11.8 &  377 & 14.4 & 175 & NA    & 14.4 &  8.8 & 114 & NA  \\\\\n",
       "\t 4. Corn Flakes             & 8 oz.    &  7.1 &  3194 & 11.4 &  252 &  0.1 &  56 & NA    & 13.5 &  2.3 &  68 & NA  \\\\\n",
       "\t 5. Corn Meal               & 1 lb.    &  4.6 &  9861 & 36.0 &  897 &  1.7 &  99 &  30.9 & 17.4 &  7.9 & 106 & NA  \\\\\n",
       "\t 6. Hominy Grits            & 24 oz.   &  8.5 &  8005 & 28.6 &  680 &  0.8 &  80 & NA    & 10.6 &  1.6 & 110 & NA  \\\\\n",
       "\t 7. Rice                    & 1 lb.    &  7.5 &  6048 & 21.2 &  460 &  0.6 &  41 & NA    &  2.0 &  4.8 &  60 & NA  \\\\\n",
       "\t 8. Rolled Oats             & 1 lb.    &  7.1 &  6389 & 25.3 &  907 &  5.1 & 341 & NA    & 37.1 &  8.9 &  64 & NA  \\\\\n",
       "\t 9. White Bread (Enriched)  & 1 lb.    &  7.9 &  5742 & 15.0 &  488 &  2.5 & 115 & NA    & 13.8 &  8.5 & 126 & NA  \\\\\n",
       "\t 10. Whole Wheat Bread      & 1 lb.    &  9.1 &  4985 & 12.2 &  484 &  2.7 & 125 & NA    & 13.9 &  6.4 & 160 & NA  \\\\\n",
       "\t 11. Rye Bread              & 1 lb.    &  9.2 &  4930 & 12.4 &  439 &  1.1 &  82 & NA    &  9.9 &  3.0 &  66 & NA  \\\\\n",
       "\t 12. Pound Cake             & 1 lb.    & 24.8 &  1829 &  8.0 &  130 &  0.4 &  31 &  18.9 &  2.8 &  3.0 &  17 & NA  \\\\\n",
       "\t 13. Soda Crackers          & 1 lb.    & 15.1 &  3004 & 12.5 &  288 &  0.5 &  50 & NA    & NA   & NA   & NA  & NA  \\\\\n",
       "\t 14. Milk                   & 1 qt.    & 11.0 &  8867 &  6.1 &  310 & 10.5 &  18 &  16.8 &  4.0 & 16.0 &   7 &  177\\\\\n",
       "\t 15. Evaporated Milk (can)  & 14.5 oz. &  6.7 &  6035 &  8.4 &  422 & 15.1 &   9 &  26.0 &  3.0 & 23.5 &  11 &   60\\\\\n",
       "\t 16. Butters                & 1 lb.    & 30.8 &  1473 & 10.8 &    9 &  0.2 &   3 &  44.2 & NA   &  0.2 &   2 & NA  \\\\\n",
       "\t 17. Oleomargarine          & 1 lb.    & 16.1 &  2817 & 20.6 &   17 &  0.6 &   6 &  55.8 &  0.2 & NA   & NA  & NA  \\\\\n",
       "\t 18. Eggs                   & 1 doz.   & 32.6 &  1857 &  2.9 &  238 &  1.0 &  52 &  18.6 &  2.8 &  6.5 &   1 & NA  \\\\\n",
       "\t 19. Cheese (Cheddar)       & 1 lb.    & 24.2 &  1874 &  7.4 &  448 & 16.4 &  19 &  28.1 &  0.8 & 10.3 &   4 & NA  \\\\\n",
       "\t 20. Cream                  & 0.5 pt.  & 14.1 &  1689 &  3.5 &   49 &  1.7 &   3 &  16.9 &  0.6 &  2.5 & NA  &   17\\\\\n",
       "\t 21. Peanut Butter          & 1 lb.    & 17.9 &  2534 & 15.7 &  661 &  1.0 &  48 & NA    &  9.6 &  8.1 & 471 & NA  \\\\\n",
       "\t 22. Mayonnaise             & 0.5 pt.  & 16.7 &  1198 &  8.6 &   18 &  0.2 &   8 &   2.7 &  0.4 &  0.5 & NA  & NA  \\\\\n",
       "\t 23. Crisco                 & 1 lb.    & 20.3 &  2234 & 20.1 & NA   & NA   & NA  & NA    & NA   & NA   & NA  & NA  \\\\\n",
       "\t 24. Lard                   & 1 lb.    &  9.8 &  4628 & 41.7 & NA   & NA   & NA  &   0.2 & NA   &  0.5 &   5 & NA  \\\\\n",
       "\t 25. Sirloin Steak          & 1 lb.    & 39.6 &  1145 &  2.9 &  166 &  0.1 &  34 &   0.2 &  2.1 &  2.9 &  69 & NA  \\\\\n",
       "\t 26. Round Steak            & 1 lb.    & 36.4 &  1246 &  2.2 &  214 &  0.1 &  32 &   0.4 &  2.5 &  2.4 &  87 & NA  \\\\\n",
       "\t 27. Rib Roast              & 1 lb.    & 29.2 &  1553 &  3.4 &  213 &  0.1 &  33 & NA    & NA   &  2.0 & NA  & NA  \\\\\n",
       "\t 28. Chuck Roast            & 1 lb.    & 22.6 &  2007 &  3.6 &  309 &  0.2 &  46 &   0.4 &  1.0 &  4.0 & 120 & NA  \\\\\n",
       "\t 29. Plate                  & 1 lb.    & 14.6 &  3107 &  8.5 &  404 &  0.2 &  62 & NA    &  0.9 & NA   & NA  & NA  \\\\\n",
       "\t 30. Liver (Beef)           & 1 lb.    & 26.8 &  1692 &  2.2 &  333 &  0.2 & 139 & 169.2 &  6.4 & 50.8 & 316 &  525\\\\\n",
       "\t ... & ... & ... & ... & ... & ... & ... & ... & ... & ... & ... & ... & ...\\\\\n",
       "\t 49. Lettuce               & 1 head   &  8.2 &  2247 &  0.4 &   27 &  1.1 &  22 & 112.4 &  1.8 &  3.4 &  11 &  449\\\\\n",
       "\t 50. Onions                & 1 lb.    &  3.6 & 11844 &  5.8 &  166 &  3.8 &  59 &  16.6 &  4.7 &  5.9 &  21 & 1184\\\\\n",
       "\t 51. Potatoes              & 15 lb.   & 34.0 & 16810 & 14.3 &  336 &  1.8 & 118 &   6.7 & 29.4 &  7.1 & 198 & 2522\\\\\n",
       "\t 52. Spinach               & 1 lb.    &  8.1 &  4592 &  1.1 &  106 & NA   & 138 & 918.4 &  5.7 & 13.8 &  33 & 2755\\\\\n",
       "\t 53. Sweet Potatoes        & 1 lb.    &  5.1 &  7649 &  9.6 &  138 &  2.7 &  54 & 290.7 &  8.4 &  5.4 &  83 & 1912\\\\\n",
       "\t 54. Peaches (can)         & No.2.5   & 16.8 &  4894 &  3.7 &   20 &  0.4 &  10 &  21.5 &  0.5 &  1.0 &  31 &  196\\\\\n",
       "\t 55. Pears (can)           & No.2.5   & 20.4 &  4030 &  3.0 &    8 &  0.3 &   8 &   0.8 &  0.8 &  0.8 &   5 &   81\\\\\n",
       "\t 56. Pineapple (can)       & No.2.5   & 21.3 &  3993 &  2.4 &   16 &  0.4 &   8 &   2.0 &  2.8 &  0.8 &   7 &  399\\\\\n",
       "\t 57. Asparagus (can)       & No.2     & 27.7 &  1945 &  0.4 &   33 &  0.3 &  12 &  16.3 &  1.4 &  2.1 &  17 &  272\\\\\n",
       "\t 58. Green Beans (can)     & No.2     & 10.0 &  5386 &  1.0 &   54 &  2.0 &  65 &  53.9 &  1.6 &  4.3 &  32 &  431\\\\\n",
       "\t 59. Pork and Beans (can)  & 16 oz.   &  7.1 &  6389 &  7.5 &  364 &  4.0 & 134 &   3.5 &  8.3 &  7.7 &  56 & NA  \\\\\n",
       "\t 60. Corn (can)            & No.2     & 10.4 &  5452 &  5.2 &  136 &  0.2 &  16 &  12.0 &  1.6 &  2.7 &  42 &  218\\\\\n",
       "\t 61. Peas (can)            & No.2     & 13.8 &  4109 &  2.3 &  136 &  0.6 &  45 &  34.9 &  4.9 &  2.5 &  37 &  370\\\\\n",
       "\t 62. Tomatoes (can)        & No.2     &  8.6 &  6263 &  1.3 &   63 &  0.7 &  38 &  53.2 &  3.4 &  2.5 &  36 & 1253\\\\\n",
       "\t 63. Tomato Soup (can)     & 10.5 oz. &  7.6 &  3917 &  1.6 &   71 &  0.6 &  43 &  57.9 &  3.5 &  2.4 &  67 &  862\\\\\n",
       "\t 64. Peaches Dried         & 1 lb.    & 15.7 &  2889 &  8.5 &   87 &  1.7 & 173 &  86.8 &  1.2 &  4.3 &  55 &   57\\\\\n",
       "\t 65. Prunes Dried          & 1 lb.    &  9.0 &  4284 & 12.8 &   99 &  2.5 & 154 &  85.7 &  3.9 &  4.3 &  65 &  257\\\\\n",
       "\t 66. Raisins Dried         & 15 oz.   &  9.4 &  4524 & 13.5 &  104 &  2.5 & 136 &   4.5 &  6.3 &  1.4 &  24 &  136\\\\\n",
       "\t 67. Peas Dried            & 1 lb.    &  7.9 &  5742 & 20.0 & 1367 &  4.2 & 345 &   2.9 & 28.7 & 18.4 & 162 & NA  \\\\\n",
       "\t 68. Lima Beans Dried      & 1 lb.    &  8.9 &  5097 & 17.4 & 1055 &  3.7 & 459 &   5.1 & 26.9 & 38.2 &  93 & NA  \\\\\n",
       "\t 69. Navy Beans Dried      & 1 lb.    &  5.9 &  7688 & 26.9 & 1691 & 11.4 & 792 & NA    & 38.4 & 24.6 & 217 & NA  \\\\\n",
       "\t 70. Coffee                & 1 lb.    & 22.4 &  2025 & NA   & NA   & NA   & NA  & NA    &  4.0 &  5.1 &  50 & NA  \\\\\n",
       "\t 71. Tea                   & 0.25 lb. & 17.4 &   652 & NA   & NA   & NA   & NA  & NA    & NA   &  2.3 &  42 & NA  \\\\\n",
       "\t 72. Cocoa                 & 8 oz.    &  8.6 &  2657 &  8.7 &  237 &  3.0 &  72 & NA    &  2.0 & 11.9 &  40 & NA  \\\\\n",
       "\t 73. Chocolate             & 8 oz.    & 16.2 &  1400 &  8.0 &   77 &  1.3 &  39 & NA    &  0.9 &  3.4 &  14 & NA  \\\\\n",
       "\t 74. Sugar                 & 10 lb.   & 51.2 &  8773 & 34.9 & NA   & NA   & NA  & NA    & NA   & NA   & NA  & NA  \\\\\n",
       "\t 75. Corn Sirup            & 24 oz.   & 13.7 &  4966 & 14.7 & NA   &  0.5 &  74 & NA    & NA   & NA   &   5 & NA  \\\\\n",
       "\t 76. Molasses              & 18 oz.   & 13.6 &  3752 &  9.0 & NA   & 10.3 & 244 & NA    &  1.9 &  7.5 & 146 & NA  \\\\\n",
       "\t 77. Strawberry Preserves  & 1 lb.    & 20.5 &  2213 &  6.4 &   11 &  0.4 &   7 &   0.2 &  0.2 &  0.4 &   3 & NA  \\\\\n",
       "\t Daily allowance           &          & NA   & NA    &  3.0 &   70 &  0.8 &  12 &   5.0 &  1.8 &  2.7 &  18 &   75\\\\\n",
       "\\end{tabular}\n"
      ],
      "text/markdown": [
       "\n",
       "A matrix: 78 × 13 of type chr\n",
       "\n",
       "| Commodity | Unit | Price.Aug.15.1939.cents. | Edible.Weight.per..1.00..grams. | Calories..1000. | Protein.grams. | Calcium.grams. | Iron.mg.. | Vitamin.A.1000.I.U. | Thiamine.mg.. | Riboflavin.mg.. | Niacin.mg.. | Asorbic.Acid..mg.. |\n",
       "|---|---|---|---|---|---|---|---|---|---|---|---|---|\n",
       "| 1. Wheat Flour (Enriched)  | 10 lb.   | 36.0 | 12600 | 44.7 | 1411 |  2.0 | 365 | NA    | 55.4 | 33.3 | 441 | NA   |\n",
       "| 2. Macaroni                | 1 lb.    | 14.1 |  3217 | 11.6 |  418 |  0.7 |  54 | NA    |  3.2 |  1.9 |  68 | NA   |\n",
       "| 3. Wheat Cereal (Enriched) | 28 oz.   | 24.2 |  3280 | 11.8 |  377 | 14.4 | 175 | NA    | 14.4 |  8.8 | 114 | NA   |\n",
       "| 4. Corn Flakes             | 8 oz.    |  7.1 |  3194 | 11.4 |  252 |  0.1 |  56 | NA    | 13.5 |  2.3 |  68 | NA   |\n",
       "| 5. Corn Meal               | 1 lb.    |  4.6 |  9861 | 36.0 |  897 |  1.7 |  99 |  30.9 | 17.4 |  7.9 | 106 | NA   |\n",
       "| 6. Hominy Grits            | 24 oz.   |  8.5 |  8005 | 28.6 |  680 |  0.8 |  80 | NA    | 10.6 |  1.6 | 110 | NA   |\n",
       "| 7. Rice                    | 1 lb.    |  7.5 |  6048 | 21.2 |  460 |  0.6 |  41 | NA    |  2.0 |  4.8 |  60 | NA   |\n",
       "| 8. Rolled Oats             | 1 lb.    |  7.1 |  6389 | 25.3 |  907 |  5.1 | 341 | NA    | 37.1 |  8.9 |  64 | NA   |\n",
       "| 9. White Bread (Enriched)  | 1 lb.    |  7.9 |  5742 | 15.0 |  488 |  2.5 | 115 | NA    | 13.8 |  8.5 | 126 | NA   |\n",
       "| 10. Whole Wheat Bread      | 1 lb.    |  9.1 |  4985 | 12.2 |  484 |  2.7 | 125 | NA    | 13.9 |  6.4 | 160 | NA   |\n",
       "| 11. Rye Bread              | 1 lb.    |  9.2 |  4930 | 12.4 |  439 |  1.1 |  82 | NA    |  9.9 |  3.0 |  66 | NA   |\n",
       "| 12. Pound Cake             | 1 lb.    | 24.8 |  1829 |  8.0 |  130 |  0.4 |  31 |  18.9 |  2.8 |  3.0 |  17 | NA   |\n",
       "| 13. Soda Crackers          | 1 lb.    | 15.1 |  3004 | 12.5 |  288 |  0.5 |  50 | NA    | NA   | NA   | NA  | NA   |\n",
       "| 14. Milk                   | 1 qt.    | 11.0 |  8867 |  6.1 |  310 | 10.5 |  18 |  16.8 |  4.0 | 16.0 |   7 |  177 |\n",
       "| 15. Evaporated Milk (can)  | 14.5 oz. |  6.7 |  6035 |  8.4 |  422 | 15.1 |   9 |  26.0 |  3.0 | 23.5 |  11 |   60 |\n",
       "| 16. Butters                | 1 lb.    | 30.8 |  1473 | 10.8 |    9 |  0.2 |   3 |  44.2 | NA   |  0.2 |   2 | NA   |\n",
       "| 17. Oleomargarine          | 1 lb.    | 16.1 |  2817 | 20.6 |   17 |  0.6 |   6 |  55.8 |  0.2 | NA   | NA  | NA   |\n",
       "| 18. Eggs                   | 1 doz.   | 32.6 |  1857 |  2.9 |  238 |  1.0 |  52 |  18.6 |  2.8 |  6.5 |   1 | NA   |\n",
       "| 19. Cheese (Cheddar)       | 1 lb.    | 24.2 |  1874 |  7.4 |  448 | 16.4 |  19 |  28.1 |  0.8 | 10.3 |   4 | NA   |\n",
       "| 20. Cream                  | 0.5 pt.  | 14.1 |  1689 |  3.5 |   49 |  1.7 |   3 |  16.9 |  0.6 |  2.5 | NA  |   17 |\n",
       "| 21. Peanut Butter          | 1 lb.    | 17.9 |  2534 | 15.7 |  661 |  1.0 |  48 | NA    |  9.6 |  8.1 | 471 | NA   |\n",
       "| 22. Mayonnaise             | 0.5 pt.  | 16.7 |  1198 |  8.6 |   18 |  0.2 |   8 |   2.7 |  0.4 |  0.5 | NA  | NA   |\n",
       "| 23. Crisco                 | 1 lb.    | 20.3 |  2234 | 20.1 | NA   | NA   | NA  | NA    | NA   | NA   | NA  | NA   |\n",
       "| 24. Lard                   | 1 lb.    |  9.8 |  4628 | 41.7 | NA   | NA   | NA  |   0.2 | NA   |  0.5 |   5 | NA   |\n",
       "| 25. Sirloin Steak          | 1 lb.    | 39.6 |  1145 |  2.9 |  166 |  0.1 |  34 |   0.2 |  2.1 |  2.9 |  69 | NA   |\n",
       "| 26. Round Steak            | 1 lb.    | 36.4 |  1246 |  2.2 |  214 |  0.1 |  32 |   0.4 |  2.5 |  2.4 |  87 | NA   |\n",
       "| 27. Rib Roast              | 1 lb.    | 29.2 |  1553 |  3.4 |  213 |  0.1 |  33 | NA    | NA   |  2.0 | NA  | NA   |\n",
       "| 28. Chuck Roast            | 1 lb.    | 22.6 |  2007 |  3.6 |  309 |  0.2 |  46 |   0.4 |  1.0 |  4.0 | 120 | NA   |\n",
       "| 29. Plate                  | 1 lb.    | 14.6 |  3107 |  8.5 |  404 |  0.2 |  62 | NA    |  0.9 | NA   | NA  | NA   |\n",
       "| 30. Liver (Beef)           | 1 lb.    | 26.8 |  1692 |  2.2 |  333 |  0.2 | 139 | 169.2 |  6.4 | 50.8 | 316 |  525 |\n",
       "| ... | ... | ... | ... | ... | ... | ... | ... | ... | ... | ... | ... | ... |\n",
       "| 49. Lettuce               | 1 head   |  8.2 |  2247 |  0.4 |   27 |  1.1 |  22 | 112.4 |  1.8 |  3.4 |  11 |  449 |\n",
       "| 50. Onions                | 1 lb.    |  3.6 | 11844 |  5.8 |  166 |  3.8 |  59 |  16.6 |  4.7 |  5.9 |  21 | 1184 |\n",
       "| 51. Potatoes              | 15 lb.   | 34.0 | 16810 | 14.3 |  336 |  1.8 | 118 |   6.7 | 29.4 |  7.1 | 198 | 2522 |\n",
       "| 52. Spinach               | 1 lb.    |  8.1 |  4592 |  1.1 |  106 | NA   | 138 | 918.4 |  5.7 | 13.8 |  33 | 2755 |\n",
       "| 53. Sweet Potatoes        | 1 lb.    |  5.1 |  7649 |  9.6 |  138 |  2.7 |  54 | 290.7 |  8.4 |  5.4 |  83 | 1912 |\n",
       "| 54. Peaches (can)         | No.2.5   | 16.8 |  4894 |  3.7 |   20 |  0.4 |  10 |  21.5 |  0.5 |  1.0 |  31 |  196 |\n",
       "| 55. Pears (can)           | No.2.5   | 20.4 |  4030 |  3.0 |    8 |  0.3 |   8 |   0.8 |  0.8 |  0.8 |   5 |   81 |\n",
       "| 56. Pineapple (can)       | No.2.5   | 21.3 |  3993 |  2.4 |   16 |  0.4 |   8 |   2.0 |  2.8 |  0.8 |   7 |  399 |\n",
       "| 57. Asparagus (can)       | No.2     | 27.7 |  1945 |  0.4 |   33 |  0.3 |  12 |  16.3 |  1.4 |  2.1 |  17 |  272 |\n",
       "| 58. Green Beans (can)     | No.2     | 10.0 |  5386 |  1.0 |   54 |  2.0 |  65 |  53.9 |  1.6 |  4.3 |  32 |  431 |\n",
       "| 59. Pork and Beans (can)  | 16 oz.   |  7.1 |  6389 |  7.5 |  364 |  4.0 | 134 |   3.5 |  8.3 |  7.7 |  56 | NA   |\n",
       "| 60. Corn (can)            | No.2     | 10.4 |  5452 |  5.2 |  136 |  0.2 |  16 |  12.0 |  1.6 |  2.7 |  42 |  218 |\n",
       "| 61. Peas (can)            | No.2     | 13.8 |  4109 |  2.3 |  136 |  0.6 |  45 |  34.9 |  4.9 |  2.5 |  37 |  370 |\n",
       "| 62. Tomatoes (can)        | No.2     |  8.6 |  6263 |  1.3 |   63 |  0.7 |  38 |  53.2 |  3.4 |  2.5 |  36 | 1253 |\n",
       "| 63. Tomato Soup (can)     | 10.5 oz. |  7.6 |  3917 |  1.6 |   71 |  0.6 |  43 |  57.9 |  3.5 |  2.4 |  67 |  862 |\n",
       "| 64. Peaches Dried         | 1 lb.    | 15.7 |  2889 |  8.5 |   87 |  1.7 | 173 |  86.8 |  1.2 |  4.3 |  55 |   57 |\n",
       "| 65. Prunes Dried          | 1 lb.    |  9.0 |  4284 | 12.8 |   99 |  2.5 | 154 |  85.7 |  3.9 |  4.3 |  65 |  257 |\n",
       "| 66. Raisins Dried         | 15 oz.   |  9.4 |  4524 | 13.5 |  104 |  2.5 | 136 |   4.5 |  6.3 |  1.4 |  24 |  136 |\n",
       "| 67. Peas Dried            | 1 lb.    |  7.9 |  5742 | 20.0 | 1367 |  4.2 | 345 |   2.9 | 28.7 | 18.4 | 162 | NA   |\n",
       "| 68. Lima Beans Dried      | 1 lb.    |  8.9 |  5097 | 17.4 | 1055 |  3.7 | 459 |   5.1 | 26.9 | 38.2 |  93 | NA   |\n",
       "| 69. Navy Beans Dried      | 1 lb.    |  5.9 |  7688 | 26.9 | 1691 | 11.4 | 792 | NA    | 38.4 | 24.6 | 217 | NA   |\n",
       "| 70. Coffee                | 1 lb.    | 22.4 |  2025 | NA   | NA   | NA   | NA  | NA    |  4.0 |  5.1 |  50 | NA   |\n",
       "| 71. Tea                   | 0.25 lb. | 17.4 |   652 | NA   | NA   | NA   | NA  | NA    | NA   |  2.3 |  42 | NA   |\n",
       "| 72. Cocoa                 | 8 oz.    |  8.6 |  2657 |  8.7 |  237 |  3.0 |  72 | NA    |  2.0 | 11.9 |  40 | NA   |\n",
       "| 73. Chocolate             | 8 oz.    | 16.2 |  1400 |  8.0 |   77 |  1.3 |  39 | NA    |  0.9 |  3.4 |  14 | NA   |\n",
       "| 74. Sugar                 | 10 lb.   | 51.2 |  8773 | 34.9 | NA   | NA   | NA  | NA    | NA   | NA   | NA  | NA   |\n",
       "| 75. Corn Sirup            | 24 oz.   | 13.7 |  4966 | 14.7 | NA   |  0.5 |  74 | NA    | NA   | NA   |   5 | NA   |\n",
       "| 76. Molasses              | 18 oz.   | 13.6 |  3752 |  9.0 | NA   | 10.3 | 244 | NA    |  1.9 |  7.5 | 146 | NA   |\n",
       "| 77. Strawberry Preserves  | 1 lb.    | 20.5 |  2213 |  6.4 |   11 |  0.4 |   7 |   0.2 |  0.2 |  0.4 |   3 | NA   |\n",
       "| Daily allowance           | <!----> | NA   | NA    |  3.0 |   70 |  0.8 |  12 |   5.0 |  1.8 |  2.7 |  18 |   75 |\n",
       "\n"
      ],
      "text/plain": [
       "      Commodity                  Unit     Price.Aug.15.1939.cents.\n",
       " [1,] 1. Wheat Flour (Enriched)  10 lb.   36.0                    \n",
       " [2,] 2. Macaroni                1 lb.    14.1                    \n",
       " [3,] 3. Wheat Cereal (Enriched) 28 oz.   24.2                    \n",
       " [4,] 4. Corn Flakes             8 oz.     7.1                    \n",
       " [5,] 5. Corn Meal               1 lb.     4.6                    \n",
       " [6,] 6. Hominy Grits            24 oz.    8.5                    \n",
       " [7,] 7. Rice                    1 lb.     7.5                    \n",
       " [8,] 8. Rolled Oats             1 lb.     7.1                    \n",
       " [9,] 9. White Bread (Enriched)  1 lb.     7.9                    \n",
       "[10,] 10. Whole Wheat Bread      1 lb.     9.1                    \n",
       "[11,] 11. Rye Bread              1 lb.     9.2                    \n",
       "[12,] 12. Pound Cake             1 lb.    24.8                    \n",
       "[13,] 13. Soda Crackers          1 lb.    15.1                    \n",
       "[14,] 14. Milk                   1 qt.    11.0                    \n",
       "[15,] 15. Evaporated Milk (can)  14.5 oz.  6.7                    \n",
       "[16,] 16. Butters                1 lb.    30.8                    \n",
       "[17,] 17. Oleomargarine          1 lb.    16.1                    \n",
       "[18,] 18. Eggs                   1 doz.   32.6                    \n",
       "[19,] 19. Cheese (Cheddar)       1 lb.    24.2                    \n",
       "[20,] 20. Cream                  0.5 pt.  14.1                    \n",
       "[21,] 21. Peanut Butter          1 lb.    17.9                    \n",
       "[22,] 22. Mayonnaise             0.5 pt.  16.7                    \n",
       "[23,] 23. Crisco                 1 lb.    20.3                    \n",
       "[24,] 24. Lard                   1 lb.     9.8                    \n",
       "[25,] 25. Sirloin Steak          1 lb.    39.6                    \n",
       "[26,] 26. Round Steak            1 lb.    36.4                    \n",
       "[27,] 27. Rib Roast              1 lb.    29.2                    \n",
       "[28,] 28. Chuck Roast            1 lb.    22.6                    \n",
       "[29,] 29. Plate                  1 lb.    14.6                    \n",
       "[30,] 30. Liver (Beef)           1 lb.    26.8                    \n",
       "[31,] ...                        ...      ...                     \n",
       "[32,] 49. Lettuce                1 head    8.2                    \n",
       "[33,] 50. Onions                 1 lb.     3.6                    \n",
       "[34,] 51. Potatoes               15 lb.   34.0                    \n",
       "[35,] 52. Spinach                1 lb.     8.1                    \n",
       "[36,] 53. Sweet Potatoes         1 lb.     5.1                    \n",
       "[37,] 54. Peaches (can)          No.2.5   16.8                    \n",
       "[38,] 55. Pears (can)            No.2.5   20.4                    \n",
       "[39,] 56. Pineapple (can)        No.2.5   21.3                    \n",
       "[40,] 57. Asparagus (can)        No.2     27.7                    \n",
       "[41,] 58. Green Beans (can)      No.2     10.0                    \n",
       "[42,] 59. Pork and Beans (can)   16 oz.    7.1                    \n",
       "[43,] 60. Corn (can)             No.2     10.4                    \n",
       "[44,] 61. Peas (can)             No.2     13.8                    \n",
       "[45,] 62. Tomatoes (can)         No.2      8.6                    \n",
       "[46,] 63. Tomato Soup (can)      10.5 oz.  7.6                    \n",
       "[47,] 64. Peaches Dried          1 lb.    15.7                    \n",
       "[48,] 65. Prunes Dried           1 lb.     9.0                    \n",
       "[49,] 66. Raisins Dried          15 oz.    9.4                    \n",
       "[50,] 67. Peas Dried             1 lb.     7.9                    \n",
       "[51,] 68. Lima Beans Dried       1 lb.     8.9                    \n",
       "[52,] 69. Navy Beans Dried       1 lb.     5.9                    \n",
       "[53,] 70. Coffee                 1 lb.    22.4                    \n",
       "[54,] 71. Tea                    0.25 lb. 17.4                    \n",
       "[55,] 72. Cocoa                  8 oz.     8.6                    \n",
       "[56,] 73. Chocolate              8 oz.    16.2                    \n",
       "[57,] 74. Sugar                  10 lb.   51.2                    \n",
       "[58,] 75. Corn Sirup             24 oz.   13.7                    \n",
       "[59,] 76. Molasses               18 oz.   13.6                    \n",
       "[60,] 77. Strawberry Preserves   1 lb.    20.5                    \n",
       "[61,] Daily allowance                     NA                      \n",
       "      Edible.Weight.per..1.00..grams. Calories..1000. Protein.grams.\n",
       " [1,] 12600                           44.7            1411          \n",
       " [2,]  3217                           11.6             418          \n",
       " [3,]  3280                           11.8             377          \n",
       " [4,]  3194                           11.4             252          \n",
       " [5,]  9861                           36.0             897          \n",
       " [6,]  8005                           28.6             680          \n",
       " [7,]  6048                           21.2             460          \n",
       " [8,]  6389                           25.3             907          \n",
       " [9,]  5742                           15.0             488          \n",
       "[10,]  4985                           12.2             484          \n",
       "[11,]  4930                           12.4             439          \n",
       "[12,]  1829                            8.0             130          \n",
       "[13,]  3004                           12.5             288          \n",
       "[14,]  8867                            6.1             310          \n",
       "[15,]  6035                            8.4             422          \n",
       "[16,]  1473                           10.8               9          \n",
       "[17,]  2817                           20.6              17          \n",
       "[18,]  1857                            2.9             238          \n",
       "[19,]  1874                            7.4             448          \n",
       "[20,]  1689                            3.5              49          \n",
       "[21,]  2534                           15.7             661          \n",
       "[22,]  1198                            8.6              18          \n",
       "[23,]  2234                           20.1            NA            \n",
       "[24,]  4628                           41.7            NA            \n",
       "[25,]  1145                            2.9             166          \n",
       "[26,]  1246                            2.2             214          \n",
       "[27,]  1553                            3.4             213          \n",
       "[28,]  2007                            3.6             309          \n",
       "[29,]  3107                            8.5             404          \n",
       "[30,]  1692                            2.2             333          \n",
       "[31,] ...                             ...             ...           \n",
       "[32,]  2247                            0.4              27          \n",
       "[33,] 11844                            5.8             166          \n",
       "[34,] 16810                           14.3             336          \n",
       "[35,]  4592                            1.1             106          \n",
       "[36,]  7649                            9.6             138          \n",
       "[37,]  4894                            3.7              20          \n",
       "[38,]  4030                            3.0               8          \n",
       "[39,]  3993                            2.4              16          \n",
       "[40,]  1945                            0.4              33          \n",
       "[41,]  5386                            1.0              54          \n",
       "[42,]  6389                            7.5             364          \n",
       "[43,]  5452                            5.2             136          \n",
       "[44,]  4109                            2.3             136          \n",
       "[45,]  6263                            1.3              63          \n",
       "[46,]  3917                            1.6              71          \n",
       "[47,]  2889                            8.5              87          \n",
       "[48,]  4284                           12.8              99          \n",
       "[49,]  4524                           13.5             104          \n",
       "[50,]  5742                           20.0            1367          \n",
       "[51,]  5097                           17.4            1055          \n",
       "[52,]  7688                           26.9            1691          \n",
       "[53,]  2025                           NA              NA            \n",
       "[54,]   652                           NA              NA            \n",
       "[55,]  2657                            8.7             237          \n",
       "[56,]  1400                            8.0              77          \n",
       "[57,]  8773                           34.9            NA            \n",
       "[58,]  4966                           14.7            NA            \n",
       "[59,]  3752                            9.0            NA            \n",
       "[60,]  2213                            6.4              11          \n",
       "[61,] NA                               3.0              70          \n",
       "      Calcium.grams. Iron.mg.. Vitamin.A.1000.I.U. Thiamine.mg..\n",
       " [1,]  2.0           365       NA                  55.4         \n",
       " [2,]  0.7            54       NA                   3.2         \n",
       " [3,] 14.4           175       NA                  14.4         \n",
       " [4,]  0.1            56       NA                  13.5         \n",
       " [5,]  1.7            99        30.9               17.4         \n",
       " [6,]  0.8            80       NA                  10.6         \n",
       " [7,]  0.6            41       NA                   2.0         \n",
       " [8,]  5.1           341       NA                  37.1         \n",
       " [9,]  2.5           115       NA                  13.8         \n",
       "[10,]  2.7           125       NA                  13.9         \n",
       "[11,]  1.1            82       NA                   9.9         \n",
       "[12,]  0.4            31        18.9                2.8         \n",
       "[13,]  0.5            50       NA                  NA           \n",
       "[14,] 10.5            18        16.8                4.0         \n",
       "[15,] 15.1             9        26.0                3.0         \n",
       "[16,]  0.2             3        44.2               NA           \n",
       "[17,]  0.6             6        55.8                0.2         \n",
       "[18,]  1.0            52        18.6                2.8         \n",
       "[19,] 16.4            19        28.1                0.8         \n",
       "[20,]  1.7             3        16.9                0.6         \n",
       "[21,]  1.0            48       NA                   9.6         \n",
       "[22,]  0.2             8         2.7                0.4         \n",
       "[23,] NA             NA        NA                  NA           \n",
       "[24,] NA             NA          0.2               NA           \n",
       "[25,]  0.1            34         0.2                2.1         \n",
       "[26,]  0.1            32         0.4                2.5         \n",
       "[27,]  0.1            33       NA                  NA           \n",
       "[28,]  0.2            46         0.4                1.0         \n",
       "[29,]  0.2            62       NA                   0.9         \n",
       "[30,]  0.2           139       169.2                6.4         \n",
       "[31,] ...            ...       ...                 ...          \n",
       "[32,]  1.1            22       112.4                1.8         \n",
       "[33,]  3.8            59        16.6                4.7         \n",
       "[34,]  1.8           118         6.7               29.4         \n",
       "[35,] NA             138       918.4                5.7         \n",
       "[36,]  2.7            54       290.7                8.4         \n",
       "[37,]  0.4            10        21.5                0.5         \n",
       "[38,]  0.3             8         0.8                0.8         \n",
       "[39,]  0.4             8         2.0                2.8         \n",
       "[40,]  0.3            12        16.3                1.4         \n",
       "[41,]  2.0            65        53.9                1.6         \n",
       "[42,]  4.0           134         3.5                8.3         \n",
       "[43,]  0.2            16        12.0                1.6         \n",
       "[44,]  0.6            45        34.9                4.9         \n",
       "[45,]  0.7            38        53.2                3.4         \n",
       "[46,]  0.6            43        57.9                3.5         \n",
       "[47,]  1.7           173        86.8                1.2         \n",
       "[48,]  2.5           154        85.7                3.9         \n",
       "[49,]  2.5           136         4.5                6.3         \n",
       "[50,]  4.2           345         2.9               28.7         \n",
       "[51,]  3.7           459         5.1               26.9         \n",
       "[52,] 11.4           792       NA                  38.4         \n",
       "[53,] NA             NA        NA                   4.0         \n",
       "[54,] NA             NA        NA                  NA           \n",
       "[55,]  3.0            72       NA                   2.0         \n",
       "[56,]  1.3            39       NA                   0.9         \n",
       "[57,] NA             NA        NA                  NA           \n",
       "[58,]  0.5            74       NA                  NA           \n",
       "[59,] 10.3           244       NA                   1.9         \n",
       "[60,]  0.4             7         0.2                0.2         \n",
       "[61,]  0.8            12         5.0                1.8         \n",
       "      Riboflavin.mg.. Niacin.mg.. Asorbic.Acid..mg..\n",
       " [1,] 33.3            441         NA                \n",
       " [2,]  1.9             68         NA                \n",
       " [3,]  8.8            114         NA                \n",
       " [4,]  2.3             68         NA                \n",
       " [5,]  7.9            106         NA                \n",
       " [6,]  1.6            110         NA                \n",
       " [7,]  4.8             60         NA                \n",
       " [8,]  8.9             64         NA                \n",
       " [9,]  8.5            126         NA                \n",
       "[10,]  6.4            160         NA                \n",
       "[11,]  3.0             66         NA                \n",
       "[12,]  3.0             17         NA                \n",
       "[13,] NA              NA          NA                \n",
       "[14,] 16.0              7          177              \n",
       "[15,] 23.5             11           60              \n",
       "[16,]  0.2              2         NA                \n",
       "[17,] NA              NA          NA                \n",
       "[18,]  6.5              1         NA                \n",
       "[19,] 10.3              4         NA                \n",
       "[20,]  2.5            NA            17              \n",
       "[21,]  8.1            471         NA                \n",
       "[22,]  0.5            NA          NA                \n",
       "[23,] NA              NA          NA                \n",
       "[24,]  0.5              5         NA                \n",
       "[25,]  2.9             69         NA                \n",
       "[26,]  2.4             87         NA                \n",
       "[27,]  2.0            NA          NA                \n",
       "[28,]  4.0            120         NA                \n",
       "[29,] NA              NA          NA                \n",
       "[30,] 50.8            316          525              \n",
       "[31,] ...             ...         ...               \n",
       "[32,]  3.4             11          449              \n",
       "[33,]  5.9             21         1184              \n",
       "[34,]  7.1            198         2522              \n",
       "[35,] 13.8             33         2755              \n",
       "[36,]  5.4             83         1912              \n",
       "[37,]  1.0             31          196              \n",
       "[38,]  0.8              5           81              \n",
       "[39,]  0.8              7          399              \n",
       "[40,]  2.1             17          272              \n",
       "[41,]  4.3             32          431              \n",
       "[42,]  7.7             56         NA                \n",
       "[43,]  2.7             42          218              \n",
       "[44,]  2.5             37          370              \n",
       "[45,]  2.5             36         1253              \n",
       "[46,]  2.4             67          862              \n",
       "[47,]  4.3             55           57              \n",
       "[48,]  4.3             65          257              \n",
       "[49,]  1.4             24          136              \n",
       "[50,] 18.4            162         NA                \n",
       "[51,] 38.2             93         NA                \n",
       "[52,] 24.6            217         NA                \n",
       "[53,]  5.1             50         NA                \n",
       "[54,]  2.3             42         NA                \n",
       "[55,] 11.9             40         NA                \n",
       "[56,]  3.4             14         NA                \n",
       "[57,] NA              NA          NA                \n",
       "[58,] NA                5         NA                \n",
       "[59,]  7.5            146         NA                \n",
       "[60,]  0.4              3         NA                \n",
       "[61,]  2.7             18           75              "
      ]
     },
     "metadata": {},
     "output_type": "display_data"
    }
   ],
   "source": [
    "thepath = paste0(getwd(),\"/../data_mec_optim/lp_stigler-diet\")\n",
    "filename = \"/StiglerData1939.txt\"\n",
    "thedata = as.matrix(read.csv(paste0(thepath, filename), sep = \"\\t\", header = T))\n",
    "thedata[1:(dim(thedata)[1] - 2), ]  # cut off 2 redunant rows at the bottom"
   ]
  },
  {
   "cell_type": "markdown",
   "metadata": {},
   "source": [
    "Our dataset has the nutritional content of $77$ commodities, and in the final row, the daily minimum requirement of each of these nutrients."
   ]
  },
  {
   "cell_type": "markdown",
   "metadata": {},
   "source": [
    "### The Diet problem\n",
    "\n",
    "Problem setup:\n",
    "\n",
    "* Assume there are nutrients $i\\in\\left\\{  1,...,m\\right\\}  $ (calories, protein, calcium, iron, etc.) that matter for a person's health, in such way that the minimum daily intake of nutrient $i$ should be $d_{i}$.\n",
    "\n",
    "* Nutrients do not come as standalone elements, but are combined into various foods. Each unit of food $j\\in\\left\\{  1,...,n\\right\\}$ yields a quantity $N_{ij}$ of nutrient $i\\in\\left\\{1,...,m\\right\\}$. The dollar cost of food $j$ is $c_{j}$.\n",
    "\n",
    "The problem is to find the diet that achieves the minimal intake of each nutrient at a cheapest price. If $q\\in\\mathbb{R}^{n}$ is a vector such that $q_{j}\\geq0$ is the quantity of food $i$ purchased, the quantity of nutrient $i$ ingested is $\\sum_{j=1}^{n}N_{ij}q_{j}$, and the cost of the diet is $\\sum_{j=1}^{n}q_{j}c_{j}$. The optimal diet is therefore given by\n",
    "\n",
    "\\begin{align*}\n",
    "\\min_{q\\geq0}  &  ~c^{\\top}q\\\\\n",
    "s.t.~  &  Nq\\geq d.\\nonumber\n",
    "\\end{align*}\n",
    "\n",
    "Before we tackle this problem, let's look into the linear programming problem in standard form."
   ]
  },
  {
   "cell_type": "markdown",
   "metadata": {},
   "source": [
    "## A Crash Course on Linear Programming"
   ]
  },
  {
   "cell_type": "markdown",
   "metadata": {},
   "source": [
    "### Linear programming in standard form"
   ]
  },
  {
   "cell_type": "markdown",
   "metadata": {},
   "source": [
    "Let $c\\in\\mathbb{R}^{n}$, $d\\in\\mathbb{R}^{m}$, $A$ be a $m\\times n$ matrix, and consider the following problem\n",
    "\n",
    "\\begin{align}\n",
    "V_{P} = \\max_{x\\in\\mathbb{R}_{+}^{n}}  & \\, c^{\\top} x \\\\\n",
    "s.t.~Ax  &  \\leq d\n",
    "\\end{align}\n",
    "\n",
    "This problem is a *linear programming problem*, as the objective function, namely $x\\rightarrow c^{\\top}x$ is linear, and as the constraint, namely $x\\in\\mathbb{R}_{+}^{n}$ and $Ax=d$ are also linear (or more accurately, affine). This problem is called the *primal program*, for reasons to be explained soon. The set of $x$'s that satisfy the constraint are called *feasible solutions*; the set of solutions of the primal problem are called *optimal solutions*."
   ]
  },
  {
   "cell_type": "markdown",
   "metadata": {},
   "source": [
    "Remarks\n",
    "\n",
    "* The previous diet problem can be reformulate into this problem - why?\n",
    "\n",
    "* A problem does not necessarly have a feasible solution (e.g. if $A=0$ and $d\\neq0$), in which case (by convention) $V_{P}=-\\infty$.\n",
    "\n",
    "* The whole space may be solution (e.g. if $A=0$ and $d=0$), in which case $V_{P}=+\\infty$.\n"
   ]
  },
  {
   "cell_type": "markdown",
   "metadata": {},
   "source": [
    "### Duality"
   ]
  },
  {
   "cell_type": "markdown",
   "metadata": {},
   "source": [
    "There is a powerful tool called duality which provides much insight into the analysis of the primal problem. The idea is to rewrite the problem as\n",
    "\n",
    "\\begin{align*}\n",
    "V_{P}=\\max_{x\\in\\mathbb{R}_{+}^{n}}\\left\\{  c^{\\top}x+L_{P}\\left(\n",
    "d-Ax\\right)  \\right\\}\n",
    "\\end{align*}\n",
    "\n",
    "where $L_{P}\\left(z\\right)$ is a penalty function whose value is zero if the constraint is met, that is if $z=0$, and $-\\infty$ if it is not, namely if $z\\neq0$. The simplest choice of such penalty function is given by $L_{P}\\left(  z\\right)  =\\min_{y\\in\\mathbb{R}^{m}}\\left\\{  z^{\\top}y\\right\\}$. One has\n",
    "\n",
    "\\begin{align*}\n",
    "V_{P}=\\max_{x\\in\\mathbb{R}_{+}^{n}}\\min_{y\\in\\mathbb{R}^{m}}\\left\\{c^{\\top}x+\\left(  d-Ax\\right)  ^{\\top}y\\right\\}  .\n",
    "\\end{align*}"
   ]
  },
  {
   "cell_type": "markdown",
   "metadata": {},
   "source": [
    "However, the minimax inequality $\\max_{x}\\min_{y}\\leq\\min_{y}\\max_{x}$ always holds, thus\n",
    "\n",
    "\\begin{align*}\n",
    "V_{P}  &  \\leq\\min_{y\\in\\mathbb{R}^{m}}\\max_{x\\in\\mathbb{R}_{+}^{n}}\\left\\{\n",
    "c^{\\top}x+\\left(  d-Ax\\right)  ^{\\top}y\\right\\}  =\\min_{y\\in\\mathbb{R}^{m}\n",
    "}\\max_{x\\in\\mathbb{R}_{+}^{n}}\\left\\{  x^{\\top}\\left(  c-A^{\\top}y\\right)\n",
    "+d^{\\top}y\\right\\} \\\\\n",
    "&  \\leq\\min_{y\\in\\mathbb{R}^{m}}\\left\\{  d^{\\top}y+L_{D}\\left(  c-A^{\\top\n",
    "}y\\right)  \\right\\}  =:V_{D}\n",
    "\\end{align*}\n",
    "\n",
    "where $L_{D}\\left(z\\right) = \\max_{x\\in\\mathbb{R}_{+}^{n}}\\left\\{x^{\\top}z\\right\\}$ is equal to $0$ if $z\\in\\mathbb{R}_{-}^{n}$, and to $+\\infty$ if not. Therefore, the value $V_{D}$ is expressed by the *dual program*\n",
    "\n",
    "\\begin{align}\n",
    "V_{D}=\\min_{y\\in\\mathbb{R}^{m}}  & \\,  d^{\\top}y, \\\\\n",
    "s.t.~A^{\\top}y  &  \\geq c\n",
    "\\end{align}\n",
    "\n",
    "and the weak duality inequality $V_{P}\\leq V_{D}$ holds. It turns out that as\n",
    "soon as either the primal or dual program has an optimal solution, then both\n",
    "programs have an optimal solution and the values of the two programs coincide,\n",
    "so the weak duality becomes an equality $V_{P}=V_{D}$ called strong duality.\n",
    "Further, if $x^{\\ast}\\in\\mathbb{R}_{+}^{n}$ is an optimal primal solution, and\n",
    "$y^{\\ast}\\in\\mathbb{R}^{m}$ is an optimal dual solution, then complementary\n",
    "slackness holds, that is $x_{i}^{\\ast}>0$ implies $\\left(  A^{\\top}y^{\\ast\n",
    "}\\right)  _{i}=c_{i}$."
   ]
  },
  {
   "cell_type": "markdown",
   "metadata": {},
   "source": [
    "### Duality theorem\n",
    "We summarize these results into the following statement.\n",
    "\n",
    "---\n",
    "**Theorem.** In the setting described above:\n",
    "\n",
    "1. The weak duality inequality holds:\n",
    "\n",
    "\\begin{align}\n",
    "V_{P}\\leq V_{D}.\n",
    "\\end{align}\n",
    "\n",
    "2. As soon as the primal or the dual program have an optimal solution, then both programs have an optimal solution, and strong duality holds:\n",
    "\n",
    "\\begin{align}\n",
    "V_{P}=V_{D}.\n",
    "\\end{align}\n",
    "\n",
    "3. If $x^{\\ast}\\in\\mathbb{R}_{+}^{n}$ is an optimal primal solution, and $y^{\\ast}\\in\\mathbb{R}^{m}$ is an optimal dual solution, then complementary slackness holds:\n",
    "\n",
    "\\begin{align}\n",
    "x_{i}^{\\ast}>0\\text{  implies  }\\left(  A^{\\top}y^{\\ast}\\right)  _{i}=c_{i}.\n",
    "\\end{align}\n",
    "\n",
    "---"
   ]
  },
  {
   "cell_type": "markdown",
   "metadata": {},
   "source": [
    "## The diet problem (revisited)"
   ]
  },
  {
   "cell_type": "markdown",
   "metadata": {},
   "source": [
    "Recall the optimal diet problem\n",
    "\n",
    "\\begin{align*}\n",
    "\\min_{q\\geq0}  &  \\, c^{\\top}q\\\\\n",
    "s.t.~  &  Nq\\geq d.\n",
    "\\end{align*}\n",
    "\n",
    "which has minimax formulation $\\min_{q\\geq0}\\max_{\\pi\\geq0}c^{\\top}q+d^{\\top}\\pi-q^{\\top}N^{\\top}\\pi$, so the dual is\n",
    "\n",
    "\\begin{align*}\n",
    "\\max_{\\pi\\geq0}  & \\, d^{\\top}\\pi\\\\\n",
    "s.t.~  &  N^{\\top}\\pi\\leq c\n",
    "\\end{align*}\n",
    "\n",
    "Interpretation: imagine that there is a new firm called Nutrient Shoppe, who sells raw nutrients. Let $\\pi_{i}$ be the price of nutrient $i$. The cost of the diet is $d^{\\top}\\pi$. Consumer purchase raw nutrients and can generate\n",
    "\"synthetic foods\". The cost of the synthetic version of food $j$ is $\\sum_{i=1}^{m}N_{ij}\\pi_{i}=\\left(N^{\\intercal}\\pi\\right)_{j}$. The constraint thus means that each \"synthetic food\" is more affordable than\n",
    "its natural counterpart."
   ]
  },
  {
   "cell_type": "markdown",
   "metadata": {},
   "source": [
    "The duality means that it is possible to price the nutrients so that the\n",
    "synthetic foods are cheaper than the natural ones, in such a way that the\n",
    "price of the synthetic diet equals the price of the natural diet.\n",
    "\n",
    "Complementary slackness yields:\n",
    "\n",
    "* $q_{j}>0$ implies $\\left(  N^{\\intercal}\\pi\\right)  _{j}=c_{j}$; that\n",
    "is, if natural food $j$ is actually purchased, then the prices of its\n",
    "synthetic and natural versions coincide\n",
    "\n",
    "* $\\pi_{i}>0$ implies $\\left(  Nq\\right)  _{i}=d_{i}$; that is, if\n",
    "nutrient $i$ has a positive price, then the natural diet has the\n",
    "\"just right\" amount."
   ]
  },
  {
   "cell_type": "markdown",
   "metadata": {},
   "source": [
    "### Solving the diet problem\n",
    "\n",
    "To solve the primal problem we need to construct the objects $c$, $N$ and $d$. $c$ is simply a vector of ones, the size of the number of commodities. $N$ is a matrix of amount of nutrients in each commodity. $d$ is the required daily allowance of each nutrient."
   ]
  },
  {
   "cell_type": "code",
   "execution_count": 3,
   "metadata": {
    "collapsed": true
   },
   "outputs": [],
   "source": [
    "nbCommodities = length(which(thedata[, 1] != \"\")) - 1\n",
    "names = thedata[1:nbCommodities, 1]\n",
    "themat = matrix(as.numeric(thedata[, 3:13]), ncol = 11)\n",
    "themat[is.na(themat)] = 0\n",
    "N = t(themat[1:nbCommodities, 3:11])\n",
    "d = themat[(nbCommodities + 1), 3:11]\n",
    "c = rep(1, nbCommodities)"
   ]
  },
  {
   "cell_type": "markdown",
   "metadata": {},
   "source": [
    "We will be using [Gurobi](http://www.gurobi.com/) as our linear programming solver for the entirety of this course. Whilst Gurobi is not neccassary-as there are many available linear programming solvers-it is lightning quick and free for acedemics.\n",
    "\n",
    "So let's first load up the Gurobi library."
   ]
  },
  {
   "cell_type": "code",
   "execution_count": 4,
   "metadata": {},
   "outputs": [
    {
     "name": "stderr",
     "output_type": "stream",
     "text": [
      "Loading required package: slam\n"
     ]
    }
   ],
   "source": [
    "library(gurobi)"
   ]
  },
  {
   "cell_type": "markdown",
   "metadata": {},
   "source": [
    "And look at the functions syntax."
   ]
  },
  {
   "cell_type": "code",
   "execution_count": 5,
   "metadata": {
    "collapsed": true
   },
   "outputs": [],
   "source": [
    "?gurobi"
   ]
  },
  {
   "cell_type": "code",
   "execution_count": 6,
   "metadata": {
    "collapsed": true
   },
   "outputs": [],
   "source": [
    "?gurobi_model"
   ]
  },
  {
   "cell_type": "code",
   "execution_count": 7,
   "metadata": {
    "collapsed": true
   },
   "outputs": [],
   "source": [
    "?gurobi_params"
   ]
  },
  {
   "cell_type": "markdown",
   "metadata": {},
   "source": [
    "So mapping from gurobis notation to ours, \n",
    "* `A` = $N$\n",
    "* `obj` = $c$\n",
    "* `sense` = '$>$'\n",
    "* `rhs` = $d$\n",
    "* `modelsense` = '$\\min$'"
   ]
  },
  {
   "cell_type": "code",
   "execution_count": 8,
   "metadata": {},
   "outputs": [
    {
     "name": "stdout",
     "output_type": "stream",
     "text": [
      "Optimize a model with 9 rows, 77 columns and 570 nonzeros\n",
      "Coefficient statistics:\n",
      "  Matrix range     [1e-01, 5e+03]\n",
      "  Objective range  [1e+00, 1e+00]\n",
      "  Bounds range     [0e+00, 0e+00]\n",
      "  RHS range        [8e-01, 8e+01]\n",
      "Presolve removed 0 rows and 47 columns\n",
      "Presolve time: 0.01s\n",
      "Presolved: 9 rows, 30 columns, 240 nonzeros\n",
      "\n",
      "Iteration    Objective       Primal Inf.    Dual Inf.      Time\n",
      "       0    0.0000000e+00   1.384688e+01   0.000000e+00      0s\n",
      "       5    1.0866228e-01   0.000000e+00   0.000000e+00      0s\n",
      "\n",
      "Solved in 5 iterations and 0.01 seconds\n",
      "Optimal objective  1.086622782e-01\n"
     ]
    }
   ],
   "source": [
    "result = gurobi(list(A = N, obj = c, sense = \">\", rhs = d, modelsense = \"min\"))  #, params = list(OutputFlag = 0))"
   ]
  },
  {
   "cell_type": "markdown",
   "metadata": {},
   "source": [
    "Let's see what is in the `result` object:"
   ]
  },
  {
   "cell_type": "code",
   "execution_count": 9,
   "metadata": {},
   "outputs": [
    {
     "name": "stdout",
     "output_type": "stream",
     "text": [
      "List of 13\n",
      " $ status      : chr \"OPTIMAL\"\n",
      " $ runtime     : num 0.0128\n",
      " $ itercount   : num 5\n",
      " $ baritercount: int 0\n",
      " $ nodecount   : num 0\n",
      " $ objval      : num 0.109\n",
      " $ x           : num [1:77] 0.0295 0 0 0 0 ...\n",
      " $ slack       : num [1:9] 0 -77.4 0 -48.5 0 ...\n",
      " $ rc          : num [1:77] 0 0.845 0.296 0.859 0.489 ...\n",
      " $ pi          : num [1:9] 0.00877 0 0.03174 0 0.0004 ...\n",
      " $ vbasis      : int [1:77] 0 -1 -1 -1 -1 -1 -1 -1 -1 -1 ...\n",
      " $ cbasis      : int [1:9] -1 0 -1 0 -1 0 -1 0 -1\n",
      " $ objbound    : num 0.109\n"
     ]
    }
   ],
   "source": [
    "str(result)"
   ]
  },
  {
   "cell_type": "markdown",
   "metadata": {},
   "source": [
    "We are after the optimal solutions `x`, the dual solution `pi` and the value function `objval`"
   ]
  },
  {
   "cell_type": "code",
   "execution_count": 10,
   "metadata": {
    "collapsed": true
   },
   "outputs": [],
   "source": [
    "q_yearly = result$x * 365  # convert into yearly cost\n",
    "pi = result$pi\n",
    "cost_daily = result$objval"
   ]
  },
  {
   "cell_type": "markdown",
   "metadata": {},
   "source": [
    "Our optimal solution (including only foods which are non-zero)"
   ]
  },
  {
   "cell_type": "code",
   "execution_count": 11,
   "metadata": {},
   "outputs": [
    {
     "name": "stdout",
     "output_type": "stream",
     "text": [
      "[1] \"*** Optimal solution ***\"\n"
     ]
    },
    {
     "data": {
      "text/html": [
       "<dl class=dl-horizontal>\n",
       "\t<dt>1. Wheat Flour (Enriched)</dt>\n",
       "\t\t<dd>10.7744575119182</dd>\n",
       "\t<dt>30. Liver (Beef)</dt>\n",
       "\t\t<dd>0.690783411107421</dd>\n",
       "\t<dt>46. Cabbage</dt>\n",
       "\t\t<dd>4.09326886484288</dd>\n",
       "\t<dt>52. Spinach </dt>\n",
       "\t\t<dd>1.8277960703547</dd>\n",
       "\t<dt>69. Navy Beans Dried</dt>\n",
       "\t\t<dd>22.275425687243</dd>\n",
       "</dl>\n"
      ],
      "text/latex": [
       "\\begin{description*}\n",
       "\\item[1. Wheat Flour (Enriched)] 10.7744575119182\n",
       "\\item[30. Liver (Beef)] 0.690783411107421\n",
       "\\item[46. Cabbage] 4.09326886484288\n",
       "\\item[52. Spinach ] 1.8277960703547\n",
       "\\item[69. Navy Beans Dried] 22.275425687243\n",
       "\\end{description*}\n"
      ],
      "text/markdown": [
       "1. Wheat Flour (Enriched)\n",
       ":   10.774457511918230. Liver (Beef)\n",
       ":   0.69078341110742146. Cabbage\n",
       ":   4.0932688648428852. Spinach \n",
       ":   1.827796070354769. Navy Beans Dried\n",
       ":   22.275425687243\n",
       "\n"
      ],
      "text/plain": [
       "1. Wheat Flour (Enriched)          30. Liver (Beef)               46. Cabbage \n",
       "               10.7744575                 0.6907834                 4.0932689 \n",
       "             52. Spinach       69. Navy Beans Dried \n",
       "                1.8277961                22.2754257 "
      ]
     },
     "metadata": {},
     "output_type": "display_data"
    },
    {
     "name": "stdout",
     "output_type": "stream",
     "text": [
      "[1] \"Total cost (optimal)= 39.6617315454663\"\n"
     ]
    }
   ],
   "source": [
    "print(\"*** Optimal solution ***\")\n",
    "toKeep = which(q_yearly != 0)\n",
    "foods = q_yearly[toKeep]\n",
    "names(foods) = names[toKeep]\n",
    "foods\n",
    "print(paste0(\"Total cost (optimal)= \", sum(q_yearly * c)))"
   ]
  },
  {
   "cell_type": "markdown",
   "metadata": {},
   "source": [
    "As promised, we achieve the minimum cost bundle at $\\$39.67$ per year in $1939$ dollars. If we compare this to Stigler's solutions which was \n",
    "\n",
    "|Food| Annual Quantities| Annual Cost|\n",
    "| ---------- | ------------------ | ------------ |\n",
    "| Wheat Flour | \t370 lb.|   \\$13.33 |\n",
    "| Evaporated Milk | \t57 cans |\t  \\$3.84 |\n",
    "|Cabbage| \t111 lb. \t  |\\$4.11|\n",
    "|Spinach| \t23 lb. \t  |\\$1.85|\n",
    "|Dried Navy Beans| \t285 lb. |\t\\$16.80|\n",
    "|Total Annual Cost| \t&nbsp; \t| \\$39.93 |"
   ]
  },
  {
   "cell_type": "code",
   "execution_count": null,
   "metadata": {
    "collapsed": true
   },
   "outputs": [],
   "source": []
  },
  {
   "cell_type": "code",
   "execution_count": null,
   "metadata": {
    "collapsed": true
   },
   "outputs": [],
   "source": []
  }
 ],
 "metadata": {
  "kernelspec": {
   "display_name": "R",
   "language": "R",
   "name": "ir"
  },
  "language_info": {
   "codemirror_mode": "r",
   "file_extension": ".r",
   "mimetype": "text/x-r-source",
   "name": "R",
   "pygments_lexer": "r",
   "version": "3.6.0"
  }
 },
 "nbformat": 4,
 "nbformat_minor": 2
}
