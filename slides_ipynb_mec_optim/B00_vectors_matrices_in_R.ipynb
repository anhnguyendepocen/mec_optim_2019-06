{
 "cells": [
  {
   "cell_type": "markdown",
   "metadata": {},
   "source": [
    "# <center>Block 0: Vectors and matrices in R</center>\n",
    "### <center>Alfred Galichon (NYU)</center>\n",
    "## <center>`math+econ+code' masterclass on matching models, optimal transport and applications</center>\n",
    "<center>© 2018-2019 by Alfred Galichon. Support from NSF grant DMS-1716489 is acknowledged.</center>\n"
   ]
  },
  {
   "cell_type": "markdown",
   "metadata": {},
   "source": [
    "## Vectors and matrices in R\n",
    "* One of the reason the R language is so appealing is the powerful matrix algebra functionalities. However, there are a few points to understand to make efficient use of it. This tutorial is a brief introduction to these topics -- vectorization, operations on vectors and matrices, higher-dimensional arrays, Kronecker products and sparse matrices.\n",
    "\n",
    "* This is *not* a tutorial on R itself. They are plenty good ones available on the web.\n"
   ]
  },
  {
   "cell_type": "markdown",
   "metadata": {},
   "source": [
    "## Vectorization and memory order\n",
    "\n",
    "* R is a language based on matrices; however matrices are represented in a *vectorized* way as a sequence of numbers in the computers memory. This representation can involve either stacking the lines, or stacking the columns.\n",
    "\n",
    "* Different programming languages can use either of the two stacking conventions:\n",
    "    + Stacking the lines (Row-major order) is used by C, and is the default convention for for Python (Numpy).\n",
    "    + Stacking the columns (Column-major order) is used by Fortran, Matlab, R, and most underlying core linear algebra libraries (like BLAS). A $2\\times2$ matrix $A$ is then vectorized as $\\left(  A_{11},A_{21},A_{12},A_{22}\\right)$. Thus, we shall remember that R represents matrices by **varying the first index first**."
   ]
  },
  {
   "cell_type": "code",
   "execution_count": 2,
   "metadata": {},
   "outputs": [
    {
     "name": "stdout",
     "output_type": "stream",
     "text": [
      "     [,1] [,2]\n",
      "[1,]   11   12\n",
      "[2,]   21   22\n",
      "[3,]   31   32\n",
      "     [,1] [,2] [,3]\n",
      "[1,]   11   31   22\n",
      "[2,]   21   12   32\n"
     ]
    }
   ],
   "source": [
    "tst = matrix(c(11,21,31,12,22,32),3,2)\n",
    "print(tst)\n",
    "print(matrix(tst,2,3))"
   ]
  },
  {
   "cell_type": "markdown",
   "metadata": {},
   "source": [
    "\n",
    "* More generally, a $2\\times2\\times2$ 3-dimensional array $A$ will be represented as $\\left(A_{111},A_{211},A_{121},A_{221},A_{112},A_{212},A_{122},A_{222}\\right) $, and so on."
   ]
  },
  {
   "cell_type": "code",
   "execution_count": 3,
   "metadata": {},
   "outputs": [
    {
     "name": "stdout",
     "output_type": "stream",
     "text": [
      " [1] 111 211 311 121 221 321 131 231 331 112 212 312 122 222 322 132 232 332 113\n",
      "[20] 213 313 123 223 323 133 233 333\n"
     ]
    }
   ],
   "source": [
    "tst2 = array(0,dim=c(3,3,3))\n",
    "for (i in 1:3) {\n",
    "  for (j in 1:3){\n",
    "    for (k in 1:3){\n",
    "      tst2[i,j,k] = 100*i+10*j+k\n",
    "    }\n",
    "  }\n",
    "}\n",
    "print(c(tst2))"
   ]
  },
  {
   "cell_type": "markdown",
   "metadata": {},
   "source": [
    "## Vectorizing functions\n",
    "\n",
    "* If f is a function defined to take a scalar argument, then applying f to a vector will return the value of f on the first entry of the vector and will generate a warning message. E.g. `f(c(1,2))` will return the same as `f(1)`.\n"
   ]
  },
  {
   "cell_type": "code",
   "execution_count": 3,
   "metadata": {},
   "outputs": [
    {
     "name": "stderr",
     "output_type": "stream",
     "text": [
      "Warning message in if (x > 0) {:\n",
      "\"the condition has length > 1 and only the first element will be used\""
     ]
    },
    {
     "name": "stdout",
     "output_type": "stream",
     "text": [
      "[1] -1\n"
     ]
    }
   ],
   "source": [
    "f = function (x){\n",
    "  if (x>0) {\n",
    "    return(1) } else {\n",
    "    return(-1)\n",
    "  }}\n",
    "\n",
    "print(f(c(0,1))) # wrong! "
   ]
  },
  {
   "cell_type": "markdown",
   "metadata": {},
   "source": [
    "* Here, we wanted to apply f on each entries of the vector. In this case, one needs to vectorize the function, by doing `Vectorize(f)(c(1,2))`, which will return `[f(1),f(2)]`."
   ]
  },
  {
   "cell_type": "code",
   "execution_count": 4,
   "metadata": {},
   "outputs": [
    {
     "name": "stdout",
     "output_type": "stream",
     "text": [
      "[1] -1  1\n"
     ]
    }
   ],
   "source": [
    "fvec = Vectorize(f)\n",
    "print(fvec(c(0,1))) # correct!"
   ]
  },
  {
   "cell_type": "markdown",
   "metadata": {},
   "source": [
    "* Note that a number of built-in operators and functions are already vectorized.\n",
    "    + E.g. `c(-2,2)>0` will produce `[FALSE, TRUE]`\n",
    "    + But all functions are not vectorized, e.g. sum, max...\n",
    "* Back to our example, one could have used `ifelse`:"
   ]
  },
  {
   "cell_type": "code",
   "execution_count": 5,
   "metadata": {},
   "outputs": [
    {
     "name": "stdout",
     "output_type": "stream",
     "text": [
      "[1] -1  1\n"
     ]
    }
   ],
   "source": [
    "fbis = function (x) (ifelse(x>0,1,-1))\n",
    "print(fbis(c(0,1))) # correct again!"
   ]
  },
  {
   "cell_type": "markdown",
   "metadata": {},
   "source": [
    "* As another example, vectorizing functions is often quite useful for plotting:"
   ]
  },
  {
   "cell_type": "code",
   "execution_count": 6,
   "metadata": {},
   "outputs": [
    {
     "data": {
      "image/png": "[encoded data removed]",
      "text/plain": [
       "plot without title"
      ]
     },
     "metadata": {},
     "output_type": "display_data"
    }
   ],
   "source": [
    "# Example of use for plotting a function\n",
    "xs = runif(100)\n",
    "thequantilemap = Vectorize(function (t) (quantile(xs,t)))\n",
    "ts = (0:100)/100\n",
    "vals = thequantilemap(ts)\n",
    "plot(x = ts,y = thequantilemap(ts),type = 'l' )"
   ]
  },
  {
   "cell_type": "markdown",
   "metadata": {},
   "source": [
    "## Vector and matrix multiplication\n",
    "* Contrary to Matlab, in R, the operator `*` is not the matrix product, but the termwise product. Calling `v1 * v2` thus requires that `v1` and `v2` have the same length and dimensions, unless `v1` and `v2` are two vectors and the dimension of one is a multiple of the dimension of the other, in which case the smaller vector is repeated the ad-hoc number of times to equate its size with the other one."
   ]
  },
  {
   "cell_type": "code",
   "execution_count": 5,
   "metadata": {},
   "outputs": [
    {
     "name": "stdout",
     "output_type": "stream",
     "text": [
      "[1] 1 4 9\n",
      "[1]  1  4  9  4 10 18\n",
      "[1]  1  4  9  4 10 18\n"
     ]
    },
    {
     "name": "stderr",
     "output_type": "stream",
     "text": [
      "Warning message in v1 * v4:\n",
      "\"longer object length is not a multiple of shorter object length\""
     ]
    },
    {
     "name": "stdout",
     "output_type": "stream",
     "text": [
      "[1]  1  4  9  4 10 18  7\n"
     ]
    }
   ],
   "source": [
    "v1 = v2 = 1:3\n",
    "v3 = 1:6\n",
    "v4 = 1:7\n",
    "\n",
    "print(v1*v2)         # this is the termwise product of v1 and v2\n",
    "print(v1*v3)         # v1 has been repeated twice to fit the size of v3\n",
    "print(c(v1,v1)*v3)   # gives the same result as above\n",
    "print(v1*v4)         # we get a warning that length of v4 is not a multiple of that of v1\n",
    "\n"
   ]
  },
  {
   "cell_type": "markdown",
   "metadata": {},
   "source": [
    "* When multiplying a matrix by a vector with the same size, we will get a matrix with the same dimensions as the first matrix, and whose vectorized entries will be the product of the vectorized matrix times the vector."
   ]
  },
  {
   "cell_type": "code",
   "execution_count": 6,
   "metadata": {},
   "outputs": [
    {
     "name": "stdout",
     "output_type": "stream",
     "text": [
      "[1] \"M=\"\n",
      "     [,1] [,2]\n",
      "[1,]    1    4\n",
      "[2,]    2    5\n",
      "[3,]    3    6\n",
      "[1] \"M*cbind(v1,v1)=\"\n",
      "     v1 v1\n",
      "[1,]  1  4\n",
      "[2,]  4 10\n",
      "[3,]  9 18\n",
      "[1] \"M*v1=\"\n",
      "     [,1] [,2]\n",
      "[1,]    1    4\n",
      "[2,]    4   10\n",
      "[3,]    9   18\n"
     ]
    }
   ],
   "source": [
    "M = matrix(1:6,3,2)\n",
    "print(\"M=\")\n",
    "print(M)\n",
    "\n",
    "# suppose we want to multiply the lines of M by entries of v1 = c(1,2,3)\n",
    "print(\"M*cbind(v1,v1)=\")\n",
    "print(M*cbind(v1,v1))\n",
    "print(\"M*v1=\")\n",
    "print(M*v1)             # same result as above; the columns of v1 have been duplicated into a matrix of same size of M"
   ]
  },
  {
   "cell_type": "code",
   "execution_count": 7,
   "metadata": {},
   "outputs": [
    {
     "name": "stdout",
     "output_type": "stream",
     "text": [
      "[1] \"M*rbind(w,w,w)=\"\n",
      "  [,1] [,2]\n",
      "w    1    8\n",
      "w    2   10\n",
      "w    3   12\n",
      "[1] \"M*rbind(w,w,w)=\"\n",
      "     [,1] [,2]\n",
      "[1,]    1    8\n",
      "[2,]    2   10\n",
      "[3,]    3   12\n"
     ]
    }
   ],
   "source": [
    "# now suppose we want to multiply the columns of m by entries of w = c(1,2)\n",
    "w = c(1:2)\n",
    "print(\"M*rbind(w,w,w)=\")\n",
    "print(M*rbind(w,w,w))\n",
    "\n",
    "print(\"M*rbind(w,w,w)=\") \n",
    "print(t(t(M)*w)) # same as above; note that we had to transpose M twice  \n"
   ]
  },
  {
   "cell_type": "markdown",
   "metadata": {},
   "source": [
    "## Apply\n",
    "* Let `A[i,j,k]` be a 3-dimensional array of dimension I×J×K. Consider `f` a function that takes a vector argument, and assume `f` is not vectorized.\n",
    "    + `apply(X = A,MARGIN = 2,FUN = f)` will produce a 1-dimensional array `B` whose entry `B[j]` will be `f(A[,j,])`.\n",
    "    + `apply(X = A,MARGIN = c(1,3),FUN = f)` will produce a 2-dimensional array `B` whose entry `B[i,k]` will be `f(A[i,,k])`."
   ]
  },
  {
   "cell_type": "code",
   "execution_count": 10,
   "metadata": {},
   "outputs": [
    {
     "name": "stdout",
     "output_type": "stream",
     "text": [
      " [1]  1  2  3  4  5  6  7  8  9 10 11 12 13 14 15 16 17 18 19 20 21 22 23 24\n",
      "[1] 11 12 13 14\n",
      "[1]  8.5 12.5 16.5\n",
      "[1]  6.5 18.5\n",
      "     [,1] [,2]\n",
      "[1,]    5   17\n",
      "[2,]    6   18\n",
      "[3,]    7   19\n",
      "[4,]    8   20\n"
     ]
    }
   ],
   "source": [
    "tst = array(1:24,dim=c(4,3,2))\n",
    "print(c(tst))\n",
    "print(apply(X = tst,MARGIN = 1,FUN = mean))\n",
    "print(apply(X = tst,MARGIN = 2,FUN = mean))\n",
    "print(apply(X = tst,MARGIN = 3,FUN = mean))\n",
    "print(apply(X = tst,MARGIN = c(1,3),FUN = mean)) "
   ]
  }
 ],
 "metadata": {
  "kernelspec": {
   "display_name": "R",
   "language": "R",
   "name": "ir"
  },
  "language_info": {
   "codemirror_mode": "r",
   "file_extension": ".r",
   "mimetype": "text/x-r-source",
   "name": "R",
   "pygments_lexer": "r",
   "version": "3.5.1"
  }
 },
 "nbformat": 4,
 "nbformat_minor": 2
}
