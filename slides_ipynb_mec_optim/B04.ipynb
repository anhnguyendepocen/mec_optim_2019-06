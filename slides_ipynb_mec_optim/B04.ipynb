{
 "cells": [
  {
   "cell_type": "markdown",
   "metadata": {},
   "source": [
    "# <center>Block 4: Discrete optimal transport</center>\n",
    "### <center>Alfred Galichon (NYU)</center>\n",
    "## <center>`math+econ+code' masterclass on matching models, optimal transport and applications</center>\n",
    "<center>© 2018-2019 by Alfred Galichon. Support from NSF grant DMS-1716489 is acknowledged. James Nesbit contributed.</center>"
   ]
  },
  {
   "cell_type": "markdown",
   "metadata": {},
   "source": [
    "## Optimal Transport I: Discrete Transport"
   ]
  },
  {
   "cell_type": "markdown",
   "metadata": {},
   "source": [
    "### Learning Objectives\n",
    "\n",
    "* Optimal assignment problem\n",
    "\n",
    "* Pairwise stability, Walrasian equilibrium\n",
    "\n",
    "* Computation"
   ]
  },
  {
   "cell_type": "markdown",
   "metadata": {},
   "source": [
    "### References\n",
    "\n",
    "* [OTME], Ch. 3\n",
    "\n",
    "* Roth, Sotomayor(1990). *Two-Sided Matching*. Cambridge.\n",
    "\n",
    "* Koopmans and Beckmann (1957). \"Assignment problems and the location of economic activities.\" *Econometrica*.\n",
    "\n",
    "* Shapley and Shubik (1972). The assignment game I: The core.\" *IJGT*.\n",
    "\n",
    "* Becker (1993). *A Treatise of the Family*. Harvard.\n",
    "\n",
    "* Gretsky, Ostroy, and Zame (1992). \"The nonatomic assignment model.\" *Economic Theory*.\n",
    "\n",
    "* Burkard, Dell'Amico, and Martello (2012). *Assignment Problems*. SIAM.\n",
    "\n",
    "* Dupuy and Galichon (2014). \"Personality traits and the marriage market.\" *JPE*."
   ]
  },
  {
   "cell_type": "markdown",
   "metadata": {},
   "source": [
    "## Motivation"
   ]
  },
  {
   "cell_type": "markdown",
   "metadata": {},
   "source": [
    "### Optimal Transport\n",
    "\n",
    "Consider the problem of assigning a possibly infinite number of workers\n",
    "and firms.\n",
    "\n",
    "* Each worker should work for one firm, and each firm should hire one worker.\n",
    "\n",
    "* Workers and firms have heterogenous characteristics; let $x\\in \\mathcal{X}$ and $y\\in\\mathcal{Y}$ be the characteristics of workers and firms respectively.\n",
    "\n",
    "* Workers and firms are in equal mass, which is normalized to one. The distribution of worker's types is $P$, and the distribution of the firm's types is $Q$, where $P$ and $Q$ are probability measures on $\\mathcal{X}$ and $\\mathcal{Y}$.\n",
    "\n",
    "It is assumed that if a worker $x$ matches with a firm $y$, the total output generated is $\\Phi_{xy}$. The questions are then:\n",
    "\n",
    "* **Optimality:** what is the optimal assignment in the sense that it maximizes the overal output generated?\n",
    "\n",
    "* **Equilibrium:** what are the equilibrium assignment and the equilibrium wages?\n",
    "\n",
    "* **Efficiency:** do these two notions coincide?\n",
    "\n",
    "The same tools have been used by Gary Becker to study the heterosexual marriage market, where $x$ is the man's characteristics, and $y$ is the woman's characteristics, and \"wages\" are replaced by \"transfers\"."
   ]
  },
  {
   "cell_type": "markdown",
   "metadata": {},
   "source": [
    "## Data\n",
    "\n",
    "In this block, we shall take a first look at marriage data (while a worker-firm example will be seen in next block). Dupuy and Galichon (JPE, 2014) study a marriage dataset where, in addition to usual socio-demographic variables (such as education and age), measures of personality traits are reported.\n",
    "\n",
    "* The literature on quantitative psychology argues that one can capture relatively well an individual's personality along five dimensions, the \"big 5\" - consciousness, extraversion, agreableness, emotional stability, autonomy - assessed though a standardized questionaire.\n",
    "\n",
    "* In addition to this, we observed a (self-assessed) measure of health, risk-aversion, education, height and body mass index = weight in kg/ (height in m)$^2$. In total, the available characteristics $x_{i}$ of man $i$ and $y_{j}$ of woman $j$ are both $10$-dimensional vectors.\n",
    "\n",
    "* It is assumed that the surplus of interaction is given by $\\Phi\\left(x_{i},y_{j}\\right)  =x_{i}^{\\intercal}Ay_{j}$, where $A$ is a *given* $10 \\times 10$ matrix. (later in this course, we'll see how to estimate $A$ based on matched marital data).\n",
    "\n",
    "Today, we solve a central planner's problem (a stylized version of the problem OKCupids would solve): given a population of men and a population of women, how do we mutually assign these in order to:\n",
    "\n",
    "1. maximize matching surplus \n",
    "\n",
    "2. attain a (hopefully) stable assignment."
   ]
  },
  {
   "cell_type": "code",
   "execution_count": 1,
   "metadata": {},
   "outputs": [
    {
     "name": "stderr",
     "output_type": "stream",
     "text": [
      "Loading required package: slam\n"
     ]
    }
   ],
   "source": [
    "library('Matrix')\n",
    "library('gurobi')\n",
    "thePath = getwd()\n",
    "nbcar = 10 # number of characteristics\n",
    "\n",
    "data_X = as.matrix(read.csv(paste0(thePath,\"/Xvals.csv\"), sep=\",\", header=TRUE)) # loads the data\n",
    "Xvals = matrix(as.numeric(data_X[,1:nbcar]), ncol=nbcar)\n",
    "\n",
    "data_Y = as.matrix(read.csv(paste0(thePath,\"/Yvals.csv\"), sep=\",\", header=TRUE)) # loads the data\n",
    "Yvals = matrix(as.numeric(data_Y[,1:nbcar]), ncol=nbcar)\n",
    "\n",
    "data_aff = as.matrix(read.csv(paste0(thePath,\"/affinitymatrix.csv\"),sep=\",\", header=TRUE)) # loads the data"
   ]
  },
  {
   "cell_type": "code",
   "execution_count": 37,
   "metadata": {},
   "outputs": [
    {
     "data": {
      "text/html": [
       "<table>\n",
       "<thead><tr><th scope=col>educm</th><th scope=col>heightm</th><th scope=col>BMIm</th><th scope=col>healthm</th><th scope=col>consm</th><th scope=col>extram</th><th scope=col>agreem</th><th scope=col>emom</th><th scope=col>autom</th><th scope=col>riskym</th></tr></thead>\n",
       "<tbody>\n",
       "\t<tr><td>2        </td><td>186      </td><td>28.90508 </td><td>3        </td><td>-0.752877</td><td>-0.360787</td><td>-0.711276</td><td>-0.291031</td><td> 0.840217</td><td> 0.479437</td></tr>\n",
       "\t<tr><td>2        </td><td>176      </td><td>27.44060 </td><td>3        </td><td> 0.345542</td><td>-0.805524</td><td>-0.251796</td><td>-0.305475</td><td>-0.064454</td><td> 0.030303</td></tr>\n",
       "\t<tr><td>3        </td><td>187      </td><td>23.16337 </td><td>3        </td><td>-0.759678</td><td> 0.898007</td><td>-0.029462</td><td>-0.672859</td><td>-0.961691</td><td>-0.556598</td></tr>\n",
       "\t<tr><td>1        </td><td>184      </td><td>29.24149 </td><td>2        </td><td>-0.455688</td><td>-1.053375</td><td>-0.041612</td><td> 0.436133</td><td> 0.121873</td><td> 0.992084</td></tr>\n",
       "\t<tr><td>1        </td><td>174      </td><td>23.78121 </td><td>4        </td><td>-1.440239</td><td> 1.163730</td><td> 0.293750</td><td>-0.538922</td><td> 0.782285</td><td>-1.401034</td></tr>\n",
       "\t<tr><td>1        </td><td>186      </td><td>21.96786 </td><td>3        </td><td>-1.008298</td><td>-0.484221</td><td> 1.155301</td><td> 0.267899</td><td> 0.927354</td><td> 0.011056</td></tr>\n",
       "</tbody>\n",
       "</table>\n"
      ],
      "text/latex": [
       "\\begin{tabular}{llllllllll}\n",
       " educm & heightm & BMIm & healthm & consm & extram & agreem & emom & autom & riskym\\\\\n",
       "\\hline\n",
       "\t 2         & 186       & 28.90508  & 3         & -0.752877 & -0.360787 & -0.711276 & -0.291031 &  0.840217 &  0.479437\\\\\n",
       "\t 2         & 176       & 27.44060  & 3         &  0.345542 & -0.805524 & -0.251796 & -0.305475 & -0.064454 &  0.030303\\\\\n",
       "\t 3         & 187       & 23.16337  & 3         & -0.759678 &  0.898007 & -0.029462 & -0.672859 & -0.961691 & -0.556598\\\\\n",
       "\t 1         & 184       & 29.24149  & 2         & -0.455688 & -1.053375 & -0.041612 &  0.436133 &  0.121873 &  0.992084\\\\\n",
       "\t 1         & 174       & 23.78121  & 4         & -1.440239 &  1.163730 &  0.293750 & -0.538922 &  0.782285 & -1.401034\\\\\n",
       "\t 1         & 186       & 21.96786  & 3         & -1.008298 & -0.484221 &  1.155301 &  0.267899 &  0.927354 &  0.011056\\\\\n",
       "\\end{tabular}\n"
      ],
      "text/markdown": [
       "\n",
       "| educm | heightm | BMIm | healthm | consm | extram | agreem | emom | autom | riskym |\n",
       "|---|---|---|---|---|---|---|---|---|---|\n",
       "| 2         | 186       | 28.90508  | 3         | -0.752877 | -0.360787 | -0.711276 | -0.291031 |  0.840217 |  0.479437 |\n",
       "| 2         | 176       | 27.44060  | 3         |  0.345542 | -0.805524 | -0.251796 | -0.305475 | -0.064454 |  0.030303 |\n",
       "| 3         | 187       | 23.16337  | 3         | -0.759678 |  0.898007 | -0.029462 | -0.672859 | -0.961691 | -0.556598 |\n",
       "| 1         | 184       | 29.24149  | 2         | -0.455688 | -1.053375 | -0.041612 |  0.436133 |  0.121873 |  0.992084 |\n",
       "| 1         | 174       | 23.78121  | 4         | -1.440239 |  1.163730 |  0.293750 | -0.538922 |  0.782285 | -1.401034 |\n",
       "| 1         | 186       | 21.96786  | 3         | -1.008298 | -0.484221 |  1.155301 |  0.267899 |  0.927354 |  0.011056 |\n",
       "\n"
      ],
      "text/plain": [
       "     educm heightm BMIm     healthm consm     extram    agreem    emom     \n",
       "[1,] 2     186     28.90508 3       -0.752877 -0.360787 -0.711276 -0.291031\n",
       "[2,] 2     176     27.44060 3        0.345542 -0.805524 -0.251796 -0.305475\n",
       "[3,] 3     187     23.16337 3       -0.759678  0.898007 -0.029462 -0.672859\n",
       "[4,] 1     184     29.24149 2       -0.455688 -1.053375 -0.041612  0.436133\n",
       "[5,] 1     174     23.78121 4       -1.440239  1.163730  0.293750 -0.538922\n",
       "[6,] 1     186     21.96786 3       -1.008298 -0.484221  1.155301  0.267899\n",
       "     autom     riskym   \n",
       "[1,]  0.840217  0.479437\n",
       "[2,] -0.064454  0.030303\n",
       "[3,] -0.961691 -0.556598\n",
       "[4,]  0.121873  0.992084\n",
       "[5,]  0.782285 -1.401034\n",
       "[6,]  0.927354  0.011056"
      ]
     },
     "metadata": {},
     "output_type": "display_data"
    }
   ],
   "source": [
    "head(data_X)"
   ]
  },
  {
   "cell_type": "code",
   "execution_count": 38,
   "metadata": {},
   "outputs": [
    {
     "data": {
      "text/html": [
       "<table>\n",
       "<thead><tr><th scope=col>educv</th><th scope=col>heightv</th><th scope=col>BMIv</th><th scope=col>healthv</th><th scope=col>consv</th><th scope=col>extrav</th><th scope=col>agreev</th><th scope=col>emov</th><th scope=col>autov</th><th scope=col>riskyv</th></tr></thead>\n",
       "<tbody>\n",
       "\t<tr><td>2        </td><td>159      </td><td>22.94213 </td><td>4        </td><td>-0.352262</td><td> 0.065096</td><td>-0.713136</td><td>-0.529817</td><td>-0.066740</td><td> 0.271632</td></tr>\n",
       "\t<tr><td>2        </td><td>165      </td><td>22.03857 </td><td>3        </td><td>-0.741707</td><td>-0.484221</td><td> 0.219906</td><td> 0.706937</td><td> 0.685428</td><td> 0.353834</td></tr>\n",
       "\t<tr><td>3        </td><td>170      </td><td>20.76125 </td><td>3        </td><td> 0.327571</td><td>-0.180299</td><td> 1.052070</td><td> 0.999001</td><td> 0.177472</td><td>-0.201117</td></tr>\n",
       "\t<tr><td>2        </td><td>160      </td><td>22.65625 </td><td>4        </td><td>-0.187640</td><td>-1.299261</td><td> 1.223071</td><td> 0.154011</td><td> 2.284336</td><td>-0.172070</td></tr>\n",
       "\t<tr><td>2        </td><td>165      </td><td>22.77319 </td><td>3        </td><td> 0.078951</td><td> 0.613921</td><td> 0.122749</td><td> 0.073875</td><td>-0.253068</td><td> 0.042352</td></tr>\n",
       "\t<tr><td>1        </td><td>168      </td><td>19.13265 </td><td>3        </td><td>-1.429069</td><td> 0.472616</td><td> 1.240802</td><td> 0.695631</td><td> 1.163253</td><td>-1.445496</td></tr>\n",
       "</tbody>\n",
       "</table>\n"
      ],
      "text/latex": [
       "\\begin{tabular}{llllllllll}\n",
       " educv & heightv & BMIv & healthv & consv & extrav & agreev & emov & autov & riskyv\\\\\n",
       "\\hline\n",
       "\t 2         & 159       & 22.94213  & 4         & -0.352262 &  0.065096 & -0.713136 & -0.529817 & -0.066740 &  0.271632\\\\\n",
       "\t 2         & 165       & 22.03857  & 3         & -0.741707 & -0.484221 &  0.219906 &  0.706937 &  0.685428 &  0.353834\\\\\n",
       "\t 3         & 170       & 20.76125  & 3         &  0.327571 & -0.180299 &  1.052070 &  0.999001 &  0.177472 & -0.201117\\\\\n",
       "\t 2         & 160       & 22.65625  & 4         & -0.187640 & -1.299261 &  1.223071 &  0.154011 &  2.284336 & -0.172070\\\\\n",
       "\t 2         & 165       & 22.77319  & 3         &  0.078951 &  0.613921 &  0.122749 &  0.073875 & -0.253068 &  0.042352\\\\\n",
       "\t 1         & 168       & 19.13265  & 3         & -1.429069 &  0.472616 &  1.240802 &  0.695631 &  1.163253 & -1.445496\\\\\n",
       "\\end{tabular}\n"
      ],
      "text/markdown": [
       "\n",
       "| educv | heightv | BMIv | healthv | consv | extrav | agreev | emov | autov | riskyv |\n",
       "|---|---|---|---|---|---|---|---|---|---|\n",
       "| 2         | 159       | 22.94213  | 4         | -0.352262 |  0.065096 | -0.713136 | -0.529817 | -0.066740 |  0.271632 |\n",
       "| 2         | 165       | 22.03857  | 3         | -0.741707 | -0.484221 |  0.219906 |  0.706937 |  0.685428 |  0.353834 |\n",
       "| 3         | 170       | 20.76125  | 3         |  0.327571 | -0.180299 |  1.052070 |  0.999001 |  0.177472 | -0.201117 |\n",
       "| 2         | 160       | 22.65625  | 4         | -0.187640 | -1.299261 |  1.223071 |  0.154011 |  2.284336 | -0.172070 |\n",
       "| 2         | 165       | 22.77319  | 3         |  0.078951 |  0.613921 |  0.122749 |  0.073875 | -0.253068 |  0.042352 |\n",
       "| 1         | 168       | 19.13265  | 3         | -1.429069 |  0.472616 |  1.240802 |  0.695631 |  1.163253 | -1.445496 |\n",
       "\n"
      ],
      "text/plain": [
       "     educv heightv BMIv     healthv consv     extrav    agreev    emov     \n",
       "[1,] 2     159     22.94213 4       -0.352262  0.065096 -0.713136 -0.529817\n",
       "[2,] 2     165     22.03857 3       -0.741707 -0.484221  0.219906  0.706937\n",
       "[3,] 3     170     20.76125 3        0.327571 -0.180299  1.052070  0.999001\n",
       "[4,] 2     160     22.65625 4       -0.187640 -1.299261  1.223071  0.154011\n",
       "[5,] 2     165     22.77319 3        0.078951  0.613921  0.122749  0.073875\n",
       "[6,] 1     168     19.13265 3       -1.429069  0.472616  1.240802  0.695631\n",
       "     autov     riskyv   \n",
       "[1,] -0.066740  0.271632\n",
       "[2,]  0.685428  0.353834\n",
       "[3,]  0.177472 -0.201117\n",
       "[4,]  2.284336 -0.172070\n",
       "[5,] -0.253068  0.042352\n",
       "[6,]  1.163253 -1.445496"
      ]
     },
     "metadata": {},
     "output_type": "display_data"
    }
   ],
   "source": [
    "head(data_Y)"
   ]
  },
  {
   "cell_type": "code",
   "execution_count": 39,
   "metadata": {},
   "outputs": [
    {
     "data": {
      "text/html": [
       "<table>\n",
       "<thead><tr><th scope=col>X</th><th scope=col>educw</th><th scope=col>heightw</th><th scope=col>BMIw</th><th scope=col>healthw</th><th scope=col>consw</th><th scope=col>extraw</th><th scope=col>agreew</th><th scope=col>emow</th><th scope=col>autow</th><th scope=col>riskyw</th></tr></thead>\n",
       "<tbody>\n",
       "\t<tr><td>educm  </td><td> 0.56  </td><td> 0.02  </td><td>-0.08  </td><td> 0.02  </td><td>-0.04  </td><td>-0.01  </td><td>-0.03  </td><td>-0.04  </td><td> 0.05  </td><td>-0.02  </td></tr>\n",
       "\t<tr><td>heightm</td><td> 0.01  </td><td> 0.18  </td><td> 0.04  </td><td>-0.01  </td><td>-0.04  </td><td> 0.05  </td><td> 0.02  </td><td> 0.02  </td><td> 0.02  </td><td> 0.02  </td></tr>\n",
       "\t<tr><td>BMIm   </td><td>-0.05  </td><td> 0.05  </td><td> 0.21  </td><td> 0.01  </td><td> 0.06  </td><td> 0.00  </td><td>-0.04  </td><td> 0.04  </td><td>-0.01  </td><td> 0.01  </td></tr>\n",
       "\t<tr><td>healthm</td><td>-0.07  </td><td> 0.00  </td><td>-0.06  </td><td> 0.14  </td><td>-0.04  </td><td> 0.05  </td><td>-0.04  </td><td> 0.04  </td><td> 0.02  </td><td> 0.00  </td></tr>\n",
       "\t<tr><td>consm  </td><td>-0.06  </td><td>-0.03  </td><td> 0.07  </td><td> 0.00  </td><td> 0.14  </td><td> 0.07  </td><td> 0.04  </td><td> 0.06  </td><td>-0.02  </td><td>-0.01  </td></tr>\n",
       "\t<tr><td>extram </td><td> 0.01  </td><td>-0.02  </td><td> 0.05  </td><td> 0.02  </td><td>-0.06  </td><td> 0.02  </td><td>-0.02  </td><td>-0.01  </td><td>-0.03  </td><td>-0.05  </td></tr>\n",
       "</tbody>\n",
       "</table>\n"
      ],
      "text/latex": [
       "\\begin{tabular}{lllllllllll}\n",
       " X & educw & heightw & BMIw & healthw & consw & extraw & agreew & emow & autow & riskyw\\\\\n",
       "\\hline\n",
       "\t educm   &  0.56   &  0.02   & -0.08   &  0.02   & -0.04   & -0.01   & -0.03   & -0.04   &  0.05   & -0.02  \\\\\n",
       "\t heightm &  0.01   &  0.18   &  0.04   & -0.01   & -0.04   &  0.05   &  0.02   &  0.02   &  0.02   &  0.02  \\\\\n",
       "\t BMIm    & -0.05   &  0.05   &  0.21   &  0.01   &  0.06   &  0.00   & -0.04   &  0.04   & -0.01   &  0.01  \\\\\n",
       "\t healthm & -0.07   &  0.00   & -0.06   &  0.14   & -0.04   &  0.05   & -0.04   &  0.04   &  0.02   &  0.00  \\\\\n",
       "\t consm   & -0.06   & -0.03   &  0.07   &  0.00   &  0.14   &  0.07   &  0.04   &  0.06   & -0.02   & -0.01  \\\\\n",
       "\t extram  &  0.01   & -0.02   &  0.05   &  0.02   & -0.06   &  0.02   & -0.02   & -0.01   & -0.03   & -0.05  \\\\\n",
       "\\end{tabular}\n"
      ],
      "text/markdown": [
       "\n",
       "| X | educw | heightw | BMIw | healthw | consw | extraw | agreew | emow | autow | riskyw |\n",
       "|---|---|---|---|---|---|---|---|---|---|---|\n",
       "| educm   |  0.56   |  0.02   | -0.08   |  0.02   | -0.04   | -0.01   | -0.03   | -0.04   |  0.05   | -0.02   |\n",
       "| heightm |  0.01   |  0.18   |  0.04   | -0.01   | -0.04   |  0.05   |  0.02   |  0.02   |  0.02   |  0.02   |\n",
       "| BMIm    | -0.05   |  0.05   |  0.21   |  0.01   |  0.06   |  0.00   | -0.04   |  0.04   | -0.01   |  0.01   |\n",
       "| healthm | -0.07   |  0.00   | -0.06   |  0.14   | -0.04   |  0.05   | -0.04   |  0.04   |  0.02   |  0.00   |\n",
       "| consm   | -0.06   | -0.03   |  0.07   |  0.00   |  0.14   |  0.07   |  0.04   |  0.06   | -0.02   | -0.01   |\n",
       "| extram  |  0.01   | -0.02   |  0.05   |  0.02   | -0.06   |  0.02   | -0.02   | -0.01   | -0.03   | -0.05   |\n",
       "\n"
      ],
      "text/plain": [
       "     X       educw heightw BMIw  healthw consw extraw agreew emow  autow riskyw\n",
       "[1,] educm    0.56  0.02   -0.08  0.02   -0.04 -0.01  -0.03  -0.04  0.05 -0.02 \n",
       "[2,] heightm  0.01  0.18    0.04 -0.01   -0.04  0.05   0.02   0.02  0.02  0.02 \n",
       "[3,] BMIm    -0.05  0.05    0.21  0.01    0.06  0.00  -0.04   0.04 -0.01  0.01 \n",
       "[4,] healthm -0.07  0.00   -0.06  0.14   -0.04  0.05  -0.04   0.04  0.02  0.00 \n",
       "[5,] consm   -0.06 -0.03    0.07  0.00    0.14  0.07   0.04   0.06 -0.02 -0.01 \n",
       "[6,] extram   0.01 -0.02    0.05  0.02   -0.06  0.02  -0.02  -0.01 -0.03 -0.05 "
      ]
     },
     "metadata": {},
     "output_type": "display_data"
    }
   ],
   "source": [
    "head(data_aff)"
   ]
  },
  {
   "cell_type": "markdown",
   "metadata": {},
   "source": [
    "## The Discrete Monge-Kantorovich Theorem\n",
    "\n",
    "### Discrete case\n",
    "Assume that the type spaces $\\mathcal{X}$ and $\\mathcal{Y}$ are finite, so $\\mathcal{X=}\\left\\{  1,...,N\\right\\}  $, and $\\mathcal{Y}=\\left\\{1,...,M\\right\\}$.\n",
    "\n",
    "The total mass of workers and jobs is normalized to one. The mass of workers of type $x$ is $p_{x}$; the mass of jobs of type $y$ is $q_{y}$, with $\\sum_{x}p_{x}=\\sum_{y}q_{y}=1$.\n",
    "\n",
    "Let $\\pi_{xy}$ be the mass of workers of type $x$ assigned to jobs of type $y$. Every worker is busy and every job is filled, thus\n",
    "\n",
    "<a name=\"dicsr-constraints\"></a>\n",
    "\\begin{align*}\n",
    "\\sum_{y\\in\\mathcal{Y}}\\pi_{xy}=p_{x}\\text{ and }\\sum_{x\\in\\mathcal{X}}\\pi\n",
    "_{xy}=q_{y}. \n",
    "\\end{align*}\n",
    "\n",
    "(Note that this formulation allows for mixing, i.e. it allows for $\\pi_{xy}>0$ and $\\pi_{xy^{\\prime}}>0$ to hold simultaneously with $y\\neq y^{\\prime}$.) The set of $\\pi\\geq0$ satisfying [the discrete contraints](#dicsr-constraints) is denoted by\n",
    "\n",
    "\\begin{align*}\n",
    "\\pi\\in\\mathcal{M}\\left(p,q\\right).\n",
    "\\end{align*}\n",
    "\n",
    "Assume the economic output created when assigning worker $x$ to job $y$ is $\\Phi_{xy}$. Hence, under assignment $\\pi$, the total output is $\\sum _{xy}\\pi_{xy}\\Phi_{xy}$.\n",
    "\n",
    "Thus, the optimal assignment is\n",
    "\n",
    "<a name=\"OAP\"></a>\n",
    "\\begin{align*}\n",
    "\\max_{\\pi\\geq0}  &  \\sum_{xy}\\pi_{xy}\\Phi_{xy} \\\\\n",
    "s.t.~  &  \\sum_{y\\in\\mathcal{Y}}\\pi_{xy}=p_{x} \\left[u_{x}\\right] \\\\\n",
    "&  \\sum_{x\\in\\mathcal{X}}\\pi_{xy}=q_{y}~\\left[v_{y}\\right]\n",
    "\\end{align*}\n",
    "\n",
    "and it is now a finite-dimensional linear programming problem.\n",
    "\n",
    "Note that it is nothing else than the Monge-Kantorovich problem when $P$ and $Q$ are discrete probability measures on $\\mathcal{X=}\\left\\{1,...,N\\right\\}  $, and $\\mathcal{Y}=\\left\\{  1,...,M\\right\\}$."
   ]
  },
  {
   "cell_type": "markdown",
   "metadata": {},
   "source": [
    "---\n",
    "**Theorem**\n",
    "1. The value of the [primal problem](#OAP) *coincides with the value of the dual problem*\n",
    "\n",
    "    <a name=\"dual-discr\"></a>\n",
    "    \\begin{align*}\n",
    "    \\min_{u,v}  &  \\sum_{x\\in\\mathcal{X}}p_{x}u_{x}+\\sum_{y\\in\\mathcal{Y}}\n",
    "    q_{y}v_{y}\\\\\n",
    "    s.t.  &  u_{x}+v_{y}\\geq\\Phi_{xy}~\\left[\\pi_{xy}\\geq0\\right]\n",
    "    \\end{align*}\n",
    "\n",
    "2. Both the primal and the dual problems have optimal solutions. If $\\pi$ *is a solution to the primal problem* and $\\left(u,v\\right)$ is *a solution to the dual problem, then by complementary slackness*,\n",
    "\n",
    "    <a name=\"complSlack\"> </a>\n",
    "    \\begin{align*}\n",
    "    \\pi_{xy}>0\\text{ implies }u_{x}+v_{y}=\\Phi_{xy}.\n",
    "    \\end{align*}\n",
    "\n",
    "---\n",
    "\n",
    "---\n",
    "**Proof**\n",
    "The proof follows from the min-cost flow duality result, but let us rewrite it anyway. \n",
    "\n",
    "1. The value of the [primal problem](#OAP) can be written as $\\max_{\\pi\\geq0}\\min_{u,v}S\\left(  \\pi,u,v\\right)$, where\n",
    "\n",
    "    \\begin{align*}\n",
    "    S\\left(  \\pi,u,v\\right)  :=\\sum_{xy}\\pi_{xy}\\Phi_{xy}+\\sum_{x\\in\\mathcal{X}}u_{x}(p_{x}-\\sum_{y\\in\\mathcal{Y}}\\pi_{xy})+\\sum_{y\\in\\mathcal{Y}}v_{y}(q_{y}-\\sum_{x\\in\\mathcal{X}}\\pi_{xy})\n",
    "    \\end{align*}\n",
    "\n",
    "    but by the minmax theorem, this value is equal to $\\min_{u,v}\\max_{\\pi\\geq 0}S\\left(  \\pi,u,v\\right)$, which is the value of the [dual problem](#ual-discr}).\n",
    "\n",
    "2. Follows by noting that, for a primal solution $\\pi$ and a dual solution $\\left(  u,v\\right)  $, then $S\\left( \\pi,u,v\\right)  =\\sum_{xy}\\pi_{xy} \\Phi_{xy}$. $\\blacksquare$\n",
    "\n",
    "---\n",
    "\n",
    "Note that this result is the min-cost flow duality theorem in the bipartite case, as seen in lecture $2$, after setting transportation cost through $xy\\in\\mathcal{X}\\times\\mathcal{Y}$ to $c_{xy}=-\\Phi_{xy}$, and $n_{t}=-p_{t}1\\left\\{  t\\in\\mathcal{X}\\right\\}  +q_{t}\\mathbf{1}\\left\\{  t\\in\\mathcal{Y}\\right\\}$. We see various new interpretations of the result."
   ]
  },
  {
   "cell_type": "markdown",
   "metadata": {},
   "source": [
    "The following statements are equivalent:\n",
    "\n",
    "* $\\pi$ is an optimal solution to the primal problem, and $\\left(\n",
    "u,v\\right)  $ is an optimal solution to the dual problem, and\n",
    "\n",
    "* (i) $\\pi\\in M\\left(  p,q\\right)  $\n",
    "\n",
    "* (ii) $u_{x}+v_{y}\\geq\\Phi_{xy}$\n",
    "\n",
    "* (iii) $\\pi_{xy}>0$ implies $u_{x}+v_{y}\\leq\\Phi_{xy}$.\n",
    "\n",
    "We saw the direct implication. But the converse is easy: take $\\pi$ and $\\left(  u,v\\right)  $ satisfying (i)--(iii), Then one has\n",
    "\n",
    "\\begin{align*}\n",
    "dual\\leq\\sum_{x}p_{x}u_{x}+\\sum_{y}q_{y}v_{y}=\\sum_{xy}\\pi_{xy}\\left(\n",
    "u_{x}+v_{y}\\right)  \\leq\\sum_{xy}\\pi_{xy}\\Phi_{xy}\\leq primal\n",
    "\\end{align*}\n",
    "\n",
    "but by the MK duality theorem, both ends coincide. Thus $\\pi$ is optimal for the primal and $\\left(  u,v\\right)  $ for the dual."
   ]
  },
  {
   "cell_type": "markdown",
   "metadata": {},
   "source": [
    "### Unassigned Agents\n",
    "\n",
    "A important variant of the problem exists with $\\sum_{x\\in\\mathcal{X}}p_{x}\\neq\\sum_{y\\in\\mathcal{Y}}q_{y}$ and the primal constraints become inequality constraints. The duality then becomes\n",
    "\n",
    "\\begin{align*}\n",
    "\\begin{array}\n",
    "[c]{rrr}\n",
    "\\max_{\\pi\\geq0}\\sum\\pi_{xy}\\Phi_{xy} & = & \\min_{u,v}\\sum_{x\\in\\mathcal{X}\n",
    "}p_{x}u_{x}+\\sum_{y\\in\\mathcal{Y}}q_{y}v_{y}\\\\\n",
    "s.t.~\\sum_{y\\in\\mathcal{Y}}\\pi_{xy}\\leq p_{x} &  & u\\geq0,~v\\geq0 \\\\\n",
    "\\sum_{x\\in\\mathcal{X}}\\pi_{xy}\\leq q_{y} &  & u_{x}+v_{y}\\geq\\Phi_{xy}\n",
    "\\end{array}\n",
    "\\end{align*}"
   ]
  },
  {
   "cell_type": "markdown",
   "metadata": {},
   "source": [
    "### Pairwise stability\n",
    "\n",
    "In a marriage context, an important concept is stability:\n",
    "\n",
    "An outcome is a vector $\\left(  \\pi,u,v\\right)  $, where $u_{x}$ and $v_{y}$ are $x$'s and $y$'s payoffs, and $\\pi$ is a matching that is\n",
    "\n",
    "<a name=\"primFeas\"></a>\n",
    "\\begin{align*}\n",
    "\\pi\\in\\mathcal{M}\\left(  p,q\\right).\n",
    "\\end{align*}\n",
    "\n",
    "A pair $xy$ is blocking if $x$ and $y$ can find a way of sharing their joint surplus $\\Phi_{xy}$ in such a way that $x$ gets more than $u_{x}$ and $y$ gets more than $v_{y}$. Hence there is no blocking pair if and only if for every $x$ and $y$, one has\n",
    "\n",
    "<a name=\"noBlocking\"></a>\n",
    "\\begin{align*}\n",
    "u_{x}+v_{y}\\geq\\Phi_{xy}.\n",
    "\\end{align*}\n",
    "\n",
    "If $x$ and $y$ are actually matched, their utilities $u_{x}$ and $v_{y}$ need to be feasible, i.e. the above inequality should be saturated. Hence\n",
    "\n",
    "<a name=\"cplSlck\"></a>\n",
    "\\begin{align*}\n",
    "\\pi_{xy}>0\\text{ implies }u_{x}+v_{y}=\\Phi_{xy}.\n",
    "\\end{align*}\n",
    "\n",
    "---\n",
    "**Definition:**\n",
    "\n",
    "A matching that satisfies [primal feasbilitity](#primFeas), [no blocking](#noBlocking), and [complementary slackness](#cplSlck) is called a stable matching.\n",
    "\n",
    "As it turns out, these conditions are precisely the conditions that express complementarity slackness in the Monge-Kantorovich problem. Therefore, outcome$\\left(  \\pi,u,v\\right)  $ is stable if and only if $\\pi$ is a solution to the primal problem, and $\\left(  u,v\\right)  $ is a solution to the dual problem.\n",
    "\n",
    "---\n"
   ]
  },
  {
   "cell_type": "markdown",
   "metadata": {},
   "source": [
    "Back to the workers / firms interpretation and assume for now that workers are indifferent between any two firms that offer the same salary. We argue that $u\\left(  x\\right)  $ can be interpreted as the equilibrium wage of worker $x$, while $v\\left(  y\\right)  $ can be interpreted as the equilibrium profit of firm $y$. Indeed:\n",
    "\n",
    "---\n",
    "**Proposition**\n",
    "If $\\left(u,v\\right)$ is a solution to the dual of the Kantorovich problem, then\n",
    "\n",
    "\\begin{align*}\n",
    "u_{x}  &  =\\sup_{y\\in\\mathcal{Y}}\\left(  \\Phi_{xy}-v_{y}\\right)\n",
    "\\label{conjug1}\\\\\n",
    "v_{y}  &  =\\sup_{x\\in\\mathcal{X}}\\left(  \\Phi_{xy}-u_{x}\\right)  .\n",
    "\\label{conjug2}\n",
    "\\end{align*}\n",
    "\n",
    "---\n",
    "\n",
    "Therefore, $u_{x}$ can be interpreted as equilibrium wage of worker $x$, and $v_{y}$ as equilibrium profit of firm $y$. In this interpretation, all workers get the same wage at equilibrium.\n",
    "\n",
    "Assume now that if a worker of type $x$ works for a firm of type $y$ for wage $w_{xy}$, then gets $\\alpha_{xy}+w_{xy}$, where $\\alpha_{xy}$ is the nonmonetary payoff associated with working with a firm of type $y$. The firm's profit is $\\gamma_{xy}-w_{xy}$, where $\\gamma_{xy}$ is the economic output.\n",
    "\n",
    "If an employee of type $x$ matches with a firm of type $y$, they generate joint surplus $\\Phi_{xy}$, given by%\n",
    "\n",
    "\\begin{align*}\n",
    "\\Phi_{xy}=\\underset{\\text{employee's payoff}}{\\underbrace{\\alpha_{xy}+w_{xy}}}+\\underset{\\text{firm's payoff}}{\\underbrace{\\gamma_{xy}-w_{xy}}}=\\alpha_{xy}+\\gamma_{xy}\n",
    "\\end{align*}\n",
    "\n",
    "which is independent from $w$.\n",
    "\n",
    "Workers choose firms which maximize their utility, i.e. solve \n",
    "\n",
    "<a name=\"equivWalrasStable1\"></a>\n",
    "\\begin{align*}\n",
    "u_{x}=\\max_{y}\\left\\{  \\alpha_{xy}+w_{xy}\\right\\}\n",
    "\\end{align*}\n",
    "\n",
    "and $u_{x}=\\alpha_{xy}+w_{xy}$ if $x$ and $y$ are matched. Similarly, the indirect payoff vector of firms is\n",
    "\n",
    "<a name=\"equivWalrasStable2\"></a>\n",
    "\\begin{align*}\n",
    "v_{y}=\\max_{x}\\left\\{  \\gamma_{xy}-w_{xy}\\right\\}\n",
    "\\end{align*}\n",
    "\n",
    "and, again, $v_{y}=\\gamma_{xy}-w_{xy}$ if $x$ and $y$ are matched.\n",
    "\n",
    "As a result,\n",
    "\n",
    "\\begin{align*}\n",
    "u_{x}+v_{y}\\geq\\alpha_{xy}+\\gamma_{xy}=\\Phi_{xy}\n",
    "\\end{align*}\n",
    "\n",
    "and equality holds if $x$ and $y$ are matched. Thus, if $w_{xy}$ is an equilibrium wage, then the triple $\\left(  \\pi,u,v\\right)$ where $\\pi$ is the corresponding matching, and $u_{x}$ and $v_{y}$ are defined by [this](#equivWalrasStable1) and [this](#equivWalrasStable2) defines a stable outcome.\n",
    "\n",
    "Conversely, let $\\left(\\pi,u,v\\right)$ be a stable outcome. Then let $\\bar{w}_{xx}$ and \\b{w}$_{xy}$ be defined by\n",
    "\n",
    "\\begin{align*}\n",
    "\\bar{w}_{xy}=u_{x}-\\alpha_{xy}\\text{ and \\b{w}}_{xy}=\\gamma_{xy}-v_{y}.\n",
    "\\end{align*}\n",
    "\n",
    "One has $\\bar{w}_{xy}\\geq$\\b{w}$_{xy}$. Any $w_{xy}$ such that $\\bar{w}_{xy}\\geq w_{xy}\\geq$\\b{w}$_{xy}$ is an equilibrium wage. Indeed, $\\pi_{xy}>0$ implies $\\bar{w}_{xy}=$\\b{w}$_{xy}$, thus [this](#equivWalrasStable1) and [this](#equivWalrasStable2) hold. Given $u$ and $v$, $w_{xy}$ is uniquely defined on the equilibrium path (ie. when $x$ and $y$ are such that $\\pi_{xy}>0$), but there are multiple choices of $w$ outside the equilibrium path.\n",
    "\n",
    "Note that all workers of the same type get the same indirect utility, but not necessarly the same wage."
   ]
  },
  {
   "cell_type": "markdown",
   "metadata": {},
   "source": [
    "## Application"
   ]
  },
  {
   "cell_type": "markdown",
   "metadata": {},
   "source": [
    "We postulate that the form of the surplus function is\n",
    "\\begin{align*}\n",
    "\\Phi_{ij}=x_{i}^{\\intercal} Ay_{j}\n",
    "\\end{align*}\n",
    "where $x_{i}$ and $y_{j}$ are the 10-dimensional characteristics of man $i$ and woman $j$, and the form of $A$, a 10x10 matrix, is given (it is stored in the file `affinitymatrix.csv`). Again, we'll see later how to solve the econometrics problem of estimating $A$."
   ]
  },
  {
   "cell_type": "code",
   "execution_count": 2,
   "metadata": {
    "collapsed": true
   },
   "outputs": [],
   "source": [
    "A = matrix(as.numeric(data_aff[1:nbcar, 2:(nbcar + 1)]), nbcar, nbcar)\n",
    "\n",
    "sdX = apply(Xvals, 2, sd)\n",
    "sdY = apply(Yvals, 2, sd)\n",
    "mX = apply(Xvals, 2, mean)\n",
    "mY = apply(Yvals, 2, mean)\n",
    "Xvals = t((t(Xvals) - mX)/sdX)\n",
    "Yvals = t((t(Yvals) - mY)/sdY)\n",
    "nobs = dim(Xvals)[1]\n",
    "\n",
    "Phi = Xvals %*% A %*% t(Yvals)"
   ]
  },
  {
   "cell_type": "markdown",
   "metadata": {},
   "source": [
    "This problem of computation of the Optimal Assignment Problem, more specifically of $\\left(\\pi,u,v\\right)$, is arguably the most studied problem in Computer Science, and dozens, if not hundreds of algorithms exist, whose running time is polynomial in $\\max\\left(n,m\\right)$, typically a power less than three of the latter.\n",
    "\n",
    "Famous algorithms include: the Hungarian algorithm (Kuhn-Munkres); Bertsekas' auction algorithm; Goldberg and Kennedy's pseudoflow algorithm. For more on these, see the book by Burkard, Dell'Amico, and Martello, and a\n",
    "introductory presentation in http://www.assignmentproblems.com/doc/LSAPIntroduction.pdf.\n",
    "\n",
    "Here, we will show how to solve the problem with the help of a Linear Programming solver used as a black box; our challenge here will be to carefully set up the constraint matrix as a sparse matrix in order to let a large scale Linear Programming solvers such as Gurobi recognize and exploit the sparsity of the problem.\n",
    "\n",
    "Let $\\Pi$ and $\\Phi$ be the matrices with typical elements $\\left(\\pi_{xy}\\right)  $ and $\\left(  \\Phi_{xy}\\right)  $. We let $p$, $q$, $u$,$v$, and $1$ the column vectors with entries $\\left(  p_{x}\\right)$, $\\left(  q_{y}\\right)  $, $\\left(  u_{x}\\right)  $, $\\left(  v_{y}\\right)$, and $1$, respectively. The optimal assignment problem\n",
    "\n",
    "\\begin{align*}\n",
    "\\max_{\\pi\\geq0}  &  \\sum_{xy}\\pi_{xy}\\Phi_{xy} \\\\\n",
    "s.t.~  &  \\sum_{y\\in\\mathcal{Y}}\\pi_{xy}=p_{x}~\\left[  u_{x}\\right]\\\\\n",
    "&  \\sum_{x\\in\\mathcal{X}}\\pi_{xy}=q_{y}~\\left[  v_{y}\\right] \n",
    "\\end{align*}\n",
    "\n",
    "Can be rewritten writes using matrix algebra as\n",
    "\n",
    "\\begin{align*}\n",
    "&  \\max_{\\Pi\\geq0}Tr\\left(  \\Pi^{\\prime}\\Phi\\right) \\\\\n",
    "&  \\Pi1_{M}=p\\\\\n",
    "&  1_{N}^{\\prime}\\Pi=q^{\\prime}.\n",
    "\\end{align*}\n",
    "\n",
    "We need to convert matrices into vectors; this can be done for instance by stacking the columns of $\\Pi$ into a single column vector. This operation is called *vectorization*, which we will denote\n",
    "\n",
    "\\begin{align*}\n",
    "vec\\left(  A\\right)  ,\n",
    "\\end{align*}\n",
    "\n",
    "which reshapes a $N\\times M$ matrix into a $nm\\times1$ vector. In `R`, this is\n",
    "implemented by `c(A)`; in Matlab, by `A(:)`.\n",
    "\n",
    "The objective function rewrites as\n",
    "\n",
    "\\begin{align*}\n",
    "vec\\left(  \\Phi\\right)^{\\prime}vec\\left(  \\Pi\\right)  .\n",
    "\\end{align*}"
   ]
  },
  {
   "cell_type": "code",
   "execution_count": 3,
   "metadata": {
    "collapsed": true
   },
   "outputs": [],
   "source": [
    "obj = c(Phi)"
   ]
  },
  {
   "cell_type": "markdown",
   "metadata": {},
   "source": [
    "Recall that if $A$ is a $M\\times p$ matrix and $B$ a $N\\times q$ matrix, then the Kronecker product $A\\otimes B$ of $A$ and $B$ is a $mn\\times pq$ matrix such that\n",
    "\n",
    "\\begin{align*}\n",
    "vec\\left(  BXA^{\\prime}\\right)  =\\left(  A\\otimes B\\right)  vec\\left(\n",
    "X\\right). \\label{VecAndKronecker}\n",
    "\\end{align*}\n",
    "\n",
    "In R, $A\\otimes B$ is implemented by `kronecker(A,B)`; in Matlab, by `kron(A,B)`.\n",
    "\n",
    "The first constraint $I_{N}\\Pi1_{M}=p$, vectorizes therefore as\n",
    "\n",
    "\\begin{align*}\n",
    "\\left(  1_{M}^{\\prime}\\otimes I_{N}\\right)  vec\\left(  \\Pi\\right)  =vec\\left(\n",
    "p\\right),\n",
    "\\end{align*}\n",
    "\n",
    "and similarly, the second constraint $1_{N}^{\\prime}\\Pi I_{M}=q^{\\prime}$, vectorizes as\n",
    "\n",
    "\\begin{align*}\n",
    "\\left(  I_{M}\\otimes1_{N}^{\\prime}\\right)  vec\\left(  \\Pi\\right)  =vec\\left(\n",
    "q\\right)  .\n",
    "\\end{align*}\n",
    "\n",
    "Note that the matrix $1_{M}^{\\prime}\\otimes I_{N}$ is of size $N\\times NM$, and the matrix $I_{M}\\otimes1_{N}^{\\prime}$ is of size $M\\times NM$; hence the full matrix involved in the left-hand side of the constraints is of size $\\left(  N+M\\right)  \\times NM$. In spite of its large size, this matrix is *sparse*. In `R`, the identity matrix $I_{N}$ is coded as `sparseMatrix(1:N,1:N)`, in Matlab as `Speye(N)`."
   ]
  },
  {
   "cell_type": "code",
   "execution_count": 4,
   "metadata": {
    "collapsed": true
   },
   "outputs": [],
   "source": [
    "N = dim(Phi)[1]\n",
    "M = dim(Phi)[2]\n",
    "\n",
    "A1 = kronecker(matrix(1, 1, M), sparseMatrix(1:N, 1:N))\n",
    "A2 = kronecker(sparseMatrix(1:M, 1:M), matrix(1, 1, N))\n",
    "A = rbind2(A1, A2)\n",
    "\n",
    "p = rep(1/nobs, nobs)\n",
    "q = rep(1/nobs, nobs)\n",
    "d = c(p, q)"
   ]
  },
  {
   "cell_type": "markdown",
   "metadata": {},
   "source": [
    "Setting $z=vec\\left(  \\Pi\\right)$, the Linear Programming problem then becomes\n",
    "\n",
    "\\begin{align*}\n",
    "&  \\max_{z\\geq0}vec\\left(  \\Phi\\right)  ^{\\prime}z\\label{LPvectorized}\\\\\n",
    "s.t.~  &  \\left(  1_{M}^{\\prime}\\otimes I_{N}\\right)  z=vec\\left(  p\\right)\n",
    "\\nonumber\\\\\n",
    "&  \\left(  I_{M}\\otimes1_{N}^{\\prime}\\right)  z=vec\\left(  q^{\\prime}\\right)\n",
    "\\nonumber\n",
    "\\end{align*}\n",
    "\n",
    "which is ready to be passed on to a linear programming solver such as Gurobi.\n",
    "\n",
    "A LP solver typically computes programs of the form\n",
    "\n",
    "\\begin{align*}\n",
    "&  \\max_{z\\geq0}c^{\\prime}z\\label{standardLP}\\\\\n",
    "&  s.t.~Az=d.\\nonumber\n",
    "\\end{align*}"
   ]
  },
  {
   "cell_type": "code",
   "execution_count": 5,
   "metadata": {},
   "outputs": [
    {
     "name": "stdout",
     "output_type": "stream",
     "text": [
      "[1] \"Value of the problem (Gurobi) = 1.70388302245657\"\n",
      " [1] 1.922803 1.286440 2.351599 3.030279 3.741377 2.725222 1.252313 1.988384\n",
      " [9] 1.445145 1.525087\n",
      " [1] -0.7409078 -0.9616074  0.6039734 -0.2880301 -1.1140921 -0.1014630\n",
      " [7] -0.6873566  0.5351975 -0.5838891 -0.1083689\n"
     ]
    }
   ],
   "source": [
    "result = gurobi(list(A = A, obj = obj, modelsense = \"max\", rhs = d, sense = \"=\"), \n",
    "    params = list(OutputFlag = 0))\n",
    "if (result$status == \"OPTIMAL\") {\n",
    "    pi = matrix(result$x, nrow = N)\n",
    "    u = result$pi[1:N]\n",
    "    v = result$pi[(N + 1):(N + M)]\n",
    "    val = result$objval\n",
    "} else {\n",
    "    stop(\"optimization problem with Gurobi.\")\n",
    "}\n",
    "\n",
    "print(paste0(\"Value of the problem (Gurobi) = \", val))\n",
    "print(u[1:10])\n",
    "print(v[1:10])"
   ]
  },
  {
   "cell_type": "markdown",
   "metadata": {},
   "source": [
    "Who does man $1$ match with?"
   ]
  },
  {
   "cell_type": "code",
   "execution_count": 6,
   "metadata": {},
   "outputs": [
    {
     "name": "stdout",
     "output_type": "stream",
     "text": [
      "[1] \"Woman 576\"\n"
     ]
    }
   ],
   "source": [
    "print(paste('Woman', which(pi[1,]!=0)))"
   ]
  }
 ],
 "metadata": {
  "kernelspec": {
   "display_name": "R",
   "language": "R",
   "name": "ir"
  },
  "language_info": {
   "codemirror_mode": "r",
   "file_extension": ".r",
   "mimetype": "text/x-r-source",
   "name": "R",
   "pygments_lexer": "r",
   "version": "3.5.2"
  }
 },
 "nbformat": 4,
 "nbformat_minor": 2
}
