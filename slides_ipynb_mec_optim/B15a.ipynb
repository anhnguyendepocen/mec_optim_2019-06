{
 "cells": [
  {
   "cell_type": "markdown",
   "metadata": {},
   "source": [
    "# <center>Block 14: Empirical matching: The gravity equation</center>\n",
    "### <center>Alfred Galichon (NYU)</center>\n",
    "## <center>`math+econ+code' masterclass on matching models, optimal transport and applications</center>\n",
    "<center>© 2018-2019 by Alfred Galichon. Support from NSF grant DMS-1716489 is acknowledged. James Nesbit contributed.</center>"
   ]
  },
  {
   "cell_type": "markdown",
   "metadata": {},
   "source": [
    "### Learning objectives\n",
    "\n",
    "* Regularized optimal transport\n",
    "\n",
    "* The gravity equation\n",
    "\n",
    "* Generalized linear models\n",
    "\n",
    "* Pseudo-Poisson maximum likelihood estimation"
   ]
  },
  {
   "cell_type": "markdown",
   "metadata": {},
   "source": [
    "### References\n",
    "\n",
    "* Anderson and van Wincoop (2003). \"Gravity with Gravitas: A Solution to the Border Puzzle\". *American Economic Review*.\n",
    "\n",
    "* Head and Mayer (2014). \"Gravity Equations: Workhorse, Toolkit and Cookbook\". *Handbook of International Economics*.\n",
    "\n",
    "* Gourieroux, Trognon, Monfort (1984). \"Pseudo Maximum Likelihood Methods: Theory\". *Econometrica*.\n",
    "\n",
    "* McCullagh and Nelder (1989). *Generalized Linear Models*. Chapman and Hall/CRC.\n",
    "\n",
    "* Santos Silva and Tenreyro (2006). \"The Log of Gravity\". *Review of Economics and Statistics*.\n",
    "\n",
    "* Yotov et al. (2011). *An advanced guide to trade policy analysis*. WTO.\n",
    "\n",
    "* Guimares and Portugal (2012). \"Real Wages and the Business Cycle: Accounting for Worker, Firm, and Job Title Heterogeneity\". *AEJ: Macro*.\n",
    "\n",
    "* Dupuy and G (2014), \"Personality traits and the marriage market\". *Journal of Political Economy*.\n",
    "\n",
    "* Dupuy, G and Sun (2016), \"Estimating matching affinity matrix under low-rank constraints\". arxiv 1612.09585."
   ]
  },
  {
   "cell_type": "markdown",
   "metadata": {},
   "source": [
    "### Motivation\n",
    "\n",
    "The gravity equation is a very useful tool for explaining trade flows by various measures of proximity between countries.\n",
    "\n",
    "A number of regressors have been proposed. They include: geographic distance, common official languague, common colonial past, share of common religions, etc.\n",
    "\n",
    "The dependent variable is the volume of exports from country $i$ to country $n$, for each pair of country $\\left(  i,n\\right)$.\n",
    "\n",
    "Today, we shall see a close connection between gravity models of international trade and separable matching models."
   ]
  },
  {
   "cell_type": "markdown",
   "metadata": {},
   "source": [
    "### Regularized optimal transport\n",
    "\n",
    "Consider the optimal transport duality\n",
    "\n",
    "\\begin{align*}\n",
    "\\max_{\\pi\\in\\mathcal{M}\\left(  P,Q\\right)  }\\sum_{xy}\\pi_{xy}\\Phi_{xy}=\\min_{u_{x}+v_{y}\\geq\\Phi_{xy}}\\sum_{x\\in\\mathcal{X}}p_{x}u_{x}+\\sum_{y\\in\\mathcal{Y}}q_{y}v_{y}\n",
    "\\end{align*}\n",
    "\n",
    "Now let's assume that we are adding an entropy to the primal objective function. For any $\\sigma>0$, we get\n",
    "\n",
    "\\begin{align*}\n",
    "&  \\max_{\\pi\\in\\mathcal{M}\\left(  P,Q\\right)  }\\sum_{xy}\\pi_{xy}\\Phi_{xy}-\\sigma\\sum_{xy}\\pi_{xy}\\ln\\pi_{xy}\\\\\n",
    "&  =\\min_{u,v}\\sum_{x\\in\\mathcal{X}}p_{x}u_{x}+\\sum_{y\\in\\mathcal{Y}}q_{y}v_{y}+\\sigma\\sum_{xy}\\exp\\left(  \\frac{\\Phi_{xy}-u_{x}-v_{y}-\\sigma}{\\sigma}\\right)\n",
    "\\end{align*}\n",
    "\n",
    "The latter problem is an unconstrained convex optimization problem. But the most efficient numerical computation technique is often coordinate descent, i.e. alternate between minimization in $u$ and minimization in $v$."
   ]
  },
  {
   "cell_type": "markdown",
   "metadata": {},
   "source": [
    "### Iterated fitting\n",
    "\n",
    "Maximize wrt to $u$ yields\n",
    "\n",
    "\\begin{align*}\n",
    "e^{-u_{x}/\\sigma}=\\frac{p_{x}}{\\sum_{y}\\exp\\left(  \\frac{\\Phi_{xy}-v_{y}-\\sigma}{\\sigma}\\right)  }\n",
    "\\end{align*}\n",
    "\n",
    "and wrt $v$ yields\n",
    "\n",
    "\\begin{align*}\n",
    "e^{-v_{y}/\\sigma}=\\frac{q_{y}}{\\sum_{x}\\exp\\left(  \\frac{\\Phi_{xy}-v_{y}-\\sigma}{\\sigma}\\right)  }\n",
    "\\end{align*}\n",
    "\n",
    "It is called the \"iterated projection fitting procedure\" (ipfp), aka \"matrix scaling\", \"RAS algorithm\", \"Sinkhorn-Knopp algorithm\", \"Kruithof's method\", \"Furness procedure\", \"biproportional fitting procedure\", \"Bregman's procedure\". See survey in Idel (2016).\n",
    "\n",
    "Maybe the most often reinvented algorithm in applied mathematics. Recently rediscovered in a machine learning context."
   ]
  },
  {
   "cell_type": "markdown",
   "metadata": {},
   "source": [
    "### Econometrics of matching\n",
    "\n",
    "The goal is to estimate the matching surplus $\\Phi_{xy}$. For this, take a linear parameterization\n",
    "\n",
    "\\begin{align*}\n",
    "\\Phi_{xy}^{\\beta}=\\sum_{k=1}^{K}\\beta_{k}\\phi_{xy}^{k}.\n",
    "\\end{align*}\n",
    "\n",
    "Following Choo and Siow (2006), Galichon and Salanie (2017) introduce logit heterogeneity in individual preferences and show that the equilibrium now maximizes the *regularized Monge-Kantorovich problem*\n",
    "\n",
    "\\begin{align*}\n",
    "W\\left(  \\beta\\right)  =\\max_{\\pi\\in\\mathcal{M}\\left(  P,Q\\right)  }\\sum_{xy}\\pi_{xy}\\Phi_{xy}^{\\beta}-\\sigma\\sum_{xy}\\pi_{xy}\\ln\\pi_{xy}\n",
    "\\end{align*}\n",
    "\n",
    "By duality, $W\\left(  \\beta\\right)  $ can be expressed\n",
    "\n",
    "\\begin{align*}\n",
    "W\\left(  \\beta\\right)  =\\min_{u,v}\\sum_{x}p_{x}u_{x}+\\sum_{y}q_{y}v_{y}+\\sigma\\sum_{xy}\\exp\\left(  \\frac{\\Phi_{xy}^{\\beta}-u_{x}-v_{y}-\\sigma}{\\sigma}\\right)\n",
    "\\end{align*}\n",
    "\n",
    "and w.l.o.g. can set $\\sigma=1$ and drop the additive constant $-\\sigma$ in the $\\exp$."
   ]
  },
  {
   "cell_type": "markdown",
   "metadata": {},
   "source": [
    "### Estimation\n",
    "\n",
    "We observe the actual matching $\\hat{\\pi}_{xy}$. Note that $\\partial W/ \\partial\\beta^{k}=\\sum_{xy}\\pi_{xy}\\phi_{xy}^{k},$\\ hence $\\beta$ is estimated by running\n",
    "\n",
    "<a name='objFun'></a>\n",
    "\\begin{align*}\n",
    "\\min_{u,v,\\beta}\\sum_{x}p_{x}u_{x}+\\sum_{y}q_{y}v_{y}+\\sum_{xy}\\exp\\left(\\Phi_{xy}^{\\beta}-u_{x}-v_{y}\\right)  -\\sum_{xy,k}\\hat{\\pi}_{xy}\\beta_{k}\\phi_{xy}^{k}\n",
    "\\end{align*}\n",
    "\n",
    "which is still a convex optimization problem.\n",
    "\n",
    "This is actually the objective function of the log-likelihood in a Poisson regression with $x$ and $y$ fixed effects, where we assume\n",
    "\n",
    "\\begin{align*}\n",
    "\\pi_{xy}|xy\\sim Poisson\\left(  \\exp\\left(  \\sum_{k=1}^{K}\\beta_{k}\\phi\n",
    "_{xy}^{k}-u_{x}-v_{y}\\right)  \\right)  .\n",
    "\\end{align*}"
   ]
  },
  {
   "cell_type": "markdown",
   "metadata": {},
   "source": [
    "### Poisson regression with fixed effects\n",
    "\n",
    "Let $\\theta=\\left(  \\beta,u,v\\right)  $ and $Z=\\left(  \\phi,D^{x},D^{y}\\right)  $ where $D_{x^{\\prime}y^{\\prime}}^{x}=1\\left\\{  x=x^{\\prime}\\right\\}  $ and $D_{x^{\\prime}y^{\\prime}}^{y}=1\\left\\{  y=y^{\\prime}\\right\\}$ are $x$-and $y$-dummies. Let $m_{xy}\\left(  Z;\\theta\\right)  =\\exp\\left(\\theta^{\\intercal}Z_{xy}\\right)  $ be the parameter of the Poisson distribution.\n",
    "\n",
    "The conditional likelihood of $\\hat{\\pi}_{xy}$ given $Z_{xy}$ is\n",
    "\n",
    "\\begin{align*}\n",
    "l_{xy}\\left(  \\hat{\\pi}_{xy};\\theta\\right)   &  =\\hat{\\pi}_{xy}\\log m_{xy}\\left(  Z;\\theta\\right)  -m_{xy}\\left(  Z;\\theta\\right) \\\\\n",
    "&  =\\hat{\\pi}_{xy}\\left(  \\theta^{\\intercal}Z_{xy}\\right)  -\\exp\\left(\\theta^{\\intercal}Z_{xy}\\right) \\\\\n",
    "&  =\\hat{\\pi}_{xy}\\left(  \\sum_{k=1}^{K}\\beta_{k}\\phi_{xy}^{k}-u_{x}-v_{y}\\right)  -\\exp\\left(  \\sum_{k=1}^{K}\\beta_{k}\\phi_{xy}^{k}-u_{x}-v_{y}\\right)\n",
    "\\end{align*}\n",
    "\n",
    "Summing over $x$ and $y$, the sample log-likelihood is\n",
    "\n",
    "\\begin{align*}\n",
    "\\sum_{xy}\\hat{\\pi}_{xy}\\sum_{k=1}^{K}\\beta_{k}\\phi_{xy}^{k}-\\sum_{x}p_{x}u_{x}-\\sum_{y}q_{y}v_{y}-\\sum_{xy}\\exp\\left(  \\sum_{k=1}^{K}\\beta_{k}\\phi_{xy}^{k}-u_{x}-v_{y}\\right)\n",
    "\\end{align*}\n",
    "\n",
    "hence we recover the [objective function](#objFun)."
   ]
  },
  {
   "cell_type": "markdown",
   "metadata": {},
   "source": [
    "### From Poisson to pseudo-Poisson\n",
    "\n",
    "If $\\pi_{xy}|xy$ is Poisson, then $\\mathbb{E}\\left[\\pi_{xy}\\right]=m_{xy}\\left(  Z_{xy};\\theta\\right)  =\\mathbb{V}ar\\left(  \\pi_{xy}\\right)  $. While it makes sense to assume the former equality, the latter is a rather strong assumption.\n",
    "\n",
    "For estimation purposes, $\\hat{\\theta}$ is obtained by\n",
    "\n",
    "\\begin{align*}\n",
    "\\max_{\\theta}\\sum_{xy}l\\left(  \\hat{\\pi}_{xy};\\theta\\right)  =\\sum_{xy}\\left(\\hat{\\pi}_{xy}\\left(  \\theta^{\\intercal}Z_{xy}\\right)  -\\exp\\left(\\theta^{\\intercal}Z_{xy}\\right)  \\right)\n",
    "\\end{align*}\n",
    "\n",
    "however, for inference purposes, one shall not assume the Poisson distribution. Instead\n",
    "\n",
    "\\begin{align*}\n",
    "\\sqrt{N}\\left(  \\hat{\\theta}-\\theta\\right)  \\Longrightarrow\\left(A_{0}\\right)  ^{-1}B_{0}\\left(  A_{0}\\right)  ^{-1}\n",
    "\\end{align*}\n",
    "\n",
    "where $N=\\left\\vert \\mathcal{X}\\right\\vert \\times\\left\\vert \\mathcal{Y}\\right\\vert $ and $A_{0}$ and $B_{0}$ are estimated by\n",
    "\n",
    "\\begin{align*}\n",
    "\\hat{A}_{0}  &  =N^{-1}\\sum_{xy}D_{\\theta\\theta}^{2}l\\left(  \\hat{\\pi}_{xy};\\hat{\\theta}\\right)  =N^{-1}\\sum_{xy}\\exp\\left(  \\hat{\\theta}^{\\intercal}Z_{xy}\\right)  Z_{xy}Z_{xy}^{\\intercal}\\\\\n",
    "\\hat{B}_{0}  &  =N^{-1}\\sum_{xy}\\left(  \\hat{\\pi}_{xy}-\\exp\\left(  \\hat{\\theta}^{\\intercal}Z_{xy}\\right)  \\right)  ^{2}Z_{xy}Z_{xy}^{\\intercal}.\n",
    "\\end{align*}"
   ]
  },
  {
   "cell_type": "markdown",
   "metadata": {},
   "source": [
    "### Application: estimation of affinity matrix\n",
    "\n",
    "Dupuy and G (2014) focus on cross-dimensional interactions\n",
    "\n",
    "\\begin{align*}\n",
    "\\phi_{xy}^{A}=\\sum_{p,q}A_{pq}\\xi_{x}^{p}\\xi_{y}^{q}\n",
    "\\end{align*}\n",
    "\n",
    "and estimate \"affinity matrix\" $A$ on a dataset of married individuals where the \"big 5\" personality traits are measured.\n",
    "\n",
    "$A$ is estimated by\n",
    "\n",
    "\\begin{align*}\n",
    "\\min_{s_{i},m_{n}}\\min_{A}\\left\\{\n",
    "\\begin{array}\n",
    "[c]{c}%\n",
    "\\sum_{x}p_{x}u_{x}+\\sum_{y}q_{y}v_{y}\\\\\n",
    "+\\sum_{xy}\\exp\\left(  \\sum_{p,q}A_{pq}\\xi_{x}^{p}\\xi_{y}^{q}-u_{x}%\n",
    "-v_{y}\\right) \\\\\n",
    "-\\sum_{x,y,p,q}\\hat{\\pi}_{xy}A_{pq}\\xi_{x}^{p}\\xi_{y}^{q}%\n",
    "\\end{array}\n",
    "\\right\\}  .\n",
    "\\end{align*}\n",
    "\n",
    "Dupuy, Galichon and Sun (2016) consider the case when the space of characteristics is high-dimensional. More on this this afternoon."
   ]
  },
  {
   "cell_type": "markdown",
   "metadata": {},
   "source": [
    "### Estimation of affinity matrix: results\n",
    "\n",
    "|  Husbands   \\ Wives             | Education | Height | BMI   | Health | Consc. | Extra. | Agree | Emotio | Auto. | Risk  |\n",
    "|-------------------|-----------|--------|-------|--------|--------|--------|-------|--------|-------|-------|\n",
    "| Education         | 0.46      | 0      | -0.06 | 0.01   | -0.02  | 0.03   | -0.01 | -0.03  | 0.04  | 0.01  |\n",
    "| Height            | 0.04      | 0.21   | 0.04  | 0.03   | -0.06  | 0.03   | 0.02  | 0      | -0.01 | 0.02  |\n",
    "| BMI               | -0.03     | 0.03   | 0.21  | 0.01   | 0.03   | 0      | -0.05 | 0.02   | 0.01  | -0.02 |\n",
    "| Health            | -0.02     | 0.02   | -0.04 | 0.17   | -0.04  | 0.02   | -0.01 | 0.01   | 0     | 0.03  |\n",
    "| Conscienciousness | -0.07     | -0.01  | 0.07  | 0      | 0.16   | 0.05   | 0.04  | 0.06   | 0.01  | 0.01  |\n",
    "| Extraversion      | 0         | -0.01  | 0     | 0.01   | -0.06  | 0.08   | -0.04 | -0.01  | 0.02  | -0.06 |\n",
    "| Agreeableness     | 0.01      | 0.01   | -0.06 | 0.02   | 0.1    | -0.11  | 0     | 0.07   | -0.07 | -0.05 |\n",
    "| Emotional         | 0.03      | -0.01  | 0.04  | 0.06   | 0.19   | 0.04   | 0.01  | -0.04  | 0.08  | 0.05  |\n",
    "| Autonomy          | 0.03      | 0.02   | 0.01  | 0.02   | -0.09  | 0.09   | -0.04 | 0.02   | -0.1  | 0.03  |\n",
    "| Risk              | 0.03      | -0.01  | -0.03 | -0.01  | 0      | -0.02  | -0.03 | -0.03  | 0.08  | 0.14  |\n",
    "\n",
    "Affinity matrix. Source: Dupuy and G (2014). Note: Bold coefficients are significant at the 5 percent level."
   ]
  },
  {
   "cell_type": "markdown",
   "metadata": {},
   "source": [
    "## The gravity equation}\n",
    "\n",
    "\"Structural gravity equation\" \\ (Anderson and van Wincoop, 2003) as reviewed in Head and Mayer (2014)\n",
    "handbook chapter:\n",
    "\n",
    "\\begin{align*}\n",
    "X_{ni}=\\underset{S_{i}}{\\underbrace{\\frac{Y_{i}}{\\Omega_{i}}}}\\underset{M_{n}}{\\underbrace{\\frac{X_{n}}{\\Psi_{n}}}}\\Phi_{ni}%\n",
    "\\end{align*}\n",
    "\n",
    "where $n$=importer, $i$=exporter, $X_{ni}$=trade flow from $i$ to $n$, $Y_{i}=\\sum_{n}X_{ni}$ is value of production, $X_{n}=\\sum_{i}X_{ni}$ is importers' expenditures, and $\\phi_{ni}$=bilateral accessibility of $n$ to $i$.\n",
    "\n",
    "$\\Omega_{i}$ and $\\Psi_{n}$ are \\textquotedblleft multilateral resistances\\textquotedblright, satisfying the set of implicit equations\n",
    "\n",
    "\\begin{align*}\n",
    "\\Psi_{n}=\\sum_{i}\\frac{\\Phi_{ni}Y_{i}}{\\Omega_{i}}\\text{ and }\\Omega_{i}%\n",
    "=\\sum_{n}\\frac{\\Phi_{ni}X_{n}}{\\Psi_{n}}%\n",
    "\\end{align*}\n",
    "\n",
    "These are exactly the same equations as those of the regularized OT."
   ]
  },
  {
   "cell_type": "markdown",
   "metadata": {},
   "source": [
    "### Explaining trade\n",
    "\n",
    "Parameterize $\\Phi_{ni}=\\exp\\left(  \\sum_{k=1}^{K}\\beta_{k}D_{ni}^{k}\\right)  $, where the $D_{ni}^{k}$ are $K$ pairwise measures of distance between $n$ and $i$. We have\n",
    "\n",
    "\\begin{align*}\n",
    "X_{ni}=\\exp\\left(  \\sum_{k=1}^{K}\\beta_{k}D_{ni}^{k}-s_{i}-m_{n}\\right)\n",
    "\\end{align*}\n",
    "\n",
    "where fixed effects $s_{i}=-\\ln S_{i}$ and $m_{n}=-\\ln M_{n}$ are adjusted by\n",
    "\n",
    "\\begin{align*}\n",
    "\\sum_{i}X_{ni}=Y_{i}\\text{ and }\\sum_{n}X_{ni}=X_{n}.\n",
    "\\end{align*}\n",
    "\n",
    "Standard choices of $D_{ni}^{k}$'s:\n",
    "\n",
    "* Logarithm of bilateral distance between $n$ and $i$\n",
    "\n",
    "* Indicator of contiguous borders; of common official language; of\n",
    "colonial ties\n",
    "\n",
    "* Trade policy variables: presence of a regional trade agreement; tariffs\n",
    "\n",
    "* Could include many other measures of proximity, e.g. measure of genetic/cultural distance, intensity of communications, etc."
   ]
  },
  {
   "cell_type": "markdown",
   "metadata": {},
   "source": [
    "## Application"
   ]
  },
  {
   "cell_type": "markdown",
   "metadata": {},
   "source": [
    "Our data comes from An Advanced Guide to Trade Policy Analysis: The Structural Gravity Mode. We will estimate the gravity model using optimal transport as well as using Poisson regression."
   ]
  },
  {
   "cell_type": "code",
   "execution_count": 1,
   "metadata": {},
   "outputs": [],
   "source": [
    "library(tictoc)"
   ]
  },
  {
   "cell_type": "code",
   "execution_count": 8,
   "metadata": {},
   "outputs": [
    {
     "data": {
      "text/html": [
       "<table>\n",
       "<caption>A data.frame: 6 × 855</caption>\n",
       "<thead>\n",
       "\t<tr><th scope=col>exporter</th><th scope=col>importer</th><th scope=col>pair_id</th><th scope=col>year</th><th scope=col>trade</th><th scope=col>DIST</th><th scope=col>CNTG</th><th scope=col>LANG</th><th scope=col>CLNY</th><th scope=col>ln_trade</th><th scope=col>...</th><th scope=col>IMPORTER_TIME_FE407</th><th scope=col>IMPORTER_TIME_FE408</th><th scope=col>IMPORTER_TIME_FE409</th><th scope=col>IMPORTER_TIME_FE410</th><th scope=col>IMPORTER_TIME_FE411</th><th scope=col>IMPORTER_TIME_FE412</th><th scope=col>IMPORTER_TIME_FE413</th><th scope=col>IMPORTER_TIME_FE414</th><th scope=col>X_est_fes</th><th scope=col>X_est_ppml</th></tr>\n",
       "\t<tr><th scope=col>&lt;fct&gt;</th><th scope=col>&lt;fct&gt;</th><th scope=col>&lt;int&gt;</th><th scope=col>&lt;int&gt;</th><th scope=col>&lt;dbl&gt;</th><th scope=col>&lt;dbl&gt;</th><th scope=col>&lt;int&gt;</th><th scope=col>&lt;int&gt;</th><th scope=col>&lt;int&gt;</th><th scope=col>&lt;dbl&gt;</th><th scope=col>...</th><th scope=col>&lt;int&gt;</th><th scope=col>&lt;int&gt;</th><th scope=col>&lt;int&gt;</th><th scope=col>&lt;int&gt;</th><th scope=col>&lt;int&gt;</th><th scope=col>&lt;int&gt;</th><th scope=col>&lt;int&gt;</th><th scope=col>&lt;int&gt;</th><th scope=col>&lt;int&gt;</th><th scope=col>&lt;int&gt;</th></tr>\n",
       "</thead>\n",
       "<tbody>\n",
       "\t<tr><td>LKA</td><td>ARG</td><td>115</td><td>1986</td><td>  0.0064160</td><td>15078.428</td><td>0</td><td>0</td><td>0</td><td>-5.048960</td><td>...</td><td>0</td><td>0</td><td>0</td><td>0</td><td>0</td><td>0</td><td>0</td><td>0</td><td>1</td><td>1</td></tr>\n",
       "\t<tr><td>GRC</td><td>ARG</td><td> 56</td><td>1986</td><td>  0.0988345</td><td>11772.039</td><td>0</td><td>0</td><td>0</td><td>-2.314308</td><td>...</td><td>0</td><td>0</td><td>0</td><td>0</td><td>0</td><td>0</td><td>0</td><td>0</td><td>1</td><td>1</td></tr>\n",
       "\t<tr><td>QAT</td><td>ARG</td><td>203</td><td>1986</td><td>  0.0000000</td><td>13482.186</td><td>0</td><td>0</td><td>0</td><td>       NA</td><td>...</td><td>0</td><td>0</td><td>0</td><td>0</td><td>0</td><td>0</td><td>0</td><td>0</td><td>0</td><td>1</td></tr>\n",
       "\t<tr><td>HKG</td><td>ARG</td><td> 60</td><td>1986</td><td>  5.7049370</td><td>18685.815</td><td>0</td><td>0</td><td>0</td><td> 1.741332</td><td>...</td><td>0</td><td>0</td><td>0</td><td>0</td><td>0</td><td>0</td><td>0</td><td>0</td><td>1</td><td>1</td></tr>\n",
       "\t<tr><td>FIN</td><td>ARG</td><td> 45</td><td>1986</td><td> 14.3477831</td><td>12969.024</td><td>0</td><td>0</td><td>0</td><td> 2.663595</td><td>...</td><td>0</td><td>0</td><td>0</td><td>0</td><td>0</td><td>0</td><td>0</td><td>0</td><td>1</td><td>1</td></tr>\n",
       "\t<tr><td>BRA</td><td>ARG</td><td>  8</td><td>1986</td><td>386.8603245</td><td> 2391.846</td><td>1</td><td>0</td><td>0</td><td> 5.958064</td><td>...</td><td>0</td><td>0</td><td>0</td><td>0</td><td>0</td><td>0</td><td>0</td><td>0</td><td>1</td><td>1</td></tr>\n",
       "</tbody>\n",
       "</table>\n"
      ],
      "text/latex": [
       "A data.frame: 6 × 855\n",
       "\\begin{tabular}{r|lllllllllllllllllllllllllllllllllllllllllllllllllllllllllllllllllllllllllllllllllllllllllllllllllllllllllllllllllllllllllllllllllllllllllllllllllllllllllllllllllllllllllllllllllllllllllllllllllllllllllllllllllllllllllllllllllllllllllllllllllllllllllllllllllllllllllllllllllllllllllllllllllllllllllllllllllllllllllllllllllllllllllllllllllllllllllllllllllllllllllllllllllllllllllllllllllllllllllllllllllllllllllllllllllllllllllllllllllllllllllllllllllllllllllllllllllllllllllllllllllllllllllllllllllllllllllllllllllllllllllllllllllllllllllllllllllllllllllllllllllllllllllllllllllllllllllllllllllllllllllllllllllllllllllllllllllllllllllllllllllllllllllllllllllllllllllllllllllllllllllllllllllllllllllllllllllllllllllllllllllllllllllllllllllllllllllllllllllllllllllllllllllllllllllllllllllllllllllllllllllllllllllllllllllllllllllllllllllllllllllllllllllllllll}\n",
       " exporter & importer & pair\\_id & year & trade & DIST & CNTG & LANG & CLNY & ln\\_trade & ln\\_DIST & Y & ln\\_Y & E & ln\\_E & X\\_est\\_ols & TotE & TotY & REM\\_EXP & ln\\_REM\\_EXP & REM\\_IMP & ln\\_REM\\_IMP & X\\_est\\_rmtns & exp\\_time & EXPORTER\\_TIME\\_FE1 & EXPORTER\\_TIME\\_FE2 & EXPORTER\\_TIME\\_FE3 & EXPORTER\\_TIME\\_FE4 & EXPORTER\\_TIME\\_FE5 & EXPORTER\\_TIME\\_FE6 & EXPORTER\\_TIME\\_FE7 & EXPORTER\\_TIME\\_FE8 & EXPORTER\\_TIME\\_FE9 & EXPORTER\\_TIME\\_FE10 & EXPORTER\\_TIME\\_FE11 & EXPORTER\\_TIME\\_FE12 & EXPORTER\\_TIME\\_FE13 & EXPORTER\\_TIME\\_FE14 & EXPORTER\\_TIME\\_FE15 & EXPORTER\\_TIME\\_FE16 & EXPORTER\\_TIME\\_FE17 & EXPORTER\\_TIME\\_FE18 & EXPORTER\\_TIME\\_FE19 & EXPORTER\\_TIME\\_FE20 & EXPORTER\\_TIME\\_FE21 & EXPORTER\\_TIME\\_FE22 & EXPORTER\\_TIME\\_FE23 & EXPORTER\\_TIME\\_FE24 & EXPORTER\\_TIME\\_FE25 & EXPORTER\\_TIME\\_FE26 & EXPORTER\\_TIME\\_FE27 & EXPORTER\\_TIME\\_FE28 & EXPORTER\\_TIME\\_FE29 & EXPORTER\\_TIME\\_FE30 & EXPORTER\\_TIME\\_FE31 & EXPORTER\\_TIME\\_FE32 & EXPORTER\\_TIME\\_FE33 & EXPORTER\\_TIME\\_FE34 & EXPORTER\\_TIME\\_FE35 & EXPORTER\\_TIME\\_FE36 & EXPORTER\\_TIME\\_FE37 & EXPORTER\\_TIME\\_FE38 & EXPORTER\\_TIME\\_FE39 & EXPORTER\\_TIME\\_FE40 & EXPORTER\\_TIME\\_FE41 & EXPORTER\\_TIME\\_FE42 & EXPORTER\\_TIME\\_FE43 & EXPORTER\\_TIME\\_FE44 & EXPORTER\\_TIME\\_FE45 & EXPORTER\\_TIME\\_FE46 & EXPORTER\\_TIME\\_FE47 & EXPORTER\\_TIME\\_FE48 & EXPORTER\\_TIME\\_FE49 & EXPORTER\\_TIME\\_FE50 & EXPORTER\\_TIME\\_FE51 & EXPORTER\\_TIME\\_FE52 & EXPORTER\\_TIME\\_FE53 & EXPORTER\\_TIME\\_FE54 & EXPORTER\\_TIME\\_FE55 & EXPORTER\\_TIME\\_FE56 & EXPORTER\\_TIME\\_FE57 & EXPORTER\\_TIME\\_FE58 & EXPORTER\\_TIME\\_FE59 & EXPORTER\\_TIME\\_FE60 & EXPORTER\\_TIME\\_FE61 & EXPORTER\\_TIME\\_FE62 & EXPORTER\\_TIME\\_FE63 & EXPORTER\\_TIME\\_FE64 & EXPORTER\\_TIME\\_FE65 & EXPORTER\\_TIME\\_FE66 & EXPORTER\\_TIME\\_FE67 & EXPORTER\\_TIME\\_FE68 & EXPORTER\\_TIME\\_FE69 & EXPORTER\\_TIME\\_FE70 & EXPORTER\\_TIME\\_FE71 & EXPORTER\\_TIME\\_FE72 & EXPORTER\\_TIME\\_FE73 & EXPORTER\\_TIME\\_FE74 & EXPORTER\\_TIME\\_FE75 & EXPORTER\\_TIME\\_FE76 & EXPORTER\\_TIME\\_FE77 & EXPORTER\\_TIME\\_FE78 & EXPORTER\\_TIME\\_FE79 & EXPORTER\\_TIME\\_FE80 & EXPORTER\\_TIME\\_FE81 & EXPORTER\\_TIME\\_FE82 & EXPORTER\\_TIME\\_FE83 & EXPORTER\\_TIME\\_FE84 & EXPORTER\\_TIME\\_FE85 & EXPORTER\\_TIME\\_FE86 & EXPORTER\\_TIME\\_FE87 & EXPORTER\\_TIME\\_FE88 & EXPORTER\\_TIME\\_FE89 & EXPORTER\\_TIME\\_FE90 & EXPORTER\\_TIME\\_FE91 & EXPORTER\\_TIME\\_FE92 & EXPORTER\\_TIME\\_FE93 & EXPORTER\\_TIME\\_FE94 & EXPORTER\\_TIME\\_FE95 & EXPORTER\\_TIME\\_FE96 & EXPORTER\\_TIME\\_FE97 & EXPORTER\\_TIME\\_FE98 & EXPORTER\\_TIME\\_FE99 & EXPORTER\\_TIME\\_FE100 & EXPORTER\\_TIME\\_FE101 & EXPORTER\\_TIME\\_FE102 & EXPORTER\\_TIME\\_FE103 & EXPORTER\\_TIME\\_FE104 & EXPORTER\\_TIME\\_FE105 & EXPORTER\\_TIME\\_FE106 & EXPORTER\\_TIME\\_FE107 & EXPORTER\\_TIME\\_FE108 & EXPORTER\\_TIME\\_FE109 & EXPORTER\\_TIME\\_FE110 & EXPORTER\\_TIME\\_FE111 & EXPORTER\\_TIME\\_FE112 & EXPORTER\\_TIME\\_FE113 & EXPORTER\\_TIME\\_FE114 & EXPORTER\\_TIME\\_FE115 & EXPORTER\\_TIME\\_FE116 & EXPORTER\\_TIME\\_FE117 & EXPORTER\\_TIME\\_FE118 & EXPORTER\\_TIME\\_FE119 & EXPORTER\\_TIME\\_FE120 & EXPORTER\\_TIME\\_FE121 & EXPORTER\\_TIME\\_FE122 & EXPORTER\\_TIME\\_FE123 & EXPORTER\\_TIME\\_FE124 & EXPORTER\\_TIME\\_FE125 & EXPORTER\\_TIME\\_FE126 & EXPORTER\\_TIME\\_FE127 & EXPORTER\\_TIME\\_FE128 & EXPORTER\\_TIME\\_FE129 & EXPORTER\\_TIME\\_FE130 & EXPORTER\\_TIME\\_FE131 & EXPORTER\\_TIME\\_FE132 & EXPORTER\\_TIME\\_FE133 & EXPORTER\\_TIME\\_FE134 & EXPORTER\\_TIME\\_FE135 & EXPORTER\\_TIME\\_FE136 & EXPORTER\\_TIME\\_FE137 & EXPORTER\\_TIME\\_FE138 & EXPORTER\\_TIME\\_FE139 & EXPORTER\\_TIME\\_FE140 & EXPORTER\\_TIME\\_FE141 & EXPORTER\\_TIME\\_FE142 & EXPORTER\\_TIME\\_FE143 & EXPORTER\\_TIME\\_FE144 & EXPORTER\\_TIME\\_FE145 & EXPORTER\\_TIME\\_FE146 & EXPORTER\\_TIME\\_FE147 & EXPORTER\\_TIME\\_FE148 & EXPORTER\\_TIME\\_FE149 & EXPORTER\\_TIME\\_FE150 & EXPORTER\\_TIME\\_FE151 & EXPORTER\\_TIME\\_FE152 & EXPORTER\\_TIME\\_FE153 & EXPORTER\\_TIME\\_FE154 & EXPORTER\\_TIME\\_FE155 & EXPORTER\\_TIME\\_FE156 & EXPORTER\\_TIME\\_FE157 & EXPORTER\\_TIME\\_FE158 & EXPORTER\\_TIME\\_FE159 & EXPORTER\\_TIME\\_FE160 & EXPORTER\\_TIME\\_FE161 & EXPORTER\\_TIME\\_FE162 & EXPORTER\\_TIME\\_FE163 & EXPORTER\\_TIME\\_FE164 & EXPORTER\\_TIME\\_FE165 & EXPORTER\\_TIME\\_FE166 & EXPORTER\\_TIME\\_FE167 & EXPORTER\\_TIME\\_FE168 & EXPORTER\\_TIME\\_FE169 & EXPORTER\\_TIME\\_FE170 & EXPORTER\\_TIME\\_FE171 & EXPORTER\\_TIME\\_FE172 & EXPORTER\\_TIME\\_FE173 & EXPORTER\\_TIME\\_FE174 & EXPORTER\\_TIME\\_FE175 & EXPORTER\\_TIME\\_FE176 & EXPORTER\\_TIME\\_FE177 & EXPORTER\\_TIME\\_FE178 & EXPORTER\\_TIME\\_FE179 & EXPORTER\\_TIME\\_FE180 & EXPORTER\\_TIME\\_FE181 & EXPORTER\\_TIME\\_FE182 & EXPORTER\\_TIME\\_FE183 & EXPORTER\\_TIME\\_FE184 & EXPORTER\\_TIME\\_FE185 & EXPORTER\\_TIME\\_FE186 & EXPORTER\\_TIME\\_FE187 & EXPORTER\\_TIME\\_FE188 & EXPORTER\\_TIME\\_FE189 & EXPORTER\\_TIME\\_FE190 & EXPORTER\\_TIME\\_FE191 & EXPORTER\\_TIME\\_FE192 & EXPORTER\\_TIME\\_FE193 & EXPORTER\\_TIME\\_FE194 & EXPORTER\\_TIME\\_FE195 & EXPORTER\\_TIME\\_FE196 & EXPORTER\\_TIME\\_FE197 & EXPORTER\\_TIME\\_FE198 & EXPORTER\\_TIME\\_FE199 & EXPORTER\\_TIME\\_FE200 & EXPORTER\\_TIME\\_FE201 & EXPORTER\\_TIME\\_FE202 & EXPORTER\\_TIME\\_FE203 & EXPORTER\\_TIME\\_FE204 & EXPORTER\\_TIME\\_FE205 & EXPORTER\\_TIME\\_FE206 & EXPORTER\\_TIME\\_FE207 & EXPORTER\\_TIME\\_FE208 & EXPORTER\\_TIME\\_FE209 & EXPORTER\\_TIME\\_FE210 & EXPORTER\\_TIME\\_FE211 & EXPORTER\\_TIME\\_FE212 & EXPORTER\\_TIME\\_FE213 & EXPORTER\\_TIME\\_FE214 & EXPORTER\\_TIME\\_FE215 & EXPORTER\\_TIME\\_FE216 & EXPORTER\\_TIME\\_FE217 & EXPORTER\\_TIME\\_FE218 & EXPORTER\\_TIME\\_FE219 & EXPORTER\\_TIME\\_FE220 & EXPORTER\\_TIME\\_FE221 & EXPORTER\\_TIME\\_FE222 & EXPORTER\\_TIME\\_FE223 & EXPORTER\\_TIME\\_FE224 & EXPORTER\\_TIME\\_FE225 & EXPORTER\\_TIME\\_FE226 & EXPORTER\\_TIME\\_FE227 & EXPORTER\\_TIME\\_FE228 & EXPORTER\\_TIME\\_FE229 & EXPORTER\\_TIME\\_FE230 & EXPORTER\\_TIME\\_FE231 & EXPORTER\\_TIME\\_FE232 & EXPORTER\\_TIME\\_FE233 & EXPORTER\\_TIME\\_FE234 & EXPORTER\\_TIME\\_FE235 & EXPORTER\\_TIME\\_FE236 & EXPORTER\\_TIME\\_FE237 & EXPORTER\\_TIME\\_FE238 & EXPORTER\\_TIME\\_FE239 & EXPORTER\\_TIME\\_FE240 & EXPORTER\\_TIME\\_FE241 & EXPORTER\\_TIME\\_FE242 & EXPORTER\\_TIME\\_FE243 & EXPORTER\\_TIME\\_FE244 & EXPORTER\\_TIME\\_FE245 & EXPORTER\\_TIME\\_FE246 & EXPORTER\\_TIME\\_FE247 & EXPORTER\\_TIME\\_FE248 & EXPORTER\\_TIME\\_FE249 & EXPORTER\\_TIME\\_FE250 & EXPORTER\\_TIME\\_FE251 & EXPORTER\\_TIME\\_FE252 & EXPORTER\\_TIME\\_FE253 & EXPORTER\\_TIME\\_FE254 & EXPORTER\\_TIME\\_FE255 & EXPORTER\\_TIME\\_FE256 & EXPORTER\\_TIME\\_FE257 & EXPORTER\\_TIME\\_FE258 & EXPORTER\\_TIME\\_FE259 & EXPORTER\\_TIME\\_FE260 & EXPORTER\\_TIME\\_FE261 & EXPORTER\\_TIME\\_FE262 & EXPORTER\\_TIME\\_FE263 & EXPORTER\\_TIME\\_FE264 & EXPORTER\\_TIME\\_FE265 & EXPORTER\\_TIME\\_FE266 & EXPORTER\\_TIME\\_FE267 & EXPORTER\\_TIME\\_FE268 & EXPORTER\\_TIME\\_FE269 & EXPORTER\\_TIME\\_FE270 & EXPORTER\\_TIME\\_FE271 & EXPORTER\\_TIME\\_FE272 & EXPORTER\\_TIME\\_FE273 & EXPORTER\\_TIME\\_FE274 & EXPORTER\\_TIME\\_FE275 & EXPORTER\\_TIME\\_FE276 & EXPORTER\\_TIME\\_FE277 & EXPORTER\\_TIME\\_FE278 & EXPORTER\\_TIME\\_FE279 & EXPORTER\\_TIME\\_FE280 & EXPORTER\\_TIME\\_FE281 & EXPORTER\\_TIME\\_FE282 & EXPORTER\\_TIME\\_FE283 & EXPORTER\\_TIME\\_FE284 & EXPORTER\\_TIME\\_FE285 & EXPORTER\\_TIME\\_FE286 & EXPORTER\\_TIME\\_FE287 & EXPORTER\\_TIME\\_FE288 & EXPORTER\\_TIME\\_FE289 & EXPORTER\\_TIME\\_FE290 & EXPORTER\\_TIME\\_FE291 & EXPORTER\\_TIME\\_FE292 & EXPORTER\\_TIME\\_FE293 & EXPORTER\\_TIME\\_FE294 & EXPORTER\\_TIME\\_FE295 & EXPORTER\\_TIME\\_FE296 & EXPORTER\\_TIME\\_FE297 & EXPORTER\\_TIME\\_FE298 & EXPORTER\\_TIME\\_FE299 & EXPORTER\\_TIME\\_FE300 & EXPORTER\\_TIME\\_FE301 & EXPORTER\\_TIME\\_FE302 & EXPORTER\\_TIME\\_FE303 & EXPORTER\\_TIME\\_FE304 & EXPORTER\\_TIME\\_FE305 & EXPORTER\\_TIME\\_FE306 & EXPORTER\\_TIME\\_FE307 & EXPORTER\\_TIME\\_FE308 & EXPORTER\\_TIME\\_FE309 & EXPORTER\\_TIME\\_FE310 & EXPORTER\\_TIME\\_FE311 & EXPORTER\\_TIME\\_FE312 & EXPORTER\\_TIME\\_FE313 & EXPORTER\\_TIME\\_FE314 & EXPORTER\\_TIME\\_FE315 & EXPORTER\\_TIME\\_FE316 & EXPORTER\\_TIME\\_FE317 & EXPORTER\\_TIME\\_FE318 & EXPORTER\\_TIME\\_FE319 & EXPORTER\\_TIME\\_FE320 & EXPORTER\\_TIME\\_FE321 & EXPORTER\\_TIME\\_FE322 & EXPORTER\\_TIME\\_FE323 & EXPORTER\\_TIME\\_FE324 & EXPORTER\\_TIME\\_FE325 & EXPORTER\\_TIME\\_FE326 & EXPORTER\\_TIME\\_FE327 & EXPORTER\\_TIME\\_FE328 & EXPORTER\\_TIME\\_FE329 & EXPORTER\\_TIME\\_FE330 & EXPORTER\\_TIME\\_FE331 & EXPORTER\\_TIME\\_FE332 & EXPORTER\\_TIME\\_FE333 & EXPORTER\\_TIME\\_FE334 & EXPORTER\\_TIME\\_FE335 & EXPORTER\\_TIME\\_FE336 & EXPORTER\\_TIME\\_FE337 & EXPORTER\\_TIME\\_FE338 & EXPORTER\\_TIME\\_FE339 & EXPORTER\\_TIME\\_FE340 & EXPORTER\\_TIME\\_FE341 & EXPORTER\\_TIME\\_FE342 & EXPORTER\\_TIME\\_FE343 & EXPORTER\\_TIME\\_FE344 & EXPORTER\\_TIME\\_FE345 & EXPORTER\\_TIME\\_FE346 & EXPORTER\\_TIME\\_FE347 & EXPORTER\\_TIME\\_FE348 & EXPORTER\\_TIME\\_FE349 & EXPORTER\\_TIME\\_FE350 & EXPORTER\\_TIME\\_FE351 & EXPORTER\\_TIME\\_FE352 & EXPORTER\\_TIME\\_FE353 & EXPORTER\\_TIME\\_FE354 & EXPORTER\\_TIME\\_FE355 & EXPORTER\\_TIME\\_FE356 & EXPORTER\\_TIME\\_FE357 & EXPORTER\\_TIME\\_FE358 & EXPORTER\\_TIME\\_FE359 & EXPORTER\\_TIME\\_FE360 & EXPORTER\\_TIME\\_FE361 & EXPORTER\\_TIME\\_FE362 & EXPORTER\\_TIME\\_FE363 & EXPORTER\\_TIME\\_FE364 & EXPORTER\\_TIME\\_FE365 & EXPORTER\\_TIME\\_FE366 & EXPORTER\\_TIME\\_FE367 & EXPORTER\\_TIME\\_FE368 & EXPORTER\\_TIME\\_FE369 & EXPORTER\\_TIME\\_FE370 & EXPORTER\\_TIME\\_FE371 & EXPORTER\\_TIME\\_FE372 & EXPORTER\\_TIME\\_FE373 & EXPORTER\\_TIME\\_FE374 & EXPORTER\\_TIME\\_FE375 & EXPORTER\\_TIME\\_FE376 & EXPORTER\\_TIME\\_FE377 & EXPORTER\\_TIME\\_FE378 & EXPORTER\\_TIME\\_FE379 & EXPORTER\\_TIME\\_FE380 & EXPORTER\\_TIME\\_FE381 & EXPORTER\\_TIME\\_FE382 & EXPORTER\\_TIME\\_FE383 & EXPORTER\\_TIME\\_FE384 & EXPORTER\\_TIME\\_FE385 & EXPORTER\\_TIME\\_FE386 & EXPORTER\\_TIME\\_FE387 & EXPORTER\\_TIME\\_FE388 & EXPORTER\\_TIME\\_FE389 & EXPORTER\\_TIME\\_FE390 & EXPORTER\\_TIME\\_FE391 & EXPORTER\\_TIME\\_FE392 & EXPORTER\\_TIME\\_FE393 & EXPORTER\\_TIME\\_FE394 & EXPORTER\\_TIME\\_FE395 & EXPORTER\\_TIME\\_FE396 & EXPORTER\\_TIME\\_FE397 & EXPORTER\\_TIME\\_FE398 & EXPORTER\\_TIME\\_FE399 & EXPORTER\\_TIME\\_FE400 & EXPORTER\\_TIME\\_FE401 & EXPORTER\\_TIME\\_FE402 & EXPORTER\\_TIME\\_FE403 & EXPORTER\\_TIME\\_FE404 & EXPORTER\\_TIME\\_FE405 & EXPORTER\\_TIME\\_FE406 & EXPORTER\\_TIME\\_FE407 & EXPORTER\\_TIME\\_FE408 & EXPORTER\\_TIME\\_FE409 & EXPORTER\\_TIME\\_FE410 & EXPORTER\\_TIME\\_FE411 & EXPORTER\\_TIME\\_FE412 & EXPORTER\\_TIME\\_FE413 & EXPORTER\\_TIME\\_FE414 & imp\\_time & IMPORTER\\_TIME\\_FE1 & IMPORTER\\_TIME\\_FE2 & IMPORTER\\_TIME\\_FE3 & IMPORTER\\_TIME\\_FE4 & IMPORTER\\_TIME\\_FE5 & IMPORTER\\_TIME\\_FE6 & IMPORTER\\_TIME\\_FE7 & IMPORTER\\_TIME\\_FE8 & IMPORTER\\_TIME\\_FE9 & IMPORTER\\_TIME\\_FE10 & IMPORTER\\_TIME\\_FE11 & IMPORTER\\_TIME\\_FE12 & IMPORTER\\_TIME\\_FE13 & IMPORTER\\_TIME\\_FE14 & IMPORTER\\_TIME\\_FE15 & IMPORTER\\_TIME\\_FE16 & IMPORTER\\_TIME\\_FE17 & IMPORTER\\_TIME\\_FE18 & IMPORTER\\_TIME\\_FE19 & IMPORTER\\_TIME\\_FE20 & IMPORTER\\_TIME\\_FE21 & IMPORTER\\_TIME\\_FE22 & IMPORTER\\_TIME\\_FE23 & IMPORTER\\_TIME\\_FE24 & IMPORTER\\_TIME\\_FE25 & IMPORTER\\_TIME\\_FE26 & IMPORTER\\_TIME\\_FE27 & IMPORTER\\_TIME\\_FE28 & IMPORTER\\_TIME\\_FE29 & IMPORTER\\_TIME\\_FE30 & IMPORTER\\_TIME\\_FE31 & IMPORTER\\_TIME\\_FE32 & IMPORTER\\_TIME\\_FE33 & IMPORTER\\_TIME\\_FE34 & IMPORTER\\_TIME\\_FE35 & IMPORTER\\_TIME\\_FE36 & IMPORTER\\_TIME\\_FE37 & IMPORTER\\_TIME\\_FE38 & IMPORTER\\_TIME\\_FE39 & IMPORTER\\_TIME\\_FE40 & IMPORTER\\_TIME\\_FE41 & IMPORTER\\_TIME\\_FE42 & IMPORTER\\_TIME\\_FE43 & IMPORTER\\_TIME\\_FE44 & IMPORTER\\_TIME\\_FE45 & IMPORTER\\_TIME\\_FE46 & IMPORTER\\_TIME\\_FE47 & IMPORTER\\_TIME\\_FE48 & IMPORTER\\_TIME\\_FE49 & IMPORTER\\_TIME\\_FE50 & IMPORTER\\_TIME\\_FE51 & IMPORTER\\_TIME\\_FE52 & IMPORTER\\_TIME\\_FE53 & IMPORTER\\_TIME\\_FE54 & IMPORTER\\_TIME\\_FE55 & IMPORTER\\_TIME\\_FE56 & IMPORTER\\_TIME\\_FE57 & IMPORTER\\_TIME\\_FE58 & IMPORTER\\_TIME\\_FE59 & IMPORTER\\_TIME\\_FE60 & IMPORTER\\_TIME\\_FE61 & IMPORTER\\_TIME\\_FE62 & IMPORTER\\_TIME\\_FE63 & IMPORTER\\_TIME\\_FE64 & IMPORTER\\_TIME\\_FE65 & IMPORTER\\_TIME\\_FE66 & IMPORTER\\_TIME\\_FE67 & IMPORTER\\_TIME\\_FE68 & IMPORTER\\_TIME\\_FE69 & IMPORTER\\_TIME\\_FE70 & IMPORTER\\_TIME\\_FE71 & IMPORTER\\_TIME\\_FE72 & IMPORTER\\_TIME\\_FE73 & IMPORTER\\_TIME\\_FE74 & IMPORTER\\_TIME\\_FE75 & IMPORTER\\_TIME\\_FE76 & IMPORTER\\_TIME\\_FE77 & IMPORTER\\_TIME\\_FE78 & IMPORTER\\_TIME\\_FE79 & IMPORTER\\_TIME\\_FE80 & IMPORTER\\_TIME\\_FE81 & IMPORTER\\_TIME\\_FE82 & IMPORTER\\_TIME\\_FE83 & IMPORTER\\_TIME\\_FE84 & IMPORTER\\_TIME\\_FE85 & IMPORTER\\_TIME\\_FE86 & IMPORTER\\_TIME\\_FE87 & IMPORTER\\_TIME\\_FE88 & IMPORTER\\_TIME\\_FE89 & IMPORTER\\_TIME\\_FE90 & IMPORTER\\_TIME\\_FE91 & IMPORTER\\_TIME\\_FE92 & IMPORTER\\_TIME\\_FE93 & IMPORTER\\_TIME\\_FE94 & IMPORTER\\_TIME\\_FE95 & IMPORTER\\_TIME\\_FE96 & IMPORTER\\_TIME\\_FE97 & IMPORTER\\_TIME\\_FE98 & IMPORTER\\_TIME\\_FE99 & IMPORTER\\_TIME\\_FE100 & IMPORTER\\_TIME\\_FE101 & IMPORTER\\_TIME\\_FE102 & IMPORTER\\_TIME\\_FE103 & IMPORTER\\_TIME\\_FE104 & IMPORTER\\_TIME\\_FE105 & IMPORTER\\_TIME\\_FE106 & IMPORTER\\_TIME\\_FE107 & IMPORTER\\_TIME\\_FE108 & IMPORTER\\_TIME\\_FE109 & IMPORTER\\_TIME\\_FE110 & IMPORTER\\_TIME\\_FE111 & IMPORTER\\_TIME\\_FE112 & IMPORTER\\_TIME\\_FE113 & IMPORTER\\_TIME\\_FE114 & IMPORTER\\_TIME\\_FE115 & IMPORTER\\_TIME\\_FE116 & IMPORTER\\_TIME\\_FE117 & IMPORTER\\_TIME\\_FE118 & IMPORTER\\_TIME\\_FE119 & IMPORTER\\_TIME\\_FE120 & IMPORTER\\_TIME\\_FE121 & IMPORTER\\_TIME\\_FE122 & IMPORTER\\_TIME\\_FE123 & IMPORTER\\_TIME\\_FE124 & IMPORTER\\_TIME\\_FE125 & IMPORTER\\_TIME\\_FE126 & IMPORTER\\_TIME\\_FE127 & IMPORTER\\_TIME\\_FE128 & IMPORTER\\_TIME\\_FE129 & IMPORTER\\_TIME\\_FE130 & IMPORTER\\_TIME\\_FE131 & IMPORTER\\_TIME\\_FE132 & IMPORTER\\_TIME\\_FE133 & IMPORTER\\_TIME\\_FE134 & IMPORTER\\_TIME\\_FE135 & IMPORTER\\_TIME\\_FE136 & IMPORTER\\_TIME\\_FE137 & IMPORTER\\_TIME\\_FE138 & IMPORTER\\_TIME\\_FE139 & IMPORTER\\_TIME\\_FE140 & IMPORTER\\_TIME\\_FE141 & IMPORTER\\_TIME\\_FE142 & IMPORTER\\_TIME\\_FE143 & IMPORTER\\_TIME\\_FE144 & IMPORTER\\_TIME\\_FE145 & IMPORTER\\_TIME\\_FE146 & IMPORTER\\_TIME\\_FE147 & IMPORTER\\_TIME\\_FE148 & IMPORTER\\_TIME\\_FE149 & IMPORTER\\_TIME\\_FE150 & IMPORTER\\_TIME\\_FE151 & IMPORTER\\_TIME\\_FE152 & IMPORTER\\_TIME\\_FE153 & IMPORTER\\_TIME\\_FE154 & IMPORTER\\_TIME\\_FE155 & IMPORTER\\_TIME\\_FE156 & IMPORTER\\_TIME\\_FE157 & IMPORTER\\_TIME\\_FE158 & IMPORTER\\_TIME\\_FE159 & IMPORTER\\_TIME\\_FE160 & IMPORTER\\_TIME\\_FE161 & IMPORTER\\_TIME\\_FE162 & IMPORTER\\_TIME\\_FE163 & IMPORTER\\_TIME\\_FE164 & IMPORTER\\_TIME\\_FE165 & IMPORTER\\_TIME\\_FE166 & IMPORTER\\_TIME\\_FE167 & IMPORTER\\_TIME\\_FE168 & IMPORTER\\_TIME\\_FE169 & IMPORTER\\_TIME\\_FE170 & IMPORTER\\_TIME\\_FE171 & IMPORTER\\_TIME\\_FE172 & IMPORTER\\_TIME\\_FE173 & IMPORTER\\_TIME\\_FE174 & IMPORTER\\_TIME\\_FE175 & IMPORTER\\_TIME\\_FE176 & IMPORTER\\_TIME\\_FE177 & IMPORTER\\_TIME\\_FE178 & IMPORTER\\_TIME\\_FE179 & IMPORTER\\_TIME\\_FE180 & IMPORTER\\_TIME\\_FE181 & IMPORTER\\_TIME\\_FE182 & IMPORTER\\_TIME\\_FE183 & IMPORTER\\_TIME\\_FE184 & IMPORTER\\_TIME\\_FE185 & IMPORTER\\_TIME\\_FE186 & IMPORTER\\_TIME\\_FE187 & IMPORTER\\_TIME\\_FE188 & IMPORTER\\_TIME\\_FE189 & IMPORTER\\_TIME\\_FE190 & IMPORTER\\_TIME\\_FE191 & IMPORTER\\_TIME\\_FE192 & IMPORTER\\_TIME\\_FE193 & IMPORTER\\_TIME\\_FE194 & IMPORTER\\_TIME\\_FE195 & IMPORTER\\_TIME\\_FE196 & IMPORTER\\_TIME\\_FE197 & IMPORTER\\_TIME\\_FE198 & IMPORTER\\_TIME\\_FE199 & IMPORTER\\_TIME\\_FE200 & IMPORTER\\_TIME\\_FE201 & IMPORTER\\_TIME\\_FE202 & IMPORTER\\_TIME\\_FE203 & IMPORTER\\_TIME\\_FE204 & IMPORTER\\_TIME\\_FE205 & IMPORTER\\_TIME\\_FE206 & IMPORTER\\_TIME\\_FE207 & IMPORTER\\_TIME\\_FE208 & IMPORTER\\_TIME\\_FE209 & IMPORTER\\_TIME\\_FE210 & IMPORTER\\_TIME\\_FE211 & IMPORTER\\_TIME\\_FE212 & IMPORTER\\_TIME\\_FE213 & IMPORTER\\_TIME\\_FE214 & IMPORTER\\_TIME\\_FE215 & IMPORTER\\_TIME\\_FE216 & IMPORTER\\_TIME\\_FE217 & IMPORTER\\_TIME\\_FE218 & IMPORTER\\_TIME\\_FE219 & IMPORTER\\_TIME\\_FE220 & IMPORTER\\_TIME\\_FE221 & IMPORTER\\_TIME\\_FE222 & IMPORTER\\_TIME\\_FE223 & IMPORTER\\_TIME\\_FE224 & IMPORTER\\_TIME\\_FE225 & IMPORTER\\_TIME\\_FE226 & IMPORTER\\_TIME\\_FE227 & IMPORTER\\_TIME\\_FE228 & IMPORTER\\_TIME\\_FE229 & IMPORTER\\_TIME\\_FE230 & IMPORTER\\_TIME\\_FE231 & IMPORTER\\_TIME\\_FE232 & IMPORTER\\_TIME\\_FE233 & IMPORTER\\_TIME\\_FE234 & IMPORTER\\_TIME\\_FE235 & IMPORTER\\_TIME\\_FE236 & IMPORTER\\_TIME\\_FE237 & IMPORTER\\_TIME\\_FE238 & IMPORTER\\_TIME\\_FE239 & IMPORTER\\_TIME\\_FE240 & IMPORTER\\_TIME\\_FE241 & IMPORTER\\_TIME\\_FE242 & IMPORTER\\_TIME\\_FE243 & IMPORTER\\_TIME\\_FE244 & IMPORTER\\_TIME\\_FE245 & IMPORTER\\_TIME\\_FE246 & IMPORTER\\_TIME\\_FE247 & IMPORTER\\_TIME\\_FE248 & IMPORTER\\_TIME\\_FE249 & IMPORTER\\_TIME\\_FE250 & IMPORTER\\_TIME\\_FE251 & IMPORTER\\_TIME\\_FE252 & IMPORTER\\_TIME\\_FE253 & IMPORTER\\_TIME\\_FE254 & IMPORTER\\_TIME\\_FE255 & IMPORTER\\_TIME\\_FE256 & IMPORTER\\_TIME\\_FE257 & IMPORTER\\_TIME\\_FE258 & IMPORTER\\_TIME\\_FE259 & IMPORTER\\_TIME\\_FE260 & IMPORTER\\_TIME\\_FE261 & IMPORTER\\_TIME\\_FE262 & IMPORTER\\_TIME\\_FE263 & IMPORTER\\_TIME\\_FE264 & IMPORTER\\_TIME\\_FE265 & IMPORTER\\_TIME\\_FE266 & IMPORTER\\_TIME\\_FE267 & IMPORTER\\_TIME\\_FE268 & IMPORTER\\_TIME\\_FE269 & IMPORTER\\_TIME\\_FE270 & IMPORTER\\_TIME\\_FE271 & IMPORTER\\_TIME\\_FE272 & IMPORTER\\_TIME\\_FE273 & IMPORTER\\_TIME\\_FE274 & IMPORTER\\_TIME\\_FE275 & IMPORTER\\_TIME\\_FE276 & IMPORTER\\_TIME\\_FE277 & IMPORTER\\_TIME\\_FE278 & IMPORTER\\_TIME\\_FE279 & IMPORTER\\_TIME\\_FE280 & IMPORTER\\_TIME\\_FE281 & IMPORTER\\_TIME\\_FE282 & IMPORTER\\_TIME\\_FE283 & IMPORTER\\_TIME\\_FE284 & IMPORTER\\_TIME\\_FE285 & IMPORTER\\_TIME\\_FE286 & IMPORTER\\_TIME\\_FE287 & IMPORTER\\_TIME\\_FE288 & IMPORTER\\_TIME\\_FE289 & IMPORTER\\_TIME\\_FE290 & IMPORTER\\_TIME\\_FE291 & IMPORTER\\_TIME\\_FE292 & IMPORTER\\_TIME\\_FE293 & IMPORTER\\_TIME\\_FE294 & IMPORTER\\_TIME\\_FE295 & IMPORTER\\_TIME\\_FE296 & IMPORTER\\_TIME\\_FE297 & IMPORTER\\_TIME\\_FE298 & IMPORTER\\_TIME\\_FE299 & IMPORTER\\_TIME\\_FE300 & IMPORTER\\_TIME\\_FE301 & IMPORTER\\_TIME\\_FE302 & IMPORTER\\_TIME\\_FE303 & IMPORTER\\_TIME\\_FE304 & IMPORTER\\_TIME\\_FE305 & IMPORTER\\_TIME\\_FE306 & IMPORTER\\_TIME\\_FE307 & IMPORTER\\_TIME\\_FE308 & IMPORTER\\_TIME\\_FE309 & IMPORTER\\_TIME\\_FE310 & IMPORTER\\_TIME\\_FE311 & IMPORTER\\_TIME\\_FE312 & IMPORTER\\_TIME\\_FE313 & IMPORTER\\_TIME\\_FE314 & IMPORTER\\_TIME\\_FE315 & IMPORTER\\_TIME\\_FE316 & IMPORTER\\_TIME\\_FE317 & IMPORTER\\_TIME\\_FE318 & IMPORTER\\_TIME\\_FE319 & IMPORTER\\_TIME\\_FE320 & IMPORTER\\_TIME\\_FE321 & IMPORTER\\_TIME\\_FE322 & IMPORTER\\_TIME\\_FE323 & IMPORTER\\_TIME\\_FE324 & IMPORTER\\_TIME\\_FE325 & IMPORTER\\_TIME\\_FE326 & IMPORTER\\_TIME\\_FE327 & IMPORTER\\_TIME\\_FE328 & IMPORTER\\_TIME\\_FE329 & IMPORTER\\_TIME\\_FE330 & IMPORTER\\_TIME\\_FE331 & IMPORTER\\_TIME\\_FE332 & IMPORTER\\_TIME\\_FE333 & IMPORTER\\_TIME\\_FE334 & IMPORTER\\_TIME\\_FE335 & IMPORTER\\_TIME\\_FE336 & IMPORTER\\_TIME\\_FE337 & IMPORTER\\_TIME\\_FE338 & IMPORTER\\_TIME\\_FE339 & IMPORTER\\_TIME\\_FE340 & IMPORTER\\_TIME\\_FE341 & IMPORTER\\_TIME\\_FE342 & IMPORTER\\_TIME\\_FE343 & IMPORTER\\_TIME\\_FE344 & IMPORTER\\_TIME\\_FE345 & IMPORTER\\_TIME\\_FE346 & IMPORTER\\_TIME\\_FE347 & IMPORTER\\_TIME\\_FE348 & IMPORTER\\_TIME\\_FE349 & IMPORTER\\_TIME\\_FE350 & IMPORTER\\_TIME\\_FE351 & IMPORTER\\_TIME\\_FE352 & IMPORTER\\_TIME\\_FE353 & IMPORTER\\_TIME\\_FE354 & IMPORTER\\_TIME\\_FE355 & IMPORTER\\_TIME\\_FE356 & IMPORTER\\_TIME\\_FE357 & IMPORTER\\_TIME\\_FE358 & IMPORTER\\_TIME\\_FE359 & IMPORTER\\_TIME\\_FE360 & IMPORTER\\_TIME\\_FE361 & IMPORTER\\_TIME\\_FE362 & IMPORTER\\_TIME\\_FE363 & IMPORTER\\_TIME\\_FE364 & IMPORTER\\_TIME\\_FE365 & IMPORTER\\_TIME\\_FE366 & IMPORTER\\_TIME\\_FE367 & IMPORTER\\_TIME\\_FE368 & IMPORTER\\_TIME\\_FE369 & IMPORTER\\_TIME\\_FE370 & IMPORTER\\_TIME\\_FE371 & IMPORTER\\_TIME\\_FE372 & IMPORTER\\_TIME\\_FE373 & IMPORTER\\_TIME\\_FE374 & IMPORTER\\_TIME\\_FE375 & IMPORTER\\_TIME\\_FE376 & IMPORTER\\_TIME\\_FE377 & IMPORTER\\_TIME\\_FE378 & IMPORTER\\_TIME\\_FE379 & IMPORTER\\_TIME\\_FE380 & IMPORTER\\_TIME\\_FE381 & IMPORTER\\_TIME\\_FE382 & IMPORTER\\_TIME\\_FE383 & IMPORTER\\_TIME\\_FE384 & IMPORTER\\_TIME\\_FE385 & IMPORTER\\_TIME\\_FE386 & IMPORTER\\_TIME\\_FE387 & IMPORTER\\_TIME\\_FE388 & IMPORTER\\_TIME\\_FE389 & IMPORTER\\_TIME\\_FE390 & IMPORTER\\_TIME\\_FE391 & IMPORTER\\_TIME\\_FE392 & IMPORTER\\_TIME\\_FE393 & IMPORTER\\_TIME\\_FE394 & IMPORTER\\_TIME\\_FE395 & IMPORTER\\_TIME\\_FE396 & IMPORTER\\_TIME\\_FE397 & IMPORTER\\_TIME\\_FE398 & IMPORTER\\_TIME\\_FE399 & IMPORTER\\_TIME\\_FE400 & IMPORTER\\_TIME\\_FE401 & IMPORTER\\_TIME\\_FE402 & IMPORTER\\_TIME\\_FE403 & IMPORTER\\_TIME\\_FE404 & IMPORTER\\_TIME\\_FE405 & IMPORTER\\_TIME\\_FE406 & IMPORTER\\_TIME\\_FE407 & IMPORTER\\_TIME\\_FE408 & IMPORTER\\_TIME\\_FE409 & IMPORTER\\_TIME\\_FE410 & IMPORTER\\_TIME\\_FE411 & IMPORTER\\_TIME\\_FE412 & IMPORTER\\_TIME\\_FE413 & IMPORTER\\_TIME\\_FE414 & X\\_est\\_fes & X\\_est\\_ppml\\\\\n",
       " <fct> & <fct> & <int> & <int> & <dbl> & <dbl> & <int> & <int> & <int> & <dbl> & <dbl> & <dbl> & <dbl> & <dbl> & <dbl> & <int> & <dbl> & <dbl> & <dbl> & <dbl> & <dbl> & <dbl> & <int> & <int> & <int> & <int> & <int> & <int> & <int> & <int> & <int> & <int> & <int> & <int> & <int> & <int> & <int> & <int> & <int> & <int> & <int> & <int> & <int> & <int> & <int> & <int> & <int> & <int> & <int> & <int> & <int> & <int> & <int> & <int> & <int> & <int> & <int> & <int> & <int> & <int> & <int> & <int> & <int> & <int> & <int> & <int> & <int> & <int> & <int> & <int> & <int> & <int> & <int> & <int> & <int> & <int> & <int> & <int> & <int> & <int> & <int> & <int> & <int> & <int> & <int> & <int> & <int> & <int> & <int> & <int> & <int> & <int> & <int> & <int> & <int> & <int> & <int> & <int> & <int> & <int> & <int> & <int> & <int> & <int> & <int> & <int> & <int> & <int> & <int> & <int> & <int> & <int> & <int> & <int> & <int> & <int> & <int> & <int> & <int> & <int> & <int> & <int> & <int> & <int> & <int> & <int> & <int> & <int> & <int> & <int> & <int> & <int> & <int> & <int> & <int> & <int> & <int> & <int> & <int> & <int> & <int> & <int> & <int> & <int> & <int> & <int> & <int> & <int> & <int> & <int> & <int> & <int> & <int> & <int> & <int> & <int> & <int> & <int> & <int> & <int> & <int> & <int> & <int> & <int> & <int> & <int> & <int> & <int> & <int> & <int> & <int> & <int> & <int> & <int> & <int> & <int> & <int> & <int> & <int> & <int> & <int> & <int> & <int> & <int> & <int> & <int> & <int> & <int> & <int> & <int> & <int> & <int> & <int> & <int> & <int> & <int> & <int> & <int> & <int> & <int> & <int> & <int> & <int> & <int> & <int> & <int> & <int> & <int> & <int> & <int> & <int> & <int> & <int> & <int> & <int> & <int> & <int> & <int> & <int> & <int> & <int> & <int> & <int> & <int> & <int> & <int> & <int> & <int> & <int> & <int> & <int> & <int> & <int> & <int> & <int> & <int> & <int> & <int> & <int> & <int> & <int> & <int> & <int> & <int> & <int> & <int> & <int> & <int> & <int> & <int> & <int> & <int> & <int> & <int> & <int> & <int> & <int> & <int> & <int> & <int> & <int> & <int> & <int> & <int> & <int> & <int> & <int> & <int> & <int> & <int> & <int> & <int> & <int> & <int> & <int> & <int> & <int> & <int> & <int> & <int> & <int> & <int> & <int> & <int> & <int> & <int> & <int> & <int> & <int> & <int> & <int> & <int> & <int> & <int> & <int> & <int> & <int> & <int> & <int> & <int> & <int> & <int> & <int> & <int> & <int> & <int> & <int> & <int> & <int> & <int> & <int> & <int> & <int> & <int> & <int> & <int> & <int> & <int> & <int> & <int> & <int> & <int> & <int> & <int> & <int> & <int> & <int> & <int> & <int> & <int> & <int> & <int> & <int> & <int> & <int> & <int> & <int> & <int> & <int> & <int> & <int> & <int> & <int> & <int> & <int> & <int> & <int> & <int> & <int> & <int> & <int> & <int> & <int> & <int> & <int> & <int> & <int> & <int> & <int> & <int> & <int> & <int> & <int> & <int> & <int> & <int> & <int> & <int> & <int> & <int> & <int> & <int> & <int> & <int> & <int> & <int> & <int> & <int> & <int> & <int> & <int> & <int> & <int> & <int> & <int> & <int> & <int> & <int> & <int> & <int> & <int> & <int> & <int> & <int> & <int> & <int> & <int> & <int> & <int> & <int> & <int> & <int> & <int> & <int> & <int> & <int> & <int> & <int> & <int> & <int> & <int> & <int> & <int> & <int> & <int> & <int> & <int> & <int> & <int> & <int> & <int> & <int> & <int> & <int> & <int> & <int> & <int> & <int> & <int> & <int> & <int> & <int> & <int> & <int> & <int> & <int> & <int> & <int> & <int> & <int> & <int> & <int> & <int> & <int> & <int> & <int> & <int> & <int> & <int> & <int> & <int> & <int> & <int> & <int> & <int> & <int> & <int> & <int> & <int> & <int> & <int> & <int> & <int> & <int> & <int> & <int> & <int> & <int> & <int> & <int> & <int> & <int> & <int> & <int> & <int> & <int> & <int> & <int> & <int> & <int> & <int> & <int> & <int> & <int> & <int> & <int> & <int> & <int> & <int> & <int> & <int> & <int> & <int> & <int> & <int> & <int> & <int> & <int> & <int> & <int> & <int> & <int> & <int> & <int> & <int> & <int> & <int> & <int> & <int> & <int> & <int> & <int> & <int> & <int> & <int> & <int> & <int> & <int> & <int> & <int> & <int> & <int> & <int> & <int> & <int> & <int> & <int> & <int> & <int> & <int> & <int> & <int> & <int> & <int> & <int> & <int> & <int> & <int> & <int> & <int> & <int> & <int> & <int> & <int> & <int> & <int> & <int> & <int> & <int> & <int> & <int> & <int> & <int> & <int> & <int> & <int> & <int> & <int> & <int> & <int> & <int> & <int> & <int> & <int> & <int> & <int> & <int> & <int> & <int> & <int> & <int> & <int> & <int> & <int> & <int> & <int> & <int> & <int> & <int> & <int> & <int> & <int> & <int> & <int> & <int> & <int> & <int> & <int> & <int> & <int> & <int> & <int> & <int> & <int> & <int> & <int> & <int> & <int> & <int> & <int> & <int> & <int> & <int> & <int> & <int> & <int> & <int> & <int> & <int> & <int> & <int> & <int> & <int> & <int> & <int> & <int> & <int> & <int> & <int> & <int> & <int> & <int> & <int> & <int> & <int> & <int> & <int> & <int> & <int> & <int> & <int> & <int> & <int> & <int> & <int> & <int> & <int> & <int> & <int> & <int> & <int> & <int> & <int> & <int> & <int> & <int> & <int> & <int> & <int> & <int> & <int> & <int> & <int> & <int> & <int> & <int> & <int> & <int> & <int> & <int> & <int> & <int> & <int> & <int> & <int> & <int> & <int> & <int> & <int> & <int> & <int> & <int> & <int> & <int> & <int> & <int> & <int> & <int> & <int> & <int> & <int> & <int> & <int> & <int> & <int> & <int> & <int> & <int> & <int> & <int> & <int> & <int> & <int> & <int> & <int> & <int> & <int> & <int> & <int> & <int> & <int> & <int> & <int> & <int> & <int> & <int> & <int> & <int> & <int> & <int> & <int> & <int> & <int> & <int> & <int> & <int> & <int> & <int> & <int> & <int> & <int> & <int> & <int> & <int> & <int> & <int> & <int> & <int> & <int> & <int> & <int> & <int> & <int> & <int> & <int> & <int> & <int> & <int> & <int> & <int> & <int> & <int> & <int> & <int> & <int> & <int> & <int> & <int> & <int> & <int> & <int> & <int> & <int> & <int> & <int> & <int> & <int> & <int> & <int> & <int> & <int> & <int> & <int> & <int> & <int> & <int> & <int> & <int> & <int> & <int> & <int> & <int> & <int> & <int> & <int> & <int> & <int> & <int> & <int> & <int> & <int> & <int> & <int> & <int> & <int> & <int> & <int> & <int> & <int> & <int> & <int> & <int> & <int> & <int> & <int> & <int> & <int> & <int> & <int> & <int> & <int> & <int> & <int> & <int> & <int> & <int> & <int> & <int> & <int> & <int> & <int> & <int> & <int> & <int> & <int> & <int> & <int> & <int> & <int> & <int> & <int> & <int> & <int> & <int> & <int> & <int> & <int> & <int> & <int> & <int> & <int> & <int> & <int> & <int> & <int> & <int> & <int> & <int> & <int> & <int> & <int> & <int> & <int> & <int> & <int> & <int> & <int> & <int> & <int> & <int> & <int> & <int> & <int> & <int> & <int>\\\\\n",
       "\\hline\n",
       "\t LKA & ARG & 115 & 1986 &   0.0064160 & 15078.428 & 0 & 0 & 0 & -5.048960 & 9.621020 &   2040.256 &  7.620831 & 64607.14 & 11.07608 & 1 & 8435941 & 8435942 &  990280576 & 20.71350 & 1655140224 & 21.22715 & 1 & 229 & 0 & 0 & 0 & 0 & 0 & 0 & 0 & 0 & 0 & 0 & 0 & 0 & 0 & 0 & 0 & 0 & 0 & 0 & 0 & 0 & 0 & 0 & 0 & 0 & 0 & 0 & 0 & 0 & 0 & 0 & 0 & 0 & 0 & 0 & 0 & 0 & 0 & 0 & 0 & 0 & 0 & 0 & 0 & 0 & 0 & 0 & 0 & 0 & 0 & 0 & 0 & 0 & 0 & 0 & 0 & 0 & 0 & 0 & 0 & 0 & 0 & 0 & 0 & 0 & 0 & 0 & 0 & 0 & 0 & 0 & 0 & 0 & 0 & 0 & 0 & 0 & 0 & 0 & 0 & 0 & 0 & 0 & 0 & 0 & 0 & 0 & 0 & 0 & 0 & 0 & 0 & 0 & 0 & 0 & 0 & 0 & 0 & 0 & 0 & 0 & 0 & 0 & 0 & 0 & 0 & 0 & 0 & 0 & 0 & 0 & 0 & 0 & 0 & 0 & 0 & 0 & 0 & 0 & 0 & 0 & 0 & 0 & 0 & 0 & 0 & 0 & 0 & 0 & 0 & 0 & 0 & 0 & 0 & 0 & 0 & 0 & 0 & 0 & 0 & 0 & 0 & 0 & 0 & 0 & 0 & 0 & 0 & 0 & 0 & 0 & 0 & 0 & 0 & 0 & 0 & 0 & 0 & 0 & 0 & 0 & 0 & 0 & 0 & 0 & 0 & 0 & 0 & 0 & 0 & 0 & 0 & 0 & 0 & 0 & 0 & 0 & 0 & 0 & 0 & 0 & 0 & 0 & 0 & 0 & 0 & 0 & 0 & 0 & 0 & 0 & 0 & 0 & 0 & 0 & 0 & 0 & 0 & 0 & 0 & 0 & 0 & 0 & 0 & 0 & 0 & 0 & 0 & 0 & 0 & 0 & 0 & 0 & 0 & 0 & 0 & 0 & 0 & 0 & 0 & 0 & 0 & 0 & 0 & 0 & 0 & 0 & 0 & 0 & 1 & 0 & 0 & 0 & 0 & 0 & 0 & 0 & 0 & 0 & 0 & 0 & 0 & 0 & 0 & 0 & 0 & 0 & 0 & 0 & 0 & 0 & 0 & 0 & 0 & 0 & 0 & 0 & 0 & 0 & 0 & 0 & 0 & 0 & 0 & 0 & 0 & 0 & 0 & 0 & 0 & 0 & 0 & 0 & 0 & 0 & 0 & 0 & 0 & 0 & 0 & 0 & 0 & 0 & 0 & 0 & 0 & 0 & 0 & 0 & 0 & 0 & 0 & 0 & 0 & 0 & 0 & 0 & 0 & 0 & 0 & 0 & 0 & 0 & 0 & 0 & 0 & 0 & 0 & 0 & 0 & 0 & 0 & 0 & 0 & 0 & 0 & 0 & 0 & 0 & 0 & 0 & 0 & 0 & 0 & 0 & 0 & 0 & 0 & 0 & 0 & 0 & 0 & 0 & 0 & 0 & 0 & 0 & 0 & 0 & 0 & 0 & 0 & 0 & 0 & 0 & 0 & 0 & 0 & 0 & 0 & 0 & 0 & 0 & 0 & 0 & 0 & 0 & 0 & 0 & 0 & 0 & 0 & 0 & 0 & 0 & 0 & 0 & 0 & 0 & 0 & 0 & 0 & 0 & 0 & 0 & 0 & 0 & 0 & 0 & 0 & 0 & 0 & 0 & 0 & 0 & 0 & 0 & 0 & 0 & 0 & 0 & 0 & 0 & 0 & 0 & 0 & 0 & 0 & 0 & 0 & 0 & 0 & 0 & 0 & 0 & 0 & 0 & 0 & 0 & 0 & 0 & 0 & 0 & 0 & 0 & 1 & 1 & 0 & 0 & 0 & 0 & 0 & 0 & 0 & 0 & 0 & 0 & 0 & 0 & 0 & 0 & 0 & 0 & 0 & 0 & 0 & 0 & 0 & 0 & 0 & 0 & 0 & 0 & 0 & 0 & 0 & 0 & 0 & 0 & 0 & 0 & 0 & 0 & 0 & 0 & 0 & 0 & 0 & 0 & 0 & 0 & 0 & 0 & 0 & 0 & 0 & 0 & 0 & 0 & 0 & 0 & 0 & 0 & 0 & 0 & 0 & 0 & 0 & 0 & 0 & 0 & 0 & 0 & 0 & 0 & 0 & 0 & 0 & 0 & 0 & 0 & 0 & 0 & 0 & 0 & 0 & 0 & 0 & 0 & 0 & 0 & 0 & 0 & 0 & 0 & 0 & 0 & 0 & 0 & 0 & 0 & 0 & 0 & 0 & 0 & 0 & 0 & 0 & 0 & 0 & 0 & 0 & 0 & 0 & 0 & 0 & 0 & 0 & 0 & 0 & 0 & 0 & 0 & 0 & 0 & 0 & 0 & 0 & 0 & 0 & 0 & 0 & 0 & 0 & 0 & 0 & 0 & 0 & 0 & 0 & 0 & 0 & 0 & 0 & 0 & 0 & 0 & 0 & 0 & 0 & 0 & 0 & 0 & 0 & 0 & 0 & 0 & 0 & 0 & 0 & 0 & 0 & 0 & 0 & 0 & 0 & 0 & 0 & 0 & 0 & 0 & 0 & 0 & 0 & 0 & 0 & 0 & 0 & 0 & 0 & 0 & 0 & 0 & 0 & 0 & 0 & 0 & 0 & 0 & 0 & 0 & 0 & 0 & 0 & 0 & 0 & 0 & 0 & 0 & 0 & 0 & 0 & 0 & 0 & 0 & 0 & 0 & 0 & 0 & 0 & 0 & 0 & 0 & 0 & 0 & 0 & 0 & 0 & 0 & 0 & 0 & 0 & 0 & 0 & 0 & 0 & 0 & 0 & 0 & 0 & 0 & 0 & 0 & 0 & 0 & 0 & 0 & 0 & 0 & 0 & 0 & 0 & 0 & 0 & 0 & 0 & 0 & 0 & 0 & 0 & 0 & 0 & 0 & 0 & 0 & 0 & 0 & 0 & 0 & 0 & 0 & 0 & 0 & 0 & 0 & 0 & 0 & 0 & 0 & 0 & 0 & 0 & 0 & 0 & 0 & 0 & 0 & 0 & 0 & 0 & 0 & 0 & 0 & 0 & 0 & 0 & 0 & 0 & 0 & 0 & 0 & 0 & 0 & 0 & 0 & 0 & 0 & 0 & 0 & 0 & 0 & 0 & 0 & 0 & 0 & 0 & 0 & 0 & 0 & 0 & 0 & 0 & 0 & 0 & 0 & 0 & 0 & 0 & 0 & 0 & 0 & 0 & 0 & 0 & 0 & 0 & 0 & 0 & 0 & 0 & 0 & 0 & 0 & 0 & 0 & 0 & 0 & 0 & 0 & 0 & 0 & 0 & 0 & 0 & 0 & 0 & 0 & 0 & 0 & 0 & 0 & 0 & 0 & 0 & 0 & 0 & 0 & 0 & 0 & 0 & 0 & 0 & 0 & 0 & 0 & 0 & 0 & 0 & 0 & 0 & 0 & 0 & 0 & 0 & 0 & 0 & 0 & 0 & 0 & 0 & 0 & 0 & 0 & 0 & 0 & 0 & 0 & 0 & 0 & 0 & 0 & 0 & 0 & 0 & 0 & 0 & 0 & 0 & 0 & 0 & 0 & 0 & 0 & 0 & 0 & 0 & 0 & 0 & 0 & 0 & 0 & 0 & 0 & 0 & 0 & 0 & 0 & 0 & 0 & 0 & 1 & 1\\\\\n",
       "\t GRC & ARG &  56 & 1986 &   0.0988345 & 11772.039 & 0 & 0 & 0 & -2.314308 & 9.373483 &  19063.297 &  9.855520 & 64607.14 & 11.07608 & 1 & 8435941 & 8435942 &  775665984 & 20.46923 & 1655140224 & 21.22715 & 1 & 139 & 0 & 0 & 0 & 0 & 0 & 0 & 0 & 0 & 0 & 0 & 0 & 0 & 0 & 0 & 0 & 0 & 0 & 0 & 0 & 0 & 0 & 0 & 0 & 0 & 0 & 0 & 0 & 0 & 0 & 0 & 0 & 0 & 0 & 0 & 0 & 0 & 0 & 0 & 0 & 0 & 0 & 0 & 0 & 0 & 0 & 0 & 0 & 0 & 0 & 0 & 0 & 0 & 0 & 0 & 0 & 0 & 0 & 0 & 0 & 0 & 0 & 0 & 0 & 0 & 0 & 0 & 0 & 0 & 0 & 0 & 0 & 0 & 0 & 0 & 0 & 0 & 0 & 0 & 0 & 0 & 0 & 0 & 0 & 0 & 0 & 0 & 0 & 0 & 0 & 0 & 0 & 0 & 0 & 0 & 0 & 0 & 0 & 0 & 0 & 0 & 0 & 0 & 0 & 0 & 0 & 0 & 0 & 0 & 0 & 0 & 0 & 0 & 0 & 0 & 0 & 0 & 0 & 0 & 0 & 0 & 0 & 0 & 0 & 0 & 0 & 0 & 0 & 0 & 0 & 0 & 0 & 0 & 0 & 0 & 0 & 0 & 0 & 0 & 1 & 0 & 0 & 0 & 0 & 0 & 0 & 0 & 0 & 0 & 0 & 0 & 0 & 0 & 0 & 0 & 0 & 0 & 0 & 0 & 0 & 0 & 0 & 0 & 0 & 0 & 0 & 0 & 0 & 0 & 0 & 0 & 0 & 0 & 0 & 0 & 0 & 0 & 0 & 0 & 0 & 0 & 0 & 0 & 0 & 0 & 0 & 0 & 0 & 0 & 0 & 0 & 0 & 0 & 0 & 0 & 0 & 0 & 0 & 0 & 0 & 0 & 0 & 0 & 0 & 0 & 0 & 0 & 0 & 0 & 0 & 0 & 0 & 0 & 0 & 0 & 0 & 0 & 0 & 0 & 0 & 0 & 0 & 0 & 0 & 0 & 0 & 0 & 0 & 0 & 0 & 0 & 0 & 0 & 0 & 0 & 0 & 0 & 0 & 0 & 0 & 0 & 0 & 0 & 0 & 0 & 0 & 0 & 0 & 0 & 0 & 0 & 0 & 0 & 0 & 0 & 0 & 0 & 0 & 0 & 0 & 0 & 0 & 0 & 0 & 0 & 0 & 0 & 0 & 0 & 0 & 0 & 0 & 0 & 0 & 0 & 0 & 0 & 0 & 0 & 0 & 0 & 0 & 0 & 0 & 0 & 0 & 0 & 0 & 0 & 0 & 0 & 0 & 0 & 0 & 0 & 0 & 0 & 0 & 0 & 0 & 0 & 0 & 0 & 0 & 0 & 0 & 0 & 0 & 0 & 0 & 0 & 0 & 0 & 0 & 0 & 0 & 0 & 0 & 0 & 0 & 0 & 0 & 0 & 0 & 0 & 0 & 0 & 0 & 0 & 0 & 0 & 0 & 0 & 0 & 0 & 0 & 0 & 0 & 0 & 0 & 0 & 0 & 0 & 0 & 0 & 0 & 0 & 0 & 0 & 0 & 0 & 0 & 0 & 0 & 0 & 0 & 0 & 0 & 0 & 0 & 0 & 0 & 0 & 0 & 0 & 0 & 0 & 0 & 0 & 0 & 0 & 0 & 0 & 0 & 0 & 0 & 0 & 0 & 0 & 0 & 0 & 0 & 0 & 0 & 0 & 0 & 0 & 0 & 0 & 0 & 0 & 0 & 0 & 0 & 0 & 0 & 0 & 0 & 0 & 0 & 0 & 0 & 0 & 0 & 0 & 0 & 0 & 0 & 0 & 0 & 0 & 0 & 0 & 0 & 0 & 1 & 1 & 0 & 0 & 0 & 0 & 0 & 0 & 0 & 0 & 0 & 0 & 0 & 0 & 0 & 0 & 0 & 0 & 0 & 0 & 0 & 0 & 0 & 0 & 0 & 0 & 0 & 0 & 0 & 0 & 0 & 0 & 0 & 0 & 0 & 0 & 0 & 0 & 0 & 0 & 0 & 0 & 0 & 0 & 0 & 0 & 0 & 0 & 0 & 0 & 0 & 0 & 0 & 0 & 0 & 0 & 0 & 0 & 0 & 0 & 0 & 0 & 0 & 0 & 0 & 0 & 0 & 0 & 0 & 0 & 0 & 0 & 0 & 0 & 0 & 0 & 0 & 0 & 0 & 0 & 0 & 0 & 0 & 0 & 0 & 0 & 0 & 0 & 0 & 0 & 0 & 0 & 0 & 0 & 0 & 0 & 0 & 0 & 0 & 0 & 0 & 0 & 0 & 0 & 0 & 0 & 0 & 0 & 0 & 0 & 0 & 0 & 0 & 0 & 0 & 0 & 0 & 0 & 0 & 0 & 0 & 0 & 0 & 0 & 0 & 0 & 0 & 0 & 0 & 0 & 0 & 0 & 0 & 0 & 0 & 0 & 0 & 0 & 0 & 0 & 0 & 0 & 0 & 0 & 0 & 0 & 0 & 0 & 0 & 0 & 0 & 0 & 0 & 0 & 0 & 0 & 0 & 0 & 0 & 0 & 0 & 0 & 0 & 0 & 0 & 0 & 0 & 0 & 0 & 0 & 0 & 0 & 0 & 0 & 0 & 0 & 0 & 0 & 0 & 0 & 0 & 0 & 0 & 0 & 0 & 0 & 0 & 0 & 0 & 0 & 0 & 0 & 0 & 0 & 0 & 0 & 0 & 0 & 0 & 0 & 0 & 0 & 0 & 0 & 0 & 0 & 0 & 0 & 0 & 0 & 0 & 0 & 0 & 0 & 0 & 0 & 0 & 0 & 0 & 0 & 0 & 0 & 0 & 0 & 0 & 0 & 0 & 0 & 0 & 0 & 0 & 0 & 0 & 0 & 0 & 0 & 0 & 0 & 0 & 0 & 0 & 0 & 0 & 0 & 0 & 0 & 0 & 0 & 0 & 0 & 0 & 0 & 0 & 0 & 0 & 0 & 0 & 0 & 0 & 0 & 0 & 0 & 0 & 0 & 0 & 0 & 0 & 0 & 0 & 0 & 0 & 0 & 0 & 0 & 0 & 0 & 0 & 0 & 0 & 0 & 0 & 0 & 0 & 0 & 0 & 0 & 0 & 0 & 0 & 0 & 0 & 0 & 0 & 0 & 0 & 0 & 0 & 0 & 0 & 0 & 0 & 0 & 0 & 0 & 0 & 0 & 0 & 0 & 0 & 0 & 0 & 0 & 0 & 0 & 0 & 0 & 0 & 0 & 0 & 0 & 0 & 0 & 0 & 0 & 0 & 0 & 0 & 0 & 0 & 0 & 0 & 0 & 0 & 0 & 0 & 0 & 0 & 0 & 0 & 0 & 0 & 0 & 0 & 0 & 0 & 0 & 0 & 0 & 0 & 0 & 0 & 0 & 0 & 0 & 0 & 0 & 0 & 0 & 0 & 0 & 0 & 0 & 0 & 0 & 0 & 0 & 0 & 0 & 0 & 0 & 0 & 0 & 0 & 0 & 0 & 0 & 0 & 0 & 0 & 0 & 0 & 0 & 0 & 0 & 0 & 0 & 0 & 0 & 0 & 0 & 0 & 0 & 0 & 0 & 0 & 0 & 0 & 0 & 0 & 0 & 0 & 0 & 0 & 0 & 0 & 0 & 0 & 0 & 0 & 0 & 0 & 0 & 0 & 0 & 0 & 1 & 1\\\\\n",
       "\t QAT & ARG & 203 & 1986 &   0.0000000 & 13482.186 & 0 & 0 & 0 &        NA & 9.509125 &   1448.048 &  7.277972 & 64607.14 & 11.07608 & 0 & 8435941 & 8435942 &  787031936 & 20.48378 & 1655140224 & 21.22715 & 0 & 337 & 0 & 0 & 0 & 0 & 0 & 0 & 0 & 0 & 0 & 0 & 0 & 0 & 0 & 0 & 0 & 0 & 0 & 0 & 0 & 0 & 0 & 0 & 0 & 0 & 0 & 0 & 0 & 0 & 0 & 0 & 0 & 0 & 0 & 0 & 0 & 0 & 0 & 0 & 0 & 0 & 0 & 0 & 0 & 0 & 0 & 0 & 0 & 0 & 0 & 0 & 0 & 0 & 0 & 0 & 0 & 0 & 0 & 0 & 0 & 0 & 0 & 0 & 0 & 0 & 0 & 0 & 0 & 0 & 0 & 0 & 0 & 0 & 0 & 0 & 0 & 0 & 0 & 0 & 0 & 0 & 0 & 0 & 0 & 0 & 0 & 0 & 0 & 0 & 0 & 0 & 0 & 0 & 0 & 0 & 0 & 0 & 0 & 0 & 0 & 0 & 0 & 0 & 0 & 0 & 0 & 0 & 0 & 0 & 0 & 0 & 0 & 0 & 0 & 0 & 0 & 0 & 0 & 0 & 0 & 0 & 0 & 0 & 0 & 0 & 0 & 0 & 0 & 0 & 0 & 0 & 0 & 0 & 0 & 0 & 0 & 0 & 0 & 0 & 0 & 0 & 0 & 0 & 0 & 0 & 0 & 0 & 0 & 0 & 0 & 0 & 0 & 0 & 0 & 0 & 0 & 0 & 0 & 0 & 0 & 0 & 0 & 0 & 0 & 0 & 0 & 0 & 0 & 0 & 0 & 0 & 0 & 0 & 0 & 0 & 0 & 0 & 0 & 0 & 0 & 0 & 0 & 0 & 0 & 0 & 0 & 0 & 0 & 0 & 0 & 0 & 0 & 0 & 0 & 0 & 0 & 0 & 0 & 0 & 0 & 0 & 0 & 0 & 0 & 0 & 0 & 0 & 0 & 0 & 0 & 0 & 0 & 0 & 0 & 0 & 0 & 0 & 0 & 0 & 0 & 0 & 0 & 0 & 0 & 0 & 0 & 0 & 0 & 0 & 0 & 0 & 0 & 0 & 0 & 0 & 0 & 0 & 0 & 0 & 0 & 0 & 0 & 0 & 0 & 0 & 0 & 0 & 0 & 0 & 0 & 0 & 0 & 0 & 0 & 0 & 0 & 0 & 0 & 0 & 0 & 0 & 0 & 0 & 0 & 0 & 0 & 0 & 0 & 0 & 0 & 0 & 0 & 0 & 0 & 0 & 0 & 0 & 0 & 0 & 0 & 0 & 0 & 0 & 0 & 0 & 0 & 0 & 0 & 0 & 0 & 0 & 0 & 0 & 0 & 0 & 0 & 0 & 0 & 0 & 0 & 0 & 0 & 0 & 0 & 0 & 0 & 0 & 0 & 0 & 0 & 0 & 0 & 0 & 0 & 0 & 0 & 0 & 0 & 0 & 0 & 0 & 0 & 0 & 0 & 0 & 0 & 0 & 0 & 0 & 0 & 0 & 0 & 0 & 0 & 0 & 0 & 0 & 1 & 0 & 0 & 0 & 0 & 0 & 0 & 0 & 0 & 0 & 0 & 0 & 0 & 0 & 0 & 0 & 0 & 0 & 0 & 0 & 0 & 0 & 0 & 0 & 0 & 0 & 0 & 0 & 0 & 0 & 0 & 0 & 0 & 0 & 0 & 0 & 0 & 0 & 0 & 0 & 0 & 0 & 0 & 0 & 0 & 0 & 0 & 0 & 0 & 0 & 0 & 0 & 0 & 0 & 0 & 0 & 0 & 0 & 0 & 0 & 0 & 0 & 0 & 0 & 0 & 0 & 0 & 0 & 0 & 0 & 0 & 0 & 0 & 0 & 0 & 0 & 0 & 0 & 1 & 1 & 0 & 0 & 0 & 0 & 0 & 0 & 0 & 0 & 0 & 0 & 0 & 0 & 0 & 0 & 0 & 0 & 0 & 0 & 0 & 0 & 0 & 0 & 0 & 0 & 0 & 0 & 0 & 0 & 0 & 0 & 0 & 0 & 0 & 0 & 0 & 0 & 0 & 0 & 0 & 0 & 0 & 0 & 0 & 0 & 0 & 0 & 0 & 0 & 0 & 0 & 0 & 0 & 0 & 0 & 0 & 0 & 0 & 0 & 0 & 0 & 0 & 0 & 0 & 0 & 0 & 0 & 0 & 0 & 0 & 0 & 0 & 0 & 0 & 0 & 0 & 0 & 0 & 0 & 0 & 0 & 0 & 0 & 0 & 0 & 0 & 0 & 0 & 0 & 0 & 0 & 0 & 0 & 0 & 0 & 0 & 0 & 0 & 0 & 0 & 0 & 0 & 0 & 0 & 0 & 0 & 0 & 0 & 0 & 0 & 0 & 0 & 0 & 0 & 0 & 0 & 0 & 0 & 0 & 0 & 0 & 0 & 0 & 0 & 0 & 0 & 0 & 0 & 0 & 0 & 0 & 0 & 0 & 0 & 0 & 0 & 0 & 0 & 0 & 0 & 0 & 0 & 0 & 0 & 0 & 0 & 0 & 0 & 0 & 0 & 0 & 0 & 0 & 0 & 0 & 0 & 0 & 0 & 0 & 0 & 0 & 0 & 0 & 0 & 0 & 0 & 0 & 0 & 0 & 0 & 0 & 0 & 0 & 0 & 0 & 0 & 0 & 0 & 0 & 0 & 0 & 0 & 0 & 0 & 0 & 0 & 0 & 0 & 0 & 0 & 0 & 0 & 0 & 0 & 0 & 0 & 0 & 0 & 0 & 0 & 0 & 0 & 0 & 0 & 0 & 0 & 0 & 0 & 0 & 0 & 0 & 0 & 0 & 0 & 0 & 0 & 0 & 0 & 0 & 0 & 0 & 0 & 0 & 0 & 0 & 0 & 0 & 0 & 0 & 0 & 0 & 0 & 0 & 0 & 0 & 0 & 0 & 0 & 0 & 0 & 0 & 0 & 0 & 0 & 0 & 0 & 0 & 0 & 0 & 0 & 0 & 0 & 0 & 0 & 0 & 0 & 0 & 0 & 0 & 0 & 0 & 0 & 0 & 0 & 0 & 0 & 0 & 0 & 0 & 0 & 0 & 0 & 0 & 0 & 0 & 0 & 0 & 0 & 0 & 0 & 0 & 0 & 0 & 0 & 0 & 0 & 0 & 0 & 0 & 0 & 0 & 0 & 0 & 0 & 0 & 0 & 0 & 0 & 0 & 0 & 0 & 0 & 0 & 0 & 0 & 0 & 0 & 0 & 0 & 0 & 0 & 0 & 0 & 0 & 0 & 0 & 0 & 0 & 0 & 0 & 0 & 0 & 0 & 0 & 0 & 0 & 0 & 0 & 0 & 0 & 0 & 0 & 0 & 0 & 0 & 0 & 0 & 0 & 0 & 0 & 0 & 0 & 0 & 0 & 0 & 0 & 0 & 0 & 0 & 0 & 0 & 0 & 0 & 0 & 0 & 0 & 0 & 0 & 0 & 0 & 0 & 0 & 0 & 0 & 0 & 0 & 0 & 0 & 0 & 0 & 0 & 0 & 0 & 0 & 0 & 0 & 0 & 0 & 0 & 0 & 0 & 0 & 0 & 0 & 0 & 0 & 0 & 0 & 0 & 0 & 0 & 0 & 0 & 0 & 0 & 0 & 0 & 0 & 0 & 0 & 0 & 0 & 0 & 0 & 0 & 0 & 0 & 0 & 0 & 0 & 0 & 0 & 0 & 0 & 0 & 1\\\\\n",
       "\t HKG & ARG &  60 & 1986 &   5.7049370 & 18685.815 & 0 & 0 & 0 &  1.741332 & 9.835520 &  34575.387 & 10.450897 & 64607.14 & 11.07608 & 1 & 8435941 & 8435942 & 1269361792 & 20.96178 & 1655140224 & 21.22715 & 1 & 145 & 0 & 0 & 0 & 0 & 0 & 0 & 0 & 0 & 0 & 0 & 0 & 0 & 0 & 0 & 0 & 0 & 0 & 0 & 0 & 0 & 0 & 0 & 0 & 0 & 0 & 0 & 0 & 0 & 0 & 0 & 0 & 0 & 0 & 0 & 0 & 0 & 0 & 0 & 0 & 0 & 0 & 0 & 0 & 0 & 0 & 0 & 0 & 0 & 0 & 0 & 0 & 0 & 0 & 0 & 0 & 0 & 0 & 0 & 0 & 0 & 0 & 0 & 0 & 0 & 0 & 0 & 0 & 0 & 0 & 0 & 0 & 0 & 0 & 0 & 0 & 0 & 0 & 0 & 0 & 0 & 0 & 0 & 0 & 0 & 0 & 0 & 0 & 0 & 0 & 0 & 0 & 0 & 0 & 0 & 0 & 0 & 0 & 0 & 0 & 0 & 0 & 0 & 0 & 0 & 0 & 0 & 0 & 0 & 0 & 0 & 0 & 0 & 0 & 0 & 0 & 0 & 0 & 0 & 0 & 0 & 0 & 0 & 0 & 0 & 0 & 0 & 0 & 0 & 0 & 0 & 0 & 0 & 0 & 0 & 0 & 0 & 0 & 0 & 0 & 0 & 0 & 0 & 0 & 0 & 1 & 0 & 0 & 0 & 0 & 0 & 0 & 0 & 0 & 0 & 0 & 0 & 0 & 0 & 0 & 0 & 0 & 0 & 0 & 0 & 0 & 0 & 0 & 0 & 0 & 0 & 0 & 0 & 0 & 0 & 0 & 0 & 0 & 0 & 0 & 0 & 0 & 0 & 0 & 0 & 0 & 0 & 0 & 0 & 0 & 0 & 0 & 0 & 0 & 0 & 0 & 0 & 0 & 0 & 0 & 0 & 0 & 0 & 0 & 0 & 0 & 0 & 0 & 0 & 0 & 0 & 0 & 0 & 0 & 0 & 0 & 0 & 0 & 0 & 0 & 0 & 0 & 0 & 0 & 0 & 0 & 0 & 0 & 0 & 0 & 0 & 0 & 0 & 0 & 0 & 0 & 0 & 0 & 0 & 0 & 0 & 0 & 0 & 0 & 0 & 0 & 0 & 0 & 0 & 0 & 0 & 0 & 0 & 0 & 0 & 0 & 0 & 0 & 0 & 0 & 0 & 0 & 0 & 0 & 0 & 0 & 0 & 0 & 0 & 0 & 0 & 0 & 0 & 0 & 0 & 0 & 0 & 0 & 0 & 0 & 0 & 0 & 0 & 0 & 0 & 0 & 0 & 0 & 0 & 0 & 0 & 0 & 0 & 0 & 0 & 0 & 0 & 0 & 0 & 0 & 0 & 0 & 0 & 0 & 0 & 0 & 0 & 0 & 0 & 0 & 0 & 0 & 0 & 0 & 0 & 0 & 0 & 0 & 0 & 0 & 0 & 0 & 0 & 0 & 0 & 0 & 0 & 0 & 0 & 0 & 0 & 0 & 0 & 0 & 0 & 0 & 0 & 0 & 0 & 0 & 0 & 0 & 0 & 0 & 0 & 0 & 0 & 0 & 0 & 0 & 0 & 0 & 0 & 0 & 0 & 0 & 0 & 0 & 0 & 0 & 0 & 0 & 0 & 0 & 0 & 0 & 0 & 0 & 0 & 0 & 0 & 0 & 0 & 0 & 0 & 0 & 0 & 0 & 0 & 0 & 0 & 0 & 0 & 0 & 0 & 0 & 0 & 0 & 0 & 0 & 0 & 0 & 0 & 0 & 0 & 0 & 0 & 0 & 0 & 0 & 0 & 0 & 0 & 0 & 0 & 0 & 0 & 0 & 0 & 0 & 0 & 0 & 0 & 0 & 0 & 1 & 1 & 0 & 0 & 0 & 0 & 0 & 0 & 0 & 0 & 0 & 0 & 0 & 0 & 0 & 0 & 0 & 0 & 0 & 0 & 0 & 0 & 0 & 0 & 0 & 0 & 0 & 0 & 0 & 0 & 0 & 0 & 0 & 0 & 0 & 0 & 0 & 0 & 0 & 0 & 0 & 0 & 0 & 0 & 0 & 0 & 0 & 0 & 0 & 0 & 0 & 0 & 0 & 0 & 0 & 0 & 0 & 0 & 0 & 0 & 0 & 0 & 0 & 0 & 0 & 0 & 0 & 0 & 0 & 0 & 0 & 0 & 0 & 0 & 0 & 0 & 0 & 0 & 0 & 0 & 0 & 0 & 0 & 0 & 0 & 0 & 0 & 0 & 0 & 0 & 0 & 0 & 0 & 0 & 0 & 0 & 0 & 0 & 0 & 0 & 0 & 0 & 0 & 0 & 0 & 0 & 0 & 0 & 0 & 0 & 0 & 0 & 0 & 0 & 0 & 0 & 0 & 0 & 0 & 0 & 0 & 0 & 0 & 0 & 0 & 0 & 0 & 0 & 0 & 0 & 0 & 0 & 0 & 0 & 0 & 0 & 0 & 0 & 0 & 0 & 0 & 0 & 0 & 0 & 0 & 0 & 0 & 0 & 0 & 0 & 0 & 0 & 0 & 0 & 0 & 0 & 0 & 0 & 0 & 0 & 0 & 0 & 0 & 0 & 0 & 0 & 0 & 0 & 0 & 0 & 0 & 0 & 0 & 0 & 0 & 0 & 0 & 0 & 0 & 0 & 0 & 0 & 0 & 0 & 0 & 0 & 0 & 0 & 0 & 0 & 0 & 0 & 0 & 0 & 0 & 0 & 0 & 0 & 0 & 0 & 0 & 0 & 0 & 0 & 0 & 0 & 0 & 0 & 0 & 0 & 0 & 0 & 0 & 0 & 0 & 0 & 0 & 0 & 0 & 0 & 0 & 0 & 0 & 0 & 0 & 0 & 0 & 0 & 0 & 0 & 0 & 0 & 0 & 0 & 0 & 0 & 0 & 0 & 0 & 0 & 0 & 0 & 0 & 0 & 0 & 0 & 0 & 0 & 0 & 0 & 0 & 0 & 0 & 0 & 0 & 0 & 0 & 0 & 0 & 0 & 0 & 0 & 0 & 0 & 0 & 0 & 0 & 0 & 0 & 0 & 0 & 0 & 0 & 0 & 0 & 0 & 0 & 0 & 0 & 0 & 0 & 0 & 0 & 0 & 0 & 0 & 0 & 0 & 0 & 0 & 0 & 0 & 0 & 0 & 0 & 0 & 0 & 0 & 0 & 0 & 0 & 0 & 0 & 0 & 0 & 0 & 0 & 0 & 0 & 0 & 0 & 0 & 0 & 0 & 0 & 0 & 0 & 0 & 0 & 0 & 0 & 0 & 0 & 0 & 0 & 0 & 0 & 0 & 0 & 0 & 0 & 0 & 0 & 0 & 0 & 0 & 0 & 0 & 0 & 0 & 0 & 0 & 0 & 0 & 0 & 0 & 0 & 0 & 0 & 0 & 0 & 0 & 0 & 0 & 0 & 0 & 0 & 0 & 0 & 0 & 0 & 0 & 0 & 0 & 0 & 0 & 0 & 0 & 0 & 0 & 0 & 0 & 0 & 0 & 0 & 0 & 0 & 0 & 0 & 0 & 0 & 0 & 0 & 0 & 0 & 0 & 0 & 0 & 0 & 0 & 0 & 0 & 0 & 0 & 0 & 0 & 0 & 0 & 0 & 0 & 0 & 0 & 0 & 0 & 0 & 0 & 0 & 0 & 0 & 0 & 0 & 0 & 0 & 0 & 0 & 1 & 1\\\\\n",
       "\t FIN & ARG &  45 & 1986 &  14.3477831 & 12969.024 & 0 & 0 & 0 &  2.663595 & 9.470319 &  43829.398 & 10.688060 & 64607.14 & 11.07608 & 1 & 8435941 & 8435942 &  953699264 & 20.67586 & 1655140224 & 21.22715 & 1 & 121 & 0 & 0 & 0 & 0 & 0 & 0 & 0 & 0 & 0 & 0 & 0 & 0 & 0 & 0 & 0 & 0 & 0 & 0 & 0 & 0 & 0 & 0 & 0 & 0 & 0 & 0 & 0 & 0 & 0 & 0 & 0 & 0 & 0 & 0 & 0 & 0 & 0 & 0 & 0 & 0 & 0 & 0 & 0 & 0 & 0 & 0 & 0 & 0 & 0 & 0 & 0 & 0 & 0 & 0 & 0 & 0 & 0 & 0 & 0 & 0 & 0 & 0 & 0 & 0 & 0 & 0 & 0 & 0 & 0 & 0 & 0 & 0 & 0 & 0 & 0 & 0 & 0 & 0 & 0 & 0 & 0 & 0 & 0 & 0 & 0 & 0 & 0 & 0 & 0 & 0 & 0 & 0 & 0 & 0 & 0 & 0 & 0 & 0 & 0 & 0 & 0 & 0 & 0 & 0 & 0 & 0 & 0 & 0 & 0 & 0 & 0 & 0 & 0 & 0 & 0 & 0 & 0 & 0 & 0 & 0 & 1 & 0 & 0 & 0 & 0 & 0 & 0 & 0 & 0 & 0 & 0 & 0 & 0 & 0 & 0 & 0 & 0 & 0 & 0 & 0 & 0 & 0 & 0 & 0 & 0 & 0 & 0 & 0 & 0 & 0 & 0 & 0 & 0 & 0 & 0 & 0 & 0 & 0 & 0 & 0 & 0 & 0 & 0 & 0 & 0 & 0 & 0 & 0 & 0 & 0 & 0 & 0 & 0 & 0 & 0 & 0 & 0 & 0 & 0 & 0 & 0 & 0 & 0 & 0 & 0 & 0 & 0 & 0 & 0 & 0 & 0 & 0 & 0 & 0 & 0 & 0 & 0 & 0 & 0 & 0 & 0 & 0 & 0 & 0 & 0 & 0 & 0 & 0 & 0 & 0 & 0 & 0 & 0 & 0 & 0 & 0 & 0 & 0 & 0 & 0 & 0 & 0 & 0 & 0 & 0 & 0 & 0 & 0 & 0 & 0 & 0 & 0 & 0 & 0 & 0 & 0 & 0 & 0 & 0 & 0 & 0 & 0 & 0 & 0 & 0 & 0 & 0 & 0 & 0 & 0 & 0 & 0 & 0 & 0 & 0 & 0 & 0 & 0 & 0 & 0 & 0 & 0 & 0 & 0 & 0 & 0 & 0 & 0 & 0 & 0 & 0 & 0 & 0 & 0 & 0 & 0 & 0 & 0 & 0 & 0 & 0 & 0 & 0 & 0 & 0 & 0 & 0 & 0 & 0 & 0 & 0 & 0 & 0 & 0 & 0 & 0 & 0 & 0 & 0 & 0 & 0 & 0 & 0 & 0 & 0 & 0 & 0 & 0 & 0 & 0 & 0 & 0 & 0 & 0 & 0 & 0 & 0 & 0 & 0 & 0 & 0 & 0 & 0 & 0 & 0 & 0 & 0 & 0 & 0 & 0 & 0 & 0 & 0 & 0 & 0 & 0 & 0 & 0 & 0 & 0 & 0 & 0 & 0 & 0 & 0 & 0 & 0 & 0 & 0 & 0 & 0 & 0 & 0 & 0 & 0 & 0 & 0 & 0 & 0 & 0 & 0 & 0 & 0 & 0 & 0 & 0 & 0 & 0 & 0 & 0 & 0 & 0 & 0 & 0 & 0 & 0 & 0 & 0 & 0 & 0 & 0 & 0 & 0 & 0 & 0 & 0 & 0 & 0 & 0 & 0 & 0 & 0 & 0 & 0 & 0 & 0 & 0 & 0 & 0 & 0 & 0 & 0 & 0 & 0 & 0 & 0 & 0 & 0 & 0 & 0 & 0 & 0 & 0 & 0 & 1 & 1 & 0 & 0 & 0 & 0 & 0 & 0 & 0 & 0 & 0 & 0 & 0 & 0 & 0 & 0 & 0 & 0 & 0 & 0 & 0 & 0 & 0 & 0 & 0 & 0 & 0 & 0 & 0 & 0 & 0 & 0 & 0 & 0 & 0 & 0 & 0 & 0 & 0 & 0 & 0 & 0 & 0 & 0 & 0 & 0 & 0 & 0 & 0 & 0 & 0 & 0 & 0 & 0 & 0 & 0 & 0 & 0 & 0 & 0 & 0 & 0 & 0 & 0 & 0 & 0 & 0 & 0 & 0 & 0 & 0 & 0 & 0 & 0 & 0 & 0 & 0 & 0 & 0 & 0 & 0 & 0 & 0 & 0 & 0 & 0 & 0 & 0 & 0 & 0 & 0 & 0 & 0 & 0 & 0 & 0 & 0 & 0 & 0 & 0 & 0 & 0 & 0 & 0 & 0 & 0 & 0 & 0 & 0 & 0 & 0 & 0 & 0 & 0 & 0 & 0 & 0 & 0 & 0 & 0 & 0 & 0 & 0 & 0 & 0 & 0 & 0 & 0 & 0 & 0 & 0 & 0 & 0 & 0 & 0 & 0 & 0 & 0 & 0 & 0 & 0 & 0 & 0 & 0 & 0 & 0 & 0 & 0 & 0 & 0 & 0 & 0 & 0 & 0 & 0 & 0 & 0 & 0 & 0 & 0 & 0 & 0 & 0 & 0 & 0 & 0 & 0 & 0 & 0 & 0 & 0 & 0 & 0 & 0 & 0 & 0 & 0 & 0 & 0 & 0 & 0 & 0 & 0 & 0 & 0 & 0 & 0 & 0 & 0 & 0 & 0 & 0 & 0 & 0 & 0 & 0 & 0 & 0 & 0 & 0 & 0 & 0 & 0 & 0 & 0 & 0 & 0 & 0 & 0 & 0 & 0 & 0 & 0 & 0 & 0 & 0 & 0 & 0 & 0 & 0 & 0 & 0 & 0 & 0 & 0 & 0 & 0 & 0 & 0 & 0 & 0 & 0 & 0 & 0 & 0 & 0 & 0 & 0 & 0 & 0 & 0 & 0 & 0 & 0 & 0 & 0 & 0 & 0 & 0 & 0 & 0 & 0 & 0 & 0 & 0 & 0 & 0 & 0 & 0 & 0 & 0 & 0 & 0 & 0 & 0 & 0 & 0 & 0 & 0 & 0 & 0 & 0 & 0 & 0 & 0 & 0 & 0 & 0 & 0 & 0 & 0 & 0 & 0 & 0 & 0 & 0 & 0 & 0 & 0 & 0 & 0 & 0 & 0 & 0 & 0 & 0 & 0 & 0 & 0 & 0 & 0 & 0 & 0 & 0 & 0 & 0 & 0 & 0 & 0 & 0 & 0 & 0 & 0 & 0 & 0 & 0 & 0 & 0 & 0 & 0 & 0 & 0 & 0 & 0 & 0 & 0 & 0 & 0 & 0 & 0 & 0 & 0 & 0 & 0 & 0 & 0 & 0 & 0 & 0 & 0 & 0 & 0 & 0 & 0 & 0 & 0 & 0 & 0 & 0 & 0 & 0 & 0 & 0 & 0 & 0 & 0 & 0 & 0 & 0 & 0 & 0 & 0 & 0 & 0 & 0 & 0 & 0 & 0 & 0 & 0 & 0 & 0 & 0 & 0 & 0 & 0 & 0 & 0 & 0 & 0 & 0 & 0 & 0 & 0 & 0 & 0 & 0 & 0 & 0 & 0 & 0 & 0 & 0 & 0 & 0 & 0 & 0 & 0 & 0 & 0 & 0 & 0 & 0 & 0 & 0 & 0 & 0 & 0 & 0 & 0 & 0 & 0 & 0 & 0 & 0 & 1 & 1\\\\\n",
       "\t BRA & ARG &   8 & 1986 & 386.8603245 &  2391.846 & 1 & 0 & 0 &  5.958064 & 7.779821 & 286857.656 & 12.566741 & 64607.14 & 11.07608 & 1 & 8435941 & 8435942 & 1283579136 & 20.97292 & 1655140224 & 21.22715 & 1 &  37 & 0 & 0 & 0 & 0 & 0 & 0 & 0 & 0 & 0 & 0 & 0 & 0 & 0 & 0 & 0 & 0 & 0 & 0 & 0 & 0 & 0 & 0 & 0 & 0 & 0 & 0 & 0 & 0 & 0 & 0 & 0 & 0 & 0 & 0 & 0 & 0 & 1 & 0 & 0 & 0 & 0 & 0 & 0 & 0 & 0 & 0 & 0 & 0 & 0 & 0 & 0 & 0 & 0 & 0 & 0 & 0 & 0 & 0 & 0 & 0 & 0 & 0 & 0 & 0 & 0 & 0 & 0 & 0 & 0 & 0 & 0 & 0 & 0 & 0 & 0 & 0 & 0 & 0 & 0 & 0 & 0 & 0 & 0 & 0 & 0 & 0 & 0 & 0 & 0 & 0 & 0 & 0 & 0 & 0 & 0 & 0 & 0 & 0 & 0 & 0 & 0 & 0 & 0 & 0 & 0 & 0 & 0 & 0 & 0 & 0 & 0 & 0 & 0 & 0 & 0 & 0 & 0 & 0 & 0 & 0 & 0 & 0 & 0 & 0 & 0 & 0 & 0 & 0 & 0 & 0 & 0 & 0 & 0 & 0 & 0 & 0 & 0 & 0 & 0 & 0 & 0 & 0 & 0 & 0 & 0 & 0 & 0 & 0 & 0 & 0 & 0 & 0 & 0 & 0 & 0 & 0 & 0 & 0 & 0 & 0 & 0 & 0 & 0 & 0 & 0 & 0 & 0 & 0 & 0 & 0 & 0 & 0 & 0 & 0 & 0 & 0 & 0 & 0 & 0 & 0 & 0 & 0 & 0 & 0 & 0 & 0 & 0 & 0 & 0 & 0 & 0 & 0 & 0 & 0 & 0 & 0 & 0 & 0 & 0 & 0 & 0 & 0 & 0 & 0 & 0 & 0 & 0 & 0 & 0 & 0 & 0 & 0 & 0 & 0 & 0 & 0 & 0 & 0 & 0 & 0 & 0 & 0 & 0 & 0 & 0 & 0 & 0 & 0 & 0 & 0 & 0 & 0 & 0 & 0 & 0 & 0 & 0 & 0 & 0 & 0 & 0 & 0 & 0 & 0 & 0 & 0 & 0 & 0 & 0 & 0 & 0 & 0 & 0 & 0 & 0 & 0 & 0 & 0 & 0 & 0 & 0 & 0 & 0 & 0 & 0 & 0 & 0 & 0 & 0 & 0 & 0 & 0 & 0 & 0 & 0 & 0 & 0 & 0 & 0 & 0 & 0 & 0 & 0 & 0 & 0 & 0 & 0 & 0 & 0 & 0 & 0 & 0 & 0 & 0 & 0 & 0 & 0 & 0 & 0 & 0 & 0 & 0 & 0 & 0 & 0 & 0 & 0 & 0 & 0 & 0 & 0 & 0 & 0 & 0 & 0 & 0 & 0 & 0 & 0 & 0 & 0 & 0 & 0 & 0 & 0 & 0 & 0 & 0 & 0 & 0 & 0 & 0 & 0 & 0 & 0 & 0 & 0 & 0 & 0 & 0 & 0 & 0 & 0 & 0 & 0 & 0 & 0 & 0 & 0 & 0 & 0 & 0 & 0 & 0 & 0 & 0 & 0 & 0 & 0 & 0 & 0 & 0 & 0 & 0 & 0 & 0 & 0 & 0 & 0 & 0 & 0 & 0 & 0 & 0 & 0 & 0 & 0 & 0 & 0 & 0 & 0 & 0 & 0 & 0 & 0 & 0 & 0 & 0 & 0 & 0 & 0 & 0 & 0 & 0 & 0 & 0 & 0 & 0 & 0 & 0 & 0 & 0 & 0 & 0 & 0 & 0 & 0 & 0 & 0 & 0 & 0 & 0 & 0 & 0 & 1 & 1 & 0 & 0 & 0 & 0 & 0 & 0 & 0 & 0 & 0 & 0 & 0 & 0 & 0 & 0 & 0 & 0 & 0 & 0 & 0 & 0 & 0 & 0 & 0 & 0 & 0 & 0 & 0 & 0 & 0 & 0 & 0 & 0 & 0 & 0 & 0 & 0 & 0 & 0 & 0 & 0 & 0 & 0 & 0 & 0 & 0 & 0 & 0 & 0 & 0 & 0 & 0 & 0 & 0 & 0 & 0 & 0 & 0 & 0 & 0 & 0 & 0 & 0 & 0 & 0 & 0 & 0 & 0 & 0 & 0 & 0 & 0 & 0 & 0 & 0 & 0 & 0 & 0 & 0 & 0 & 0 & 0 & 0 & 0 & 0 & 0 & 0 & 0 & 0 & 0 & 0 & 0 & 0 & 0 & 0 & 0 & 0 & 0 & 0 & 0 & 0 & 0 & 0 & 0 & 0 & 0 & 0 & 0 & 0 & 0 & 0 & 0 & 0 & 0 & 0 & 0 & 0 & 0 & 0 & 0 & 0 & 0 & 0 & 0 & 0 & 0 & 0 & 0 & 0 & 0 & 0 & 0 & 0 & 0 & 0 & 0 & 0 & 0 & 0 & 0 & 0 & 0 & 0 & 0 & 0 & 0 & 0 & 0 & 0 & 0 & 0 & 0 & 0 & 0 & 0 & 0 & 0 & 0 & 0 & 0 & 0 & 0 & 0 & 0 & 0 & 0 & 0 & 0 & 0 & 0 & 0 & 0 & 0 & 0 & 0 & 0 & 0 & 0 & 0 & 0 & 0 & 0 & 0 & 0 & 0 & 0 & 0 & 0 & 0 & 0 & 0 & 0 & 0 & 0 & 0 & 0 & 0 & 0 & 0 & 0 & 0 & 0 & 0 & 0 & 0 & 0 & 0 & 0 & 0 & 0 & 0 & 0 & 0 & 0 & 0 & 0 & 0 & 0 & 0 & 0 & 0 & 0 & 0 & 0 & 0 & 0 & 0 & 0 & 0 & 0 & 0 & 0 & 0 & 0 & 0 & 0 & 0 & 0 & 0 & 0 & 0 & 0 & 0 & 0 & 0 & 0 & 0 & 0 & 0 & 0 & 0 & 0 & 0 & 0 & 0 & 0 & 0 & 0 & 0 & 0 & 0 & 0 & 0 & 0 & 0 & 0 & 0 & 0 & 0 & 0 & 0 & 0 & 0 & 0 & 0 & 0 & 0 & 0 & 0 & 0 & 0 & 0 & 0 & 0 & 0 & 0 & 0 & 0 & 0 & 0 & 0 & 0 & 0 & 0 & 0 & 0 & 0 & 0 & 0 & 0 & 0 & 0 & 0 & 0 & 0 & 0 & 0 & 0 & 0 & 0 & 0 & 0 & 0 & 0 & 0 & 0 & 0 & 0 & 0 & 0 & 0 & 0 & 0 & 0 & 0 & 0 & 0 & 0 & 0 & 0 & 0 & 0 & 0 & 0 & 0 & 0 & 0 & 0 & 0 & 0 & 0 & 0 & 0 & 0 & 0 & 0 & 0 & 0 & 0 & 0 & 0 & 0 & 0 & 0 & 0 & 0 & 0 & 0 & 0 & 0 & 0 & 0 & 0 & 0 & 0 & 0 & 0 & 0 & 0 & 0 & 0 & 0 & 0 & 0 & 0 & 0 & 0 & 0 & 0 & 0 & 0 & 0 & 0 & 0 & 0 & 0 & 0 & 0 & 0 & 0 & 0 & 0 & 0 & 0 & 0 & 0 & 0 & 0 & 0 & 0 & 0 & 0 & 0 & 0 & 0 & 0 & 0 & 0 & 0 & 0 & 0 & 0 & 0 & 0 & 1 & 1\\\\\n",
       "\\end{tabular}\n"
      ],
      "text/markdown": [
       "\n",
       "A data.frame: 6 × 855\n",
       "\n",
       "| exporter &lt;fct&gt; | importer &lt;fct&gt; | pair_id &lt;int&gt; | year &lt;int&gt; | trade &lt;dbl&gt; | DIST &lt;dbl&gt; | CNTG &lt;int&gt; | LANG &lt;int&gt; | CLNY &lt;int&gt; | ln_trade &lt;dbl&gt; | ... ... | IMPORTER_TIME_FE407 &lt;int&gt; | IMPORTER_TIME_FE408 &lt;int&gt; | IMPORTER_TIME_FE409 &lt;int&gt; | IMPORTER_TIME_FE410 &lt;int&gt; | IMPORTER_TIME_FE411 &lt;int&gt; | IMPORTER_TIME_FE412 &lt;int&gt; | IMPORTER_TIME_FE413 &lt;int&gt; | IMPORTER_TIME_FE414 &lt;int&gt; | X_est_fes &lt;int&gt; | X_est_ppml &lt;int&gt; |\n",
       "|---|---|---|---|---|---|---|---|---|---|---|---|---|---|---|---|---|---|---|---|---|\n",
       "| LKA | ARG | 115 | 1986 |   0.0064160 | 15078.428 | 0 | 0 | 0 | -5.048960 | ... | 0 | 0 | 0 | 0 | 0 | 0 | 0 | 0 | 1 | 1 |\n",
       "| GRC | ARG |  56 | 1986 |   0.0988345 | 11772.039 | 0 | 0 | 0 | -2.314308 | ... | 0 | 0 | 0 | 0 | 0 | 0 | 0 | 0 | 1 | 1 |\n",
       "| QAT | ARG | 203 | 1986 |   0.0000000 | 13482.186 | 0 | 0 | 0 |        NA | ... | 0 | 0 | 0 | 0 | 0 | 0 | 0 | 0 | 0 | 1 |\n",
       "| HKG | ARG |  60 | 1986 |   5.7049370 | 18685.815 | 0 | 0 | 0 |  1.741332 | ... | 0 | 0 | 0 | 0 | 0 | 0 | 0 | 0 | 1 | 1 |\n",
       "| FIN | ARG |  45 | 1986 |  14.3477831 | 12969.024 | 0 | 0 | 0 |  2.663595 | ... | 0 | 0 | 0 | 0 | 0 | 0 | 0 | 0 | 1 | 1 |\n",
       "| BRA | ARG |   8 | 1986 | 386.8603245 |  2391.846 | 1 | 0 | 0 |  5.958064 | ... | 0 | 0 | 0 | 0 | 0 | 0 | 0 | 0 | 1 | 1 |\n",
       "\n"
      ],
      "text/plain": [
       "  exporter importer pair_id year trade       DIST      CNTG LANG CLNY ln_trade \n",
       "1 LKA      ARG      115     1986   0.0064160 15078.428 0    0    0    -5.048960\n",
       "2 GRC      ARG       56     1986   0.0988345 11772.039 0    0    0    -2.314308\n",
       "3 QAT      ARG      203     1986   0.0000000 13482.186 0    0    0           NA\n",
       "4 HKG      ARG       60     1986   5.7049370 18685.815 0    0    0     1.741332\n",
       "5 FIN      ARG       45     1986  14.3477831 12969.024 0    0    0     2.663595\n",
       "6 BRA      ARG        8     1986 386.8603245  2391.846 1    0    0     5.958064\n",
       "  ... IMPORTER_TIME_FE407 IMPORTER_TIME_FE408 IMPORTER_TIME_FE409\n",
       "1 ... 0                   0                   0                  \n",
       "2 ... 0                   0                   0                  \n",
       "3 ... 0                   0                   0                  \n",
       "4 ... 0                   0                   0                  \n",
       "5 ... 0                   0                   0                  \n",
       "6 ... 0                   0                   0                  \n",
       "  IMPORTER_TIME_FE410 IMPORTER_TIME_FE411 IMPORTER_TIME_FE412\n",
       "1 0                   0                   0                  \n",
       "2 0                   0                   0                  \n",
       "3 0                   0                   0                  \n",
       "4 0                   0                   0                  \n",
       "5 0                   0                   0                  \n",
       "6 0                   0                   0                  \n",
       "  IMPORTER_TIME_FE413 IMPORTER_TIME_FE414 X_est_fes X_est_ppml\n",
       "1 0                   0                   1         1         \n",
       "2 0                   0                   1         1         \n",
       "3 0                   0                   0         1         \n",
       "4 0                   0                   1         1         \n",
       "5 0                   0                   1         1         \n",
       "6 0                   0                   1         1         "
      ]
     },
     "metadata": {},
     "output_type": "display_data"
    }
   ],
   "source": [
    "thePath = paste0(getwd(),\"/../data_mec_optim/gravity_wtodata\")\n",
    "tradedata = read.csv(paste0(thePath,\"/1_TraditionalGravity_from_WTO_book.csv\"))  \n",
    "head(tradedata)"
   ]
  },
  {
   "cell_type": "markdown",
   "metadata": {},
   "source": [
    "Let's prepare the data so that we can use it. We want to construct \n",
    "* $D_{ni,t}^k$ which is the $k$th pairwise distance between importer $n$ and exporter $i$ at time $t$\n",
    "\n",
    "* $X_{n,t}$ total value of expenditure of importer $n$ at time $t$\n",
    " \n",
    "* $Y_{i,t}$ total value of production of exporter $i$ at time $t$"
   ]
  },
  {
   "cell_type": "code",
   "execution_count": 9,
   "metadata": {},
   "outputs": [],
   "source": [
    "# Unique list of importers\n",
    "countrylist = sort(unique(tradedata$importer))\n",
    "# Unique list of exporters\n",
    "exportercountrylist = sort(unique(tradedata$exporter))\n",
    "if (!identical(countrylist, exportercountrylist)) {\n",
    "    stop(\"exporter and importer country lists do not coincide\")\n",
    "}\n",
    "\n",
    "# regressorsIndices = 4:13\n",
    "regressorsIndices = c(\"ln_DIST\", \"CNTG\", \"LANG\", \"CLNY\")\n",
    "yearslist = c(1986, 1990, 1994, 1998, 2002, 2006)\n",
    "\n",
    "regressors_raw = tradedata[regressorsIndices]\n",
    "regressorsNames = names(regressors_raw)\n",
    "flow_raw = tradedata$trade\n",
    "\n",
    "nbt = length(yearslist)  # number of years\n",
    "nbk = dim(regressors_raw)[2]  # number of regressors\n",
    "nbi = length(countrylist)  # number of countries\n",
    "yearsIndices = 1:nbt\n",
    "\n",
    "Dnikt = array(0, dim = c(nbi, nbi, nbk, nbt))  # basis functions\n",
    "Xhatnit = array(0, dim = c(nbi, nbi, nbt))  # trade flows from n to i\n",
    "\n",
    "missingObs = array(0, dim = c(0, 2, nbt))\n",
    "\n",
    "for (year in 1:nbt) {\n",
    "    theYear = yearslist[year]\n",
    "    # print(theYear)\n",
    "    for (dest in 1:nbi) {\n",
    "        theDest = as.character(countrylist[dest])\n",
    "        # print(theDest)\n",
    "        for (orig in 1:nbi) {\n",
    "            if (orig != dest) {\n",
    "                theOrig = as.character(countrylist[orig])\n",
    "                extract = (tradedata$exporter == theOrig) & (tradedata$importer == \n",
    "                  theDest) & (tradedata$year == theYear)\n",
    "                line = regressors_raw[extract, ]\n",
    "                \n",
    "                if (dim(line)[1] == 0) {\n",
    "                  missingObs = rbind(missingObs, c(theOrig, theDest))\n",
    "                }\n",
    "                \n",
    "                if (dim(line)[1] > 1) {\n",
    "                  stop(\"Several lines with year, exporter and importer.\")\n",
    "                }\n",
    "                \n",
    "                if (dim(line)[1] == 1) {\n",
    "                  Dnikt[orig, dest, , year] = as.numeric(line)\n",
    "                  Xhatnit[orig, dest, year] = flow_raw[extract]\n",
    "                }                \n",
    "            }\n",
    "        }\n",
    "    }\n",
    "}\n",
    "if (length(missingObs) > 0) {\n",
    "    stop(\"Missing observations\")\n",
    "}\n",
    "Xnt = apply(X = Xhatnit, MARGIN = c(1, 3), FUN = sum)\n",
    "Yit = apply(X = Xhatnit, MARGIN = c(2, 3), FUN = sum)"
   ]
  },
  {
   "cell_type": "markdown",
   "metadata": {},
   "source": [
    "We will solve this model by fixing a $\\beta$ and solving the matching problem using IPFP. Then in an outer loop we will solve for the $\\beta$ which minimizes the distance between model and empirical moments."
   ]
  },
  {
   "cell_type": "code",
   "execution_count": 10,
   "metadata": {},
   "outputs": [
    {
     "name": "stdout",
     "output_type": "stream",
     "text": [
      "74.71 sec elapsed\n",
      "[1] -0.8409237  0.4374486  0.2474767 -0.2224904\n"
     ]
    }
   ],
   "source": [
    "sigma = 1  # sigma for IPFP\n",
    "maxiterIpfp = 1000  # max numbers of iterations\n",
    "tolIpfp = 1e-12  # tolerance for IPFP\n",
    "tolDescent = 1e-12  # tolerance for gradient descent\n",
    "\n",
    "totmass_t = rep(sum(Xnt)/nbt, nbt)  # total mass\n",
    "p_nt = t(t(Xnt)/totmass_t)  # proportion of importer expenditure\n",
    "q_nt = t(t(Yit)/totmass_t)  # proportion of exporter productions\n",
    "IX = rep(1, nbi)\n",
    "tIY = matrix(rep(1, nbi), nrow = 1)\n",
    "\n",
    "f_nit = array(0, dim = c(nbi, nbi, nbt))\n",
    "g_nit = array(0, dim = c(nbi, nbi, nbt))\n",
    "pihat_nit = array(0, dim = c(nbi, nbi, nbt))\n",
    "\n",
    "sdD_k = rep(1, nbk)\n",
    "meanD_k = rep(0, nbk)\n",
    "\n",
    "for (t in 1:nbt) {\n",
    "    f_nit[, , t] = p_nt[, t] %*% tIY\n",
    "    g_nit[, , t] = IX %*% t(q_nt[, t])\n",
    "    pihat_nit[, , t] = Xhatnit[, , t]/totmass_t[t]\n",
    "}\n",
    "\n",
    "for (k in 1:nbk) {\n",
    "    meanD_k[k] = mean(Dnikt[, , k, ])\n",
    "    sdD_k[k] = sd(Dnikt[, , k, ])\n",
    "    Dnikt[, , k, ] = (Dnikt[, , k, ] - meanD_k[k])/sdD_k[k]\n",
    "}\n",
    "\n",
    "\n",
    "v_it = matrix(rep(0, nbi * nbt), nbi, nbt)\n",
    "beta_k = rep(0, nbk)\n",
    "\n",
    "t_s = 0.03  # step size for the prox grad algorithm (or grad descent when lambda=0)\n",
    "iterCount = 0\n",
    "\n",
    "tic()\n",
    "\n",
    "while (1) {\n",
    "    thegrad = rep(0, nbk)\n",
    "    pi_nit = array(0, dim = c(nbi, nbi, nbt))\n",
    "    \n",
    "    for (t in 1:nbt) {\n",
    "        D_ij_k = matrix(Dnikt[, , , t], ncol = nbk)\n",
    "        Phi = matrix(D_ij_k %*% matrix(beta_k, ncol = 1), nrow = nbi)\n",
    "        contIpfp = TRUE\n",
    "        iterIpfp = 0\n",
    "        v = v_it[, t]\n",
    "        f = f_nit[, , t]\n",
    "        g = g_nit[, , t]\n",
    "        K = exp(Phi/sigma)\n",
    "        diag(K) = 0\n",
    "        gK = g * K\n",
    "        fK = f * K\n",
    "        \n",
    "        \n",
    "        while (contIpfp) {\n",
    "            iterIpfp = iterIpfp + 1\n",
    "            u = sigma * log(apply(gK * exp((-IX %*% t(v))/sigma), 1, sum))\n",
    "            vnext = sigma * log(apply(fK * exp((-u %*% tIY)/sigma), 2, sum))\n",
    "            error = max(abs(apply(gK * exp((-IX %*% t(vnext) - u %*% tIY)/sigma), \n",
    "                1, sum) - 1))\n",
    "            if ((error < tolIpfp) | (iterIpfp >= maxiterIpfp)) {\n",
    "                contIpfp = FALSE\n",
    "            }\n",
    "            v = vnext\n",
    "        }\n",
    "        v_it[, t] = v\n",
    "        pi_nit[, , t] = f * gK * exp((-IX %*% t(v) - u %*% tIY)/sigma)\n",
    "        if (iterIpfp >= maxiterIpfp) {\n",
    "            stop(\"maximum number of iterations reached\")\n",
    "        }\n",
    "        \n",
    "        thegrad = thegrad + c(c(pi_nit[, , t] - pihat_nit[, , t]) %*% D_ij_k)\n",
    "        \n",
    "    }\n",
    "    # take one gradient step\n",
    "    beta_k = beta_k - t_s * thegrad\n",
    "    \n",
    "    theval = sum(thegrad * beta_k) - sigma * sum(pi_nit[pi_nit > 0] * log(pi_nit[pi_nit > \n",
    "        0]))\n",
    "    \n",
    "    iterCount = iterCount + 1\n",
    "    \n",
    "    if (iterCount > 1 && abs(theval - theval_old) < tolDescent) {\n",
    "        break\n",
    "    }\n",
    "    theval_old = theval\n",
    "}\n",
    "\n",
    "beta_k = beta_k/sdD_k\n",
    "\n",
    "toc()\n",
    "print(beta_k)"
   ]
  },
  {
   "cell_type": "markdown",
   "metadata": {},
   "source": [
    "### Comparison"
   ]
  },
  {
   "cell_type": "markdown",
   "metadata": {},
   "source": [
    "We can compare the results and speed of our computation to that of Poisson regression packages. As a warning, these give the same results, but at the cost of a much longer run time, so use at your own risk. We can solve instead using the Poisson regression from the glm package."
   ]
  },
  {
   "cell_type": "code",
   "execution_count": 11,
   "metadata": {},
   "outputs": [
    {
     "name": "stdout",
     "output_type": "stream",
     "text": [
      "213.17 sec elapsed\n"
     ]
    },
    {
     "data": {
      "text/html": [
       "<dl class=dl-horizontal>\n",
       "\t<dt>ln_DIST</dt>\n",
       "\t\t<dd>-0.840927327910795</dd>\n",
       "\t<dt>CNTG</dt>\n",
       "\t\t<dd>0.437443193189525</dd>\n",
       "\t<dt>LANG</dt>\n",
       "\t\t<dd>0.247476574839896</dd>\n",
       "\t<dt>CLNY</dt>\n",
       "\t\t<dd>-0.222489958371205</dd>\n",
       "</dl>\n"
      ],
      "text/latex": [
       "\\begin{description*}\n",
       "\\item[ln\\textbackslash{}\\_DIST] -0.840927327910795\n",
       "\\item[CNTG] 0.437443193189525\n",
       "\\item[LANG] 0.247476574839896\n",
       "\\item[CLNY] -0.222489958371205\n",
       "\\end{description*}\n"
      ],
      "text/markdown": [
       "ln_DIST\n",
       ":   -0.840927327910795CNTG\n",
       ":   0.437443193189525LANG\n",
       ":   0.247476574839896CLNY\n",
       ":   -0.222489958371205\n",
       "\n"
      ],
      "text/plain": [
       "   ln_DIST       CNTG       LANG       CLNY \n",
       "-0.8409273  0.4374432  0.2474766 -0.2224900 "
      ]
     },
     "metadata": {},
     "output_type": "display_data"
    }
   ],
   "source": [
    "tic()\n",
    "\n",
    "glm_pois = glm(as.formula(\n",
    "        paste(\"trade ~ \", \n",
    "               paste(grep(\"PORTER_TIME_FE\", names(tradedata), value=TRUE), collapse=\" + \"), \n",
    "               \" + ln_DIST + CNTG + LANG + CLNY\")),\n",
    "        family = quasipoisson,\n",
    "        data=subset(tradedata, exporter!=importer) )\n",
    "\n",
    "toc()\n",
    "\n",
    "glm_pois$coefficients[regressorsIndices]"
   ]
  },
  {
   "cell_type": "markdown",
   "metadata": {},
   "source": [
    "Which gives the same results but is much slower. We can also use the `pplm` function from the `gravity` package."
   ]
  },
  {
   "cell_type": "code",
   "execution_count": 12,
   "metadata": {},
   "outputs": [
    {
     "ename": "ERROR",
     "evalue": "Error in library(gravity): there is no package called 'gravity'\n",
     "output_type": "error",
     "traceback": [
      "Error in library(gravity): there is no package called 'gravity'\nTraceback:\n",
      "1. library(gravity)"
     ]
    }
   ],
   "source": [
    "#install.packages(\"gravity\")\n",
    "library(gravity)\n",
    "tic()\n",
    "\n",
    "grav_pois = ppml('trade', 'DIST', c(grep(\"PORTER_TIME_FE\", names(tradedata), value=TRUE), 'CNTG', 'LANG', 'CLNY'),\n",
    "    vce_robust = FALSE, data = subset(tradedata, exporter!=importer))\n",
    "\n",
    "toc()\n",
    "\n",
    "grav_pois$coefficients[c(\"dist_log\", \"CNTG\", \"LANG\", \"CLNY\"), 1]"
   ]
  },
  {
   "cell_type": "markdown",
   "metadata": {},
   "source": [
    "Again which gives the same results but it is much slower!"
   ]
  },
  {
   "cell_type": "code",
   "execution_count": null,
   "metadata": {},
   "outputs": [],
   "source": []
  },
  {
   "cell_type": "code",
   "execution_count": null,
   "metadata": {},
   "outputs": [],
   "source": []
  }
 ],
 "metadata": {
  "kernelspec": {
   "display_name": "R",
   "language": "R",
   "name": "ir"
  },
  "language_info": {
   "codemirror_mode": "r",
   "file_extension": ".r",
   "mimetype": "text/x-r-source",
   "name": "R",
   "pygments_lexer": "r",
   "version": "3.5.1"
  }
 },
 "nbformat": 4,
 "nbformat_minor": 2
}
