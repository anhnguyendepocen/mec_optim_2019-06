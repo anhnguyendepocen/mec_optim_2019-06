{
 "cells": [
  {
   "cell_type": "markdown",
   "metadata": {},
   "source": [
    "# <center>Block 7: Continuous multivariate matching</center>\n",
    "### <center>Alfred Galichon (NYU)</center>\n",
    "## <center>`math+econ+code' masterclass on matching models, optimal transport and applications</center>\n",
    "<center>© 2018-2019 by Alfred Galichon. Support from NSF grant DMS-1716489 is acknowledged. James Nesbit contributed.</center>\n"
   ]
  },
  {
   "cell_type": "markdown",
   "metadata": {},
   "source": [
    "### Learning objectives \n",
    "\n",
    "* Existence of potentials in the quadratic case\n",
    "\n",
    "* Knott-Smith criterion and Brenier's and McCann's theorems\n",
    "\n",
    "* Exercises"
   ]
  },
  {
   "cell_type": "markdown",
   "metadata": {},
   "source": [
    "### References\n",
    "\n",
    "* [OTME], Ch. 6\n",
    "\n",
    "* [TOT] Villani (2003). *Topics in Optimal Transportation*. AMS. Ch. 1 and 2."
   ]
  },
  {
   "cell_type": "markdown",
   "metadata": {},
   "source": [
    "## Theory"
   ]
  },
  {
   "cell_type": "markdown",
   "metadata": {},
   "source": [
    "As a consequence of the previous lecture, we have seen that if $P$ is a continuous distribution over $\\mathbb{R}^{d}$ (distribution of the inhabitants' locations), and if $Q=\\sum_{k=1}^{M}q_{k}\\delta_{y_{k}}$ is a discrete distribution over $\\mathbb{R}^{d}$ (distribution of the fountains' locations), then there exists a mapping $T$ such that $T\\#P=Q$, that is\n",
    "\n",
    "\\begin{align*}\n",
    "Y=T\\left(X\\right)\n",
    "\\end{align*}\n",
    "\n",
    "Where:\n",
    "\n",
    "* $X\\sim P$ and $Y\\sim Q$, and $T\\left(  x\\right)  $ is the location of the fountain assigned to the inhabitant at $x$.\n",
    "\n",
    "* $T\\left(  x\\right)  =\\nabla u\\left(  x\\right)  $, where $u$ is a convex function which is given by $u\\left(  x\\right)  =\\max_{k}\\left\\{  x^{\\intercal }y_{k}-v_{k}\\right\\}  $.\n",
    "\n",
    "Note the connection with Becker's model: when the dimension $d=1$, $T$ is piecewise constant and nondecreasing (positive assortative matching).\n",
    "\n",
    "In this lecture, we shall generalize these results to the case when $Q$ is a general distribution (not necessarily discrete). $P$ will have a density, and the support of $P$ and $Q$ will be assumed to be convex.\n",
    "\n",
    "Assume that $\\mathcal{X}$ and $\\mathcal{Y}$ are convex subsets of $\\mathbb{R}^{d}$, and that\n",
    "\n",
    "\\begin{align*}\n",
    "\\Phi\\left(  x,y\\right =x^{\\intercal}y.\n",
    "\\end{align*}\n",
    "\n",
    "and $P$ and $Q$ are two probability distributions on $\\mathcal{X}$ and $\\mathcal{Y}$.\n",
    "\n",
    "The Monge-Kantorovich theorem provides assumptions under which the value of the primal problem\n",
    "\n",
    "\\begin{align*}\n",
    "\\mathcal{W}=\\sup_{\\pi\\in\\mathcal{M}\\left(  P,Q\\right)  }\\mathbb{E}_{\\pi}\\left[  X^{\\intercal}Y\\right]  \\label{MKprimalQuadr}%\n",
    "\\end{align*}\n",
    "\n",
    "coincides with the value of the dual\n",
    "\n",
    "\\begin{align*}\n",
    "\\mathcal{W}=\\inf_{u\\left(  x\\right)  +v\\left(  y\\right)  \\geq x^{\\intercal}y}\\mathbb{E}_{P}\\left[  u\\left(  X\\right)  \\right]  +\\mathbb{E}_{Q}\\left[v\\left(  Y\\right)  \\right]  . \\label{MKdualQuadr}%\n",
    "\\end{align*}\n",
    "\n",
    "Note, however, that the M-K theorem requires $\\Phi$ to be bounded by above, which is not the case of $\\Phi\\left(  x,y\\right)  =x^{\\intercal}y$ unless we assume $P$ and $Q$ have bounded support. We could alternatively work with $\\Phi\\left(  x,y\\right)  =-\\left\\vert x-y\\right\\vert ^{2}/2$, in which case we should assume that $P$ and $Q$ have finite second moment and replace $u\\left(  x\\right)  $ by $u\\left(  x\\right)  +\\left\\vert x\\right\\vert ^{2}/2$, and $v$ by a similar quantity. We shall assume away these concerns for now."
   ]
  },
  {
   "cell_type": "markdown",
   "metadata": {},
   "source": [
    "### Existence of potentials\n",
    "\n",
    "The following result ensures that $u$ and $v$ exist as soon as $P$ and $Q$ have finite second moments.\n",
    "\n",
    "---\n",
    "**Theorem**\n",
    "If $P$ and $Q$ have finite second moments, then there exists a pair $\\left(  u,v\\right)  $ solution to the dual Monge-Kantorovich problem \n",
    "\n",
    "\\begin{align*}\n",
    "\\inf_{u\\left(  x\\right)  +v\\left(  y\\right)  \\geq x^{\\intercal}y}%\n",
    "\\mathbb{E}_{P}\\left[  u\\left(  X\\right)  \\right]  +\\mathbb{E}_{Q}\\left[\n",
    "v\\left(  Y\\right)  \\right]  .\n",
    "\\end{align*}\n",
    "\n",
    "---\n",
    "\n",
    "See theorem 2.9 in~[TOT]."
   ]
  },
  {
   "cell_type": "markdown",
   "metadata": {},
   "source": [
    "### Convexity of the potentials\n",
    "\n",
    "Assume that a dual minimizer $\\left(  u,v\\right)  $ exists; if needed, redefine $u$ and $v$ so that they take value $+\\infty$ outside of the support of $P$ and $Q$, assumed to be convex. As argued, $u$ and $v$ are then related by\n",
    "\n",
    "\\begin{align*}\n",
    "v\\left(  y\\right)   &  =\\max_{x\\in\\mathbb{R}^{d}}\\left\\{  x^{\\intercal\n",
    "}y-u\\left(  x\\right)  \\right\\} \\label{expr_v}\\\\\n",
    "u\\left(  x\\right)   &  =\\max_{y\\in\\mathbb{R}^{d}}\\left\\{  x^{\\intercal\n",
    "}y-v\\left(  y\\right)  \\right\\}  \\label{expr_u}%\n",
    "\\end{align*} \n",
    "\n",
    "hence we see immediately that if $\\left(  u,v\\right)  $ is a solution to the dual problem, then $u$ and $v$ are convex functions. Further, the expression of $v$ as a function of $u$ is the same as the expression of $u$ as a function of $v$."
   ]
  },
  {
   "cell_type": "markdown",
   "metadata": {},
   "source": [
    "### Complementary slackness\n",
    "\n",
    "We want to relate the solutions to the primal and dual problems. Recall that in the finite-dimensional case, where the primal and the dual problems are related by a complementary slackness condition. In the present case, let $\\left(  X,Y\\right)  \\sim\\pi$ be a solution to the primal problem, and $\\left(  u,u^{\\ast}\\right)  $ be a solution to the dual problem. Then almost surely $X$ and $Y$ are willing to match, which, by the previous discussion, implies that \n",
    "\n",
    "<a name='galCS'></a>\n",
    "\\begin{align*}\n",
    "u\\left(  X\\right)  +u^{\\ast}\\left(  Y\\right)  =X^{\\intercal}Y,\n",
    "\\end{align*}\n",
    "\n",
    "that is, the support of $\\pi$ is included in the set $\\left\\{  \\left( x,y\\right)  :u\\left(  x\\right)  +u^{\\ast}\\left(  y\\right)  =x^{\\intercal }y\\right\\}  $. This condition appears as the correct generalization of the complementary slackness condition in the finite-dimensional case. Without surprise, taking the expectation with respect to $\\pi$ of [equality](#galCS) yields the equality between the value of the dual problem on the left-hand side, and the value of the primal problem on the right-hand side.\n",
    "\n",
    "The following statement provides a generalization of the complementary slackness condition in finite dimension.\n",
    "\n",
    "---\n",
    "**Theorem: Knott-Smith** \n",
    "\n",
    "Let $\\pi\\in\\mathcal{M}\\left(  P,Q\\right) $ and $u$ be a convex function. Then $\\pi$ and $\\left(  u,u^{\\ast}\\right)$ are respective solutions to the primal and the dual Monge-Kantorovich problems if and only if\n",
    "\n",
    "<a name='infinitedimensionalCS'></a>\n",
    "\\begin{align*}\n",
    "u\\left(  x\\right)  +u^{\\ast}\\left(  y\\right)  =x^{\\intercal}y\\text{ holds for\n",
    "}\\pi\\text{-almost all }\\left(  x,y\\right). \n",
    "\\end{align*}\n",
    "\n",
    "---\n",
    "---\n",
    "**Proof**\n",
    "Assume that [complementary slackness](#infinitedimensionalCS) holds. Then, note that $\\left(u,u^{\\ast}\\right)  $ satisfies the constraints of the dual; further, taking expectation with respect to $\\pi$ yields $\\mathbb{E}_{P}\\left[  u\\left(X\\right)  \\right]  +\\mathbb{E}_{Q}\\left[  v\\left(  Y\\right)  \\right] =\\mathbb{E}_{\\pi}\\left[  X^{\\intercal}Y\\right]  $, which implies that $\\pi$ is an optimal primal solution and $\\left(  u,u^{\\ast}\\right)  $ is an optimal dual solution. Conversely, assume that $\\pi$ is an optimal primal solution and $\\left(  u,u^{\\ast}\\right)  $ is an optimal dual solution. Then $\\mathbb{E}_{\\pi}\\left[  u\\left(  X\\right)  +u^{\\ast}\\left(  Y\\right)  -X^{\\intercal }Y\\right]  =0$; but $\\left(  x,y\\right)  \\rightarrow u\\left(  x\\right) +u^{\\ast}\\left(  y\\right)  -x^{\\intercal}y$ is nonnegative, thus [complementary slackness](#infinitedimensionalCS) holds. QED.\n",
    "\n",
    "---"
   ]
  },
  {
   "cell_type": "markdown",
   "metadata": {},
   "source": [
    "### Brenier's theorem\n",
    "\n",
    "---\n",
    "**Theorem: Brenier**\n",
    "\n",
    "Assume that $P$ and $Q$ have finite second moments, and $P$ has a density. Then the solution $\\left(  X,Y\\right)  \\sim\\pi\\in\\mathcal{M}\\left(P,Q\\right)  $ to the primal problem is represented by \n",
    "\n",
    "\\begin{align*}\n",
    "Y=\\nabla u\\left(  X\\right)\n",
    "\\end{align*}\n",
    "\n",
    "where $\\left(  u,u^{\\ast}\\right)  $ is a solution to the dual problem. Such $u$ is unique up to a constant.\n",
    "\n",
    "---\n",
    "\n",
    "Intuition of the proof: if $u$ is differentiable, then $y$ is matched with $x$ that maximizes $\\left\\{  x^{\\intercal}y-u\\left(  x\\right)  \\right\\}  $ over $x\\in\\mathbb{R}^{d}$. By first order conditions, such $x$ satisfy $\\nabla u\\left(  x\\right)  =y$. It turns out, however, that differentiability is not a serious concern (at least, almost never)."
   ]
  },
  {
   "cell_type": "markdown",
   "metadata": {},
   "source": [
    "### Differentiability of convex functions\n",
    "\n",
    "While we evoked the case when the Kantorovich potentials $u$ and $v$ are differentiable, there is no a-priori guarantee that they are so. However, an important result in Analysis called Rademacher's theorem implies that the set of non-differentiable points of a convex function is of zero Lebesgue measure, and hence can be ignored for practical purposes as soon as $P$ is continuous. Thus the Monge map solution, $T\\left(  x\\right)  $, can be defined as $T\\left(  x\\right)  =\\nabla u\\left(  x\\right)  $ wherever the latter quantity exists, and $T\\left(  x\\right)$ can be defined arbitrarily elsewhere, without affecting the distributional properties of $T\\left(  X\\right)$."
   ]
  },
  {
   "cell_type": "markdown",
   "metadata": {},
   "source": [
    "### McCann's Theorem\n",
    "\n",
    "The previous result allows to provide a representation of a large class of probability distributions $Q$ over $\\mathbb{R}^{d}$ as the probability distribution of $\\nabla u\\left(  X\\right)  $, for $X$ with a fixed distribution $P$. There is however a limitation, in the sense that it requires that $Q$ has finite second moments, which is needed to interpret $u$ as entering the solution to the dual problem. Fortunately, McCann's theorem addresses this issue:\n",
    "\n",
    "---\n",
    "**Theorem: McCann**\n",
    "\n",
    "Assume that $P$ and $Q$ are probability distributions such that $P$ has a density. Then there is a unique (up to a constant) function $u$ such that\n",
    "\n",
    "\\begin{align*}\n",
    "Y=\\nabla u\\left(  X\\right)\n",
    "\\end{align*}\n",
    "\n",
    "holds almost surely with $X\\sim P$ and $Y\\sim Q$.\n",
    "\n",
    "---"
   ]
  },
  {
   "cell_type": "markdown",
   "metadata": {},
   "source": [
    "## Applications and examples"
   ]
  },
  {
   "cell_type": "markdown",
   "metadata": {},
   "source": [
    "### Matching affinity\n",
    "\n",
    "Brenier-McCann's theorem allows us to describe a model of the heterosexual marriage market where $P$ and $Q$ are contiuous distributions that stand for the distributions of the men and the women's characteristics, and the surplus function is\n",
    "\n",
    "\\begin{align*}\n",
    "\\Phi\\left(  x,y\\right)  =x^{\\intercal}Ay\n",
    "\\end{align*}\n",
    "\n",
    "i.e. $\\Phi\\left(  x,y\\right)  =\\sum_{1\\leq k,l\\leq d}A_{kl}x_{k}y_{l}$, that is $A_{kl}$ stand for the 'affinity' between characteristics $x_{k}$ of the man and $y_{l}$ of the woman. Recall this model is equivalent to $\\Phi\\left(  x,y\\right)  =\\sum_{1\\leq k,l\\leq d}A_{kl}\\left\\vert x_{k}-y_{l}\\right\\vert ^{2}/2$. \n",
    "\n",
    "---\n",
    "**Exercise**\n",
    "\n",
    "Assume $A$ is invertible. Show that the optimal matching can be given by $y=T\\left(  x\\right)  $ where $T=A^{-1}\\nabla u\\left(  x\\right)  $, where $u$ is a convex function. Characterize $u$ as the solution of a minimization problem.\n",
    "\n",
    "---"
   ]
  },
  {
   "cell_type": "markdown",
   "metadata": {},
   "source": [
    "### A 2-dimensional model of affinity matching\n",
    "\n",
    "Consider the a particular case of the previous model when $d=2$ and $A$ is diagonal, i.e. $A=diag\\left(  \\lambda_{1},\\lambda_{2}\\right)  $. Then $\\Phi^{\\lambda}\\left(  x,y\\right)  =\\lambda_{1}x_{1}y_{1}+\\lambda_{2}x_{2}y_{2}$. Assume $x_{1}$ and $y_{1}$ are interpreted as the man and woman's income, and $x_{2}$ and $y_{2}$ are interpreted as the man and woman's education.\n",
    "\n",
    "--- \n",
    "**Exercise**\n",
    "\n",
    "Consider $\\mathcal{C}=\\left\\{  \\left(  Cov\\left(  X_{1},Y_{1}\\right) ,Cov\\left(  X_{2},Y_{2}\\right)  \\right)  ,\\pi\\in\\mathcal{M}\\left(  P,Q\\right) \\right\\}$. \n",
    "\n",
    "1. Show that $\\mathcal{C}$ is a convex set.\n",
    "\n",
    "2. Show that $\\left(  0,0\\right)  \\in\\mathcal{C}$ and interpret this point.\n",
    "\n",
    "3. Show that the boundary points of $\\mathcal{C}$\\ are the solution to an optimal transport problem with some surplus $\\Phi^{\\lambda}$.\n",
    "\n",
    "4. What can be said of $\\max\\left\\{  C_{1}:\\left(  C_{1},C_{2}\\right)\\in\\mathcal{C}\\right\\}  $ and $\\max\\left\\{  C_{2}:\\left(  C_{1},C_{2}\\right)\\in\\mathcal{C}\\right\\}$?\n",
    "\n",
    "5. Characterize the solution to the optimal transport problem with surplus $\\Phi^{\\lambda}$ when $\\lambda=\\left(  1,\\varepsilon\\right)  $, for $\\varepsilon\\rightarrow0$.\n",
    "\n",
    "---"
   ]
  },
  {
   "cell_type": "markdown",
   "metadata": {},
   "source": [
    "### The Gaussian case\n",
    "\n",
    "When $P=\\mathcal{N}\\left(  0,\\Sigma_{X}\\right)  $ and $Q=\\mathcal{N}\\left(  0,\\Sigma_{Y}\\right)  $ and $\\Phi\\left(  x,y\\right)  =x^{\\intercal}Ay$, and $\\Sigma_{X}$, $\\Sigma_{Y}$ and $A$ are invertible, one can get a solution in closed form.\n",
    "\n",
    "---\n",
    "**Exercise**\n",
    "\n",
    "1. Consider first the case when $\\Sigma_{X}=I_{d}$ and $A=I_{d}$. Then show that the optimal transport map is given by\n",
    "\n",
    "\\begin{align*}\n",
    "T\\left(  x\\right)  =\\Sigma_{Y}^{1/2}x.\n",
    "\\end{align*}\n",
    "\n",
    "2. Using the result in (a), show that when $A=I_{d}$, but with general $\\Sigma_{X}$ and $\\Sigma_{Y}$, the solution is obtained by\n",
    "\n",
    "\\begin{align*}\n",
    "T\\left(  x\\right)  =\\Sigma_{X}^{-1/2}\\left(  \\Sigma_{X}^{1/2}\\Sigma_{Y}\\Sigma_{X}^{1/2}\\right)  ^{1/2}\\Sigma_{X}^{-1/2}x.\n",
    "\\end{align*}\n",
    "\n",
    "3. Using the result in 2., show that when $A$, $\\Sigma_{X}$ and $\\Sigma_{Y}$ are general invertible matrices, the solution is obtained by\n",
    "\n",
    "\\begin{align*}\n",
    "T\\left(  x\\right)  =A^{-1}\\Sigma_{X}^{-1/2}\\left(  \\Sigma_{X}^{1/2}A^{\\intercal}\\Sigma_{Y}A\\Sigma_{X}^{1/2}\\right)  ^{1/2}\\Sigma_{X}^{-1/2}x.\n",
    "\\end{align*}\n",
    "\n",
    "---"
   ]
  },
  {
   "cell_type": "code",
   "execution_count": null,
   "metadata": {},
   "outputs": [],
   "source": []
  }
 ],
 "metadata": {
  "kernelspec": {
   "display_name": "R",
   "language": "R",
   "name": "ir"
  },
  "language_info": {
   "codemirror_mode": "r",
   "file_extension": ".r",
   "mimetype": "text/x-r-source",
   "name": "R",
   "pygments_lexer": "r",
   "version": "3.5.1"
  }
 },
 "nbformat": 4,
 "nbformat_minor": 2
}
